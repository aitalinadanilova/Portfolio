{
 "cells": [
  {
   "cell_type": "markdown",
   "metadata": {},
   "source": [
    "# Интернет-магазин \"Стримчик\"\n",
    "Исследование данных до 2016 года для планировании компании 2017 года.  \n",
    "\n",
    "**Цель исследования** — выявить определяющие успешность игры закономерности. Это позволит сделать ставку на потенциально популярный продукт и спланировать рекламные кампании.  \n",
    "\n",
    "**Ход исследования**  \n",
    "Исследовать из открытых источников доступные исторические данные о продажах игр, оценки пользователей и экспертов, жанры и платформы (например, Xbox или PlayStation).  \n",
    "Таким образом, исследование пройдёт в шесть этапов:\n",
    " 1. Обзор данных.\n",
    " 2. Подготовка данных.\n",
    " 3. Проведение исследовательского анализа данных.\n",
    " 4. Составление портрета пользователя каждого региона.\n",
    " 5. Проверка гипотез.\n",
    " 6. Общий вывод."
   ]
  },
  {
   "cell_type": "markdown",
   "metadata": {},
   "source": [
    "## Обзор данных"
   ]
  },
  {
   "cell_type": "code",
   "execution_count": 1,
   "metadata": {},
   "outputs": [],
   "source": [
    "import pandas as pd\n",
    "import matplotlib.pyplot as plt\n",
    "import numpy as np\n",
    "import seaborn as sns"
   ]
  },
  {
   "cell_type": "code",
   "execution_count": 2,
   "metadata": {},
   "outputs": [],
   "source": [
    "# чтение файла с данными и сохранение в df\n",
    "data = pd.read_csv('/datasets/games.csv')"
   ]
  },
  {
   "cell_type": "code",
   "execution_count": 3,
   "metadata": {},
   "outputs": [
    {
     "data": {
      "text/html": [
       "<div>\n",
       "<style scoped>\n",
       "    .dataframe tbody tr th:only-of-type {\n",
       "        vertical-align: middle;\n",
       "    }\n",
       "\n",
       "    .dataframe tbody tr th {\n",
       "        vertical-align: top;\n",
       "    }\n",
       "\n",
       "    .dataframe thead th {\n",
       "        text-align: right;\n",
       "    }\n",
       "</style>\n",
       "<table border=\"1\" class=\"dataframe\">\n",
       "  <thead>\n",
       "    <tr style=\"text-align: right;\">\n",
       "      <th></th>\n",
       "      <th>Name</th>\n",
       "      <th>Platform</th>\n",
       "      <th>Year_of_Release</th>\n",
       "      <th>Genre</th>\n",
       "      <th>NA_sales</th>\n",
       "      <th>EU_sales</th>\n",
       "      <th>JP_sales</th>\n",
       "      <th>Other_sales</th>\n",
       "      <th>Critic_Score</th>\n",
       "      <th>User_Score</th>\n",
       "      <th>Rating</th>\n",
       "    </tr>\n",
       "  </thead>\n",
       "  <tbody>\n",
       "    <tr>\n",
       "      <th>0</th>\n",
       "      <td>Wii Sports</td>\n",
       "      <td>Wii</td>\n",
       "      <td>2006.0</td>\n",
       "      <td>Sports</td>\n",
       "      <td>41.36</td>\n",
       "      <td>28.96</td>\n",
       "      <td>3.77</td>\n",
       "      <td>8.45</td>\n",
       "      <td>76.0</td>\n",
       "      <td>8</td>\n",
       "      <td>E</td>\n",
       "    </tr>\n",
       "    <tr>\n",
       "      <th>1</th>\n",
       "      <td>Super Mario Bros.</td>\n",
       "      <td>NES</td>\n",
       "      <td>1985.0</td>\n",
       "      <td>Platform</td>\n",
       "      <td>29.08</td>\n",
       "      <td>3.58</td>\n",
       "      <td>6.81</td>\n",
       "      <td>0.77</td>\n",
       "      <td>NaN</td>\n",
       "      <td>NaN</td>\n",
       "      <td>NaN</td>\n",
       "    </tr>\n",
       "    <tr>\n",
       "      <th>2</th>\n",
       "      <td>Mario Kart Wii</td>\n",
       "      <td>Wii</td>\n",
       "      <td>2008.0</td>\n",
       "      <td>Racing</td>\n",
       "      <td>15.68</td>\n",
       "      <td>12.76</td>\n",
       "      <td>3.79</td>\n",
       "      <td>3.29</td>\n",
       "      <td>82.0</td>\n",
       "      <td>8.3</td>\n",
       "      <td>E</td>\n",
       "    </tr>\n",
       "    <tr>\n",
       "      <th>3</th>\n",
       "      <td>Wii Sports Resort</td>\n",
       "      <td>Wii</td>\n",
       "      <td>2009.0</td>\n",
       "      <td>Sports</td>\n",
       "      <td>15.61</td>\n",
       "      <td>10.93</td>\n",
       "      <td>3.28</td>\n",
       "      <td>2.95</td>\n",
       "      <td>80.0</td>\n",
       "      <td>8</td>\n",
       "      <td>E</td>\n",
       "    </tr>\n",
       "    <tr>\n",
       "      <th>4</th>\n",
       "      <td>Pokemon Red/Pokemon Blue</td>\n",
       "      <td>GB</td>\n",
       "      <td>1996.0</td>\n",
       "      <td>Role-Playing</td>\n",
       "      <td>11.27</td>\n",
       "      <td>8.89</td>\n",
       "      <td>10.22</td>\n",
       "      <td>1.00</td>\n",
       "      <td>NaN</td>\n",
       "      <td>NaN</td>\n",
       "      <td>NaN</td>\n",
       "    </tr>\n",
       "    <tr>\n",
       "      <th>5</th>\n",
       "      <td>Tetris</td>\n",
       "      <td>GB</td>\n",
       "      <td>1989.0</td>\n",
       "      <td>Puzzle</td>\n",
       "      <td>23.20</td>\n",
       "      <td>2.26</td>\n",
       "      <td>4.22</td>\n",
       "      <td>0.58</td>\n",
       "      <td>NaN</td>\n",
       "      <td>NaN</td>\n",
       "      <td>NaN</td>\n",
       "    </tr>\n",
       "    <tr>\n",
       "      <th>6</th>\n",
       "      <td>New Super Mario Bros.</td>\n",
       "      <td>DS</td>\n",
       "      <td>2006.0</td>\n",
       "      <td>Platform</td>\n",
       "      <td>11.28</td>\n",
       "      <td>9.14</td>\n",
       "      <td>6.50</td>\n",
       "      <td>2.88</td>\n",
       "      <td>89.0</td>\n",
       "      <td>8.5</td>\n",
       "      <td>E</td>\n",
       "    </tr>\n",
       "    <tr>\n",
       "      <th>7</th>\n",
       "      <td>Wii Play</td>\n",
       "      <td>Wii</td>\n",
       "      <td>2006.0</td>\n",
       "      <td>Misc</td>\n",
       "      <td>13.96</td>\n",
       "      <td>9.18</td>\n",
       "      <td>2.93</td>\n",
       "      <td>2.84</td>\n",
       "      <td>58.0</td>\n",
       "      <td>6.6</td>\n",
       "      <td>E</td>\n",
       "    </tr>\n",
       "    <tr>\n",
       "      <th>8</th>\n",
       "      <td>New Super Mario Bros. Wii</td>\n",
       "      <td>Wii</td>\n",
       "      <td>2009.0</td>\n",
       "      <td>Platform</td>\n",
       "      <td>14.44</td>\n",
       "      <td>6.94</td>\n",
       "      <td>4.70</td>\n",
       "      <td>2.24</td>\n",
       "      <td>87.0</td>\n",
       "      <td>8.4</td>\n",
       "      <td>E</td>\n",
       "    </tr>\n",
       "    <tr>\n",
       "      <th>9</th>\n",
       "      <td>Duck Hunt</td>\n",
       "      <td>NES</td>\n",
       "      <td>1984.0</td>\n",
       "      <td>Shooter</td>\n",
       "      <td>26.93</td>\n",
       "      <td>0.63</td>\n",
       "      <td>0.28</td>\n",
       "      <td>0.47</td>\n",
       "      <td>NaN</td>\n",
       "      <td>NaN</td>\n",
       "      <td>NaN</td>\n",
       "    </tr>\n",
       "  </tbody>\n",
       "</table>\n",
       "</div>"
      ],
      "text/plain": [
       "                        Name Platform  Year_of_Release         Genre  \\\n",
       "0                 Wii Sports      Wii           2006.0        Sports   \n",
       "1          Super Mario Bros.      NES           1985.0      Platform   \n",
       "2             Mario Kart Wii      Wii           2008.0        Racing   \n",
       "3          Wii Sports Resort      Wii           2009.0        Sports   \n",
       "4   Pokemon Red/Pokemon Blue       GB           1996.0  Role-Playing   \n",
       "5                     Tetris       GB           1989.0        Puzzle   \n",
       "6      New Super Mario Bros.       DS           2006.0      Platform   \n",
       "7                   Wii Play      Wii           2006.0          Misc   \n",
       "8  New Super Mario Bros. Wii      Wii           2009.0      Platform   \n",
       "9                  Duck Hunt      NES           1984.0       Shooter   \n",
       "\n",
       "   NA_sales  EU_sales  JP_sales  Other_sales  Critic_Score User_Score Rating  \n",
       "0     41.36     28.96      3.77         8.45          76.0          8      E  \n",
       "1     29.08      3.58      6.81         0.77           NaN        NaN    NaN  \n",
       "2     15.68     12.76      3.79         3.29          82.0        8.3      E  \n",
       "3     15.61     10.93      3.28         2.95          80.0          8      E  \n",
       "4     11.27      8.89     10.22         1.00           NaN        NaN    NaN  \n",
       "5     23.20      2.26      4.22         0.58           NaN        NaN    NaN  \n",
       "6     11.28      9.14      6.50         2.88          89.0        8.5      E  \n",
       "7     13.96      9.18      2.93         2.84          58.0        6.6      E  \n",
       "8     14.44      6.94      4.70         2.24          87.0        8.4      E  \n",
       "9     26.93      0.63      0.28         0.47           NaN        NaN    NaN  "
      ]
     },
     "execution_count": 3,
     "metadata": {},
     "output_type": "execute_result"
    }
   ],
   "source": [
    "# получение первых 10 строк таблицы df\n",
    "data.head(10)"
   ]
  },
  {
   "cell_type": "code",
   "execution_count": 4,
   "metadata": {},
   "outputs": [
    {
     "name": "stdout",
     "output_type": "stream",
     "text": [
      "<class 'pandas.core.frame.DataFrame'>\n",
      "RangeIndex: 16715 entries, 0 to 16714\n",
      "Data columns (total 11 columns):\n",
      " #   Column           Non-Null Count  Dtype  \n",
      "---  ------           --------------  -----  \n",
      " 0   Name             16713 non-null  object \n",
      " 1   Platform         16715 non-null  object \n",
      " 2   Year_of_Release  16446 non-null  float64\n",
      " 3   Genre            16713 non-null  object \n",
      " 4   NA_sales         16715 non-null  float64\n",
      " 5   EU_sales         16715 non-null  float64\n",
      " 6   JP_sales         16715 non-null  float64\n",
      " 7   Other_sales      16715 non-null  float64\n",
      " 8   Critic_Score     8137 non-null   float64\n",
      " 9   User_Score       10014 non-null  object \n",
      " 10  Rating           9949 non-null   object \n",
      "dtypes: float64(6), object(5)\n",
      "memory usage: 1.4+ MB\n"
     ]
    }
   ],
   "source": [
    "# получение общей информации о данных в таблице df\n",
    "data.info()"
   ]
  },
  {
   "cell_type": "markdown",
   "metadata": {},
   "source": [
    "Итак, в таблице одиннадцать столбцов. Тип данных во всех столбцах — `object`, `float`.\n",
    "\n",
    "Согласно документации к данным:\n",
    "* `Name` — название игры;  \n",
    "* `Platform` — платформа;  \n",
    "* `Year_of_Release` — год выпуска;  \n",
    "* `Genre` — жанр игры;  \n",
    "* `NA_sales` — продажи в Северной Америке (миллионы проданных копий);  \n",
    "* `EU_sales` — продажи в Европе (миллионы проданных копий);\n",
    "* `JP_sales` — продажи в Японии (миллионы проданных копий);  \n",
    "* `Other_sales` — продажи в других странах (миллионы проданных копий);  \n",
    "* `Critic_Score` — оценка критиков (максимум 100);  \n",
    "* `User_Score` — оценка пользователей (максимум 10);  \n",
    "* `Rating` — рейтинг от организации ESRB (англ. Entertainment Software Rating Board). Эта ассоциация определяет рейтинг компьютерных игр и присваивает им подходящую возрастную категорию.  \n",
    "\n",
    "Количество значений в столбцах различается. Значит, в данных есть пропущенные значения."
   ]
  },
  {
   "cell_type": "code",
   "execution_count": 5,
   "metadata": {},
   "outputs": [
    {
     "data": {
      "image/png": "[encoded data removed]",
      "text/plain": [
       "<Figure size 720x1080 with 6 Axes>"
      ]
     },
     "metadata": {
      "needs_background": "light"
     },
     "output_type": "display_data"
    }
   ],
   "source": [
    "data.hist(figsize=(10, 15));"
   ]
  },
  {
   "cell_type": "markdown",
   "metadata": {},
   "source": [
    "**Вывод**\n",
    "\n",
    "В четырех столбцах обнаружено большое количество пропусков - Year_of_Release, Critic_Score, User_Score, Rating, нужно устранить проблемы в данных. Также в названиях колонок — расхождения с хорошим стилем."
   ]
  },
  {
   "cell_type": "markdown",
   "metadata": {},
   "source": [
    "## Подготовка данных  "
   ]
  },
  {
   "cell_type": "markdown",
   "metadata": {},
   "source": [
    "### Стиль заголовков"
   ]
  },
  {
   "cell_type": "code",
   "execution_count": 6,
   "metadata": {},
   "outputs": [
    {
     "data": {
      "text/plain": [
       "Index(['Name', 'Platform', 'Year_of_Release', 'Genre', 'NA_sales', 'EU_sales',\n",
       "       'JP_sales', 'Other_sales', 'Critic_Score', 'User_Score', 'Rating'],\n",
       "      dtype='object')"
      ]
     },
     "execution_count": 6,
     "metadata": {},
     "output_type": "execute_result"
    }
   ],
   "source": [
    "# перечень названий столбцов таблицы data\n",
    "data.columns"
   ]
  },
  {
   "cell_type": "markdown",
   "metadata": {},
   "source": [
    "```\n",
    "data = data.rename(\n",
    "   columns = {\n",
    "        'Name': 'name', 'Platform':'platform', 'Year_of_Release': 'year_of_release', 'Genre': 'genre', \n",
    "        'NA_sales': 'na_sales', 'EU_sales':'eu_sales','JP_sales':'jp_sales', 'Other_sales':'other_sales',\n",
    "        'Critic_Score':'critic_score', 'User_Score':'user_score', 'Rating':'rating',\n",
    "    }\n",
    ")\n",
    "```"
   ]
  },
  {
   "cell_type": "code",
   "execution_count": 7,
   "metadata": {},
   "outputs": [],
   "source": [
    "data.columns = data.columns.str.lower()"
   ]
  },
  {
   "cell_type": "code",
   "execution_count": 8,
   "metadata": {},
   "outputs": [
    {
     "data": {
      "text/plain": [
       "Index(['name', 'platform', 'year_of_release', 'genre', 'na_sales', 'eu_sales',\n",
       "       'jp_sales', 'other_sales', 'critic_score', 'user_score', 'rating'],\n",
       "      dtype='object')"
      ]
     },
     "execution_count": 8,
     "metadata": {},
     "output_type": "execute_result"
    }
   ],
   "source": [
    "#check\n",
    "data.columns"
   ]
  },
  {
   "cell_type": "markdown",
   "metadata": {},
   "source": [
    "### Преобразование типов данных"
   ]
  },
  {
   "cell_type": "markdown",
   "metadata": {},
   "source": [
    "Переменная `year_of_release` имеет тип `float64` изменим на `int64` для удобства в работе, но для этого надо обработать данные с пропусками"
   ]
  },
  {
   "cell_type": "code",
   "execution_count": 10,
   "metadata": {},
   "outputs": [
    {
     "data": {
      "text/html": [
       "<style  type=\"text/css\" >\n",
       "#T_75ff8_row0_col0,#T_75ff8_row1_col0,#T_75ff8_row3_col0,#T_75ff8_row4_col0,#T_75ff8_row5_col0,#T_75ff8_row6_col0,#T_75ff8_row7_col0{\n",
       "            background-color:  #fff7fb;\n",
       "            color:  #000000;\n",
       "        }#T_75ff8_row2_col0{\n",
       "            background-color:  #faf3f9;\n",
       "            color:  #000000;\n",
       "        }#T_75ff8_row8_col0{\n",
       "            background-color:  #023858;\n",
       "            color:  #f1f1f1;\n",
       "        }#T_75ff8_row9_col0{\n",
       "            background-color:  #056ba7;\n",
       "            color:  #f1f1f1;\n",
       "        }#T_75ff8_row10_col0{\n",
       "            background-color:  #0569a5;\n",
       "            color:  #f1f1f1;\n",
       "        }</style><table id=\"T_75ff8_\" ><thead>    <tr>        <th class=\"blank level0\" ></th>        <th class=\"col_heading level0 col0\" >0</th>    </tr></thead><tbody>\n",
       "                <tr>\n",
       "                        <th id=\"T_75ff8_level0_row0\" class=\"row_heading level0 row0\" >name</th>\n",
       "                        <td id=\"T_75ff8_row0_col0\" class=\"data row0 col0\" >2</td>\n",
       "            </tr>\n",
       "            <tr>\n",
       "                        <th id=\"T_75ff8_level0_row1\" class=\"row_heading level0 row1\" >platform</th>\n",
       "                        <td id=\"T_75ff8_row1_col0\" class=\"data row1 col0\" >0</td>\n",
       "            </tr>\n",
       "            <tr>\n",
       "                        <th id=\"T_75ff8_level0_row2\" class=\"row_heading level0 row2\" >year_of_release</th>\n",
       "                        <td id=\"T_75ff8_row2_col0\" class=\"data row2 col0\" >269</td>\n",
       "            </tr>\n",
       "            <tr>\n",
       "                        <th id=\"T_75ff8_level0_row3\" class=\"row_heading level0 row3\" >genre</th>\n",
       "                        <td id=\"T_75ff8_row3_col0\" class=\"data row3 col0\" >2</td>\n",
       "            </tr>\n",
       "            <tr>\n",
       "                        <th id=\"T_75ff8_level0_row4\" class=\"row_heading level0 row4\" >na_sales</th>\n",
       "                        <td id=\"T_75ff8_row4_col0\" class=\"data row4 col0\" >0</td>\n",
       "            </tr>\n",
       "            <tr>\n",
       "                        <th id=\"T_75ff8_level0_row5\" class=\"row_heading level0 row5\" >eu_sales</th>\n",
       "                        <td id=\"T_75ff8_row5_col0\" class=\"data row5 col0\" >0</td>\n",
       "            </tr>\n",
       "            <tr>\n",
       "                        <th id=\"T_75ff8_level0_row6\" class=\"row_heading level0 row6\" >jp_sales</th>\n",
       "                        <td id=\"T_75ff8_row6_col0\" class=\"data row6 col0\" >0</td>\n",
       "            </tr>\n",
       "            <tr>\n",
       "                        <th id=\"T_75ff8_level0_row7\" class=\"row_heading level0 row7\" >other_sales</th>\n",
       "                        <td id=\"T_75ff8_row7_col0\" class=\"data row7 col0\" >0</td>\n",
       "            </tr>\n",
       "            <tr>\n",
       "                        <th id=\"T_75ff8_level0_row8\" class=\"row_heading level0 row8\" >critic_score</th>\n",
       "                        <td id=\"T_75ff8_row8_col0\" class=\"data row8 col0\" >8578</td>\n",
       "            </tr>\n",
       "            <tr>\n",
       "                        <th id=\"T_75ff8_level0_row9\" class=\"row_heading level0 row9\" >user_score</th>\n",
       "                        <td id=\"T_75ff8_row9_col0\" class=\"data row9 col0\" >6701</td>\n",
       "            </tr>\n",
       "            <tr>\n",
       "                        <th id=\"T_75ff8_level0_row10\" class=\"row_heading level0 row10\" >rating</th>\n",
       "                        <td id=\"T_75ff8_row10_col0\" class=\"data row10 col0\" >6766</td>\n",
       "            </tr>\n",
       "    </tbody></table>"
      ],
      "text/plain": [
       "<pandas.io.formats.style.Styler at 0x7f5a36173f40>"
      ]
     },
     "execution_count": 10,
     "metadata": {},
     "output_type": "execute_result"
    }
   ],
   "source": [
    "pd.DataFrame(data.isna().sum()).style.background_gradient()"
   ]
  },
  {
   "cell_type": "markdown",
   "metadata": {},
   "source": [
    "Так как пропуски составляют 1,6% всех данных, можно их удалить:"
   ]
  },
  {
   "cell_type": "code",
   "execution_count": 11,
   "metadata": {},
   "outputs": [],
   "source": [
    "data.dropna(subset = ['year_of_release'],inplace = True)"
   ]
  },
  {
   "cell_type": "code",
   "execution_count": 12,
   "metadata": {},
   "outputs": [
    {
     "data": {
      "text/plain": [
       "name                  2\n",
       "platform              0\n",
       "year_of_release       0\n",
       "genre                 2\n",
       "na_sales              0\n",
       "eu_sales              0\n",
       "jp_sales              0\n",
       "other_sales           0\n",
       "critic_score       8463\n",
       "user_score         6607\n",
       "rating             6678\n",
       "dtype: int64"
      ]
     },
     "execution_count": 12,
     "metadata": {},
     "output_type": "execute_result"
    }
   ],
   "source": [
    "#check\n",
    "data.isna().sum()"
   ]
  },
  {
   "cell_type": "code",
   "execution_count": 13,
   "metadata": {},
   "outputs": [],
   "source": [
    "data['year_of_release'] = data['year_of_release'].astype('int64')"
   ]
  },
  {
   "cell_type": "code",
   "execution_count": 14,
   "metadata": {
    "scrolled": true
   },
   "outputs": [
    {
     "name": "stdout",
     "output_type": "stream",
     "text": [
      "<class 'pandas.core.frame.DataFrame'>\n",
      "Int64Index: 16446 entries, 0 to 16714\n",
      "Data columns (total 11 columns):\n",
      " #   Column           Non-Null Count  Dtype  \n",
      "---  ------           --------------  -----  \n",
      " 0   name             16444 non-null  object \n",
      " 1   platform         16446 non-null  object \n",
      " 2   year_of_release  16446 non-null  int64  \n",
      " 3   genre            16444 non-null  object \n",
      " 4   na_sales         16446 non-null  float64\n",
      " 5   eu_sales         16446 non-null  float64\n",
      " 6   jp_sales         16446 non-null  float64\n",
      " 7   other_sales      16446 non-null  float64\n",
      " 8   critic_score     7983 non-null   float64\n",
      " 9   user_score       9839 non-null   object \n",
      " 10  rating           9768 non-null   object \n",
      "dtypes: float64(5), int64(1), object(5)\n",
      "memory usage: 1.5+ MB\n"
     ]
    }
   ],
   "source": [
    "#check\n",
    "data.info()"
   ]
  },
  {
   "cell_type": "markdown",
   "metadata": {},
   "source": [
    "### Обработка пропущенных значений"
   ]
  },
  {
   "cell_type": "code",
   "execution_count": 15,
   "metadata": {},
   "outputs": [
    {
     "data": {
      "text/plain": [
       "name                  2\n",
       "platform              0\n",
       "year_of_release       0\n",
       "genre                 2\n",
       "na_sales              0\n",
       "eu_sales              0\n",
       "jp_sales              0\n",
       "other_sales           0\n",
       "critic_score       8463\n",
       "user_score         6607\n",
       "rating             6678\n",
       "dtype: int64"
      ]
     },
     "execution_count": 15,
     "metadata": {},
     "output_type": "execute_result"
    }
   ],
   "source": [
    "##подсчет пропусков\n",
    "data.isna().sum()"
   ]
  },
  {
   "cell_type": "markdown",
   "metadata": {},
   "source": [
    "Строки с пропущенными значениями в столбце `name` можно удалить, а пропуски в столбцах `user_score` и `raiting` лучше пока оставить, так как пропуски составляют примерно 40% всех данных."
   ]
  },
  {
   "cell_type": "code",
   "execution_count": 16,
   "metadata": {},
   "outputs": [],
   "source": [
    "data.dropna(subset = ['name'],inplace = True)"
   ]
  },
  {
   "cell_type": "code",
   "execution_count": 17,
   "metadata": {
    "scrolled": true
   },
   "outputs": [
    {
     "data": {
      "text/html": [
       "<style  type=\"text/css\" >\n",
       "#T_60121_row0_col0,#T_60121_row1_col0,#T_60121_row2_col0,#T_60121_row3_col0,#T_60121_row4_col0,#T_60121_row5_col0,#T_60121_row6_col0,#T_60121_row7_col0{\n",
       "            background-color:  #fff7fb;\n",
       "            color:  #000000;\n",
       "        }#T_60121_row8_col0{\n",
       "            background-color:  #023858;\n",
       "            color:  #f1f1f1;\n",
       "        }#T_60121_row9_col0{\n",
       "            background-color:  #056ba7;\n",
       "            color:  #f1f1f1;\n",
       "        }#T_60121_row10_col0{\n",
       "            background-color:  #0569a5;\n",
       "            color:  #f1f1f1;\n",
       "        }</style><table id=\"T_60121_\" ><thead>    <tr>        <th class=\"blank level0\" ></th>        <th class=\"col_heading level0 col0\" >0</th>    </tr></thead><tbody>\n",
       "                <tr>\n",
       "                        <th id=\"T_60121_level0_row0\" class=\"row_heading level0 row0\" >name</th>\n",
       "                        <td id=\"T_60121_row0_col0\" class=\"data row0 col0\" >0</td>\n",
       "            </tr>\n",
       "            <tr>\n",
       "                        <th id=\"T_60121_level0_row1\" class=\"row_heading level0 row1\" >platform</th>\n",
       "                        <td id=\"T_60121_row1_col0\" class=\"data row1 col0\" >0</td>\n",
       "            </tr>\n",
       "            <tr>\n",
       "                        <th id=\"T_60121_level0_row2\" class=\"row_heading level0 row2\" >year_of_release</th>\n",
       "                        <td id=\"T_60121_row2_col0\" class=\"data row2 col0\" >0</td>\n",
       "            </tr>\n",
       "            <tr>\n",
       "                        <th id=\"T_60121_level0_row3\" class=\"row_heading level0 row3\" >genre</th>\n",
       "                        <td id=\"T_60121_row3_col0\" class=\"data row3 col0\" >0</td>\n",
       "            </tr>\n",
       "            <tr>\n",
       "                        <th id=\"T_60121_level0_row4\" class=\"row_heading level0 row4\" >na_sales</th>\n",
       "                        <td id=\"T_60121_row4_col0\" class=\"data row4 col0\" >0</td>\n",
       "            </tr>\n",
       "            <tr>\n",
       "                        <th id=\"T_60121_level0_row5\" class=\"row_heading level0 row5\" >eu_sales</th>\n",
       "                        <td id=\"T_60121_row5_col0\" class=\"data row5 col0\" >0</td>\n",
       "            </tr>\n",
       "            <tr>\n",
       "                        <th id=\"T_60121_level0_row6\" class=\"row_heading level0 row6\" >jp_sales</th>\n",
       "                        <td id=\"T_60121_row6_col0\" class=\"data row6 col0\" >0</td>\n",
       "            </tr>\n",
       "            <tr>\n",
       "                        <th id=\"T_60121_level0_row7\" class=\"row_heading level0 row7\" >other_sales</th>\n",
       "                        <td id=\"T_60121_row7_col0\" class=\"data row7 col0\" >0</td>\n",
       "            </tr>\n",
       "            <tr>\n",
       "                        <th id=\"T_60121_level0_row8\" class=\"row_heading level0 row8\" >critic_score</th>\n",
       "                        <td id=\"T_60121_row8_col0\" class=\"data row8 col0\" >8461</td>\n",
       "            </tr>\n",
       "            <tr>\n",
       "                        <th id=\"T_60121_level0_row9\" class=\"row_heading level0 row9\" >user_score</th>\n",
       "                        <td id=\"T_60121_row9_col0\" class=\"data row9 col0\" >6605</td>\n",
       "            </tr>\n",
       "            <tr>\n",
       "                        <th id=\"T_60121_level0_row10\" class=\"row_heading level0 row10\" >rating</th>\n",
       "                        <td id=\"T_60121_row10_col0\" class=\"data row10 col0\" >6676</td>\n",
       "            </tr>\n",
       "    </tbody></table>"
      ],
      "text/plain": [
       "<pandas.io.formats.style.Styler at 0x7f5a35fcbeb0>"
      ]
     },
     "execution_count": 17,
     "metadata": {},
     "output_type": "execute_result"
    }
   ],
   "source": [
    "#check\n",
    "pd.DataFrame(data.isna().sum()).style.background_gradient()"
   ]
  },
  {
   "cell_type": "code",
   "execution_count": 18,
   "metadata": {},
   "outputs": [
    {
     "data": {
      "text/plain": [
       "array(['E', nan, 'M', 'T', 'E10+', 'K-A', 'AO', 'EC', 'RP'], dtype=object)"
      ]
     },
     "execution_count": 18,
     "metadata": {},
     "output_type": "execute_result"
    }
   ],
   "source": [
    "data['rating'].unique()"
   ]
  },
  {
   "cell_type": "markdown",
   "metadata": {},
   "source": [
    "Entertainment Software Rating Board (ESRB) — негосударственная организация, основное направление деятельности - принятие и определение рейтингов для компьютерных видеоигр и другого развлекательного программного обеспечения в США и Канаде.\n",
    "\n",
    "* Расшифровка буквенных обозначений рейтинга:\n",
    "* «EC» («Early childhood») — «Для детей младшего возраста»\n",
    "* «E» («Everyone») — «Для всех» (до 1998 года - \"K-A\" (\"Kids to Adults\"))\n",
    "* «E10+» («Everyone 10 and older») — «Для всех от 10 лет и старше»\n",
    "* «T» («Teen») — «Подросткам»\n",
    "* «M» («Mature») — «Для взрослых»\n",
    "* «AO» («Adults Only 18+») — «Только для взрослых»\n",
    "* «RP» («Rating Pending») — «Рейтинг ожидается» \n",
    "\n",
    "То есть игры, где пропущен рейтинг возрастного ограничения были выпущены не в Америке и не в Канаде. Заменим на `0`."
   ]
  },
  {
   "cell_type": "code",
   "execution_count": 19,
   "metadata": {},
   "outputs": [],
   "source": [
    "data['rating']=data['rating'].fillna(0)"
   ]
  },
  {
   "cell_type": "code",
   "execution_count": 20,
   "metadata": {},
   "outputs": [
    {
     "data": {
      "text/plain": [
       "name                  0\n",
       "platform              0\n",
       "year_of_release       0\n",
       "genre                 0\n",
       "na_sales              0\n",
       "eu_sales              0\n",
       "jp_sales              0\n",
       "other_sales           0\n",
       "critic_score       8461\n",
       "user_score         6605\n",
       "rating                0\n",
       "dtype: int64"
      ]
     },
     "execution_count": 20,
     "metadata": {},
     "output_type": "execute_result"
    }
   ],
   "source": [
    "#check\n",
    "data.isna().sum()"
   ]
  },
  {
   "cell_type": "markdown",
   "metadata": {},
   "source": [
    "Также тип `object` у столбца `user_score` следует поменять на `float64` для дальнейшей обработки данных"
   ]
  },
  {
   "cell_type": "code",
   "execution_count": 21,
   "metadata": {},
   "outputs": [],
   "source": [
    "data.loc[(data['user_score'] == 'tbd'), 'user_score'] = np.NaN\n",
    "data['user_score'] = data['user_score'].astype('float64')"
   ]
  },
  {
   "cell_type": "code",
   "execution_count": 22,
   "metadata": {
    "scrolled": true
   },
   "outputs": [
    {
     "name": "stdout",
     "output_type": "stream",
     "text": [
      "<class 'pandas.core.frame.DataFrame'>\n",
      "Int64Index: 16444 entries, 0 to 16714\n",
      "Data columns (total 11 columns):\n",
      " #   Column           Non-Null Count  Dtype  \n",
      "---  ------           --------------  -----  \n",
      " 0   name             16444 non-null  object \n",
      " 1   platform         16444 non-null  object \n",
      " 2   year_of_release  16444 non-null  int64  \n",
      " 3   genre            16444 non-null  object \n",
      " 4   na_sales         16444 non-null  float64\n",
      " 5   eu_sales         16444 non-null  float64\n",
      " 6   jp_sales         16444 non-null  float64\n",
      " 7   other_sales      16444 non-null  float64\n",
      " 8   critic_score     7983 non-null   float64\n",
      " 9   user_score       7463 non-null   float64\n",
      " 10  rating           16444 non-null  object \n",
      "dtypes: float64(6), int64(1), object(4)\n",
      "memory usage: 1.5+ MB\n"
     ]
    }
   ],
   "source": [
    "#check\n",
    "data.info()"
   ]
  },
  {
   "cell_type": "code",
   "execution_count": 23,
   "metadata": {},
   "outputs": [
    {
     "data": {
      "text/plain": [
       "0"
      ]
     },
     "execution_count": 23,
     "metadata": {},
     "output_type": "execute_result"
    }
   ],
   "source": [
    "#проверим наличие дубликатов\n",
    "data.duplicated().sum()"
   ]
  },
  {
   "cell_type": "markdown",
   "metadata": {},
   "source": [
    "### Суммарные продажи по регионам"
   ]
  },
  {
   "cell_type": "code",
   "execution_count": 24,
   "metadata": {},
   "outputs": [
    {
     "data": {
      "text/html": [
       "<div>\n",
       "<style scoped>\n",
       "    .dataframe tbody tr th:only-of-type {\n",
       "        vertical-align: middle;\n",
       "    }\n",
       "\n",
       "    .dataframe tbody tr th {\n",
       "        vertical-align: top;\n",
       "    }\n",
       "\n",
       "    .dataframe thead th {\n",
       "        text-align: right;\n",
       "    }\n",
       "</style>\n",
       "<table border=\"1\" class=\"dataframe\">\n",
       "  <thead>\n",
       "    <tr style=\"text-align: right;\">\n",
       "      <th></th>\n",
       "      <th>name</th>\n",
       "      <th>platform</th>\n",
       "      <th>year_of_release</th>\n",
       "      <th>genre</th>\n",
       "      <th>na_sales</th>\n",
       "      <th>eu_sales</th>\n",
       "      <th>jp_sales</th>\n",
       "      <th>other_sales</th>\n",
       "      <th>critic_score</th>\n",
       "      <th>user_score</th>\n",
       "      <th>rating</th>\n",
       "      <th>total_sales</th>\n",
       "    </tr>\n",
       "  </thead>\n",
       "  <tbody>\n",
       "    <tr>\n",
       "      <th>0</th>\n",
       "      <td>Wii Sports</td>\n",
       "      <td>Wii</td>\n",
       "      <td>2006</td>\n",
       "      <td>Sports</td>\n",
       "      <td>41.36</td>\n",
       "      <td>28.96</td>\n",
       "      <td>3.77</td>\n",
       "      <td>8.45</td>\n",
       "      <td>76.0</td>\n",
       "      <td>8.0</td>\n",
       "      <td>E</td>\n",
       "      <td>82.54</td>\n",
       "    </tr>\n",
       "    <tr>\n",
       "      <th>1</th>\n",
       "      <td>Super Mario Bros.</td>\n",
       "      <td>NES</td>\n",
       "      <td>1985</td>\n",
       "      <td>Platform</td>\n",
       "      <td>29.08</td>\n",
       "      <td>3.58</td>\n",
       "      <td>6.81</td>\n",
       "      <td>0.77</td>\n",
       "      <td>NaN</td>\n",
       "      <td>NaN</td>\n",
       "      <td>0</td>\n",
       "      <td>40.24</td>\n",
       "    </tr>\n",
       "    <tr>\n",
       "      <th>2</th>\n",
       "      <td>Mario Kart Wii</td>\n",
       "      <td>Wii</td>\n",
       "      <td>2008</td>\n",
       "      <td>Racing</td>\n",
       "      <td>15.68</td>\n",
       "      <td>12.76</td>\n",
       "      <td>3.79</td>\n",
       "      <td>3.29</td>\n",
       "      <td>82.0</td>\n",
       "      <td>8.3</td>\n",
       "      <td>E</td>\n",
       "      <td>35.52</td>\n",
       "    </tr>\n",
       "    <tr>\n",
       "      <th>3</th>\n",
       "      <td>Wii Sports Resort</td>\n",
       "      <td>Wii</td>\n",
       "      <td>2009</td>\n",
       "      <td>Sports</td>\n",
       "      <td>15.61</td>\n",
       "      <td>10.93</td>\n",
       "      <td>3.28</td>\n",
       "      <td>2.95</td>\n",
       "      <td>80.0</td>\n",
       "      <td>8.0</td>\n",
       "      <td>E</td>\n",
       "      <td>32.77</td>\n",
       "    </tr>\n",
       "    <tr>\n",
       "      <th>4</th>\n",
       "      <td>Pokemon Red/Pokemon Blue</td>\n",
       "      <td>GB</td>\n",
       "      <td>1996</td>\n",
       "      <td>Role-Playing</td>\n",
       "      <td>11.27</td>\n",
       "      <td>8.89</td>\n",
       "      <td>10.22</td>\n",
       "      <td>1.00</td>\n",
       "      <td>NaN</td>\n",
       "      <td>NaN</td>\n",
       "      <td>0</td>\n",
       "      <td>31.38</td>\n",
       "    </tr>\n",
       "    <tr>\n",
       "      <th>...</th>\n",
       "      <td>...</td>\n",
       "      <td>...</td>\n",
       "      <td>...</td>\n",
       "      <td>...</td>\n",
       "      <td>...</td>\n",
       "      <td>...</td>\n",
       "      <td>...</td>\n",
       "      <td>...</td>\n",
       "      <td>...</td>\n",
       "      <td>...</td>\n",
       "      <td>...</td>\n",
       "      <td>...</td>\n",
       "    </tr>\n",
       "    <tr>\n",
       "      <th>16710</th>\n",
       "      <td>Samurai Warriors: Sanada Maru</td>\n",
       "      <td>PS3</td>\n",
       "      <td>2016</td>\n",
       "      <td>Action</td>\n",
       "      <td>0.00</td>\n",
       "      <td>0.00</td>\n",
       "      <td>0.01</td>\n",
       "      <td>0.00</td>\n",
       "      <td>NaN</td>\n",
       "      <td>NaN</td>\n",
       "      <td>0</td>\n",
       "      <td>0.01</td>\n",
       "    </tr>\n",
       "    <tr>\n",
       "      <th>16711</th>\n",
       "      <td>LMA Manager 2007</td>\n",
       "      <td>X360</td>\n",
       "      <td>2006</td>\n",
       "      <td>Sports</td>\n",
       "      <td>0.00</td>\n",
       "      <td>0.01</td>\n",
       "      <td>0.00</td>\n",
       "      <td>0.00</td>\n",
       "      <td>NaN</td>\n",
       "      <td>NaN</td>\n",
       "      <td>0</td>\n",
       "      <td>0.01</td>\n",
       "    </tr>\n",
       "    <tr>\n",
       "      <th>16712</th>\n",
       "      <td>Haitaka no Psychedelica</td>\n",
       "      <td>PSV</td>\n",
       "      <td>2016</td>\n",
       "      <td>Adventure</td>\n",
       "      <td>0.00</td>\n",
       "      <td>0.00</td>\n",
       "      <td>0.01</td>\n",
       "      <td>0.00</td>\n",
       "      <td>NaN</td>\n",
       "      <td>NaN</td>\n",
       "      <td>0</td>\n",
       "      <td>0.01</td>\n",
       "    </tr>\n",
       "    <tr>\n",
       "      <th>16713</th>\n",
       "      <td>Spirits &amp; Spells</td>\n",
       "      <td>GBA</td>\n",
       "      <td>2003</td>\n",
       "      <td>Platform</td>\n",
       "      <td>0.01</td>\n",
       "      <td>0.00</td>\n",
       "      <td>0.00</td>\n",
       "      <td>0.00</td>\n",
       "      <td>NaN</td>\n",
       "      <td>NaN</td>\n",
       "      <td>0</td>\n",
       "      <td>0.01</td>\n",
       "    </tr>\n",
       "    <tr>\n",
       "      <th>16714</th>\n",
       "      <td>Winning Post 8 2016</td>\n",
       "      <td>PSV</td>\n",
       "      <td>2016</td>\n",
       "      <td>Simulation</td>\n",
       "      <td>0.00</td>\n",
       "      <td>0.00</td>\n",
       "      <td>0.01</td>\n",
       "      <td>0.00</td>\n",
       "      <td>NaN</td>\n",
       "      <td>NaN</td>\n",
       "      <td>0</td>\n",
       "      <td>0.01</td>\n",
       "    </tr>\n",
       "  </tbody>\n",
       "</table>\n",
       "<p>16444 rows × 12 columns</p>\n",
       "</div>"
      ],
      "text/plain": [
       "                                name platform  year_of_release         genre  \\\n",
       "0                         Wii Sports      Wii             2006        Sports   \n",
       "1                  Super Mario Bros.      NES             1985      Platform   \n",
       "2                     Mario Kart Wii      Wii             2008        Racing   \n",
       "3                  Wii Sports Resort      Wii             2009        Sports   \n",
       "4           Pokemon Red/Pokemon Blue       GB             1996  Role-Playing   \n",
       "...                              ...      ...              ...           ...   \n",
       "16710  Samurai Warriors: Sanada Maru      PS3             2016        Action   \n",
       "16711               LMA Manager 2007     X360             2006        Sports   \n",
       "16712        Haitaka no Psychedelica      PSV             2016     Adventure   \n",
       "16713               Spirits & Spells      GBA             2003      Platform   \n",
       "16714            Winning Post 8 2016      PSV             2016    Simulation   \n",
       "\n",
       "       na_sales  eu_sales  jp_sales  other_sales  critic_score  user_score  \\\n",
       "0         41.36     28.96      3.77         8.45          76.0         8.0   \n",
       "1         29.08      3.58      6.81         0.77           NaN         NaN   \n",
       "2         15.68     12.76      3.79         3.29          82.0         8.3   \n",
       "3         15.61     10.93      3.28         2.95          80.0         8.0   \n",
       "4         11.27      8.89     10.22         1.00           NaN         NaN   \n",
       "...         ...       ...       ...          ...           ...         ...   \n",
       "16710      0.00      0.00      0.01         0.00           NaN         NaN   \n",
       "16711      0.00      0.01      0.00         0.00           NaN         NaN   \n",
       "16712      0.00      0.00      0.01         0.00           NaN         NaN   \n",
       "16713      0.01      0.00      0.00         0.00           NaN         NaN   \n",
       "16714      0.00      0.00      0.01         0.00           NaN         NaN   \n",
       "\n",
       "      rating  total_sales  \n",
       "0          E        82.54  \n",
       "1          0        40.24  \n",
       "2          E        35.52  \n",
       "3          E        32.77  \n",
       "4          0        31.38  \n",
       "...      ...          ...  \n",
       "16710      0         0.01  \n",
       "16711      0         0.01  \n",
       "16712      0         0.01  \n",
       "16713      0         0.01  \n",
       "16714      0         0.01  \n",
       "\n",
       "[16444 rows x 12 columns]"
      ]
     },
     "execution_count": 24,
     "metadata": {},
     "output_type": "execute_result"
    }
   ],
   "source": [
    "data['total_sales'] = data[['na_sales','eu_sales','jp_sales','other_sales']].sum(axis=1)\n",
    "data"
   ]
  },
  {
   "cell_type": "markdown",
   "metadata": {},
   "source": [
    "**Вывод**  \n",
    "Была выполнена подготовка данных: устранили пропуски, измененили тип данных, проверили отсутствие дубликатов, привели названия столбцов к удобному виду.\n",
    "Добавили столбец с суммарными продажами игр по всем регионам.  \n",
    "Можно приступить к исследованию."
   ]
  },
  {
   "cell_type": "markdown",
   "metadata": {},
   "source": [
    "## Исследовательский анализ данных"
   ]
  },
  {
   "cell_type": "markdown",
   "metadata": {},
   "source": [
    "### Исследование выпуска игр по годам"
   ]
  },
  {
   "cell_type": "code",
   "execution_count": 25,
   "metadata": {},
   "outputs": [
    {
     "data": {
      "text/html": [
       "<div>\n",
       "<style scoped>\n",
       "    .dataframe tbody tr th:only-of-type {\n",
       "        vertical-align: middle;\n",
       "    }\n",
       "\n",
       "    .dataframe tbody tr th {\n",
       "        vertical-align: top;\n",
       "    }\n",
       "\n",
       "    .dataframe thead th {\n",
       "        text-align: right;\n",
       "    }\n",
       "</style>\n",
       "<table border=\"1\" class=\"dataframe\">\n",
       "  <thead>\n",
       "    <tr style=\"text-align: right;\">\n",
       "      <th></th>\n",
       "      <th>total_sales</th>\n",
       "      <th>games_released</th>\n",
       "    </tr>\n",
       "    <tr>\n",
       "      <th>year_of_release</th>\n",
       "      <th></th>\n",
       "      <th></th>\n",
       "    </tr>\n",
       "  </thead>\n",
       "  <tbody>\n",
       "    <tr>\n",
       "      <th>1980</th>\n",
       "      <td>11.38</td>\n",
       "      <td>9</td>\n",
       "    </tr>\n",
       "    <tr>\n",
       "      <th>1981</th>\n",
       "      <td>35.68</td>\n",
       "      <td>46</td>\n",
       "    </tr>\n",
       "    <tr>\n",
       "      <th>1982</th>\n",
       "      <td>28.88</td>\n",
       "      <td>36</td>\n",
       "    </tr>\n",
       "    <tr>\n",
       "      <th>1983</th>\n",
       "      <td>16.80</td>\n",
       "      <td>17</td>\n",
       "    </tr>\n",
       "    <tr>\n",
       "      <th>1984</th>\n",
       "      <td>50.35</td>\n",
       "      <td>14</td>\n",
       "    </tr>\n",
       "    <tr>\n",
       "      <th>1985</th>\n",
       "      <td>53.95</td>\n",
       "      <td>14</td>\n",
       "    </tr>\n",
       "    <tr>\n",
       "      <th>1986</th>\n",
       "      <td>37.08</td>\n",
       "      <td>21</td>\n",
       "    </tr>\n",
       "    <tr>\n",
       "      <th>1987</th>\n",
       "      <td>21.70</td>\n",
       "      <td>16</td>\n",
       "    </tr>\n",
       "    <tr>\n",
       "      <th>1988</th>\n",
       "      <td>47.21</td>\n",
       "      <td>15</td>\n",
       "    </tr>\n",
       "    <tr>\n",
       "      <th>1989</th>\n",
       "      <td>73.45</td>\n",
       "      <td>17</td>\n",
       "    </tr>\n",
       "    <tr>\n",
       "      <th>1990</th>\n",
       "      <td>49.37</td>\n",
       "      <td>16</td>\n",
       "    </tr>\n",
       "    <tr>\n",
       "      <th>1991</th>\n",
       "      <td>32.23</td>\n",
       "      <td>41</td>\n",
       "    </tr>\n",
       "    <tr>\n",
       "      <th>1992</th>\n",
       "      <td>76.16</td>\n",
       "      <td>43</td>\n",
       "    </tr>\n",
       "    <tr>\n",
       "      <th>1993</th>\n",
       "      <td>45.99</td>\n",
       "      <td>60</td>\n",
       "    </tr>\n",
       "    <tr>\n",
       "      <th>1994</th>\n",
       "      <td>79.23</td>\n",
       "      <td>121</td>\n",
       "    </tr>\n",
       "    <tr>\n",
       "      <th>1995</th>\n",
       "      <td>88.12</td>\n",
       "      <td>219</td>\n",
       "    </tr>\n",
       "    <tr>\n",
       "      <th>1996</th>\n",
       "      <td>199.15</td>\n",
       "      <td>263</td>\n",
       "    </tr>\n",
       "    <tr>\n",
       "      <th>1997</th>\n",
       "      <td>201.07</td>\n",
       "      <td>289</td>\n",
       "    </tr>\n",
       "    <tr>\n",
       "      <th>1998</th>\n",
       "      <td>256.31</td>\n",
       "      <td>379</td>\n",
       "    </tr>\n",
       "    <tr>\n",
       "      <th>1999</th>\n",
       "      <td>251.11</td>\n",
       "      <td>338</td>\n",
       "    </tr>\n",
       "    <tr>\n",
       "      <th>2000</th>\n",
       "      <td>201.66</td>\n",
       "      <td>350</td>\n",
       "    </tr>\n",
       "    <tr>\n",
       "      <th>2001</th>\n",
       "      <td>331.46</td>\n",
       "      <td>482</td>\n",
       "    </tr>\n",
       "    <tr>\n",
       "      <th>2002</th>\n",
       "      <td>394.97</td>\n",
       "      <td>829</td>\n",
       "    </tr>\n",
       "    <tr>\n",
       "      <th>2003</th>\n",
       "      <td>357.54</td>\n",
       "      <td>775</td>\n",
       "    </tr>\n",
       "    <tr>\n",
       "      <th>2004</th>\n",
       "      <td>418.68</td>\n",
       "      <td>762</td>\n",
       "    </tr>\n",
       "    <tr>\n",
       "      <th>2005</th>\n",
       "      <td>457.82</td>\n",
       "      <td>939</td>\n",
       "    </tr>\n",
       "    <tr>\n",
       "      <th>2006</th>\n",
       "      <td>517.71</td>\n",
       "      <td>1006</td>\n",
       "    </tr>\n",
       "    <tr>\n",
       "      <th>2007</th>\n",
       "      <td>604.75</td>\n",
       "      <td>1197</td>\n",
       "    </tr>\n",
       "    <tr>\n",
       "      <th>2008</th>\n",
       "      <td>671.50</td>\n",
       "      <td>1427</td>\n",
       "    </tr>\n",
       "    <tr>\n",
       "      <th>2009</th>\n",
       "      <td>658.82</td>\n",
       "      <td>1426</td>\n",
       "    </tr>\n",
       "    <tr>\n",
       "      <th>2010</th>\n",
       "      <td>590.13</td>\n",
       "      <td>1255</td>\n",
       "    </tr>\n",
       "    <tr>\n",
       "      <th>2011</th>\n",
       "      <td>507.58</td>\n",
       "      <td>1136</td>\n",
       "    </tr>\n",
       "    <tr>\n",
       "      <th>2012</th>\n",
       "      <td>355.84</td>\n",
       "      <td>653</td>\n",
       "    </tr>\n",
       "    <tr>\n",
       "      <th>2013</th>\n",
       "      <td>361.24</td>\n",
       "      <td>544</td>\n",
       "    </tr>\n",
       "    <tr>\n",
       "      <th>2014</th>\n",
       "      <td>331.53</td>\n",
       "      <td>581</td>\n",
       "    </tr>\n",
       "    <tr>\n",
       "      <th>2015</th>\n",
       "      <td>267.98</td>\n",
       "      <td>606</td>\n",
       "    </tr>\n",
       "    <tr>\n",
       "      <th>2016</th>\n",
       "      <td>129.94</td>\n",
       "      <td>502</td>\n",
       "    </tr>\n",
       "  </tbody>\n",
       "</table>\n",
       "</div>"
      ],
      "text/plain": [
       "                 total_sales  games_released\n",
       "year_of_release                             \n",
       "1980                   11.38               9\n",
       "1981                   35.68              46\n",
       "1982                   28.88              36\n",
       "1983                   16.80              17\n",
       "1984                   50.35              14\n",
       "1985                   53.95              14\n",
       "1986                   37.08              21\n",
       "1987                   21.70              16\n",
       "1988                   47.21              15\n",
       "1989                   73.45              17\n",
       "1990                   49.37              16\n",
       "1991                   32.23              41\n",
       "1992                   76.16              43\n",
       "1993                   45.99              60\n",
       "1994                   79.23             121\n",
       "1995                   88.12             219\n",
       "1996                  199.15             263\n",
       "1997                  201.07             289\n",
       "1998                  256.31             379\n",
       "1999                  251.11             338\n",
       "2000                  201.66             350\n",
       "2001                  331.46             482\n",
       "2002                  394.97             829\n",
       "2003                  357.54             775\n",
       "2004                  418.68             762\n",
       "2005                  457.82             939\n",
       "2006                  517.71            1006\n",
       "2007                  604.75            1197\n",
       "2008                  671.50            1427\n",
       "2009                  658.82            1426\n",
       "2010                  590.13            1255\n",
       "2011                  507.58            1136\n",
       "2012                  355.84             653\n",
       "2013                  361.24             544\n",
       "2014                  331.53             581\n",
       "2015                  267.98             606\n",
       "2016                  129.94             502"
      ]
     },
     "execution_count": 25,
     "metadata": {},
     "output_type": "execute_result"
    }
   ],
   "source": [
    "#сгруппируем данные по дате релиза и продажам\n",
    "games_release = data.groupby('year_of_release')[['total_sales', 'name']].agg({'total_sales': 'sum', 'name': 'count'})\n",
    "games_release.columns = ['total_sales', 'games_released']\n",
    "games_release"
   ]
  },
  {
   "cell_type": "code",
   "execution_count": 26,
   "metadata": {},
   "outputs": [
    {
     "data": {
      "image/png": "[encoded data removed]",
      "text/plain": [
       "<Figure size 1440x720 with 1 Axes>"
      ]
     },
     "metadata": {
      "needs_background": "light"
     },
     "output_type": "display_data"
    }
   ],
   "source": [
    "sales = data[[x for x in data.columns if 'sales' in x] + ['year_of_release']]\n",
    "sales.groupby('year_of_release').sum().plot(figsize=(20,10))\n",
    "plt.title('Динамика продаж по регионам')\n",
    "plt.xlabel('год выпуска игры')\n",
    "plt.ylabel('количество проданных игр, млн.шт');"
   ]
  },
  {
   "cell_type": "markdown",
   "metadata": {},
   "source": [
    "**Вывод**  \n",
    "На графике приведена динамика объема продаж компьютерных игр по регионам и в целом в мире. По графику видно, что основная доля продаж приходится на рынок Европы и Северной Америки. Для данных регионов характерен рост спроса на игры в период с 2005-2009 года, и спад в 2009-2015 годах.  \n",
    "Игровой рынок Японии и других стран практически стабилен на протяжении 15 лет."
   ]
  },
  {
   "cell_type": "markdown",
   "metadata": {},
   "source": [
    "### Динамика продаж по игровым платформам."
   ]
  },
  {
   "cell_type": "code",
   "execution_count": 27,
   "metadata": {},
   "outputs": [
    {
     "data": {
      "image/png": "[encoded data removed]",
      "text/plain": [
       "<Figure size 1440x720 with 1 Axes>"
      ]
     },
     "metadata": {
      "needs_background": "light"
     },
     "output_type": "display_data"
    }
   ],
   "source": [
    "data_platforms = (data\n",
    "                  .pivot_table(index='platform',values= 'total_sales', aggfunc='sum').sort_values(by='total_sales', ascending =False)\n",
    "                  .plot(kind='bar', grid=True, figsize=(20,10)))\n",
    "plt.title('Динамика продаж по игровым платформам')\n",
    "plt.xlabel('Платформа')\n",
    "plt.ylabel('количество проданных игр, млн.шт');"
   ]
  },
  {
   "cell_type": "code",
   "execution_count": 28,
   "metadata": {},
   "outputs": [
    {
     "data": {
      "image/png": "[encoded data removed]",
      "text/plain": [
       "<Figure size 1080x360 with 2 Axes>"
      ]
     },
     "metadata": {
      "needs_background": "light"
     },
     "output_type": "display_data"
    }
   ],
   "source": [
    "# Группировка платформ с самыми большими продажами по годам\n",
    "top_sales= (\n",
    "    data\n",
    "    .pivot_table(index='platform', values='total_sales', columns = 'year_of_release', aggfunc= 'sum')\n",
    "    .query('platform in [\"PS2\", \"X360\", \"Wii\", \"PS3\", \"DS\", \"PS\"]')\n",
    ")\n",
    "fig, ax = plt.subplots(figsize=(15, 5))\n",
    "sns.heatmap(top_sales, cmap = \"coolwarm\")\n",
    "plt.title('Динамика продаж по топ игровым платформам')\n",
    "plt.xlabel('Количество проданных игр, млн.ш')\n",
    "plt.ylabel('Плафторма');"
   ]
  },
  {
   "cell_type": "markdown",
   "metadata": {},
   "source": [
    "**Вывод**  \n",
    "На графике видно, что в среднем жизненный цикл у игровых платформ 8-10 лет. Но к 2016 году остались \"живы\" только три платформы - PS3, Wii, X360. Самые лучшие продажи были у платформы PS2 в 2004 году и Wii в 2009 году."
   ]
  },
  {
   "cell_type": "markdown",
   "metadata": {},
   "source": [
    "### Выбор актуального периода для прогноза"
   ]
  },
  {
   "cell_type": "markdown",
   "metadata": {},
   "source": [
    "За актуальный период для проведения анализа возьмём 2014-2016 гг."
   ]
  },
  {
   "cell_type": "code",
   "execution_count": 29,
   "metadata": {},
   "outputs": [
    {
     "name": "stdout",
     "output_type": "stream",
     "text": [
      "<class 'pandas.core.frame.DataFrame'>\n",
      "RangeIndex: 1689 entries, 0 to 1688\n",
      "Data columns (total 12 columns):\n",
      " #   Column           Non-Null Count  Dtype  \n",
      "---  ------           --------------  -----  \n",
      " 0   name             1689 non-null   object \n",
      " 1   platform         1689 non-null   object \n",
      " 2   year_of_release  1689 non-null   int64  \n",
      " 3   genre            1689 non-null   object \n",
      " 4   na_sales         1689 non-null   float64\n",
      " 5   eu_sales         1689 non-null   float64\n",
      " 6   jp_sales         1689 non-null   float64\n",
      " 7   other_sales      1689 non-null   float64\n",
      " 8   critic_score     718 non-null    float64\n",
      " 9   user_score       888 non-null    float64\n",
      " 10  rating           1689 non-null   object \n",
      " 11  total_sales      1689 non-null   float64\n",
      "dtypes: float64(7), int64(1), object(4)\n",
      "memory usage: 158.5+ KB\n"
     ]
    }
   ],
   "source": [
    "period = data[data['year_of_release'] >= 2014].reset_index(drop=True)\n",
    "period.info()"
   ]
  },
  {
   "cell_type": "markdown",
   "metadata": {},
   "source": [
    "### Выбор топ-платформ"
   ]
  },
  {
   "cell_type": "code",
   "execution_count": 30,
   "metadata": {},
   "outputs": [
    {
     "data": {
      "text/plain": [
       "array(['PS4', '3DS', 'XOne', 'WiiU', 'PS3', 'X360', 'PC', 'Wii', 'PSV',\n",
       "       'PSP'], dtype=object)"
      ]
     },
     "execution_count": 30,
     "metadata": {},
     "output_type": "execute_result"
    }
   ],
   "source": [
    "#посмотрим какие платформы попали в этот период\n",
    "period['platform'].unique()"
   ]
  },
  {
   "cell_type": "code",
   "execution_count": 31,
   "metadata": {
    "scrolled": false
   },
   "outputs": [
    {
     "data": {
      "text/plain": [
       "Text(0.5, 1.0, 'PSP')"
      ]
     },
     "execution_count": 31,
     "metadata": {},
     "output_type": "execute_result"
    },
    {
     "data": {
      "image/png": "[encoded data removed]",
      "text/plain": [
       "<Figure size 432x288 with 1 Axes>"
      ]
     },
     "metadata": {
      "needs_background": "light"
     },
     "output_type": "display_data"
    },
    {
     "data": {
      "image/png": "[encoded data removed]",
      "text/plain": [
       "<Figure size 432x288 with 1 Axes>"
      ]
     },
     "metadata": {
      "needs_background": "light"
     },
     "output_type": "display_data"
    },
    {
     "data": {
      "image/png": "[encoded data removed]",
      "text/plain": [
       "<Figure size 432x288 with 1 Axes>"
      ]
     },
     "metadata": {
      "needs_background": "light"
     },
     "output_type": "display_data"
    },
    {
     "data": {
      "image/png": "[encoded data removed]",
      "text/plain": [
       "<Figure size 432x288 with 1 Axes>"
      ]
     },
     "metadata": {
      "needs_background": "light"
     },
     "output_type": "display_data"
    },
    {
     "data": {
      "image/png": "[encoded data removed]",
      "text/plain": [
       "<Figure size 432x288 with 1 Axes>"
      ]
     },
     "metadata": {
      "needs_background": "light"
     },
     "output_type": "display_data"
    },
    {
     "data": {
      "image/png": "[encoded data removed]",
      "text/plain": [
       "<Figure size 432x288 with 1 Axes>"
      ]
     },
     "metadata": {
      "needs_background": "light"
     },
     "output_type": "display_data"
    },
    {
     "data": {
      "image/png": "[encoded data removed]",
      "text/plain": [
       "<Figure size 432x288 with 1 Axes>"
      ]
     },
     "metadata": {
      "needs_background": "light"
     },
     "output_type": "display_data"
    },
    {
     "data": {
      "image/png": "[encoded data removed]",
      "text/plain": [
       "<Figure size 432x288 with 1 Axes>"
      ]
     },
     "metadata": {
      "needs_background": "light"
     },
     "output_type": "display_data"
    },
    {
     "data": {
      "image/png": "[encoded data removed]",
      "text/plain": [
       "<Figure size 432x288 with 1 Axes>"
      ]
     },
     "metadata": {
      "needs_background": "light"
     },
     "output_type": "display_data"
    },
    {
     "data": {
      "image/png": "[encoded data removed]",
      "text/plain": [
       "<Figure size 432x288 with 1 Axes>"
      ]
     },
     "metadata": {
      "needs_background": "light"
     },
     "output_type": "display_data"
    }
   ],
   "source": [
    "(\n",
    "    period\n",
    "    .query('platform == \"PS4\"')\n",
    "    .pivot_table(index='year_of_release', values='total_sales', aggfunc='sum')\n",
    "    .plot(y='total_sales', kind='bar', grid=True)\n",
    ")\n",
    "plt.title('PS4')\n",
    "\n",
    "(\n",
    "    period\n",
    "    .query('platform == \"3DS\"')\n",
    "    .pivot_table(index='year_of_release', values='total_sales', aggfunc='sum')\n",
    "    .plot(y='total_sales', kind='bar', grid=True)\n",
    ")\n",
    "plt.title('3DS')\n",
    "\n",
    "(\n",
    "    period\n",
    "    .query('platform == \"XOne\"')\n",
    "    .pivot_table(index='year_of_release', values='total_sales', aggfunc='sum')\n",
    "    .plot(y='total_sales', kind='bar', grid=True)\n",
    ")\n",
    "plt.title('XOne')\n",
    "\n",
    "(\n",
    "    period\n",
    "    .query('platform == \"WiiU\"')\n",
    "    .pivot_table(index='year_of_release', values='total_sales', aggfunc='sum')\n",
    "    .plot(y='total_sales', kind='bar', grid=True)\n",
    ")\n",
    "plt.title('WiiU')\n",
    "\n",
    "(\n",
    "    period\n",
    "    .query('platform == \"PS3\"')\n",
    "    .pivot_table(index='year_of_release', values='total_sales', aggfunc='sum')\n",
    "    .plot(y='total_sales', kind='bar', grid=True)\n",
    ")\n",
    "plt.title('PS3')\n",
    "\n",
    "(\n",
    "    period\n",
    "    .query('platform == \"X360\"')\n",
    "    .pivot_table(index='year_of_release', values='total_sales', aggfunc='sum')\n",
    "    .plot(y='total_sales', kind='bar', grid=True)\n",
    ")\n",
    "plt.title('X360')\n",
    "\n",
    "(\n",
    "    period\n",
    "    .query('platform == \"PC\"')\n",
    "    .pivot_table(index='year_of_release', values='total_sales', aggfunc='sum')\n",
    "    .plot(y='total_sales', kind='bar', grid=True)\n",
    ")\n",
    "plt.title('PC')\n",
    "\n",
    "(\n",
    "    period\n",
    "    .query('platform == \"Wii\"')\n",
    "    .pivot_table(index='year_of_release', values='total_sales', aggfunc='sum')\n",
    "    .plot(y='total_sales', kind='bar', grid=True)\n",
    ")\n",
    "plt.title('Wii')\n",
    "\n",
    "(\n",
    "    period\n",
    "    .query('platform == \"PSV\"')\n",
    "    .pivot_table(index='year_of_release', values='total_sales', aggfunc='sum')\n",
    "    .plot(y='total_sales', kind='bar', grid=True)\n",
    ")\n",
    "plt.title('PSV')\n",
    "\n",
    "(\n",
    "    period\n",
    "    .query('platform == \"PSP\"')\n",
    "    .pivot_table(index='year_of_release', values='total_sales', aggfunc='sum')\n",
    "    .plot(y='total_sales', kind='bar', grid=True)\n",
    ")\n",
    "plt.title('PSP')"
   ]
  },
  {
   "cell_type": "markdown",
   "metadata": {},
   "source": [
    "**Вывод**  \n",
    "После изучения графиков можно сделать такие выводы:\n",
    "\n",
    "- Бесперспективные платформы, у которых наблюдается снижение продаж: 3DS, WiiU, PS3, X360, PC, Wii, PSV.\n",
    "- Топовые платформы, у которых наблюдается рост продаж: PS4, XOne.\n",
    "- Но однозначным лидером пока является плафторма PS4- продажи PS4 в два раза больше чем у XOne."
   ]
  },
  {
   "cell_type": "markdown",
   "metadata": {},
   "source": [
    "###  Диаграмма размаха по глобальным продажам игр с разбивкой по платформам."
   ]
  },
  {
   "cell_type": "code",
   "execution_count": 32,
   "metadata": {},
   "outputs": [
    {
     "data": {
      "image/png": "[encoded data removed]",
      "text/plain": [
       "<Figure size 1440x1080 with 1 Axes>"
      ]
     },
     "metadata": {
      "needs_background": "light"
     },
     "output_type": "display_data"
    }
   ],
   "source": [
    "plt.figure(figsize=(20, 15))\n",
    "\n",
    "sns.boxplot(data=period, x='total_sales', y='platform')\n",
    "plt.xlim(0, 2)\n",
    "\n",
    "plt.title('Диаграмма размаха по глобальным продажам игр')\n",
    "plt.xlabel('Продажи, млн. шт')\n",
    "plt.ylabel('Платформы')\n",
    "\n",
    "plt.show()"
   ]
  },
  {
   "cell_type": "code",
   "execution_count": 33,
   "metadata": {},
   "outputs": [
    {
     "data": {
      "text/html": [
       "<div>\n",
       "<style scoped>\n",
       "    .dataframe tbody tr th:only-of-type {\n",
       "        vertical-align: middle;\n",
       "    }\n",
       "\n",
       "    .dataframe tbody tr th {\n",
       "        vertical-align: top;\n",
       "    }\n",
       "\n",
       "    .dataframe thead th {\n",
       "        text-align: right;\n",
       "    }\n",
       "</style>\n",
       "<table border=\"1\" class=\"dataframe\">\n",
       "  <thead>\n",
       "    <tr style=\"text-align: right;\">\n",
       "      <th></th>\n",
       "      <th>count</th>\n",
       "      <th>mean</th>\n",
       "      <th>std</th>\n",
       "      <th>min</th>\n",
       "      <th>25%</th>\n",
       "      <th>50%</th>\n",
       "      <th>75%</th>\n",
       "      <th>max</th>\n",
       "    </tr>\n",
       "    <tr>\n",
       "      <th>platform</th>\n",
       "      <th></th>\n",
       "      <th></th>\n",
       "      <th></th>\n",
       "      <th></th>\n",
       "      <th></th>\n",
       "      <th></th>\n",
       "      <th></th>\n",
       "      <th></th>\n",
       "    </tr>\n",
       "  </thead>\n",
       "  <tbody>\n",
       "    <tr>\n",
       "      <th>PSP</th>\n",
       "      <td>13.0</td>\n",
       "      <td>0.027692</td>\n",
       "      <td>0.027735</td>\n",
       "      <td>0.01</td>\n",
       "      <td>0.0100</td>\n",
       "      <td>0.020</td>\n",
       "      <td>0.0200</td>\n",
       "      <td>0.09</td>\n",
       "    </tr>\n",
       "    <tr>\n",
       "      <th>PSV</th>\n",
       "      <td>295.0</td>\n",
       "      <td>0.075932</td>\n",
       "      <td>0.141591</td>\n",
       "      <td>0.01</td>\n",
       "      <td>0.0200</td>\n",
       "      <td>0.040</td>\n",
       "      <td>0.0900</td>\n",
       "      <td>1.96</td>\n",
       "    </tr>\n",
       "    <tr>\n",
       "      <th>Wii</th>\n",
       "      <td>11.0</td>\n",
       "      <td>0.460909</td>\n",
       "      <td>0.625451</td>\n",
       "      <td>0.01</td>\n",
       "      <td>0.0350</td>\n",
       "      <td>0.180</td>\n",
       "      <td>0.7550</td>\n",
       "      <td>2.01</td>\n",
       "    </tr>\n",
       "    <tr>\n",
       "      <th>PC</th>\n",
       "      <td>151.0</td>\n",
       "      <td>0.179139</td>\n",
       "      <td>0.329359</td>\n",
       "      <td>0.01</td>\n",
       "      <td>0.0200</td>\n",
       "      <td>0.060</td>\n",
       "      <td>0.2000</td>\n",
       "      <td>3.05</td>\n",
       "    </tr>\n",
       "    <tr>\n",
       "      <th>X360</th>\n",
       "      <td>111.0</td>\n",
       "      <td>0.434414</td>\n",
       "      <td>0.628967</td>\n",
       "      <td>0.01</td>\n",
       "      <td>0.0700</td>\n",
       "      <td>0.180</td>\n",
       "      <td>0.5050</td>\n",
       "      <td>4.28</td>\n",
       "    </tr>\n",
       "    <tr>\n",
       "      <th>PS3</th>\n",
       "      <td>219.0</td>\n",
       "      <td>0.311324</td>\n",
       "      <td>0.633059</td>\n",
       "      <td>0.01</td>\n",
       "      <td>0.0400</td>\n",
       "      <td>0.110</td>\n",
       "      <td>0.3250</td>\n",
       "      <td>5.27</td>\n",
       "    </tr>\n",
       "    <tr>\n",
       "      <th>WiiU</th>\n",
       "      <td>73.0</td>\n",
       "      <td>0.588767</td>\n",
       "      <td>1.161467</td>\n",
       "      <td>0.01</td>\n",
       "      <td>0.0500</td>\n",
       "      <td>0.190</td>\n",
       "      <td>0.5700</td>\n",
       "      <td>7.09</td>\n",
       "    </tr>\n",
       "    <tr>\n",
       "      <th>XOne</th>\n",
       "      <td>228.0</td>\n",
       "      <td>0.615614</td>\n",
       "      <td>1.046513</td>\n",
       "      <td>0.01</td>\n",
       "      <td>0.0500</td>\n",
       "      <td>0.205</td>\n",
       "      <td>0.6325</td>\n",
       "      <td>7.39</td>\n",
       "    </tr>\n",
       "    <tr>\n",
       "      <th>3DS</th>\n",
       "      <td>212.0</td>\n",
       "      <td>0.408868</td>\n",
       "      <td>1.188368</td>\n",
       "      <td>0.01</td>\n",
       "      <td>0.0300</td>\n",
       "      <td>0.090</td>\n",
       "      <td>0.2500</td>\n",
       "      <td>11.68</td>\n",
       "    </tr>\n",
       "    <tr>\n",
       "      <th>PS4</th>\n",
       "      <td>376.0</td>\n",
       "      <td>0.766356</td>\n",
       "      <td>1.614969</td>\n",
       "      <td>0.01</td>\n",
       "      <td>0.0575</td>\n",
       "      <td>0.185</td>\n",
       "      <td>0.6900</td>\n",
       "      <td>14.63</td>\n",
       "    </tr>\n",
       "  </tbody>\n",
       "</table>\n",
       "</div>"
      ],
      "text/plain": [
       "          count      mean       std   min     25%    50%     75%    max\n",
       "platform                                                               \n",
       "PSP        13.0  0.027692  0.027735  0.01  0.0100  0.020  0.0200   0.09\n",
       "PSV       295.0  0.075932  0.141591  0.01  0.0200  0.040  0.0900   1.96\n",
       "Wii        11.0  0.460909  0.625451  0.01  0.0350  0.180  0.7550   2.01\n",
       "PC        151.0  0.179139  0.329359  0.01  0.0200  0.060  0.2000   3.05\n",
       "X360      111.0  0.434414  0.628967  0.01  0.0700  0.180  0.5050   4.28\n",
       "PS3       219.0  0.311324  0.633059  0.01  0.0400  0.110  0.3250   5.27\n",
       "WiiU       73.0  0.588767  1.161467  0.01  0.0500  0.190  0.5700   7.09\n",
       "XOne      228.0  0.615614  1.046513  0.01  0.0500  0.205  0.6325   7.39\n",
       "3DS       212.0  0.408868  1.188368  0.01  0.0300  0.090  0.2500  11.68\n",
       "PS4       376.0  0.766356  1.614969  0.01  0.0575  0.185  0.6900  14.63"
      ]
     },
     "execution_count": 33,
     "metadata": {},
     "output_type": "execute_result"
    }
   ],
   "source": [
    "period.groupby('platform')['total_sales'].describe().sort_values(by='max')"
   ]
  },
  {
   "cell_type": "markdown",
   "metadata": {},
   "source": [
    "**Вывод**  \n",
    "В период с 2014 по 2016 самые высокие средние продажи были у игр, произведенных для платформ:\n",
    "- PS4 (max- 14.63 млн. шт, среднее- 0,77 млн.шт);\n",
    "- 3DS (max- 11.68 млн. шт, среднее- 0,41 млн.шт).  "
   ]
  },
  {
   "cell_type": "markdown",
   "metadata": {},
   "source": [
    "### Влияние отзывов пользователей и критиков на продажи внутри одной популярной платформы. PS4."
   ]
  },
  {
   "cell_type": "code",
   "execution_count": 34,
   "metadata": {},
   "outputs": [
    {
     "data": {
      "text/plain": [
       "Text(0.5, 1.0, 'Влияние отзывов критиков на продажи')"
      ]
     },
     "execution_count": 34,
     "metadata": {},
     "output_type": "execute_result"
    },
    {
     "data": {
      "image/png": "[encoded data removed]",
      "text/plain": [
       "<Figure size 432x288 with 1 Axes>"
      ]
     },
     "metadata": {
      "needs_background": "light"
     },
     "output_type": "display_data"
    },
    {
     "data": {
      "image/png": "[encoded data removed]",
      "text/plain": [
       "<Figure size 432x288 with 1 Axes>"
      ]
     },
     "metadata": {
      "needs_background": "light"
     },
     "output_type": "display_data"
    }
   ],
   "source": [
    "period[period['platform'] == 'PS4'].plot(x='total_sales', y='user_score', kind='scatter')\n",
    "plt.title('Влияние отзывов пользователей на продажи')\n",
    "period[period['platform'] == 'PS4'].plot(x='total_sales', y='critic_score', kind='scatter')\n",
    "plt.title('Влияние отзывов критиков на продажи')"
   ]
  },
  {
   "cell_type": "markdown",
   "metadata": {},
   "source": [
    "Коэффициенты корреляции Пирсона между отзывами и продажами:"
   ]
  },
  {
   "cell_type": "code",
   "execution_count": 35,
   "metadata": {},
   "outputs": [
    {
     "name": "stdout",
     "output_type": "stream",
     "text": [
      "Коэффициент корреляции Пирсона между продажами и оценкой пользователей:  -0.040131589472697356\n",
      "Коэффициент корреляции Пирсона между продажами и оценкой критиков:  0.40266141068104083\n"
     ]
    }
   ],
   "source": [
    "print(\"Коэффициент корреляции Пирсона между продажами и оценкой пользователей: \",\n",
    "    period[period['platform'] == 'PS4']['total_sales']\n",
    "        .corr(period[period['platform'] == 'PS4']['user_score'])\n",
    ")\n",
    "print(\"Коэффициент корреляции Пирсона между продажами и оценкой критиков: \",\n",
    "    period[period['platform'] == 'PS4']['total_sales']\n",
    "        .corr(period[period['platform'] == 'PS4']['critic_score'])\n",
    ")"
   ]
  },
  {
   "cell_type": "markdown",
   "metadata": {},
   "source": [
    "**Вывод**  \n",
    "Объём продаж и оценки пользователей практически не коррелируют. Между объёмом продаж и оценками критиков наблюдается слабая прямая корреляция."
   ]
  },
  {
   "cell_type": "markdown",
   "metadata": {},
   "source": [
    "### Анализ распределения игр по жанрам"
   ]
  },
  {
   "cell_type": "code",
   "execution_count": 36,
   "metadata": {},
   "outputs": [
    {
     "data": {
      "text/plain": [
       "Action          619\n",
       "Role-Playing    221\n",
       "Adventure       185\n",
       "Sports          161\n",
       "Shooter         128\n",
       "Misc            113\n",
       "Racing           69\n",
       "Fighting         60\n",
       "Simulation       44\n",
       "Platform         38\n",
       "Strategy         37\n",
       "Puzzle           14\n",
       "Name: genre, dtype: int64"
      ]
     },
     "execution_count": 36,
     "metadata": {},
     "output_type": "execute_result"
    }
   ],
   "source": [
    "#распределение игр по жанрам в выбранном периоде\n",
    "period['genre'].value_counts()"
   ]
  },
  {
   "cell_type": "markdown",
   "metadata": {},
   "source": [
    "Больше всего игр с жанром \"Action\", а меньше всего \"Puzzle\"."
   ]
  },
  {
   "cell_type": "markdown",
   "metadata": {},
   "source": [
    "Определим объемы продаж по жанрам:"
   ]
  },
  {
   "cell_type": "code",
   "execution_count": 37,
   "metadata": {},
   "outputs": [
    {
     "data": {
      "text/plain": [
       "<AxesSubplot:xlabel='genre'>"
      ]
     },
     "execution_count": 37,
     "metadata": {},
     "output_type": "execute_result"
    },
    {
     "data": {
      "image/png": "[encoded data removed]",
      "text/plain": [
       "<Figure size 432x288 with 1 Axes>"
      ]
     },
     "metadata": {
      "needs_background": "light"
     },
     "output_type": "display_data"
    }
   ],
   "source": [
    "(\n",
    "    period\n",
    "    .pivot_table(index='genre', values='total_sales', aggfunc='sum')\n",
    "    .sort_values('total_sales', ascending=False)\n",
    "    .plot(kind = 'bar')\n",
    ")"
   ]
  },
  {
   "cell_type": "markdown",
   "metadata": {},
   "source": [
    "В продажах также лидирует жанр \"Action\" и отстает жанр \"Puzzle\"."
   ]
  },
  {
   "cell_type": "code",
   "execution_count": 38,
   "metadata": {
    "scrolled": false
   },
   "outputs": [
    {
     "data": {
      "text/html": [
       "<div>\n",
       "<style scoped>\n",
       "    .dataframe tbody tr th:only-of-type {\n",
       "        vertical-align: middle;\n",
       "    }\n",
       "\n",
       "    .dataframe tbody tr th {\n",
       "        vertical-align: top;\n",
       "    }\n",
       "\n",
       "    .dataframe thead th {\n",
       "        text-align: right;\n",
       "    }\n",
       "</style>\n",
       "<table border=\"1\" class=\"dataframe\">\n",
       "  <thead>\n",
       "    <tr style=\"text-align: right;\">\n",
       "      <th></th>\n",
       "      <th>count</th>\n",
       "      <th>mean</th>\n",
       "      <th>std</th>\n",
       "      <th>min</th>\n",
       "      <th>25%</th>\n",
       "      <th>50%</th>\n",
       "      <th>75%</th>\n",
       "      <th>max</th>\n",
       "    </tr>\n",
       "    <tr>\n",
       "      <th>genre</th>\n",
       "      <th></th>\n",
       "      <th></th>\n",
       "      <th></th>\n",
       "      <th></th>\n",
       "      <th></th>\n",
       "      <th></th>\n",
       "      <th></th>\n",
       "      <th></th>\n",
       "    </tr>\n",
       "  </thead>\n",
       "  <tbody>\n",
       "    <tr>\n",
       "      <th>Strategy</th>\n",
       "      <td>37.0</td>\n",
       "      <td>0.107027</td>\n",
       "      <td>0.118412</td>\n",
       "      <td>0.01</td>\n",
       "      <td>0.0300</td>\n",
       "      <td>0.060</td>\n",
       "      <td>0.1400</td>\n",
       "      <td>0.52</td>\n",
       "    </tr>\n",
       "    <tr>\n",
       "      <th>Puzzle</th>\n",
       "      <td>14.0</td>\n",
       "      <td>0.157857</td>\n",
       "      <td>0.320629</td>\n",
       "      <td>0.01</td>\n",
       "      <td>0.0200</td>\n",
       "      <td>0.045</td>\n",
       "      <td>0.1000</td>\n",
       "      <td>1.19</td>\n",
       "    </tr>\n",
       "    <tr>\n",
       "      <th>Adventure</th>\n",
       "      <td>185.0</td>\n",
       "      <td>0.094865</td>\n",
       "      <td>0.203147</td>\n",
       "      <td>0.01</td>\n",
       "      <td>0.0200</td>\n",
       "      <td>0.030</td>\n",
       "      <td>0.0800</td>\n",
       "      <td>1.66</td>\n",
       "    </tr>\n",
       "    <tr>\n",
       "      <th>Simulation</th>\n",
       "      <td>44.0</td>\n",
       "      <td>0.298409</td>\n",
       "      <td>0.646925</td>\n",
       "      <td>0.01</td>\n",
       "      <td>0.0200</td>\n",
       "      <td>0.100</td>\n",
       "      <td>0.3275</td>\n",
       "      <td>3.05</td>\n",
       "    </tr>\n",
       "    <tr>\n",
       "      <th>Platform</th>\n",
       "      <td>38.0</td>\n",
       "      <td>0.476053</td>\n",
       "      <td>0.722561</td>\n",
       "      <td>0.01</td>\n",
       "      <td>0.0625</td>\n",
       "      <td>0.140</td>\n",
       "      <td>0.4675</td>\n",
       "      <td>3.21</td>\n",
       "    </tr>\n",
       "    <tr>\n",
       "      <th>Misc</th>\n",
       "      <td>113.0</td>\n",
       "      <td>0.332301</td>\n",
       "      <td>0.736999</td>\n",
       "      <td>0.01</td>\n",
       "      <td>0.0300</td>\n",
       "      <td>0.090</td>\n",
       "      <td>0.3200</td>\n",
       "      <td>5.27</td>\n",
       "    </tr>\n",
       "    <tr>\n",
       "      <th>Racing</th>\n",
       "      <td>69.0</td>\n",
       "      <td>0.398841</td>\n",
       "      <td>0.963716</td>\n",
       "      <td>0.01</td>\n",
       "      <td>0.0300</td>\n",
       "      <td>0.090</td>\n",
       "      <td>0.2500</td>\n",
       "      <td>7.09</td>\n",
       "    </tr>\n",
       "    <tr>\n",
       "      <th>Fighting</th>\n",
       "      <td>60.0</td>\n",
       "      <td>0.470333</td>\n",
       "      <td>1.188053</td>\n",
       "      <td>0.01</td>\n",
       "      <td>0.0600</td>\n",
       "      <td>0.125</td>\n",
       "      <td>0.3200</td>\n",
       "      <td>7.55</td>\n",
       "    </tr>\n",
       "    <tr>\n",
       "      <th>Sports</th>\n",
       "      <td>161.0</td>\n",
       "      <td>0.680000</td>\n",
       "      <td>1.239736</td>\n",
       "      <td>0.01</td>\n",
       "      <td>0.0600</td>\n",
       "      <td>0.180</td>\n",
       "      <td>0.6400</td>\n",
       "      <td>8.58</td>\n",
       "    </tr>\n",
       "    <tr>\n",
       "      <th>Role-Playing</th>\n",
       "      <td>221.0</td>\n",
       "      <td>0.459005</td>\n",
       "      <td>1.177284</td>\n",
       "      <td>0.01</td>\n",
       "      <td>0.0500</td>\n",
       "      <td>0.110</td>\n",
       "      <td>0.3600</td>\n",
       "      <td>11.68</td>\n",
       "    </tr>\n",
       "    <tr>\n",
       "      <th>Action</th>\n",
       "      <td>619.0</td>\n",
       "      <td>0.322068</td>\n",
       "      <td>0.798181</td>\n",
       "      <td>0.01</td>\n",
       "      <td>0.0300</td>\n",
       "      <td>0.090</td>\n",
       "      <td>0.2800</td>\n",
       "      <td>12.62</td>\n",
       "    </tr>\n",
       "    <tr>\n",
       "      <th>Shooter</th>\n",
       "      <td>128.0</td>\n",
       "      <td>1.335469</td>\n",
       "      <td>2.050567</td>\n",
       "      <td>0.01</td>\n",
       "      <td>0.1725</td>\n",
       "      <td>0.515</td>\n",
       "      <td>1.6175</td>\n",
       "      <td>14.63</td>\n",
       "    </tr>\n",
       "  </tbody>\n",
       "</table>\n",
       "</div>"
      ],
      "text/plain": [
       "              count      mean       std   min     25%    50%     75%    max\n",
       "genre                                                                      \n",
       "Strategy       37.0  0.107027  0.118412  0.01  0.0300  0.060  0.1400   0.52\n",
       "Puzzle         14.0  0.157857  0.320629  0.01  0.0200  0.045  0.1000   1.19\n",
       "Adventure     185.0  0.094865  0.203147  0.01  0.0200  0.030  0.0800   1.66\n",
       "Simulation     44.0  0.298409  0.646925  0.01  0.0200  0.100  0.3275   3.05\n",
       "Platform       38.0  0.476053  0.722561  0.01  0.0625  0.140  0.4675   3.21\n",
       "Misc          113.0  0.332301  0.736999  0.01  0.0300  0.090  0.3200   5.27\n",
       "Racing         69.0  0.398841  0.963716  0.01  0.0300  0.090  0.2500   7.09\n",
       "Fighting       60.0  0.470333  1.188053  0.01  0.0600  0.125  0.3200   7.55\n",
       "Sports        161.0  0.680000  1.239736  0.01  0.0600  0.180  0.6400   8.58\n",
       "Role-Playing  221.0  0.459005  1.177284  0.01  0.0500  0.110  0.3600  11.68\n",
       "Action        619.0  0.322068  0.798181  0.01  0.0300  0.090  0.2800  12.62\n",
       "Shooter       128.0  1.335469  2.050567  0.01  0.1725  0.515  1.6175  14.63"
      ]
     },
     "execution_count": 38,
     "metadata": {},
     "output_type": "execute_result"
    }
   ],
   "source": [
    "period.groupby('genre')['total_sales'].describe().sort_values(by='max')"
   ]
  },
  {
   "cell_type": "markdown",
   "metadata": {},
   "source": [
    "**Вывод**  \n",
    "У наиболее прибыльных жанров наблюдаем значительную разницу между средними и медианными значениями и большое значение стандартных отклонений, что свидетельствует о неоднородности данных.\n",
    "Для жанров, приносящих меньше прибыли характерно более низкое стандартное отклонение, но разница между медианой и средним всё же довольно высокая.\n",
    "После рассмотрения медианных и средних значений можно сделать заключение: жанром-лидером со стабильными продажами с большим отрывом от конкурентов является `Shooter`."
   ]
  },
  {
   "cell_type": "markdown",
   "metadata": {},
   "source": [
    "## Портрет каждого пользователя по регионам"
   ]
  },
  {
   "cell_type": "markdown",
   "metadata": {},
   "source": [
    "### NA (North America)"
   ]
  },
  {
   "cell_type": "markdown",
   "metadata": {},
   "source": [
    "#### Самые популярные платформы (топ-5)"
   ]
  },
  {
   "cell_type": "code",
   "execution_count": 52,
   "metadata": {},
   "outputs": [
    {
     "data": {
      "text/plain": [
       "<AxesSubplot:xlabel='platform'>"
      ]
     },
     "execution_count": 52,
     "metadata": {},
     "output_type": "execute_result"
    },
    {
     "data": {
      "image/png": "[encoded data removed]",
      "text/plain": [
       "<Figure size 432x288 with 1 Axes>"
      ]
     },
     "metadata": {
      "needs_background": "light"
     },
     "output_type": "display_data"
    }
   ],
   "source": [
    "( period\n",
    "    .pivot_table(index='platform', values='na_sales', aggfunc='sum')\n",
    "    .sort_values('na_sales', ascending=False)\n",
    "    .plot(kind = 'bar')\n",
    ")"
   ]
  },
  {
   "cell_type": "markdown",
   "metadata": {},
   "source": [
    "#### Самые популярные жанры (топ-5)"
   ]
  },
  {
   "cell_type": "code",
   "execution_count": 40,
   "metadata": {},
   "outputs": [
    {
     "data": {
      "text/plain": [
       "<AxesSubplot:xlabel='genre'>"
      ]
     },
     "execution_count": 40,
     "metadata": {},
     "output_type": "execute_result"
    },
    {
     "data": {
      "image/png": "[encoded data removed]",
      "text/plain": [
       "<Figure size 432x288 with 1 Axes>"
      ]
     },
     "metadata": {
      "needs_background": "light"
     },
     "output_type": "display_data"
    }
   ],
   "source": [
    "( period\n",
    "    .pivot_table(index='genre', values='na_sales', aggfunc='sum')\n",
    "    .sort_values('na_sales', ascending=False)\n",
    "    .plot(kind = 'bar')\n",
    ")"
   ]
  },
  {
   "cell_type": "markdown",
   "metadata": {},
   "source": [
    "#### Влияние рейтинга ESRB на продажи"
   ]
  },
  {
   "cell_type": "code",
   "execution_count": 41,
   "metadata": {
    "scrolled": true
   },
   "outputs": [
    {
     "data": {
      "text/plain": [
       "<AxesSubplot:xlabel='rating'>"
      ]
     },
     "execution_count": 41,
     "metadata": {},
     "output_type": "execute_result"
    },
    {
     "data": {
      "image/png": "[encoded data removed]",
      "text/plain": [
       "<Figure size 432x288 with 1 Axes>"
      ]
     },
     "metadata": {
      "needs_background": "light"
     },
     "output_type": "display_data"
    }
   ],
   "source": [
    "( period\n",
    "    .pivot_table(index='rating', values='na_sales', aggfunc='sum')\n",
    "    .sort_values('na_sales', ascending=False)\n",
    "    .plot(kind = 'bar')\n",
    ")"
   ]
  },
  {
   "cell_type": "markdown",
   "metadata": {},
   "source": [
    "**Портрет пользователя из Северной Америки**  \n",
    "Пользователь из Северной Америки предпочиает жанры `Action` и `Shooter`; игры с рейтингом \"для всех\"; также предпочитает игровые платформы `PS4` и `XOne`."
   ]
  },
  {
   "cell_type": "code",
   "execution_count": 54,
   "metadata": {},
   "outputs": [
    {
     "data": {
      "image/png": "[encoded data removed]",
      "text/plain": [
       "<Figure size 1080x360 with 3 Axes>"
      ]
     },
     "metadata": {},
     "output_type": "display_data"
    }
   ],
   "source": [
    "regions2 = period.columns[4:7]\n",
    "fig, axs = plt.subplots(1, 3, figsize=(15, 5))\n",
    "for i in range(len(regions2)):\n",
    "  df_i = (period.groupby('platform')[regions2[i]].sum().\n",
    "             reset_index().\n",
    "             sort_values(regions2[i], ascending = False).\n",
    "             head(7))\n",
    "  axs[i].pie(df_i[regions2[i]], labels = df_i['platform'])\n",
    "  axs[i].set_title(df_i.columns[1].split('_')[0].upper())\n",
    "plt.show()"
   ]
  },
  {
   "cell_type": "markdown",
   "metadata": {},
   "source": [
    "### EU (Europe)"
   ]
  },
  {
   "cell_type": "markdown",
   "metadata": {},
   "source": [
    "#### Самые популярные платформы (топ-5)"
   ]
  },
  {
   "cell_type": "code",
   "execution_count": 42,
   "metadata": {},
   "outputs": [
    {
     "data": {
      "text/plain": [
       "<AxesSubplot:xlabel='platform'>"
      ]
     },
     "execution_count": 42,
     "metadata": {},
     "output_type": "execute_result"
    },
    {
     "data": {
      "image/png": "[encoded data removed]",
      "text/plain": [
       "<Figure size 432x288 with 1 Axes>"
      ]
     },
     "metadata": {
      "needs_background": "light"
     },
     "output_type": "display_data"
    }
   ],
   "source": [
    "( period\n",
    "    .pivot_table(index='platform', values='eu_sales', aggfunc='sum')\n",
    "    .sort_values('eu_sales', ascending=False)\n",
    "    .plot(kind = 'bar')\n",
    ")"
   ]
  },
  {
   "cell_type": "markdown",
   "metadata": {},
   "source": [
    "#### Самые популярные жанры (топ-5)"
   ]
  },
  {
   "cell_type": "code",
   "execution_count": 43,
   "metadata": {},
   "outputs": [
    {
     "data": {
      "text/plain": [
       "<AxesSubplot:xlabel='genre'>"
      ]
     },
     "execution_count": 43,
     "metadata": {},
     "output_type": "execute_result"
    },
    {
     "data": {
      "image/png": "[encoded data removed]",
      "text/plain": [
       "<Figure size 432x288 with 1 Axes>"
      ]
     },
     "metadata": {
      "needs_background": "light"
     },
     "output_type": "display_data"
    }
   ],
   "source": [
    "( period\n",
    "    .pivot_table(index='genre', values='eu_sales', aggfunc='sum')\n",
    "    .sort_values('eu_sales', ascending=False)\n",
    "    .plot(kind = 'bar')\n",
    ")"
   ]
  },
  {
   "cell_type": "markdown",
   "metadata": {},
   "source": [
    "#### Влияние рейтинга ESRB на продажи"
   ]
  },
  {
   "cell_type": "code",
   "execution_count": 44,
   "metadata": {
    "scrolled": true
   },
   "outputs": [
    {
     "data": {
      "text/plain": [
       "<AxesSubplot:xlabel='rating'>"
      ]
     },
     "execution_count": 44,
     "metadata": {},
     "output_type": "execute_result"
    },
    {
     "data": {
      "image/png": "[encoded data removed]",
      "text/plain": [
       "<Figure size 432x288 with 1 Axes>"
      ]
     },
     "metadata": {
      "needs_background": "light"
     },
     "output_type": "display_data"
    }
   ],
   "source": [
    "( period\n",
    "    .pivot_table(index='rating', values='eu_sales', aggfunc='sum')\n",
    "    .sort_values('eu_sales', ascending=False)\n",
    "    .plot(kind = 'bar')\n",
    ")"
   ]
  },
  {
   "cell_type": "markdown",
   "metadata": {},
   "source": [
    "**Портрет пользователя из Европы**  \n",
    "Пользователь из Европы предпочиает жанры `Shooter` и `Action`; игры с рейтингом \"для всех\" ; однозначно предпочитает игровые платформы `PS4`, `XOne` у него окажется с такой же вероятностью что и `игровой ноутбук` или `3DS`."
   ]
  },
  {
   "cell_type": "markdown",
   "metadata": {},
   "source": [
    "### JP (Japan)"
   ]
  },
  {
   "cell_type": "markdown",
   "metadata": {},
   "source": [
    "#### Самые популярные платформы (топ-5)"
   ]
  },
  {
   "cell_type": "code",
   "execution_count": 45,
   "metadata": {},
   "outputs": [
    {
     "data": {
      "text/plain": [
       "<AxesSubplot:xlabel='platform'>"
      ]
     },
     "execution_count": 45,
     "metadata": {},
     "output_type": "execute_result"
    },
    {
     "data": {
      "image/png": "[encoded data removed]",
      "text/plain": [
       "<Figure size 432x288 with 1 Axes>"
      ]
     },
     "metadata": {
      "needs_background": "light"
     },
     "output_type": "display_data"
    }
   ],
   "source": [
    "( period\n",
    "    .pivot_table(index='platform', values='jp_sales', aggfunc='sum')\n",
    "    .sort_values('jp_sales', ascending=False)\n",
    "    .plot(kind = 'bar')\n",
    ")"
   ]
  },
  {
   "cell_type": "markdown",
   "metadata": {},
   "source": [
    "#### Самые популярные жанры (топ-5)"
   ]
  },
  {
   "cell_type": "code",
   "execution_count": 46,
   "metadata": {},
   "outputs": [
    {
     "data": {
      "text/plain": [
       "<AxesSubplot:xlabel='genre'>"
      ]
     },
     "execution_count": 46,
     "metadata": {},
     "output_type": "execute_result"
    },
    {
     "data": {
      "image/png": "[encoded data removed]",
      "text/plain": [
       "<Figure size 432x288 with 1 Axes>"
      ]
     },
     "metadata": {
      "needs_background": "light"
     },
     "output_type": "display_data"
    }
   ],
   "source": [
    "( period\n",
    "    .pivot_table(index='genre', values='jp_sales', aggfunc='sum')\n",
    "    .sort_values('jp_sales', ascending=False)\n",
    "    .plot(kind = 'bar')\n",
    ")"
   ]
  },
  {
   "cell_type": "markdown",
   "metadata": {},
   "source": [
    "#### Влияние рейтинга ESRB на продажи"
   ]
  },
  {
   "cell_type": "code",
   "execution_count": 47,
   "metadata": {},
   "outputs": [
    {
     "data": {
      "text/plain": [
       "<AxesSubplot:xlabel='rating'>"
      ]
     },
     "execution_count": 47,
     "metadata": {},
     "output_type": "execute_result"
    },
    {
     "data": {
      "image/png": "[encoded data removed]",
      "text/plain": [
       "<Figure size 432x288 with 1 Axes>"
      ]
     },
     "metadata": {
      "needs_background": "light"
     },
     "output_type": "display_data"
    }
   ],
   "source": [
    "( period\n",
    "    .pivot_table(index='rating', values ='jp_sales', aggfunc='sum')\n",
    "    .sort_values('jp_sales', ascending=False)\n",
    "    .plot(kind = 'bar')\n",
    ")"
   ]
  },
  {
   "cell_type": "markdown",
   "metadata": {},
   "source": [
    "**Портрет пользователя из Японии**  \n",
    "Пользователи из Японии не пользуются `XOne`, и не особо пользуются`PS4`. Они большое предпочтение отдают `3DS`. При выборе жанра Японцы тоже оказались уникальны и выбирают `Role-Playing`.  Значения рейтинга американской ESRB нет у более чем половины игр покупаемых в Японии. "
   ]
  },
  {
   "cell_type": "markdown",
   "metadata": {},
   "source": [
    "## Проверка гипотез"
   ]
  },
  {
   "cell_type": "markdown",
   "metadata": {},
   "source": [
    "### Средние пользовательские рейтинги платформ Xbox One и PC одинаковые"
   ]
  },
  {
   "cell_type": "markdown",
   "metadata": {},
   "source": [
    "Нулевая гипотеза: средние пользовательские рейтинги платформы Xbox One равны средним пользовательским рейтингам платформы PC.  \n",
    "Альтернативная гипотеза: средние пользовательские рейтинги платформ Xbox One и PC различаются.\n",
    "```\n",
    "H_0: user_score пользователей \"Xbox One\" = user_score пользователей \"PC\"\n",
    "H_a: user_score пользователей \"Xbox One\" ≠ user_score пользователей \"PC\"\n",
    "alpha = 0.01\n",
    "```"
   ]
  },
  {
   "cell_type": "code",
   "execution_count": 48,
   "metadata": {},
   "outputs": [],
   "source": [
    "from scipy import stats as st"
   ]
  },
  {
   "cell_type": "code",
   "execution_count": 49,
   "metadata": {},
   "outputs": [
    {
     "name": "stdout",
     "output_type": "stream",
     "text": [
      "p-значение: 0.10450507919348415\n",
      "Не получилось отвергнуть нулевую гипотезу\n"
     ]
    }
   ],
   "source": [
    "alpha = 0.01\n",
    "#уберем пропущенные значения в user_score\n",
    "results = st.ttest_ind(\n",
    "    period[period['platform'] == 'PC']['user_score'].dropna(), \n",
    "    period[period['platform'] == 'XOne']['user_score'].dropna()\n",
    ")\n",
    "\n",
    "print('p-значение:', results.pvalue)\n",
    "\n",
    "if results.pvalue < alpha:\n",
    "    print(\"Отвергаем нулевую гипотезу\")\n",
    "else:\n",
    "    print(\"Не получилось отвергнуть нулевую гипотезу\")"
   ]
  },
  {
   "cell_type": "markdown",
   "metadata": {},
   "source": [
    "### Средние пользовательские рейтинги жанров Action (англ. «действие», экшен-игры) и Sports (англ. «спортивные соревнования») разные"
   ]
  },
  {
   "cell_type": "markdown",
   "metadata": {},
   "source": [
    "Нулевая гипотеза: средние пользовательские рейтинги жанров Action и Sports разные.\n",
    "Альтернативная гипотеза: средние пользовательские рейтинги жанров Action и Sports равные.\n",
    "```\n",
    "H_0: user_score пользователей \"Action\" = user_score пользователей \"Sports\"\n",
    "H_a: user_score пользователей \"Action\" ≠ user_score пользователей \"Sports\"\n",
    "alpha = 0.01\n",
    "```"
   ]
  },
  {
   "cell_type": "code",
   "execution_count": 50,
   "metadata": {},
   "outputs": [
    {
     "name": "stdout",
     "output_type": "stream",
     "text": [
      "p-значение: 2.8711147985105864e-19\n",
      "Отвергаем нулевую гипотезу\n"
     ]
    }
   ],
   "source": [
    "alpha = 0.01\n",
    "\n",
    "results = st.ttest_ind(\n",
    "    period[period['genre'] == 'Action']['user_score'].dropna(), \n",
    "    period[period['genre'] == 'Sports']['user_score'].dropna()\n",
    ")\n",
    "\n",
    "print('p-значение:', results.pvalue)\n",
    "\n",
    "if results.pvalue < alpha:\n",
    "    print(\"Отвергаем нулевую гипотезу\")\n",
    "else:\n",
    "    print(\"Не получилось отвергнуть нулевую гипотезу\")"
   ]
  },
  {
   "cell_type": "markdown",
   "metadata": {},
   "source": [
    "## Общий вывод"
   ]
  },
  {
   "cell_type": "markdown",
   "metadata": {},
   "source": [
    "- При первичном обзоре данных в четырех столбцах обнаружено большое количество пропусков - Year_of_Release, Critic_Score, User_Score, Rating - пропуски в столбцах Year_of_Release, Critic_Score скорее всего связаны с тем, что пользователь случайно пропустил значения или посчитал это не столь важным, а в Rating пропуски скорее всего связаны с тем, что играм не был присвоен рейтинг вообще.\n",
    "- За актуальный период для проведения анализа были выбраны 2014-2016 года, так как я посчитала, что для прогноза на 2017 нужны ближайшие года, и потерявшие популярность платформы и игры вряд ли взлетят в продажах.\n",
    "- Однозначными лидерамим по показателям за актуальный период является плафторма PS4, XOne.\n",
    "- Составление портрета пользователей показало: пользователи из Северной Америки и Европы предпочиают жанры Action и Shooter; игры с рейтингом \"для всех\" или \"17+\", также предпочитают игровые платформы PS4 и XOne, а пользователи из Японии не пользуются XOne, и не особо пользуются PS4, они большое предпочтение отдают 3DS. При выборе жанра Японцы тоже оказались уникальны и выбирают Role-Playing. Значения рейтинга американской ESRB нет у более чем половины игр покупаемых в Японии.\n",
    "- На 2017 год я считаю, одними из самых перспективных платформ также будут являтся PS4, XOne и 3DS, также можно учесть что игры для PC - небольшая по объему но стабильная ниша. Самыми популярными жанрами будут являтся стабильно Action, Shooter и Role playing."
   ]
  }
 ],
 "metadata": {
  "ExecuteTimeLog": [
   {
    "duration": 1440,
    "start_time": "2023-03-13T08:12:56.514Z"
   },
   {
    "duration": 196,
    "start_time": "2023-03-13T08:13:40.795Z"
   },
   {
    "duration": 10,
    "start_time": "2023-03-13T08:13:57.970Z"
   },
   {
    "duration": 53,
    "start_time": "2023-03-13T08:14:05.543Z"
   },
   {
    "duration": 17,
    "start_time": "2023-03-13T08:14:06.948Z"
   },
   {
    "duration": 14,
    "start_time": "2023-03-13T08:14:14.685Z"
   },
   {
    "duration": 57,
    "start_time": "2023-03-13T08:20:40.536Z"
   },
   {
    "duration": 17,
    "start_time": "2023-03-13T08:20:42.217Z"
   },
   {
    "duration": 16,
    "start_time": "2023-03-13T08:20:45.820Z"
   },
   {
    "duration": 826,
    "start_time": "2023-03-13T08:21:18.786Z"
   },
   {
    "duration": 659,
    "start_time": "2023-03-13T08:21:32.700Z"
   },
   {
    "duration": 843,
    "start_time": "2023-03-13T08:21:39.051Z"
   },
   {
    "duration": 524,
    "start_time": "2023-03-13T08:21:44.022Z"
   },
   {
    "duration": 720,
    "start_time": "2023-03-13T08:21:49.832Z"
   },
   {
    "duration": 741,
    "start_time": "2023-03-13T08:22:45.541Z"
   },
   {
    "duration": 712,
    "start_time": "2023-03-13T08:22:52.691Z"
   },
   {
    "duration": 4,
    "start_time": "2023-03-13T09:54:14.767Z"
   },
   {
    "duration": 5,
    "start_time": "2023-03-13T09:58:51.898Z"
   },
   {
    "duration": 4,
    "start_time": "2023-03-13T09:59:04.534Z"
   },
   {
    "duration": 854,
    "start_time": "2023-03-13T10:03:06.800Z"
   },
   {
    "duration": 15,
    "start_time": "2023-03-13T10:03:24.769Z"
   },
   {
    "duration": 13,
    "start_time": "2023-03-13T10:03:53.612Z"
   },
   {
    "duration": 13,
    "start_time": "2023-03-13T10:03:58.027Z"
   },
   {
    "duration": 16,
    "start_time": "2023-03-13T10:07:44.029Z"
   },
   {
    "duration": 16,
    "start_time": "2023-03-13T10:07:53.713Z"
   },
   {
    "duration": 15,
    "start_time": "2023-03-13T10:21:41.897Z"
   },
   {
    "duration": 11,
    "start_time": "2023-03-13T11:18:23.363Z"
   },
   {
    "duration": 3,
    "start_time": "2023-03-13T11:18:34.251Z"
   },
   {
    "duration": 54,
    "start_time": "2023-03-13T11:18:34.257Z"
   },
   {
    "duration": 17,
    "start_time": "2023-03-13T11:18:34.314Z"
   },
   {
    "duration": 18,
    "start_time": "2023-03-13T11:18:34.334Z"
   },
   {
    "duration": 735,
    "start_time": "2023-03-13T11:18:34.354Z"
   },
   {
    "duration": 4,
    "start_time": "2023-03-13T11:18:35.091Z"
   },
   {
    "duration": 10,
    "start_time": "2023-03-13T11:18:35.097Z"
   },
   {
    "duration": 4,
    "start_time": "2023-03-13T11:18:35.108Z"
   },
   {
    "duration": 29,
    "start_time": "2023-03-13T11:18:35.114Z"
   },
   {
    "duration": 11,
    "start_time": "2023-03-13T11:18:35.145Z"
   },
   {
    "duration": 20,
    "start_time": "2023-03-13T11:19:03.834Z"
   },
   {
    "duration": 10,
    "start_time": "2023-03-13T11:19:22.195Z"
   },
   {
    "duration": 4,
    "start_time": "2023-03-13T11:20:09.185Z"
   },
   {
    "duration": 5,
    "start_time": "2023-03-13T11:22:27.225Z"
   },
   {
    "duration": 45,
    "start_time": "2023-03-13T11:23:18.578Z"
   },
   {
    "duration": 14,
    "start_time": "2023-03-13T11:24:20.071Z"
   },
   {
    "duration": 10,
    "start_time": "2023-03-13T11:27:28.704Z"
   },
   {
    "duration": 14,
    "start_time": "2023-03-13T11:28:01.735Z"
   },
   {
    "duration": 4,
    "start_time": "2023-03-13T11:28:19.506Z"
   },
   {
    "duration": 9,
    "start_time": "2023-03-13T11:32:46.676Z"
   },
   {
    "duration": 6,
    "start_time": "2023-03-13T11:32:50.465Z"
   },
   {
    "duration": 179,
    "start_time": "2023-03-13T11:33:05.890Z"
   },
   {
    "duration": 183,
    "start_time": "2023-03-13T11:33:26.065Z"
   },
   {
    "duration": 5,
    "start_time": "2023-03-13T11:33:48.069Z"
   },
   {
    "duration": 191,
    "start_time": "2023-03-13T11:34:05.594Z"
   },
   {
    "duration": 4,
    "start_time": "2023-03-13T11:34:13.347Z"
   },
   {
    "duration": 198,
    "start_time": "2023-03-13T11:34:15.671Z"
   },
   {
    "duration": 194,
    "start_time": "2023-03-13T11:34:52.870Z"
   },
   {
    "duration": 6,
    "start_time": "2023-03-13T11:35:03.960Z"
   },
   {
    "duration": 6,
    "start_time": "2023-03-13T11:35:15.204Z"
   },
   {
    "duration": 6,
    "start_time": "2023-03-13T11:35:16.668Z"
   },
   {
    "duration": 10,
    "start_time": "2023-03-13T11:36:42.006Z"
   },
   {
    "duration": 284,
    "start_time": "2023-03-13T11:37:11.108Z"
   },
   {
    "duration": 3,
    "start_time": "2023-03-13T11:37:23.454Z"
   },
   {
    "duration": 57,
    "start_time": "2023-03-13T11:37:23.459Z"
   },
   {
    "duration": 17,
    "start_time": "2023-03-13T11:37:23.518Z"
   },
   {
    "duration": 15,
    "start_time": "2023-03-13T11:37:23.537Z"
   },
   {
    "duration": 719,
    "start_time": "2023-03-13T11:37:23.554Z"
   },
   {
    "duration": 5,
    "start_time": "2023-03-13T11:37:24.275Z"
   },
   {
    "duration": 11,
    "start_time": "2023-03-13T11:37:24.282Z"
   },
   {
    "duration": 10,
    "start_time": "2023-03-13T11:37:24.295Z"
   },
   {
    "duration": 24,
    "start_time": "2023-03-13T11:37:24.307Z"
   },
   {
    "duration": 19,
    "start_time": "2023-03-13T11:37:24.333Z"
   },
   {
    "duration": 14,
    "start_time": "2023-03-13T11:37:24.355Z"
   },
   {
    "duration": 19,
    "start_time": "2023-03-13T11:37:24.370Z"
   },
   {
    "duration": 10,
    "start_time": "2023-03-13T11:37:24.391Z"
   },
   {
    "duration": 5,
    "start_time": "2023-03-13T11:37:24.402Z"
   },
   {
    "duration": 4,
    "start_time": "2023-03-13T11:37:24.408Z"
   },
   {
    "duration": 14,
    "start_time": "2023-03-13T11:37:50.677Z"
   },
   {
    "duration": 9,
    "start_time": "2023-03-13T11:39:25.896Z"
   },
   {
    "duration": 13,
    "start_time": "2023-03-13T11:43:20.699Z"
   },
   {
    "duration": 8,
    "start_time": "2023-03-13T11:43:24.530Z"
   },
   {
    "duration": 10,
    "start_time": "2023-03-13T11:43:30.495Z"
   },
   {
    "duration": 10,
    "start_time": "2023-03-13T11:43:44.596Z"
   },
   {
    "duration": 9,
    "start_time": "2023-03-13T11:43:46.597Z"
   },
   {
    "duration": 6,
    "start_time": "2023-03-13T11:44:53.554Z"
   },
   {
    "duration": 6,
    "start_time": "2023-03-13T11:45:08.022Z"
   },
   {
    "duration": 7,
    "start_time": "2023-03-13T11:45:48.414Z"
   },
   {
    "duration": 8,
    "start_time": "2023-03-13T11:46:05.493Z"
   },
   {
    "duration": 12,
    "start_time": "2023-03-13T11:48:20.760Z"
   },
   {
    "duration": 10,
    "start_time": "2023-03-13T11:48:32.652Z"
   },
   {
    "duration": 5,
    "start_time": "2023-03-13T11:53:37.445Z"
   },
   {
    "duration": 7,
    "start_time": "2023-03-13T11:53:39.085Z"
   },
   {
    "duration": 13,
    "start_time": "2023-03-13T11:53:56.041Z"
   },
   {
    "duration": 14,
    "start_time": "2023-03-13T11:55:11.268Z"
   },
   {
    "duration": 5,
    "start_time": "2023-03-13T11:56:48.930Z"
   },
   {
    "duration": 17,
    "start_time": "2023-03-13T11:57:27.585Z"
   },
   {
    "duration": 13,
    "start_time": "2023-03-13T12:00:59.961Z"
   },
   {
    "duration": 7,
    "start_time": "2023-03-13T12:01:22.020Z"
   },
   {
    "duration": 9,
    "start_time": "2023-03-13T12:01:50.735Z"
   },
   {
    "duration": 14,
    "start_time": "2023-03-13T12:10:52.580Z"
   },
   {
    "duration": 36,
    "start_time": "2023-03-13T12:11:05.493Z"
   },
   {
    "duration": 4,
    "start_time": "2023-03-13T12:11:52.554Z"
   },
   {
    "duration": 4,
    "start_time": "2023-03-13T12:11:54.405Z"
   },
   {
    "duration": 3,
    "start_time": "2023-03-13T12:11:57.215Z"
   },
   {
    "duration": 66,
    "start_time": "2023-03-13T12:11:57.221Z"
   },
   {
    "duration": 17,
    "start_time": "2023-03-13T12:11:57.289Z"
   },
   {
    "duration": 22,
    "start_time": "2023-03-13T12:11:57.308Z"
   },
   {
    "duration": 854,
    "start_time": "2023-03-13T12:11:57.342Z"
   },
   {
    "duration": 5,
    "start_time": "2023-03-13T12:11:58.198Z"
   },
   {
    "duration": 7,
    "start_time": "2023-03-13T12:11:58.205Z"
   },
   {
    "duration": 9,
    "start_time": "2023-03-13T12:11:58.214Z"
   },
   {
    "duration": 10,
    "start_time": "2023-03-13T12:11:58.243Z"
   },
   {
    "duration": 8,
    "start_time": "2023-03-13T12:11:58.254Z"
   },
   {
    "duration": 13,
    "start_time": "2023-03-13T12:11:58.264Z"
   },
   {
    "duration": 17,
    "start_time": "2023-03-13T12:11:58.280Z"
   },
   {
    "duration": 6,
    "start_time": "2023-03-13T12:11:58.299Z"
   },
   {
    "duration": 10,
    "start_time": "2023-03-13T12:11:58.306Z"
   },
   {
    "duration": 36,
    "start_time": "2023-03-13T12:11:58.317Z"
   },
   {
    "duration": 0,
    "start_time": "2023-03-13T12:11:58.355Z"
   },
   {
    "duration": 0,
    "start_time": "2023-03-13T12:11:58.357Z"
   },
   {
    "duration": 0,
    "start_time": "2023-03-13T12:11:58.360Z"
   },
   {
    "duration": 0,
    "start_time": "2023-03-13T12:11:58.362Z"
   },
   {
    "duration": 0,
    "start_time": "2023-03-13T12:11:58.364Z"
   },
   {
    "duration": 0,
    "start_time": "2023-03-13T12:11:58.365Z"
   },
   {
    "duration": 0,
    "start_time": "2023-03-13T12:11:58.368Z"
   },
   {
    "duration": 0,
    "start_time": "2023-03-13T12:11:58.370Z"
   },
   {
    "duration": 0,
    "start_time": "2023-03-13T12:11:58.371Z"
   },
   {
    "duration": 0,
    "start_time": "2023-03-13T12:11:58.373Z"
   },
   {
    "duration": 0,
    "start_time": "2023-03-13T12:11:58.375Z"
   },
   {
    "duration": 4,
    "start_time": "2023-03-13T12:12:22.767Z"
   },
   {
    "duration": 15,
    "start_time": "2023-03-13T12:12:26.398Z"
   },
   {
    "duration": 4,
    "start_time": "2023-03-13T12:13:48.813Z"
   },
   {
    "duration": 177,
    "start_time": "2023-03-13T12:13:50.936Z"
   },
   {
    "duration": 7,
    "start_time": "2023-03-13T12:14:22.514Z"
   },
   {
    "duration": 4,
    "start_time": "2023-03-13T12:14:27.303Z"
   },
   {
    "duration": 3,
    "start_time": "2023-03-13T12:14:30.787Z"
   },
   {
    "duration": 475,
    "start_time": "2023-03-13T12:14:30.793Z"
   },
   {
    "duration": 19,
    "start_time": "2023-03-13T12:14:31.271Z"
   },
   {
    "duration": 33,
    "start_time": "2023-03-13T12:14:31.292Z"
   },
   {
    "duration": 975,
    "start_time": "2023-03-13T12:14:31.340Z"
   },
   {
    "duration": 6,
    "start_time": "2023-03-13T12:14:32.317Z"
   },
   {
    "duration": 19,
    "start_time": "2023-03-13T12:14:32.325Z"
   },
   {
    "duration": 31,
    "start_time": "2023-03-13T12:14:32.347Z"
   },
   {
    "duration": 15,
    "start_time": "2023-03-13T12:14:32.381Z"
   },
   {
    "duration": 16,
    "start_time": "2023-03-13T12:14:32.398Z"
   },
   {
    "duration": 29,
    "start_time": "2023-03-13T12:14:32.417Z"
   },
   {
    "duration": 12,
    "start_time": "2023-03-13T12:14:32.448Z"
   },
   {
    "duration": 23,
    "start_time": "2023-03-13T12:14:32.462Z"
   },
   {
    "duration": 15,
    "start_time": "2023-03-13T12:14:32.487Z"
   },
   {
    "duration": 18,
    "start_time": "2023-03-13T12:14:32.504Z"
   },
   {
    "duration": 28,
    "start_time": "2023-03-13T12:14:32.524Z"
   },
   {
    "duration": 11,
    "start_time": "2023-03-13T12:14:32.555Z"
   },
   {
    "duration": 18,
    "start_time": "2023-03-13T12:14:32.568Z"
   },
   {
    "duration": 20,
    "start_time": "2023-03-13T12:14:32.588Z"
   },
   {
    "duration": 21,
    "start_time": "2023-03-13T12:14:32.610Z"
   },
   {
    "duration": 6,
    "start_time": "2023-03-13T12:14:32.642Z"
   },
   {
    "duration": 12,
    "start_time": "2023-03-13T12:14:32.651Z"
   },
   {
    "duration": 28,
    "start_time": "2023-03-13T12:14:32.665Z"
   },
   {
    "duration": 32,
    "start_time": "2023-03-13T12:14:32.696Z"
   },
   {
    "duration": 39,
    "start_time": "2023-03-13T12:14:32.731Z"
   },
   {
    "duration": 37,
    "start_time": "2023-03-13T12:14:32.772Z"
   },
   {
    "duration": 5,
    "start_time": "2023-03-13T12:15:07.964Z"
   },
   {
    "duration": 8,
    "start_time": "2023-03-13T12:15:09.726Z"
   },
   {
    "duration": 11,
    "start_time": "2023-03-13T12:15:12.458Z"
   },
   {
    "duration": 6,
    "start_time": "2023-03-13T12:15:52.183Z"
   },
   {
    "duration": 5,
    "start_time": "2023-03-13T12:21:54.944Z"
   },
   {
    "duration": 9,
    "start_time": "2023-03-13T12:21:56.647Z"
   },
   {
    "duration": 3,
    "start_time": "2023-03-13T12:22:10.726Z"
   },
   {
    "duration": 15,
    "start_time": "2023-03-13T12:22:12.384Z"
   },
   {
    "duration": 28,
    "start_time": "2023-03-13T12:22:15.792Z"
   },
   {
    "duration": 14,
    "start_time": "2023-03-13T12:29:11.436Z"
   },
   {
    "duration": 13,
    "start_time": "2023-03-13T12:29:50.810Z"
   },
   {
    "duration": 15,
    "start_time": "2023-03-13T12:29:57.192Z"
   },
   {
    "duration": 10,
    "start_time": "2023-03-13T12:33:38.956Z"
   },
   {
    "duration": 19,
    "start_time": "2023-03-13T12:33:44.586Z"
   },
   {
    "duration": 52,
    "start_time": "2023-03-13T12:36:36.479Z"
   },
   {
    "duration": 23,
    "start_time": "2023-03-13T12:36:42.730Z"
   },
   {
    "duration": 28,
    "start_time": "2023-03-13T12:38:16.499Z"
   },
   {
    "duration": 20,
    "start_time": "2023-03-13T12:38:42.774Z"
   },
   {
    "duration": 21,
    "start_time": "2023-03-13T12:40:34.445Z"
   },
   {
    "duration": 27,
    "start_time": "2023-03-13T12:41:27.841Z"
   },
   {
    "duration": 20,
    "start_time": "2023-03-13T12:43:41.476Z"
   },
   {
    "duration": 8,
    "start_time": "2023-03-13T12:47:04.508Z"
   },
   {
    "duration": 18,
    "start_time": "2023-03-13T12:47:43.646Z"
   },
   {
    "duration": 261,
    "start_time": "2023-03-13T12:48:07.624Z"
   },
   {
    "duration": 14,
    "start_time": "2023-03-13T12:48:56.107Z"
   },
   {
    "duration": 318,
    "start_time": "2023-03-13T12:50:07.964Z"
   },
   {
    "duration": 340,
    "start_time": "2023-03-13T12:50:23.359Z"
   },
   {
    "duration": 22,
    "start_time": "2023-03-13T12:51:12.030Z"
   },
   {
    "duration": 311,
    "start_time": "2023-03-13T12:51:30.057Z"
   },
   {
    "duration": 18,
    "start_time": "2023-03-13T12:57:29.939Z"
   },
   {
    "duration": 215,
    "start_time": "2023-03-13T12:58:16.533Z"
   },
   {
    "duration": 177,
    "start_time": "2023-03-13T12:58:24.118Z"
   },
   {
    "duration": 166,
    "start_time": "2023-03-13T12:58:33.446Z"
   },
   {
    "duration": 230,
    "start_time": "2023-03-13T12:58:45.101Z"
   },
   {
    "duration": 275,
    "start_time": "2023-03-13T12:58:50.346Z"
   },
   {
    "duration": 47,
    "start_time": "2023-03-13T13:02:16.659Z"
   },
   {
    "duration": 46,
    "start_time": "2023-03-13T13:02:26.524Z"
   },
   {
    "duration": 43,
    "start_time": "2023-03-13T13:02:31.497Z"
   },
   {
    "duration": 50,
    "start_time": "2023-03-13T13:02:44.680Z"
   },
   {
    "duration": 46,
    "start_time": "2023-03-13T13:02:48.161Z"
   },
   {
    "duration": 424,
    "start_time": "2023-03-13T13:03:13.978Z"
   },
   {
    "duration": 314,
    "start_time": "2023-03-13T13:04:44.947Z"
   },
   {
    "duration": 481,
    "start_time": "2023-03-13T13:04:59.409Z"
   },
   {
    "duration": 11,
    "start_time": "2023-03-13T13:08:13.803Z"
   },
   {
    "duration": 14,
    "start_time": "2023-03-13T13:09:58.682Z"
   },
   {
    "duration": 1420,
    "start_time": "2023-03-13T13:14:56.083Z"
   },
   {
    "duration": 26,
    "start_time": "2023-03-13T13:27:48.057Z"
   },
   {
    "duration": 22,
    "start_time": "2023-03-13T13:27:54.166Z"
   },
   {
    "duration": 20,
    "start_time": "2023-03-13T13:28:49.421Z"
   },
   {
    "duration": 1436,
    "start_time": "2023-03-13T13:30:28.806Z"
   },
   {
    "duration": 33,
    "start_time": "2023-03-13T13:33:41.239Z"
   },
   {
    "duration": 1520,
    "start_time": "2023-03-13T13:35:26.039Z"
   },
   {
    "duration": 1588,
    "start_time": "2023-03-13T13:35:47.656Z"
   },
   {
    "duration": 1426,
    "start_time": "2023-03-13T13:36:03.452Z"
   },
   {
    "duration": 1363,
    "start_time": "2023-03-14T06:55:52.757Z"
   },
   {
    "duration": 199,
    "start_time": "2023-03-14T06:55:54.123Z"
   },
   {
    "duration": 22,
    "start_time": "2023-03-14T06:55:54.323Z"
   },
   {
    "duration": 17,
    "start_time": "2023-03-14T06:55:54.346Z"
   },
   {
    "duration": 849,
    "start_time": "2023-03-14T06:55:54.365Z"
   },
   {
    "duration": 5,
    "start_time": "2023-03-14T06:55:55.216Z"
   },
   {
    "duration": 6,
    "start_time": "2023-03-14T06:55:55.223Z"
   },
   {
    "duration": 29,
    "start_time": "2023-03-14T06:55:55.231Z"
   },
   {
    "duration": 12,
    "start_time": "2023-03-14T06:55:55.262Z"
   },
   {
    "duration": 9,
    "start_time": "2023-03-14T06:55:55.276Z"
   },
   {
    "duration": 9,
    "start_time": "2023-03-14T06:55:55.287Z"
   },
   {
    "duration": 5,
    "start_time": "2023-03-14T06:55:55.298Z"
   },
   {
    "duration": 6,
    "start_time": "2023-03-14T06:55:55.304Z"
   },
   {
    "duration": 6,
    "start_time": "2023-03-14T06:55:55.353Z"
   },
   {
    "duration": 6,
    "start_time": "2023-03-14T06:55:55.361Z"
   },
   {
    "duration": 20,
    "start_time": "2023-03-14T06:55:55.369Z"
   },
   {
    "duration": 10,
    "start_time": "2023-03-14T06:55:55.391Z"
   },
   {
    "duration": 9,
    "start_time": "2023-03-14T06:55:55.403Z"
   },
   {
    "duration": 49,
    "start_time": "2023-03-14T06:55:55.414Z"
   },
   {
    "duration": 9,
    "start_time": "2023-03-14T06:55:55.466Z"
   },
   {
    "duration": 6,
    "start_time": "2023-03-14T06:55:55.476Z"
   },
   {
    "duration": 14,
    "start_time": "2023-03-14T06:55:55.485Z"
   },
   {
    "duration": 8,
    "start_time": "2023-03-14T06:55:55.501Z"
   },
   {
    "duration": 53,
    "start_time": "2023-03-14T06:55:55.512Z"
   },
   {
    "duration": 124,
    "start_time": "2023-03-14T06:55:55.567Z"
   },
   {
    "duration": 0,
    "start_time": "2023-03-14T06:55:55.693Z"
   },
   {
    "duration": 0,
    "start_time": "2023-03-14T06:55:55.695Z"
   },
   {
    "duration": 0,
    "start_time": "2023-03-14T06:55:55.696Z"
   },
   {
    "duration": 0,
    "start_time": "2023-03-14T06:55:55.698Z"
   },
   {
    "duration": 0,
    "start_time": "2023-03-14T06:55:55.700Z"
   },
   {
    "duration": 0,
    "start_time": "2023-03-14T06:55:55.701Z"
   },
   {
    "duration": 0,
    "start_time": "2023-03-14T06:55:55.703Z"
   },
   {
    "duration": 9,
    "start_time": "2023-03-14T06:57:23.832Z"
   },
   {
    "duration": 14,
    "start_time": "2023-03-14T06:57:27.905Z"
   },
   {
    "duration": 18,
    "start_time": "2023-03-14T06:57:34.353Z"
   },
   {
    "duration": 28,
    "start_time": "2023-03-14T06:57:36.696Z"
   },
   {
    "duration": 17,
    "start_time": "2023-03-14T06:57:39.536Z"
   },
   {
    "duration": 316,
    "start_time": "2023-03-14T06:57:42.423Z"
   },
   {
    "duration": 353,
    "start_time": "2023-03-14T06:57:46.402Z"
   },
   {
    "duration": 1530,
    "start_time": "2023-03-14T06:57:49.413Z"
   },
   {
    "duration": 364,
    "start_time": "2023-03-14T06:59:10.503Z"
   },
   {
    "duration": 1550,
    "start_time": "2023-03-14T07:00:24.220Z"
   },
   {
    "duration": 5,
    "start_time": "2023-03-14T07:11:13.419Z"
   },
   {
    "duration": 32,
    "start_time": "2023-03-14T07:11:18.751Z"
   },
   {
    "duration": 31,
    "start_time": "2023-03-14T07:13:36.639Z"
   },
   {
    "duration": 20,
    "start_time": "2023-03-14T07:13:43.623Z"
   },
   {
    "duration": 449,
    "start_time": "2023-03-14T07:16:33.078Z"
   },
   {
    "duration": 47,
    "start_time": "2023-03-14T07:17:22.670Z"
   },
   {
    "duration": 378,
    "start_time": "2023-03-14T07:19:09.076Z"
   },
   {
    "duration": 138,
    "start_time": "2023-03-14T07:20:02.204Z"
   },
   {
    "duration": 406,
    "start_time": "2023-03-14T07:20:15.400Z"
   },
   {
    "duration": 232,
    "start_time": "2023-03-14T07:21:05.466Z"
   },
   {
    "duration": 576,
    "start_time": "2023-03-14T07:21:39.912Z"
   },
   {
    "duration": 610,
    "start_time": "2023-03-14T07:22:03.698Z"
   },
   {
    "duration": 439,
    "start_time": "2023-03-14T07:22:14.446Z"
   },
   {
    "duration": 496,
    "start_time": "2023-03-14T07:22:22.216Z"
   },
   {
    "duration": 1637,
    "start_time": "2023-03-14T07:22:33.898Z"
   },
   {
    "duration": 1571,
    "start_time": "2023-03-14T07:24:49.300Z"
   },
   {
    "duration": 1803,
    "start_time": "2023-03-14T07:28:37.752Z"
   },
   {
    "duration": 362,
    "start_time": "2023-03-14T07:32:11.267Z"
   },
   {
    "duration": 339,
    "start_time": "2023-03-14T07:32:34.572Z"
   },
   {
    "duration": 29,
    "start_time": "2023-03-14T07:34:56.951Z"
   },
   {
    "duration": 10,
    "start_time": "2023-03-14T07:36:46.578Z"
   },
   {
    "duration": 13,
    "start_time": "2023-03-14T07:37:24.152Z"
   },
   {
    "duration": 138,
    "start_time": "2023-03-14T07:37:35.721Z"
   },
   {
    "duration": 308,
    "start_time": "2023-03-14T07:37:57.759Z"
   },
   {
    "duration": 436,
    "start_time": "2023-03-14T07:50:25.150Z"
   },
   {
    "duration": 431,
    "start_time": "2023-03-14T07:52:15.739Z"
   },
   {
    "duration": 651,
    "start_time": "2023-03-14T07:52:45.233Z"
   },
   {
    "duration": 148,
    "start_time": "2023-03-14T07:54:46.179Z"
   },
   {
    "duration": 258,
    "start_time": "2023-03-14T07:55:27.217Z"
   },
   {
    "duration": 159,
    "start_time": "2023-03-14T07:55:35.504Z"
   },
   {
    "duration": 188,
    "start_time": "2023-03-14T07:55:57.003Z"
   },
   {
    "duration": 640,
    "start_time": "2023-03-14T07:56:29.922Z"
   },
   {
    "duration": 648,
    "start_time": "2023-03-14T07:57:00.622Z"
   },
   {
    "duration": 14,
    "start_time": "2023-03-14T08:11:26.830Z"
   },
   {
    "duration": 745,
    "start_time": "2023-03-14T08:12:49.076Z"
   },
   {
    "duration": 6,
    "start_time": "2023-03-14T08:12:55.953Z"
   },
   {
    "duration": 799,
    "start_time": "2023-03-14T08:16:22.971Z"
   },
   {
    "duration": 1602,
    "start_time": "2023-03-14T08:16:38.713Z"
   },
   {
    "duration": 13,
    "start_time": "2023-03-14T08:27:44.403Z"
   },
   {
    "duration": 331,
    "start_time": "2023-03-14T08:27:51.315Z"
   },
   {
    "duration": 324,
    "start_time": "2023-03-14T08:28:39.607Z"
   },
   {
    "duration": 331,
    "start_time": "2023-03-14T08:29:06.450Z"
   },
   {
    "duration": 36,
    "start_time": "2023-03-14T08:32:08.904Z"
   },
   {
    "duration": 40,
    "start_time": "2023-03-14T08:32:36.305Z"
   },
   {
    "duration": 36,
    "start_time": "2023-03-14T08:32:51.109Z"
   },
   {
    "duration": 17,
    "start_time": "2023-03-14T08:41:25.639Z"
   },
   {
    "duration": 371,
    "start_time": "2023-03-14T08:41:43.406Z"
   },
   {
    "duration": 313,
    "start_time": "2023-03-14T08:41:53.736Z"
   },
   {
    "duration": 301,
    "start_time": "2023-03-14T08:42:48.570Z"
   },
   {
    "duration": 334,
    "start_time": "2023-03-14T08:43:11.691Z"
   },
   {
    "duration": 5,
    "start_time": "2023-03-14T09:45:23.399Z"
   },
   {
    "duration": 64,
    "start_time": "2023-03-14T09:45:23.407Z"
   },
   {
    "duration": 23,
    "start_time": "2023-03-14T09:45:23.474Z"
   },
   {
    "duration": 21,
    "start_time": "2023-03-14T09:45:23.500Z"
   },
   {
    "duration": 975,
    "start_time": "2023-03-14T09:45:23.524Z"
   },
   {
    "duration": 5,
    "start_time": "2023-03-14T09:45:24.500Z"
   },
   {
    "duration": 12,
    "start_time": "2023-03-14T09:45:24.507Z"
   },
   {
    "duration": 4,
    "start_time": "2023-03-14T09:45:24.521Z"
   },
   {
    "duration": 28,
    "start_time": "2023-03-14T09:45:24.527Z"
   },
   {
    "duration": 8,
    "start_time": "2023-03-14T09:45:24.558Z"
   },
   {
    "duration": 10,
    "start_time": "2023-03-14T09:45:24.568Z"
   },
   {
    "duration": 5,
    "start_time": "2023-03-14T09:45:24.580Z"
   },
   {
    "duration": 7,
    "start_time": "2023-03-14T09:45:24.587Z"
   },
   {
    "duration": 5,
    "start_time": "2023-03-14T09:45:24.597Z"
   },
   {
    "duration": 6,
    "start_time": "2023-03-14T09:45:24.603Z"
   },
   {
    "duration": 55,
    "start_time": "2023-03-14T09:45:24.610Z"
   },
   {
    "duration": 10,
    "start_time": "2023-03-14T09:45:24.667Z"
   },
   {
    "duration": 9,
    "start_time": "2023-03-14T09:45:24.679Z"
   },
   {
    "duration": 11,
    "start_time": "2023-03-14T09:45:24.690Z"
   },
   {
    "duration": 9,
    "start_time": "2023-03-14T09:45:24.703Z"
   },
   {
    "duration": 41,
    "start_time": "2023-03-14T09:45:24.714Z"
   },
   {
    "duration": 7,
    "start_time": "2023-03-14T09:45:24.758Z"
   },
   {
    "duration": 6,
    "start_time": "2023-03-14T09:45:24.767Z"
   },
   {
    "duration": 17,
    "start_time": "2023-03-14T09:45:24.775Z"
   },
   {
    "duration": 11,
    "start_time": "2023-03-14T09:45:24.795Z"
   },
   {
    "duration": 52,
    "start_time": "2023-03-14T09:45:24.808Z"
   },
   {
    "duration": 24,
    "start_time": "2023-03-14T09:45:24.862Z"
   },
   {
    "duration": 43,
    "start_time": "2023-03-14T09:45:24.888Z"
   },
   {
    "duration": 16,
    "start_time": "2023-03-14T09:45:24.953Z"
   },
   {
    "duration": 286,
    "start_time": "2023-03-14T09:45:24.971Z"
   },
   {
    "duration": 425,
    "start_time": "2023-03-14T09:45:25.259Z"
   },
   {
    "duration": 657,
    "start_time": "2023-03-14T09:45:25.686Z"
   },
   {
    "duration": 20,
    "start_time": "2023-03-14T09:45:26.345Z"
   },
   {
    "duration": 4,
    "start_time": "2023-03-14T09:45:26.367Z"
   },
   {
    "duration": 1416,
    "start_time": "2023-03-14T09:45:26.373Z"
   },
   {
    "duration": 524,
    "start_time": "2023-03-14T09:45:27.791Z"
   },
   {
    "duration": 48,
    "start_time": "2023-03-14T09:45:28.318Z"
   },
   {
    "duration": 13,
    "start_time": "2023-03-14T09:51:50.947Z"
   },
   {
    "duration": 4,
    "start_time": "2023-03-14T09:51:53.760Z"
   },
   {
    "duration": 1595,
    "start_time": "2023-03-14T09:52:38.261Z"
   },
   {
    "duration": 383,
    "start_time": "2023-03-14T09:53:53.057Z"
   },
   {
    "duration": 44,
    "start_time": "2023-03-14T09:53:57.708Z"
   },
   {
    "duration": 15,
    "start_time": "2023-03-14T09:54:29.225Z"
   },
   {
    "duration": 7,
    "start_time": "2023-03-14T09:54:31.742Z"
   },
   {
    "duration": 1694,
    "start_time": "2023-03-14T09:54:35.138Z"
   },
   {
    "duration": 356,
    "start_time": "2023-03-14T09:54:40.462Z"
   },
   {
    "duration": 39,
    "start_time": "2023-03-14T09:54:43.672Z"
   },
   {
    "duration": 15,
    "start_time": "2023-03-14T10:00:51.427Z"
   },
   {
    "duration": 11,
    "start_time": "2023-03-14T10:01:03.304Z"
   },
   {
    "duration": 314,
    "start_time": "2023-03-14T10:01:12.959Z"
   },
   {
    "duration": 137,
    "start_time": "2023-03-14T10:02:51.928Z"
   },
   {
    "duration": 902,
    "start_time": "2023-03-14T10:03:19.450Z"
   },
   {
    "duration": 812,
    "start_time": "2023-03-14T10:03:45.494Z"
   },
   {
    "duration": 292,
    "start_time": "2023-03-14T10:03:58.791Z"
   },
   {
    "duration": 320,
    "start_time": "2023-03-14T10:05:10.453Z"
   },
   {
    "duration": 352,
    "start_time": "2023-03-14T10:05:23.798Z"
   },
   {
    "duration": 4,
    "start_time": "2023-03-14T10:14:37.160Z"
   },
   {
    "duration": 49,
    "start_time": "2023-03-14T10:14:37.169Z"
   },
   {
    "duration": 17,
    "start_time": "2023-03-14T10:14:37.221Z"
   },
   {
    "duration": 24,
    "start_time": "2023-03-14T10:14:37.240Z"
   },
   {
    "duration": 928,
    "start_time": "2023-03-14T10:14:37.267Z"
   },
   {
    "duration": 5,
    "start_time": "2023-03-14T10:14:38.198Z"
   },
   {
    "duration": 6,
    "start_time": "2023-03-14T10:14:38.205Z"
   },
   {
    "duration": 6,
    "start_time": "2023-03-14T10:14:38.215Z"
   },
   {
    "duration": 37,
    "start_time": "2023-03-14T10:14:38.223Z"
   },
   {
    "duration": 11,
    "start_time": "2023-03-14T10:14:38.262Z"
   },
   {
    "duration": 12,
    "start_time": "2023-03-14T10:14:38.276Z"
   },
   {
    "duration": 6,
    "start_time": "2023-03-14T10:14:38.290Z"
   },
   {
    "duration": 11,
    "start_time": "2023-03-14T10:14:38.298Z"
   },
   {
    "duration": 9,
    "start_time": "2023-03-14T10:14:38.311Z"
   },
   {
    "duration": 18,
    "start_time": "2023-03-14T10:14:38.354Z"
   },
   {
    "duration": 0,
    "start_time": "2023-03-14T10:14:38.374Z"
   },
   {
    "duration": 0,
    "start_time": "2023-03-14T10:14:38.376Z"
   },
   {
    "duration": 0,
    "start_time": "2023-03-14T10:14:38.378Z"
   },
   {
    "duration": 0,
    "start_time": "2023-03-14T10:14:38.379Z"
   },
   {
    "duration": 0,
    "start_time": "2023-03-14T10:14:38.381Z"
   },
   {
    "duration": 0,
    "start_time": "2023-03-14T10:14:38.382Z"
   },
   {
    "duration": 0,
    "start_time": "2023-03-14T10:14:38.384Z"
   },
   {
    "duration": 0,
    "start_time": "2023-03-14T10:14:38.385Z"
   },
   {
    "duration": 0,
    "start_time": "2023-03-14T10:14:38.386Z"
   },
   {
    "duration": 0,
    "start_time": "2023-03-14T10:14:38.388Z"
   },
   {
    "duration": 0,
    "start_time": "2023-03-14T10:14:38.389Z"
   },
   {
    "duration": 0,
    "start_time": "2023-03-14T10:14:38.391Z"
   },
   {
    "duration": 0,
    "start_time": "2023-03-14T10:14:38.392Z"
   },
   {
    "duration": 0,
    "start_time": "2023-03-14T10:14:38.393Z"
   },
   {
    "duration": 0,
    "start_time": "2023-03-14T10:14:38.395Z"
   },
   {
    "duration": 0,
    "start_time": "2023-03-14T10:14:38.396Z"
   },
   {
    "duration": 0,
    "start_time": "2023-03-14T10:14:38.398Z"
   },
   {
    "duration": 0,
    "start_time": "2023-03-14T10:14:38.453Z"
   },
   {
    "duration": 0,
    "start_time": "2023-03-14T10:14:38.455Z"
   },
   {
    "duration": 0,
    "start_time": "2023-03-14T10:14:38.456Z"
   },
   {
    "duration": 0,
    "start_time": "2023-03-14T10:14:38.457Z"
   },
   {
    "duration": 15,
    "start_time": "2023-03-14T10:15:31.837Z"
   },
   {
    "duration": 3,
    "start_time": "2023-03-14T10:16:08.842Z"
   },
   {
    "duration": 48,
    "start_time": "2023-03-14T10:16:08.853Z"
   },
   {
    "duration": 17,
    "start_time": "2023-03-14T10:16:08.903Z"
   },
   {
    "duration": 18,
    "start_time": "2023-03-14T10:16:08.921Z"
   },
   {
    "duration": 746,
    "start_time": "2023-03-14T10:16:08.942Z"
   },
   {
    "duration": 5,
    "start_time": "2023-03-14T10:16:09.689Z"
   },
   {
    "duration": 19,
    "start_time": "2023-03-14T10:16:09.696Z"
   },
   {
    "duration": 17,
    "start_time": "2023-03-14T10:16:09.717Z"
   },
   {
    "duration": 15,
    "start_time": "2023-03-14T10:16:09.736Z"
   },
   {
    "duration": 7,
    "start_time": "2023-03-14T10:16:09.753Z"
   },
   {
    "duration": 11,
    "start_time": "2023-03-14T10:16:09.763Z"
   },
   {
    "duration": 4,
    "start_time": "2023-03-14T10:16:09.776Z"
   },
   {
    "duration": 16,
    "start_time": "2023-03-14T10:16:09.782Z"
   },
   {
    "duration": 10,
    "start_time": "2023-03-14T10:16:09.800Z"
   },
   {
    "duration": 43,
    "start_time": "2023-03-14T10:16:09.812Z"
   },
   {
    "duration": 11,
    "start_time": "2023-03-14T10:16:09.857Z"
   },
   {
    "duration": 12,
    "start_time": "2023-03-14T10:16:09.869Z"
   },
   {
    "duration": 7,
    "start_time": "2023-03-14T10:16:09.883Z"
   },
   {
    "duration": 17,
    "start_time": "2023-03-14T10:16:09.892Z"
   },
   {
    "duration": 9,
    "start_time": "2023-03-14T10:16:09.912Z"
   },
   {
    "duration": 41,
    "start_time": "2023-03-14T10:16:09.923Z"
   },
   {
    "duration": 16,
    "start_time": "2023-03-14T10:16:09.966Z"
   },
   {
    "duration": 26,
    "start_time": "2023-03-14T10:16:09.983Z"
   },
   {
    "duration": 49,
    "start_time": "2023-03-14T10:16:10.011Z"
   },
   {
    "duration": 299,
    "start_time": "2023-03-14T10:16:10.063Z"
   },
   {
    "duration": 381,
    "start_time": "2023-03-14T10:16:10.364Z"
   },
   {
    "duration": 765,
    "start_time": "2023-03-14T10:16:10.747Z"
   },
   {
    "duration": 13,
    "start_time": "2023-03-14T10:16:11.514Z"
   },
   {
    "duration": 5,
    "start_time": "2023-03-14T10:16:11.530Z"
   },
   {
    "duration": 1460,
    "start_time": "2023-03-14T10:16:11.536Z"
   },
   {
    "duration": 355,
    "start_time": "2023-03-14T10:16:12.998Z"
   },
   {
    "duration": 43,
    "start_time": "2023-03-14T10:16:13.355Z"
   },
   {
    "duration": 344,
    "start_time": "2023-03-14T10:16:13.400Z"
   },
   {
    "duration": 310,
    "start_time": "2023-03-14T10:17:18.404Z"
   },
   {
    "duration": 11,
    "start_time": "2023-03-14T10:20:00.635Z"
   },
   {
    "duration": 9,
    "start_time": "2023-03-14T10:22:50.692Z"
   },
   {
    "duration": 8,
    "start_time": "2023-03-14T10:23:38.794Z"
   },
   {
    "duration": 16,
    "start_time": "2023-03-14T10:25:50.756Z"
   },
   {
    "duration": 29,
    "start_time": "2023-03-14T10:26:24.017Z"
   },
   {
    "duration": 21,
    "start_time": "2023-03-14T10:26:50.834Z"
   },
   {
    "duration": 21,
    "start_time": "2023-03-14T10:27:51.353Z"
   },
   {
    "duration": 27,
    "start_time": "2023-03-14T10:28:06.816Z"
   },
   {
    "duration": 23,
    "start_time": "2023-03-14T10:28:19.186Z"
   },
   {
    "duration": 15,
    "start_time": "2023-03-14T10:29:32.456Z"
   },
   {
    "duration": 49,
    "start_time": "2023-03-14T10:30:37.343Z"
   },
   {
    "duration": 46,
    "start_time": "2023-03-14T10:30:56.536Z"
   },
   {
    "duration": 197,
    "start_time": "2023-03-14T10:35:01.370Z"
   },
   {
    "duration": 54,
    "start_time": "2023-03-14T10:39:04.803Z"
   },
   {
    "duration": 17,
    "start_time": "2023-03-14T10:39:16.065Z"
   },
   {
    "duration": 299,
    "start_time": "2023-03-14T10:40:02.495Z"
   },
   {
    "duration": 173,
    "start_time": "2023-03-14T10:40:10.996Z"
   },
   {
    "duration": 16,
    "start_time": "2023-03-14T10:40:39.829Z"
   },
   {
    "duration": 21,
    "start_time": "2023-03-14T10:41:44.069Z"
   },
   {
    "duration": 4,
    "start_time": "2023-03-14T10:50:36.593Z"
   },
   {
    "duration": 16,
    "start_time": "2023-03-14T10:50:39.356Z"
   },
   {
    "duration": 13,
    "start_time": "2023-03-14T10:51:12.092Z"
   },
   {
    "duration": 114,
    "start_time": "2023-03-14T10:51:50.993Z"
   },
   {
    "duration": 8,
    "start_time": "2023-03-14T10:52:08.115Z"
   },
   {
    "duration": 113,
    "start_time": "2023-03-14T10:52:10.535Z"
   },
   {
    "duration": 16,
    "start_time": "2023-03-14T10:52:54.251Z"
   },
   {
    "duration": 16,
    "start_time": "2023-03-14T10:53:01.012Z"
   },
   {
    "duration": 5,
    "start_time": "2023-03-14T10:53:25.995Z"
   },
   {
    "duration": 4,
    "start_time": "2023-03-14T10:53:27.566Z"
   },
   {
    "duration": 3,
    "start_time": "2023-03-14T10:54:05.213Z"
   },
   {
    "duration": 48,
    "start_time": "2023-03-14T10:54:05.219Z"
   },
   {
    "duration": 26,
    "start_time": "2023-03-14T10:54:05.269Z"
   },
   {
    "duration": 24,
    "start_time": "2023-03-14T10:54:05.297Z"
   },
   {
    "duration": 789,
    "start_time": "2023-03-14T10:54:05.324Z"
   },
   {
    "duration": 4,
    "start_time": "2023-03-14T10:54:06.115Z"
   },
   {
    "duration": 8,
    "start_time": "2023-03-14T10:54:06.120Z"
   },
   {
    "duration": 4,
    "start_time": "2023-03-14T10:54:06.130Z"
   },
   {
    "duration": 134,
    "start_time": "2023-03-14T10:54:06.136Z"
   },
   {
    "duration": 9,
    "start_time": "2023-03-14T10:54:06.272Z"
   },
   {
    "duration": 50,
    "start_time": "2023-03-14T10:54:06.283Z"
   },
   {
    "duration": 53,
    "start_time": "2023-03-14T10:54:06.335Z"
   },
   {
    "duration": 16,
    "start_time": "2023-03-14T10:54:06.390Z"
   },
   {
    "duration": 10,
    "start_time": "2023-03-14T10:54:06.409Z"
   },
   {
    "duration": 8,
    "start_time": "2023-03-14T10:54:06.421Z"
   },
   {
    "duration": 12,
    "start_time": "2023-03-14T10:54:06.431Z"
   },
   {
    "duration": 8,
    "start_time": "2023-03-14T10:54:06.446Z"
   },
   {
    "duration": 7,
    "start_time": "2023-03-14T10:54:06.457Z"
   },
   {
    "duration": 16,
    "start_time": "2023-03-14T10:54:06.466Z"
   },
   {
    "duration": 10,
    "start_time": "2023-03-14T10:54:06.485Z"
   },
   {
    "duration": 21,
    "start_time": "2023-03-14T10:54:06.498Z"
   },
   {
    "duration": 45,
    "start_time": "2023-03-14T10:54:06.521Z"
   },
   {
    "duration": 27,
    "start_time": "2023-03-14T10:54:06.567Z"
   },
   {
    "duration": 18,
    "start_time": "2023-03-14T10:54:06.596Z"
   },
   {
    "duration": 308,
    "start_time": "2023-03-14T10:54:06.616Z"
   },
   {
    "duration": 394,
    "start_time": "2023-03-14T10:54:06.926Z"
   },
   {
    "duration": 756,
    "start_time": "2023-03-14T10:54:07.322Z"
   },
   {
    "duration": 13,
    "start_time": "2023-03-14T10:54:08.080Z"
   },
   {
    "duration": 5,
    "start_time": "2023-03-14T10:54:08.095Z"
   },
   {
    "duration": 1385,
    "start_time": "2023-03-14T10:54:08.102Z"
   },
   {
    "duration": 343,
    "start_time": "2023-03-14T10:54:09.489Z"
   },
   {
    "duration": 52,
    "start_time": "2023-03-14T10:54:09.834Z"
   },
   {
    "duration": 357,
    "start_time": "2023-03-14T10:54:09.888Z"
   },
   {
    "duration": 16,
    "start_time": "2023-03-14T10:54:10.247Z"
   },
   {
    "duration": 7,
    "start_time": "2023-03-14T10:54:10.265Z"
   },
   {
    "duration": 208,
    "start_time": "2023-03-14T10:54:10.275Z"
   },
   {
    "duration": 46,
    "start_time": "2023-03-14T10:54:10.485Z"
   },
   {
    "duration": 32,
    "start_time": "2023-03-14T10:54:10.533Z"
   },
   {
    "duration": 17,
    "start_time": "2023-03-14T10:54:10.566Z"
   },
   {
    "duration": 25,
    "start_time": "2023-03-14T10:54:10.585Z"
   },
   {
    "duration": 16,
    "start_time": "2023-03-14T10:56:21.046Z"
   },
   {
    "duration": 18,
    "start_time": "2023-03-14T10:56:35.109Z"
   },
   {
    "duration": 24,
    "start_time": "2023-03-14T10:56:54.000Z"
   },
   {
    "duration": 19,
    "start_time": "2023-03-14T11:00:09.188Z"
   },
   {
    "duration": 16,
    "start_time": "2023-03-14T11:00:14.905Z"
   },
   {
    "duration": 15,
    "start_time": "2023-03-14T11:00:30.670Z"
   },
   {
    "duration": 24,
    "start_time": "2023-03-14T11:00:53.717Z"
   },
   {
    "duration": 16,
    "start_time": "2023-03-14T11:10:56.297Z"
   },
   {
    "duration": 16,
    "start_time": "2023-03-14T11:11:06.760Z"
   },
   {
    "duration": 158,
    "start_time": "2023-03-14T11:11:18.802Z"
   },
   {
    "duration": 19,
    "start_time": "2023-03-14T13:40:53.595Z"
   },
   {
    "duration": 146,
    "start_time": "2023-03-14T13:41:01.125Z"
   },
   {
    "duration": 15,
    "start_time": "2023-03-14T13:43:41.776Z"
   },
   {
    "duration": 14,
    "start_time": "2023-03-14T13:47:32.378Z"
   },
   {
    "duration": 4,
    "start_time": "2023-03-14T13:48:21.010Z"
   },
   {
    "duration": 12,
    "start_time": "2023-03-14T13:48:23.003Z"
   },
   {
    "duration": 11,
    "start_time": "2023-03-14T13:48:31.673Z"
   },
   {
    "duration": 9,
    "start_time": "2023-03-14T13:54:10.023Z"
   },
   {
    "duration": 1275,
    "start_time": "2023-03-15T15:08:48.684Z"
   },
   {
    "duration": 168,
    "start_time": "2023-03-15T15:08:49.961Z"
   },
   {
    "duration": 19,
    "start_time": "2023-03-15T15:08:50.131Z"
   },
   {
    "duration": 13,
    "start_time": "2023-03-15T15:08:50.152Z"
   },
   {
    "duration": 638,
    "start_time": "2023-03-15T15:08:50.167Z"
   },
   {
    "duration": 4,
    "start_time": "2023-03-15T15:08:50.806Z"
   },
   {
    "duration": 9,
    "start_time": "2023-03-15T15:08:50.811Z"
   },
   {
    "duration": 12,
    "start_time": "2023-03-15T15:08:50.821Z"
   },
   {
    "duration": 9,
    "start_time": "2023-03-15T15:08:50.835Z"
   },
   {
    "duration": 7,
    "start_time": "2023-03-15T15:08:50.854Z"
   },
   {
    "duration": 14,
    "start_time": "2023-03-15T15:08:50.863Z"
   },
   {
    "duration": 9,
    "start_time": "2023-03-15T15:08:50.878Z"
   },
   {
    "duration": 13,
    "start_time": "2023-03-15T15:08:50.889Z"
   },
   {
    "duration": 8,
    "start_time": "2023-03-15T15:08:50.903Z"
   },
   {
    "duration": 6,
    "start_time": "2023-03-15T15:08:50.913Z"
   },
   {
    "duration": 12,
    "start_time": "2023-03-15T15:08:50.921Z"
   },
   {
    "duration": 22,
    "start_time": "2023-03-15T15:08:50.934Z"
   },
   {
    "duration": 19,
    "start_time": "2023-03-15T15:08:50.958Z"
   },
   {
    "duration": 22,
    "start_time": "2023-03-15T15:08:50.978Z"
   },
   {
    "duration": 9,
    "start_time": "2023-03-15T15:08:51.001Z"
   },
   {
    "duration": 17,
    "start_time": "2023-03-15T15:08:51.011Z"
   },
   {
    "duration": 22,
    "start_time": "2023-03-15T15:08:51.030Z"
   },
   {
    "duration": 22,
    "start_time": "2023-03-15T15:08:51.054Z"
   },
   {
    "duration": 16,
    "start_time": "2023-03-15T15:08:51.078Z"
   },
   {
    "duration": 314,
    "start_time": "2023-03-15T15:08:51.095Z"
   },
   {
    "duration": 332,
    "start_time": "2023-03-15T15:08:51.411Z"
   },
   {
    "duration": 669,
    "start_time": "2023-03-15T15:08:51.745Z"
   },
   {
    "duration": 14,
    "start_time": "2023-03-15T15:08:52.418Z"
   },
   {
    "duration": 5,
    "start_time": "2023-03-15T15:08:52.434Z"
   },
   {
    "duration": 1197,
    "start_time": "2023-03-15T15:08:52.440Z"
   },
   {
    "duration": 329,
    "start_time": "2023-03-15T15:08:53.639Z"
   },
   {
    "duration": 32,
    "start_time": "2023-03-15T15:08:53.970Z"
   },
   {
    "duration": 299,
    "start_time": "2023-03-15T15:08:54.003Z"
   },
   {
    "duration": 10,
    "start_time": "2023-03-15T15:08:54.304Z"
   },
   {
    "duration": 8,
    "start_time": "2023-03-15T15:08:54.316Z"
   },
   {
    "duration": 188,
    "start_time": "2023-03-15T15:08:54.325Z"
   },
   {
    "duration": 41,
    "start_time": "2023-03-15T15:08:54.515Z"
   },
   {
    "duration": 13,
    "start_time": "2023-03-15T15:08:54.557Z"
   },
   {
    "duration": 13,
    "start_time": "2023-03-15T15:08:54.572Z"
   },
   {
    "duration": 13,
    "start_time": "2023-03-15T15:08:54.586Z"
   },
   {
    "duration": 12,
    "start_time": "2023-03-15T15:08:54.601Z"
   },
   {
    "duration": 42,
    "start_time": "2023-03-15T15:08:54.614Z"
   },
   {
    "duration": 12,
    "start_time": "2023-03-15T15:08:54.658Z"
   },
   {
    "duration": 13,
    "start_time": "2023-03-15T15:08:54.671Z"
   },
   {
    "duration": 12,
    "start_time": "2023-03-15T15:08:54.685Z"
   },
   {
    "duration": 12,
    "start_time": "2023-03-15T15:08:54.698Z"
   },
   {
    "duration": 6,
    "start_time": "2023-03-15T15:08:54.712Z"
   },
   {
    "duration": 38,
    "start_time": "2023-03-15T15:08:54.720Z"
   },
   {
    "duration": 6,
    "start_time": "2023-03-15T15:08:54.760Z"
   },
   {
    "duration": 113,
    "start_time": "2023-03-15T15:12:17.123Z"
   },
   {
    "duration": 12,
    "start_time": "2023-03-15T15:12:22.542Z"
   },
   {
    "duration": 13,
    "start_time": "2023-03-15T15:13:12.093Z"
   },
   {
    "duration": 14,
    "start_time": "2023-03-15T15:13:20.105Z"
   },
   {
    "duration": 8,
    "start_time": "2023-03-15T15:15:02.902Z"
   },
   {
    "duration": 54,
    "start_time": "2023-03-15T15:24:32.143Z"
   },
   {
    "duration": 20,
    "start_time": "2023-03-15T15:24:41.759Z"
   },
   {
    "duration": 15,
    "start_time": "2023-03-15T15:24:53.163Z"
   },
   {
    "duration": 14,
    "start_time": "2023-03-15T15:25:15.149Z"
   },
   {
    "duration": 2,
    "start_time": "2023-03-15T15:25:25.640Z"
   },
   {
    "duration": 64,
    "start_time": "2023-03-15T15:37:22.705Z"
   },
   {
    "duration": 42,
    "start_time": "2023-03-15T15:37:47.702Z"
   },
   {
    "duration": 15,
    "start_time": "2023-03-15T15:37:59.302Z"
   },
   {
    "duration": 15,
    "start_time": "2023-03-15T15:38:26.406Z"
   },
   {
    "duration": 2,
    "start_time": "2023-03-15T15:41:28.493Z"
   },
   {
    "duration": 116,
    "start_time": "2023-03-15T15:41:28.497Z"
   },
   {
    "duration": 14,
    "start_time": "2023-03-15T15:41:28.615Z"
   },
   {
    "duration": 13,
    "start_time": "2023-03-15T15:41:28.630Z"
   },
   {
    "duration": 641,
    "start_time": "2023-03-15T15:41:28.916Z"
   },
   {
    "duration": 3,
    "start_time": "2023-03-15T15:41:29.559Z"
   },
   {
    "duration": 5,
    "start_time": "2023-03-15T15:41:29.563Z"
   },
   {
    "duration": 9,
    "start_time": "2023-03-15T15:41:29.569Z"
   },
   {
    "duration": 3,
    "start_time": "2023-03-15T15:41:29.580Z"
   },
   {
    "duration": 15,
    "start_time": "2023-03-15T15:41:29.584Z"
   },
   {
    "duration": 5,
    "start_time": "2023-03-15T15:41:29.601Z"
   },
   {
    "duration": 9,
    "start_time": "2023-03-15T15:41:29.607Z"
   },
   {
    "duration": 3,
    "start_time": "2023-03-15T15:41:29.617Z"
   },
   {
    "duration": 12,
    "start_time": "2023-03-15T15:41:29.657Z"
   },
   {
    "duration": 9,
    "start_time": "2023-03-15T15:41:29.671Z"
   },
   {
    "duration": 6,
    "start_time": "2023-03-15T15:41:29.681Z"
   },
   {
    "duration": 7,
    "start_time": "2023-03-15T15:41:29.689Z"
   },
   {
    "duration": 4,
    "start_time": "2023-03-15T15:41:29.698Z"
   },
   {
    "duration": 5,
    "start_time": "2023-03-15T15:41:29.703Z"
   },
   {
    "duration": 11,
    "start_time": "2023-03-15T15:41:29.709Z"
   },
   {
    "duration": 37,
    "start_time": "2023-03-15T15:41:29.722Z"
   },
   {
    "duration": 12,
    "start_time": "2023-03-15T15:41:29.761Z"
   },
   {
    "duration": 12,
    "start_time": "2023-03-15T15:41:29.775Z"
   },
   {
    "duration": 20,
    "start_time": "2023-03-15T15:41:29.789Z"
   },
   {
    "duration": 45,
    "start_time": "2023-03-15T15:41:29.811Z"
   },
   {
    "duration": 261,
    "start_time": "2023-03-15T15:41:29.858Z"
   },
   {
    "duration": 340,
    "start_time": "2023-03-15T15:41:30.121Z"
   },
   {
    "duration": 550,
    "start_time": "2023-03-15T15:41:30.463Z"
   },
   {
    "duration": 11,
    "start_time": "2023-03-15T15:41:31.015Z"
   },
   {
    "duration": 31,
    "start_time": "2023-03-15T15:41:31.028Z"
   },
   {
    "duration": 1264,
    "start_time": "2023-03-15T15:41:31.060Z"
   },
   {
    "duration": 310,
    "start_time": "2023-03-15T15:41:32.326Z"
   },
   {
    "duration": 31,
    "start_time": "2023-03-15T15:41:32.638Z"
   },
   {
    "duration": 487,
    "start_time": "2023-03-15T15:41:32.671Z"
   },
   {
    "duration": 9,
    "start_time": "2023-03-15T15:41:33.159Z"
   },
   {
    "duration": 5,
    "start_time": "2023-03-15T15:41:33.170Z"
   },
   {
    "duration": 319,
    "start_time": "2023-03-15T15:41:33.177Z"
   },
   {
    "duration": 84,
    "start_time": "2023-03-15T15:41:33.497Z"
   },
   {
    "duration": 12,
    "start_time": "2023-03-15T15:41:33.583Z"
   },
   {
    "duration": 68,
    "start_time": "2023-03-15T15:41:33.596Z"
   },
   {
    "duration": 12,
    "start_time": "2023-03-15T15:41:33.665Z"
   },
   {
    "duration": 21,
    "start_time": "2023-03-15T15:41:33.678Z"
   },
   {
    "duration": 63,
    "start_time": "2023-03-15T15:41:33.700Z"
   },
   {
    "duration": 11,
    "start_time": "2023-03-15T15:41:33.765Z"
   },
   {
    "duration": 12,
    "start_time": "2023-03-15T15:41:33.780Z"
   },
   {
    "duration": 66,
    "start_time": "2023-03-15T15:41:33.793Z"
   },
   {
    "duration": 14,
    "start_time": "2023-03-15T15:41:33.860Z"
   },
   {
    "duration": 5,
    "start_time": "2023-03-15T15:41:33.876Z"
   },
   {
    "duration": 17,
    "start_time": "2023-03-15T15:41:33.883Z"
   },
   {
    "duration": 57,
    "start_time": "2023-03-15T15:41:33.901Z"
   },
   {
    "duration": 13,
    "start_time": "2023-03-15T15:41:55.093Z"
   },
   {
    "duration": 13,
    "start_time": "2023-03-15T15:42:58.570Z"
   },
   {
    "duration": 14,
    "start_time": "2023-03-15T15:43:09.203Z"
   },
   {
    "duration": 49,
    "start_time": "2023-03-15T15:45:03.230Z"
   },
   {
    "duration": 9,
    "start_time": "2023-03-15T15:45:13.790Z"
   },
   {
    "duration": 12,
    "start_time": "2023-03-15T15:45:20.130Z"
   },
   {
    "duration": 132,
    "start_time": "2023-03-15T15:46:10.605Z"
   },
   {
    "duration": 106,
    "start_time": "2023-03-15T15:48:27.076Z"
   },
   {
    "duration": 19,
    "start_time": "2023-03-15T15:48:37.432Z"
   },
   {
    "duration": 102,
    "start_time": "2023-03-15T15:50:18.191Z"
   },
   {
    "duration": 118,
    "start_time": "2023-03-15T15:53:07.392Z"
   },
   {
    "duration": 10495,
    "start_time": "2023-03-15T15:53:30.377Z"
   },
   {
    "duration": 10812,
    "start_time": "2023-03-15T15:53:46.392Z"
   },
   {
    "duration": 13,
    "start_time": "2023-03-15T15:56:23.949Z"
   },
   {
    "duration": 42,
    "start_time": "2023-03-15T15:57:23.649Z"
   },
   {
    "duration": 152,
    "start_time": "2023-03-15T15:57:26.932Z"
   },
   {
    "duration": 195,
    "start_time": "2023-03-15T15:57:39.513Z"
   },
   {
    "duration": 142,
    "start_time": "2023-03-15T15:57:43.724Z"
   },
   {
    "duration": 150,
    "start_time": "2023-03-15T15:57:52.168Z"
   },
   {
    "duration": 179,
    "start_time": "2023-03-15T15:58:04.718Z"
   },
   {
    "duration": 138,
    "start_time": "2023-03-15T15:58:11.906Z"
   },
   {
    "duration": 189,
    "start_time": "2023-03-15T15:58:17.034Z"
   },
   {
    "duration": 162,
    "start_time": "2023-03-15T15:58:28.399Z"
   },
   {
    "duration": 121,
    "start_time": "2023-03-15T15:58:32.690Z"
   },
   {
    "duration": 110,
    "start_time": "2023-03-15T15:59:08.296Z"
   },
   {
    "duration": 123,
    "start_time": "2023-03-15T15:59:17.763Z"
   },
   {
    "duration": 2,
    "start_time": "2023-03-15T16:00:41.731Z"
   },
   {
    "duration": 47,
    "start_time": "2023-03-15T16:00:41.736Z"
   },
   {
    "duration": 16,
    "start_time": "2023-03-15T16:00:41.785Z"
   },
   {
    "duration": 14,
    "start_time": "2023-03-15T16:00:41.803Z"
   },
   {
    "duration": 671,
    "start_time": "2023-03-15T16:00:41.819Z"
   },
   {
    "duration": 3,
    "start_time": "2023-03-15T16:00:42.492Z"
   },
   {
    "duration": 3,
    "start_time": "2023-03-15T16:00:42.497Z"
   },
   {
    "duration": 4,
    "start_time": "2023-03-15T16:00:42.502Z"
   },
   {
    "duration": 2,
    "start_time": "2023-03-15T16:00:42.508Z"
   },
   {
    "duration": 15,
    "start_time": "2023-03-15T16:00:42.512Z"
   },
   {
    "duration": 30,
    "start_time": "2023-03-15T16:00:42.529Z"
   },
   {
    "duration": 9,
    "start_time": "2023-03-15T16:00:42.560Z"
   },
   {
    "duration": 4,
    "start_time": "2023-03-15T16:00:42.571Z"
   },
   {
    "duration": 13,
    "start_time": "2023-03-15T16:00:42.577Z"
   },
   {
    "duration": 9,
    "start_time": "2023-03-15T16:00:42.591Z"
   },
   {
    "duration": 7,
    "start_time": "2023-03-15T16:00:42.602Z"
   },
   {
    "duration": 54,
    "start_time": "2023-03-15T16:00:42.610Z"
   },
   {
    "duration": 14,
    "start_time": "2023-03-15T16:00:42.666Z"
   },
   {
    "duration": 5,
    "start_time": "2023-03-15T16:00:42.681Z"
   },
   {
    "duration": 10,
    "start_time": "2023-03-15T16:00:42.687Z"
   },
   {
    "duration": 7,
    "start_time": "2023-03-15T16:00:42.698Z"
   },
   {
    "duration": 15,
    "start_time": "2023-03-15T16:00:42.706Z"
   },
   {
    "duration": 35,
    "start_time": "2023-03-15T16:00:42.722Z"
   },
   {
    "duration": 22,
    "start_time": "2023-03-15T16:00:42.760Z"
   },
   {
    "duration": 20,
    "start_time": "2023-03-15T16:00:42.783Z"
   },
   {
    "duration": 309,
    "start_time": "2023-03-15T16:00:42.805Z"
   },
   {
    "duration": 352,
    "start_time": "2023-03-15T16:00:43.116Z"
   },
   {
    "duration": 540,
    "start_time": "2023-03-15T16:00:43.470Z"
   },
   {
    "duration": 12,
    "start_time": "2023-03-15T16:00:44.012Z"
   },
   {
    "duration": 20,
    "start_time": "2023-03-15T16:00:44.025Z"
   },
   {
    "duration": 1547,
    "start_time": "2023-03-15T16:00:44.047Z"
   },
   {
    "duration": 337,
    "start_time": "2023-03-15T16:00:45.596Z"
   },
   {
    "duration": 42,
    "start_time": "2023-03-15T16:00:45.934Z"
   },
   {
    "duration": 288,
    "start_time": "2023-03-15T16:00:45.977Z"
   },
   {
    "duration": 9,
    "start_time": "2023-03-15T16:00:46.267Z"
   },
   {
    "duration": 6,
    "start_time": "2023-03-15T16:00:46.277Z"
   },
   {
    "duration": 207,
    "start_time": "2023-03-15T16:00:46.284Z"
   },
   {
    "duration": 35,
    "start_time": "2023-03-15T16:00:46.493Z"
   },
   {
    "duration": 194,
    "start_time": "2023-03-15T16:00:46.529Z"
   },
   {
    "duration": 215,
    "start_time": "2023-03-15T16:00:46.726Z"
   },
   {
    "duration": 140,
    "start_time": "2023-03-15T16:00:46.943Z"
   },
   {
    "duration": 161,
    "start_time": "2023-03-15T16:00:47.085Z"
   },
   {
    "duration": 186,
    "start_time": "2023-03-15T16:00:47.247Z"
   },
   {
    "duration": 138,
    "start_time": "2023-03-15T16:00:47.434Z"
   },
   {
    "duration": 162,
    "start_time": "2023-03-15T16:00:47.573Z"
   },
   {
    "duration": 179,
    "start_time": "2023-03-15T16:00:47.737Z"
   },
   {
    "duration": 144,
    "start_time": "2023-03-15T16:00:47.917Z"
   },
   {
    "duration": 2,
    "start_time": "2023-03-15T16:00:48.063Z"
   },
   {
    "duration": 10,
    "start_time": "2023-03-15T16:00:48.066Z"
   },
   {
    "duration": 6,
    "start_time": "2023-03-15T16:00:48.078Z"
   },
   {
    "duration": 1281,
    "start_time": "2023-03-15T17:32:51.270Z"
   },
   {
    "duration": 200,
    "start_time": "2023-03-15T17:32:52.553Z"
   },
   {
    "duration": 18,
    "start_time": "2023-03-15T17:32:52.754Z"
   },
   {
    "duration": 14,
    "start_time": "2023-03-15T17:32:52.774Z"
   },
   {
    "duration": 654,
    "start_time": "2023-03-15T17:32:52.789Z"
   },
   {
    "duration": 4,
    "start_time": "2023-03-15T17:32:53.444Z"
   },
   {
    "duration": 5,
    "start_time": "2023-03-15T17:32:53.449Z"
   },
   {
    "duration": 6,
    "start_time": "2023-03-15T17:32:53.455Z"
   },
   {
    "duration": 4,
    "start_time": "2023-03-15T17:32:53.462Z"
   },
   {
    "duration": 68,
    "start_time": "2023-03-15T17:32:53.469Z"
   },
   {
    "duration": 7,
    "start_time": "2023-03-15T17:32:53.539Z"
   },
   {
    "duration": 18,
    "start_time": "2023-03-15T17:32:53.547Z"
   },
   {
    "duration": 7,
    "start_time": "2023-03-15T17:32:53.567Z"
   },
   {
    "duration": 24,
    "start_time": "2023-03-15T17:32:53.575Z"
   },
   {
    "duration": 9,
    "start_time": "2023-03-15T17:32:53.601Z"
   },
   {
    "duration": 33,
    "start_time": "2023-03-15T17:32:53.612Z"
   },
   {
    "duration": 13,
    "start_time": "2023-03-15T17:32:53.647Z"
   },
   {
    "duration": 32,
    "start_time": "2023-03-15T17:32:53.662Z"
   },
   {
    "duration": 17,
    "start_time": "2023-03-15T17:32:53.695Z"
   },
   {
    "duration": 10,
    "start_time": "2023-03-15T17:32:53.713Z"
   },
   {
    "duration": 8,
    "start_time": "2023-03-15T17:32:53.724Z"
   },
   {
    "duration": 15,
    "start_time": "2023-03-15T17:32:53.733Z"
   },
   {
    "duration": 14,
    "start_time": "2023-03-15T17:32:53.750Z"
   },
   {
    "duration": 22,
    "start_time": "2023-03-15T17:32:53.765Z"
   },
   {
    "duration": 43,
    "start_time": "2023-03-15T17:32:53.788Z"
   },
   {
    "duration": 279,
    "start_time": "2023-03-15T17:32:53.833Z"
   },
   {
    "duration": 422,
    "start_time": "2023-03-15T17:32:54.114Z"
   },
   {
    "duration": 586,
    "start_time": "2023-03-15T17:32:54.539Z"
   },
   {
    "duration": 13,
    "start_time": "2023-03-15T17:32:55.127Z"
   },
   {
    "duration": 5,
    "start_time": "2023-03-15T17:32:55.142Z"
   },
   {
    "duration": 1251,
    "start_time": "2023-03-15T17:32:55.148Z"
   },
   {
    "duration": 324,
    "start_time": "2023-03-15T17:32:56.401Z"
   },
   {
    "duration": 35,
    "start_time": "2023-03-15T17:32:56.727Z"
   },
   {
    "duration": 297,
    "start_time": "2023-03-15T17:32:56.763Z"
   },
   {
    "duration": 9,
    "start_time": "2023-03-15T17:32:57.061Z"
   },
   {
    "duration": 6,
    "start_time": "2023-03-15T17:32:57.072Z"
   },
   {
    "duration": 301,
    "start_time": "2023-03-15T17:32:57.080Z"
   },
   {
    "duration": 48,
    "start_time": "2023-03-15T17:32:57.383Z"
   },
   {
    "duration": 160,
    "start_time": "2023-03-15T17:32:57.432Z"
   },
   {
    "duration": 194,
    "start_time": "2023-03-15T17:32:57.594Z"
   },
   {
    "duration": 135,
    "start_time": "2023-03-15T17:32:57.789Z"
   },
   {
    "duration": 165,
    "start_time": "2023-03-15T17:32:57.926Z"
   },
   {
    "duration": 190,
    "start_time": "2023-03-15T17:32:58.093Z"
   },
   {
    "duration": 127,
    "start_time": "2023-03-15T17:32:58.285Z"
   },
   {
    "duration": 156,
    "start_time": "2023-03-15T17:32:58.414Z"
   },
   {
    "duration": 178,
    "start_time": "2023-03-15T17:32:58.571Z"
   },
   {
    "duration": 138,
    "start_time": "2023-03-15T17:32:58.751Z"
   },
   {
    "duration": 3,
    "start_time": "2023-03-15T17:32:58.891Z"
   },
   {
    "duration": 8,
    "start_time": "2023-03-15T17:32:58.896Z"
   },
   {
    "duration": 25,
    "start_time": "2023-03-15T17:32:58.906Z"
   },
   {
    "duration": 116,
    "start_time": "2023-03-15T17:33:15.808Z"
   },
   {
    "duration": 193,
    "start_time": "2023-03-15T17:33:18.948Z"
   },
   {
    "duration": 348,
    "start_time": "2023-03-15T17:35:35.195Z"
   },
   {
    "duration": 234,
    "start_time": "2023-03-15T17:35:43.339Z"
   }
  ],
  "kernelspec": {
   "display_name": "Python 3 (ipykernel)",
   "language": "python",
   "name": "python3"
  },
  "language_info": {
   "codemirror_mode": {
    "name": "ipython",
    "version": 3
   },
   "file_extension": ".py",
   "mimetype": "text/x-python",
   "name": "python",
   "nbconvert_exporter": "python",
   "pygments_lexer": "ipython3",
   "version": "3.9.13"
  },
  "toc": {
   "base_numbering": 1,
   "nav_menu": {},
   "number_sections": true,
   "sideBar": true,
   "skip_h1_title": true,
   "title_cell": "Table of Contents",
   "title_sidebar": "Contents",
   "toc_cell": false,
   "toc_position": {
    "height": "calc(100% - 180px)",
    "left": "10px",
    "top": "150px",
    "width": "279.83px"
   },
   "toc_section_display": true,
   "toc_window_display": true
  }
 },
 "nbformat": 4,
 "nbformat_minor": 2
}
