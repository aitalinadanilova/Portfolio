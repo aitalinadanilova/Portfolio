{
 "cells": [
  {
   "cell_type": "markdown",
   "metadata": {},
   "source": [
    "# Игры - анализ рекламных источников\n",
    "**Описание проекта:**\n",
    "Мобильная игра «Космические братья», в которой пользователи строят свою космическую программу и пытаются преуспеть в нелёгком деле колонизации галактики. Основная монетизация игры — только планируется. Но предполагается, что в приложении будет происходить показ рекламы на экране с выбором типа объекта для постройки.\n",
    "\n",
    "**Цель исследования:**\n",
    "Анализ и ранжирование эффективности показа рекламы игры «Космические братья» для выявления наиболее перспективой.\n",
    "\n",
    "**Ход исследования:**  \n",
    "1. Загрузка данных и изучение данной информации:\n",
    "- импорт бибилиотек\n",
    "- вывод первых 10 строк датасетов\n",
    "- изучение основной информации\n",
    "- вывод;\n",
    "2. Предобработка данных:\n",
    "- обработка явных дубликатов\n",
    "- выявление пропущенных значений\n",
    "- изменение типа данных\n",
    "- вывод: исследование данных и ответы на вопросы;\n",
    "3. Исследовательский анализ данных:\n",
    "- количество пользователей завершивших игру\n",
    "- время прохождения игры\n",
    "- соотношение построек\n",
    "- количество использованных источников трафика за весь период\n",
    "- стоимость одного клика в зависимости от источника\n",
    "4. Проверка гипотез\n",
    "5. Итоговый вывод\n",
    "6. Ответы на вопросы заказчика.\n",
    "\n",
    "**Описание данных:**  \n",
    "Датасет `game_actions.csv`:\n",
    "- `event_datetime` — время события;\n",
    "- `event` — одно из трёх событий:\n",
    "1. `building` — объект построен,\n",
    "2. `finished_stage_1` — первый уровень завершён,\n",
    "3. `project` — проект завершён;\n",
    "- `building_type` — один из трёх типов здания:\n",
    "1. `assembly_shop` — сборочный цех,\n",
    "2. `spaceport` — космопорт,\n",
    "3. `research_center` — исследовательский центр;\n",
    "- `user_id` — идентификатор пользователя;\n",
    "- `project_type` — тип реализованного проекта;\n",
    "\n",
    "Датасет `ad_costs.csv`:\n",
    "- `day` - день, в который был совершен клик по объявлению\n",
    "- `source` - источник трафика\n",
    "- `cost` - стоимость кликов\n",
    "\n",
    "Датасет `user_source.csv` содержит колонки:\n",
    "- `user_id` - идентификатор пользователя\n",
    "- `source` - источников, с которого пришёл пользователь, установивший\n",
    "приложение"
   ]
  },
  {
   "cell_type": "markdown",
   "metadata": {},
   "source": [
    "# Материалы\n",
    "* .[Презентация]. (https://disk.yandex.ru/i/Iw18_i_I4wO5lQ)\n",
    "* .[Дашборд]. (https://public.tableau.com/app/profile/aitalina.danilova/viz/Yandex_Final_16946123996520/sheet2?publish=yes)"
   ]
  },
  {
   "cell_type": "markdown",
   "metadata": {},
   "source": [
    "## Загрузка данных и изучение общей информации"
   ]
  },
  {
   "cell_type": "code",
   "execution_count": 79,
   "metadata": {},
   "outputs": [],
   "source": [
    "#импортируем необходимые библиотеки\n",
    "import pandas as pd\n",
    "import numpy as np\n",
    "import seaborn as sns\n",
    "import matplotlib.pyplot as plt\n",
    "import plotly.express as px\n",
    "from plotly import graph_objects as go\n",
    "import warnings\n",
    "from datetime import datetime, timedelta\n",
    "from scipy import stats as st"
   ]
  },
  {
   "cell_type": "code",
   "execution_count": 80,
   "metadata": {},
   "outputs": [],
   "source": [
    "#игнорирование предупреждений и ошибок при компиляции/запуске кода\n",
    "import warnings\n",
    "warnings.filterwarnings('ignore') \n",
    "\n",
    "#отображение всех чисел с двумя знаками после запятой\n",
    "pd.set_option('display.float_format', '{:.2f}'.format)\n",
    "\n",
    "#уберем ограничение строк и столбцов в отображении\n",
    "#pd.set_option('display.max_rows', None)\n",
    "pd.set_option('display.max_columns', None)"
   ]
  },
  {
   "cell_type": "code",
   "execution_count": 81,
   "metadata": {},
   "outputs": [],
   "source": [
    "#откроем файл, присвоим переменную\n",
    "try:    \n",
    "    game_actions = pd.read_csv('/datasets/game_actions.csv')\n",
    "    ad_costs = pd.read_csv('/datasets/ad_costs.csv')\n",
    "    user_source = pd.read_csv('/datasets/user_source.csv')\n",
    "except: \n",
    "    game_actions = pd.read_csv('https://code.s3.yandex.net/datasets/game_actions.csv')\n",
    "    ad_costs = pd.read_csv('https://code.s3.yandex.net/datasets/ad_costs.csv')\n",
    "    user_source = pd.read_csv('https://code.s3.yandex.net/datasets/user_source.csv')"
   ]
  },
  {
   "cell_type": "code",
   "execution_count": 82,
   "metadata": {},
   "outputs": [
    {
     "data": {
      "text/html": [
       "<div>\n",
       "<style scoped>\n",
       "    .dataframe tbody tr th:only-of-type {\n",
       "        vertical-align: middle;\n",
       "    }\n",
       "\n",
       "    .dataframe tbody tr th {\n",
       "        vertical-align: top;\n",
       "    }\n",
       "\n",
       "    .dataframe thead th {\n",
       "        text-align: right;\n",
       "    }\n",
       "</style>\n",
       "<table border=\"1\" class=\"dataframe\">\n",
       "  <thead>\n",
       "    <tr style=\"text-align: right;\">\n",
       "      <th></th>\n",
       "      <th>event_datetime</th>\n",
       "      <th>event</th>\n",
       "      <th>building_type</th>\n",
       "      <th>user_id</th>\n",
       "      <th>project_type</th>\n",
       "    </tr>\n",
       "  </thead>\n",
       "  <tbody>\n",
       "    <tr>\n",
       "      <th>0</th>\n",
       "      <td>2020-05-04 00:00:01</td>\n",
       "      <td>building</td>\n",
       "      <td>assembly_shop</td>\n",
       "      <td>55e92310-cb8e-4754-b622-597e124b03de</td>\n",
       "      <td>NaN</td>\n",
       "    </tr>\n",
       "    <tr>\n",
       "      <th>1</th>\n",
       "      <td>2020-05-04 00:00:03</td>\n",
       "      <td>building</td>\n",
       "      <td>assembly_shop</td>\n",
       "      <td>c07b1c10-f477-44dc-81dc-ec82254b1347</td>\n",
       "      <td>NaN</td>\n",
       "    </tr>\n",
       "    <tr>\n",
       "      <th>2</th>\n",
       "      <td>2020-05-04 00:00:16</td>\n",
       "      <td>building</td>\n",
       "      <td>assembly_shop</td>\n",
       "      <td>6edd42cc-e753-4ff6-a947-2107cd560710</td>\n",
       "      <td>NaN</td>\n",
       "    </tr>\n",
       "    <tr>\n",
       "      <th>3</th>\n",
       "      <td>2020-05-04 00:00:16</td>\n",
       "      <td>building</td>\n",
       "      <td>assembly_shop</td>\n",
       "      <td>92c69003-d60a-444a-827f-8cc51bf6bf4c</td>\n",
       "      <td>NaN</td>\n",
       "    </tr>\n",
       "    <tr>\n",
       "      <th>4</th>\n",
       "      <td>2020-05-04 00:00:35</td>\n",
       "      <td>building</td>\n",
       "      <td>assembly_shop</td>\n",
       "      <td>cdc6bb92-0ccb-4490-9866-ef142f09139d</td>\n",
       "      <td>NaN</td>\n",
       "    </tr>\n",
       "    <tr>\n",
       "      <th>5</th>\n",
       "      <td>2020-05-04 00:00:36</td>\n",
       "      <td>building</td>\n",
       "      <td>assembly_shop</td>\n",
       "      <td>06c592ca-902d-42bb-bac3-75ce84cca159</td>\n",
       "      <td>NaN</td>\n",
       "    </tr>\n",
       "    <tr>\n",
       "      <th>6</th>\n",
       "      <td>2020-05-04 00:00:36</td>\n",
       "      <td>building</td>\n",
       "      <td>assembly_shop</td>\n",
       "      <td>4fe0f101-694b-4e31-9740-d1d87f7208ea</td>\n",
       "      <td>NaN</td>\n",
       "    </tr>\n",
       "    <tr>\n",
       "      <th>7</th>\n",
       "      <td>2020-05-04 00:00:38</td>\n",
       "      <td>building</td>\n",
       "      <td>assembly_shop</td>\n",
       "      <td>beb8ca15-33a9-465d-b47b-89aa96f89c9a</td>\n",
       "      <td>NaN</td>\n",
       "    </tr>\n",
       "    <tr>\n",
       "      <th>8</th>\n",
       "      <td>2020-05-04 00:00:44</td>\n",
       "      <td>building</td>\n",
       "      <td>assembly_shop</td>\n",
       "      <td>65a92713-5969-48b1-8945-bfefa5063887</td>\n",
       "      <td>NaN</td>\n",
       "    </tr>\n",
       "    <tr>\n",
       "      <th>9</th>\n",
       "      <td>2020-05-04 00:01:33</td>\n",
       "      <td>building</td>\n",
       "      <td>assembly_shop</td>\n",
       "      <td>fa352362-d258-472c-b295-2796ccc39fa3</td>\n",
       "      <td>NaN</td>\n",
       "    </tr>\n",
       "  </tbody>\n",
       "</table>\n",
       "</div>"
      ],
      "text/plain": [
       "        event_datetime     event  building_type  \\\n",
       "0  2020-05-04 00:00:01  building  assembly_shop   \n",
       "1  2020-05-04 00:00:03  building  assembly_shop   \n",
       "2  2020-05-04 00:00:16  building  assembly_shop   \n",
       "3  2020-05-04 00:00:16  building  assembly_shop   \n",
       "4  2020-05-04 00:00:35  building  assembly_shop   \n",
       "5  2020-05-04 00:00:36  building  assembly_shop   \n",
       "6  2020-05-04 00:00:36  building  assembly_shop   \n",
       "7  2020-05-04 00:00:38  building  assembly_shop   \n",
       "8  2020-05-04 00:00:44  building  assembly_shop   \n",
       "9  2020-05-04 00:01:33  building  assembly_shop   \n",
       "\n",
       "                                user_id project_type  \n",
       "0  55e92310-cb8e-4754-b622-597e124b03de          NaN  \n",
       "1  c07b1c10-f477-44dc-81dc-ec82254b1347          NaN  \n",
       "2  6edd42cc-e753-4ff6-a947-2107cd560710          NaN  \n",
       "3  92c69003-d60a-444a-827f-8cc51bf6bf4c          NaN  \n",
       "4  cdc6bb92-0ccb-4490-9866-ef142f09139d          NaN  \n",
       "5  06c592ca-902d-42bb-bac3-75ce84cca159          NaN  \n",
       "6  4fe0f101-694b-4e31-9740-d1d87f7208ea          NaN  \n",
       "7  beb8ca15-33a9-465d-b47b-89aa96f89c9a          NaN  \n",
       "8  65a92713-5969-48b1-8945-bfefa5063887          NaN  \n",
       "9  fa352362-d258-472c-b295-2796ccc39fa3          NaN  "
      ]
     },
     "execution_count": 82,
     "metadata": {},
     "output_type": "execute_result"
    }
   ],
   "source": [
    "game_actions.head(10)"
   ]
  },
  {
   "cell_type": "code",
   "execution_count": 83,
   "metadata": {},
   "outputs": [
    {
     "data": {
      "text/html": [
       "<div>\n",
       "<style scoped>\n",
       "    .dataframe tbody tr th:only-of-type {\n",
       "        vertical-align: middle;\n",
       "    }\n",
       "\n",
       "    .dataframe tbody tr th {\n",
       "        vertical-align: top;\n",
       "    }\n",
       "\n",
       "    .dataframe thead th {\n",
       "        text-align: right;\n",
       "    }\n",
       "</style>\n",
       "<table border=\"1\" class=\"dataframe\">\n",
       "  <thead>\n",
       "    <tr style=\"text-align: right;\">\n",
       "      <th></th>\n",
       "      <th>source</th>\n",
       "      <th>day</th>\n",
       "      <th>cost</th>\n",
       "    </tr>\n",
       "  </thead>\n",
       "  <tbody>\n",
       "    <tr>\n",
       "      <th>0</th>\n",
       "      <td>facebook_ads</td>\n",
       "      <td>2020-05-03</td>\n",
       "      <td>935.88</td>\n",
       "    </tr>\n",
       "    <tr>\n",
       "      <th>1</th>\n",
       "      <td>facebook_ads</td>\n",
       "      <td>2020-05-04</td>\n",
       "      <td>548.35</td>\n",
       "    </tr>\n",
       "    <tr>\n",
       "      <th>2</th>\n",
       "      <td>facebook_ads</td>\n",
       "      <td>2020-05-05</td>\n",
       "      <td>260.19</td>\n",
       "    </tr>\n",
       "    <tr>\n",
       "      <th>3</th>\n",
       "      <td>facebook_ads</td>\n",
       "      <td>2020-05-06</td>\n",
       "      <td>177.98</td>\n",
       "    </tr>\n",
       "    <tr>\n",
       "      <th>4</th>\n",
       "      <td>facebook_ads</td>\n",
       "      <td>2020-05-07</td>\n",
       "      <td>111.77</td>\n",
       "    </tr>\n",
       "    <tr>\n",
       "      <th>5</th>\n",
       "      <td>facebook_ads</td>\n",
       "      <td>2020-05-08</td>\n",
       "      <td>68.01</td>\n",
       "    </tr>\n",
       "    <tr>\n",
       "      <th>6</th>\n",
       "      <td>facebook_ads</td>\n",
       "      <td>2020-05-09</td>\n",
       "      <td>38.72</td>\n",
       "    </tr>\n",
       "    <tr>\n",
       "      <th>7</th>\n",
       "      <td>instagram_new_adverts</td>\n",
       "      <td>2020-05-03</td>\n",
       "      <td>943.20</td>\n",
       "    </tr>\n",
       "    <tr>\n",
       "      <th>8</th>\n",
       "      <td>instagram_new_adverts</td>\n",
       "      <td>2020-05-04</td>\n",
       "      <td>502.93</td>\n",
       "    </tr>\n",
       "    <tr>\n",
       "      <th>9</th>\n",
       "      <td>instagram_new_adverts</td>\n",
       "      <td>2020-05-05</td>\n",
       "      <td>313.97</td>\n",
       "    </tr>\n",
       "  </tbody>\n",
       "</table>\n",
       "</div>"
      ],
      "text/plain": [
       "                  source         day   cost\n",
       "0           facebook_ads  2020-05-03 935.88\n",
       "1           facebook_ads  2020-05-04 548.35\n",
       "2           facebook_ads  2020-05-05 260.19\n",
       "3           facebook_ads  2020-05-06 177.98\n",
       "4           facebook_ads  2020-05-07 111.77\n",
       "5           facebook_ads  2020-05-08  68.01\n",
       "6           facebook_ads  2020-05-09  38.72\n",
       "7  instagram_new_adverts  2020-05-03 943.20\n",
       "8  instagram_new_adverts  2020-05-04 502.93\n",
       "9  instagram_new_adverts  2020-05-05 313.97"
      ]
     },
     "execution_count": 83,
     "metadata": {},
     "output_type": "execute_result"
    }
   ],
   "source": [
    "ad_costs.head(10)"
   ]
  },
  {
   "cell_type": "code",
   "execution_count": 84,
   "metadata": {},
   "outputs": [
    {
     "data": {
      "text/html": [
       "<div>\n",
       "<style scoped>\n",
       "    .dataframe tbody tr th:only-of-type {\n",
       "        vertical-align: middle;\n",
       "    }\n",
       "\n",
       "    .dataframe tbody tr th {\n",
       "        vertical-align: top;\n",
       "    }\n",
       "\n",
       "    .dataframe thead th {\n",
       "        text-align: right;\n",
       "    }\n",
       "</style>\n",
       "<table border=\"1\" class=\"dataframe\">\n",
       "  <thead>\n",
       "    <tr style=\"text-align: right;\">\n",
       "      <th></th>\n",
       "      <th>user_id</th>\n",
       "      <th>source</th>\n",
       "    </tr>\n",
       "  </thead>\n",
       "  <tbody>\n",
       "    <tr>\n",
       "      <th>0</th>\n",
       "      <td>0001f83c-c6ac-4621-b7f0-8a28b283ac30</td>\n",
       "      <td>facebook_ads</td>\n",
       "    </tr>\n",
       "    <tr>\n",
       "      <th>1</th>\n",
       "      <td>00151b4f-ba38-44a8-a650-d7cf130a0105</td>\n",
       "      <td>yandex_direct</td>\n",
       "    </tr>\n",
       "    <tr>\n",
       "      <th>2</th>\n",
       "      <td>001aaea6-3d14-43f1-8ca8-7f48820f17aa</td>\n",
       "      <td>youtube_channel_reklama</td>\n",
       "    </tr>\n",
       "    <tr>\n",
       "      <th>3</th>\n",
       "      <td>001d39dc-366c-4021-9604-6a3b9ff01e25</td>\n",
       "      <td>instagram_new_adverts</td>\n",
       "    </tr>\n",
       "    <tr>\n",
       "      <th>4</th>\n",
       "      <td>002f508f-67b6-479f-814b-b05f00d4e995</td>\n",
       "      <td>facebook_ads</td>\n",
       "    </tr>\n",
       "    <tr>\n",
       "      <th>5</th>\n",
       "      <td>003b80c6-4164-4157-bb2a-03d0181d39c4</td>\n",
       "      <td>yandex_direct</td>\n",
       "    </tr>\n",
       "    <tr>\n",
       "      <th>6</th>\n",
       "      <td>003ee7e8-6356-4286-a715-62f22a18d2a1</td>\n",
       "      <td>instagram_new_adverts</td>\n",
       "    </tr>\n",
       "    <tr>\n",
       "      <th>7</th>\n",
       "      <td>004074f8-251a-4776-922c-8348dca1a2f6</td>\n",
       "      <td>facebook_ads</td>\n",
       "    </tr>\n",
       "    <tr>\n",
       "      <th>8</th>\n",
       "      <td>00440efd-aa50-4b4b-aae8-ffcd1782729d</td>\n",
       "      <td>facebook_ads</td>\n",
       "    </tr>\n",
       "    <tr>\n",
       "      <th>9</th>\n",
       "      <td>00464e5e-28ed-4be6-bf44-517ef7b3937b</td>\n",
       "      <td>yandex_direct</td>\n",
       "    </tr>\n",
       "  </tbody>\n",
       "</table>\n",
       "</div>"
      ],
      "text/plain": [
       "                                user_id                   source\n",
       "0  0001f83c-c6ac-4621-b7f0-8a28b283ac30             facebook_ads\n",
       "1  00151b4f-ba38-44a8-a650-d7cf130a0105            yandex_direct\n",
       "2  001aaea6-3d14-43f1-8ca8-7f48820f17aa  youtube_channel_reklama\n",
       "3  001d39dc-366c-4021-9604-6a3b9ff01e25    instagram_new_adverts\n",
       "4  002f508f-67b6-479f-814b-b05f00d4e995             facebook_ads\n",
       "5  003b80c6-4164-4157-bb2a-03d0181d39c4            yandex_direct\n",
       "6  003ee7e8-6356-4286-a715-62f22a18d2a1    instagram_new_adverts\n",
       "7  004074f8-251a-4776-922c-8348dca1a2f6             facebook_ads\n",
       "8  00440efd-aa50-4b4b-aae8-ffcd1782729d             facebook_ads\n",
       "9  00464e5e-28ed-4be6-bf44-517ef7b3937b            yandex_direct"
      ]
     },
     "execution_count": 84,
     "metadata": {},
     "output_type": "execute_result"
    }
   ],
   "source": [
    "user_source.head(10)"
   ]
  },
  {
   "cell_type": "code",
   "execution_count": 85,
   "metadata": {},
   "outputs": [
    {
     "name": "stdout",
     "output_type": "stream",
     "text": [
      "<class 'pandas.core.frame.DataFrame'>\n",
      "RangeIndex: 135640 entries, 0 to 135639\n",
      "Data columns (total 5 columns):\n",
      " #   Column          Non-Null Count   Dtype \n",
      "---  ------          --------------   ----- \n",
      " 0   event_datetime  135640 non-null  object\n",
      " 1   event           135640 non-null  object\n",
      " 2   building_type   127957 non-null  object\n",
      " 3   user_id         135640 non-null  object\n",
      " 4   project_type    1866 non-null    object\n",
      "dtypes: object(5)\n",
      "memory usage: 5.2+ MB\n"
     ]
    }
   ],
   "source": [
    "game_actions.info()"
   ]
  },
  {
   "cell_type": "code",
   "execution_count": 86,
   "metadata": {},
   "outputs": [
    {
     "name": "stdout",
     "output_type": "stream",
     "text": [
      "<class 'pandas.core.frame.DataFrame'>\n",
      "RangeIndex: 28 entries, 0 to 27\n",
      "Data columns (total 3 columns):\n",
      " #   Column  Non-Null Count  Dtype  \n",
      "---  ------  --------------  -----  \n",
      " 0   source  28 non-null     object \n",
      " 1   day     28 non-null     object \n",
      " 2   cost    28 non-null     float64\n",
      "dtypes: float64(1), object(2)\n",
      "memory usage: 800.0+ bytes\n"
     ]
    }
   ],
   "source": [
    "ad_costs.info()"
   ]
  },
  {
   "cell_type": "code",
   "execution_count": 87,
   "metadata": {},
   "outputs": [
    {
     "name": "stdout",
     "output_type": "stream",
     "text": [
      "<class 'pandas.core.frame.DataFrame'>\n",
      "RangeIndex: 13576 entries, 0 to 13575\n",
      "Data columns (total 2 columns):\n",
      " #   Column   Non-Null Count  Dtype \n",
      "---  ------   --------------  ----- \n",
      " 0   user_id  13576 non-null  object\n",
      " 1   source   13576 non-null  object\n",
      "dtypes: object(2)\n",
      "memory usage: 212.2+ KB\n"
     ]
    }
   ],
   "source": [
    "user_source.info()"
   ]
  },
  {
   "cell_type": "markdown",
   "metadata": {},
   "source": [
    "**Вывод:**\n",
    "1. В датасете `games_actions`:\n",
    "- **135640** строк **5** столбцов\n",
    "- типы данных формата **object** содержат текстовые или смешанные числовые и нечисловые значения\n",
    "2. В датасете `ad_costs`:\n",
    "- **28** строк **3** столца\n",
    "- типы данных **float64** в 1 столбце и **object** в 2 столбцах\n",
    "3. В датасете `user_source`:\n",
    "- **13576** строк 2 столбца\n",
    "- оба столбца типа **object**\n",
    "\n",
    "Названия столбцов не требуют изменений, требуется изменить тип данных в столбце `event_datetime` датасета `game_actions`."
   ]
  },
  {
   "cell_type": "markdown",
   "metadata": {},
   "source": [
    "## Предобработка данных"
   ]
  },
  {
   "cell_type": "markdown",
   "metadata": {},
   "source": [
    "### Обработка дубликатов"
   ]
  },
  {
   "cell_type": "code",
   "execution_count": 88,
   "metadata": {},
   "outputs": [
    {
     "data": {
      "text/plain": [
       "1"
      ]
     },
     "execution_count": 88,
     "metadata": {},
     "output_type": "execute_result"
    }
   ],
   "source": [
    "#проверим датафрейм на явные дубликаты\n",
    "game_actions.duplicated().sum()"
   ]
  },
  {
   "cell_type": "code",
   "execution_count": 89,
   "metadata": {},
   "outputs": [
    {
     "data": {
      "text/plain": [
       "0"
      ]
     },
     "execution_count": 89,
     "metadata": {},
     "output_type": "execute_result"
    }
   ],
   "source": [
    "ad_costs.duplicated().sum()"
   ]
  },
  {
   "cell_type": "code",
   "execution_count": 90,
   "metadata": {},
   "outputs": [
    {
     "data": {
      "text/plain": [
       "0"
      ]
     },
     "execution_count": 90,
     "metadata": {},
     "output_type": "execute_result"
    }
   ],
   "source": [
    "user_source.duplicated().sum()"
   ]
  },
  {
   "cell_type": "code",
   "execution_count": 91,
   "metadata": {},
   "outputs": [],
   "source": [
    "#удалим выявленные неявные дубкликаты\n",
    "game_actions= game_actions.drop_duplicates()"
   ]
  },
  {
   "cell_type": "markdown",
   "metadata": {},
   "source": [
    "### Обработка пропусков"
   ]
  },
  {
   "cell_type": "code",
   "execution_count": 92,
   "metadata": {
    "scrolled": true
   },
   "outputs": [
    {
     "name": "stdout",
     "output_type": "stream",
     "text": [
      "доля пропусков в столбце event_datetime - 0%\n",
      "доля пропусков в столбце event - 0%\n",
      "доля пропусков в столбце building_type - 6%\n",
      "доля пропусков в столбце user_id - 0%\n",
      "доля пропусков в столбце project_type - 99%\n"
     ]
    }
   ],
   "source": [
    "#посмотрим на долю пропусков в столбцах датафрейма games_actions\n",
    "for col in game_actions.columns:\n",
    "    missing_data = np.mean(game_actions[col].isnull())\n",
    "    print('доля пропусков в столбце {} - {}%'.format(col, round(missing_data*100)))"
   ]
  },
  {
   "cell_type": "markdown",
   "metadata": {},
   "source": [
    "В 2 столбцах наблюдается высокий процент пропущенных значений – от 6% до 90%, лучше не удалять строки с пропусками т.к. это повлияет на результаты исследования.\n",
    "По условиям задачи у нас существует 2 способа завершить уровень - победа над первым врагом либо разработка орбитальной сборки спутников."
   ]
  },
  {
   "cell_type": "code",
   "execution_count": 93,
   "metadata": {},
   "outputs": [
    {
     "data": {
      "text/html": [
       "<div>\n",
       "<style scoped>\n",
       "    .dataframe tbody tr th:only-of-type {\n",
       "        vertical-align: middle;\n",
       "    }\n",
       "\n",
       "    .dataframe tbody tr th {\n",
       "        vertical-align: top;\n",
       "    }\n",
       "\n",
       "    .dataframe thead th {\n",
       "        text-align: right;\n",
       "    }\n",
       "</style>\n",
       "<table border=\"1\" class=\"dataframe\">\n",
       "  <thead>\n",
       "    <tr style=\"text-align: right;\">\n",
       "      <th></th>\n",
       "      <th>event_datetime</th>\n",
       "      <th>event</th>\n",
       "      <th>building_type</th>\n",
       "      <th>user_id</th>\n",
       "      <th>project_type</th>\n",
       "    </tr>\n",
       "  </thead>\n",
       "  <tbody>\n",
       "  </tbody>\n",
       "</table>\n",
       "</div>"
      ],
      "text/plain": [
       "Empty DataFrame\n",
       "Columns: [event_datetime, event, building_type, user_id, project_type]\n",
       "Index: []"
      ]
     },
     "execution_count": 93,
     "metadata": {},
     "output_type": "execute_result"
    }
   ],
   "source": [
    "game_actions.loc[(game_actions['event'] == 'project') & (game_actions['project_type'].isna())]"
   ]
  },
  {
   "cell_type": "markdown",
   "metadata": {},
   "source": [
    "Значит, пропуски, действительно, не связаны с ошибкой сбора данных, как и говорил заказчик. Типы проекта не указаны там, где событие не связано с проектом. Посмотрим теперь на пропуски в типах строений"
   ]
  },
  {
   "cell_type": "code",
   "execution_count": 94,
   "metadata": {
    "scrolled": true
   },
   "outputs": [
    {
     "data": {
      "text/html": [
       "<div>\n",
       "<style scoped>\n",
       "    .dataframe tbody tr th:only-of-type {\n",
       "        vertical-align: middle;\n",
       "    }\n",
       "\n",
       "    .dataframe tbody tr th {\n",
       "        vertical-align: top;\n",
       "    }\n",
       "\n",
       "    .dataframe thead th {\n",
       "        text-align: right;\n",
       "    }\n",
       "</style>\n",
       "<table border=\"1\" class=\"dataframe\">\n",
       "  <thead>\n",
       "    <tr style=\"text-align: right;\">\n",
       "      <th></th>\n",
       "      <th>event_datetime</th>\n",
       "      <th>event</th>\n",
       "      <th>building_type</th>\n",
       "      <th>user_id</th>\n",
       "      <th>project_type</th>\n",
       "    </tr>\n",
       "  </thead>\n",
       "  <tbody>\n",
       "  </tbody>\n",
       "</table>\n",
       "</div>"
      ],
      "text/plain": [
       "Empty DataFrame\n",
       "Columns: [event_datetime, event, building_type, user_id, project_type]\n",
       "Index: []"
      ]
     },
     "execution_count": 94,
     "metadata": {},
     "output_type": "execute_result"
    }
   ],
   "source": [
    "game_actions.loc[(game_actions['event'] == 'bulding') & (game_actions['building_type'].isna())]"
   ]
  },
  {
   "cell_type": "code",
   "execution_count": 95,
   "metadata": {
    "scrolled": true
   },
   "outputs": [
    {
     "data": {
      "text/plain": [
       "array(['finished_stage_1'], dtype=object)"
      ]
     },
     "execution_count": 95,
     "metadata": {},
     "output_type": "execute_result"
    }
   ],
   "source": [
    "game_actions.loc[(game_actions['project_type'].isna()) & (game_actions['building_type'].isna())]['event'].unique()"
   ]
  },
  {
   "cell_type": "markdown",
   "metadata": {},
   "source": [
    "Где завершение уровня, там и пропущены типы строений и проектов. Такие пропуски не требуют замены или удаления, поэтому оставим их как есть."
   ]
  },
  {
   "cell_type": "markdown",
   "metadata": {},
   "source": [
    "### Изменение типа данных"
   ]
  },
  {
   "cell_type": "code",
   "execution_count": 96,
   "metadata": {},
   "outputs": [
    {
     "data": {
      "text/html": [
       "<div>\n",
       "<style scoped>\n",
       "    .dataframe tbody tr th:only-of-type {\n",
       "        vertical-align: middle;\n",
       "    }\n",
       "\n",
       "    .dataframe tbody tr th {\n",
       "        vertical-align: top;\n",
       "    }\n",
       "\n",
       "    .dataframe thead th {\n",
       "        text-align: right;\n",
       "    }\n",
       "</style>\n",
       "<table border=\"1\" class=\"dataframe\">\n",
       "  <thead>\n",
       "    <tr style=\"text-align: right;\">\n",
       "      <th></th>\n",
       "      <th>event_datetime</th>\n",
       "      <th>event</th>\n",
       "      <th>building_type</th>\n",
       "      <th>user_id</th>\n",
       "      <th>project_type</th>\n",
       "    </tr>\n",
       "  </thead>\n",
       "  <tbody>\n",
       "    <tr>\n",
       "      <th>0</th>\n",
       "      <td>2020-05-04 00:00:01</td>\n",
       "      <td>building</td>\n",
       "      <td>assembly_shop</td>\n",
       "      <td>55e92310-cb8e-4754-b622-597e124b03de</td>\n",
       "      <td>NaN</td>\n",
       "    </tr>\n",
       "    <tr>\n",
       "      <th>1</th>\n",
       "      <td>2020-05-04 00:00:03</td>\n",
       "      <td>building</td>\n",
       "      <td>assembly_shop</td>\n",
       "      <td>c07b1c10-f477-44dc-81dc-ec82254b1347</td>\n",
       "      <td>NaN</td>\n",
       "    </tr>\n",
       "    <tr>\n",
       "      <th>2</th>\n",
       "      <td>2020-05-04 00:00:16</td>\n",
       "      <td>building</td>\n",
       "      <td>assembly_shop</td>\n",
       "      <td>6edd42cc-e753-4ff6-a947-2107cd560710</td>\n",
       "      <td>NaN</td>\n",
       "    </tr>\n",
       "    <tr>\n",
       "      <th>3</th>\n",
       "      <td>2020-05-04 00:00:16</td>\n",
       "      <td>building</td>\n",
       "      <td>assembly_shop</td>\n",
       "      <td>92c69003-d60a-444a-827f-8cc51bf6bf4c</td>\n",
       "      <td>NaN</td>\n",
       "    </tr>\n",
       "    <tr>\n",
       "      <th>4</th>\n",
       "      <td>2020-05-04 00:00:35</td>\n",
       "      <td>building</td>\n",
       "      <td>assembly_shop</td>\n",
       "      <td>cdc6bb92-0ccb-4490-9866-ef142f09139d</td>\n",
       "      <td>NaN</td>\n",
       "    </tr>\n",
       "  </tbody>\n",
       "</table>\n",
       "</div>"
      ],
      "text/plain": [
       "       event_datetime     event  building_type  \\\n",
       "0 2020-05-04 00:00:01  building  assembly_shop   \n",
       "1 2020-05-04 00:00:03  building  assembly_shop   \n",
       "2 2020-05-04 00:00:16  building  assembly_shop   \n",
       "3 2020-05-04 00:00:16  building  assembly_shop   \n",
       "4 2020-05-04 00:00:35  building  assembly_shop   \n",
       "\n",
       "                                user_id project_type  \n",
       "0  55e92310-cb8e-4754-b622-597e124b03de          NaN  \n",
       "1  c07b1c10-f477-44dc-81dc-ec82254b1347          NaN  \n",
       "2  6edd42cc-e753-4ff6-a947-2107cd560710          NaN  \n",
       "3  92c69003-d60a-444a-827f-8cc51bf6bf4c          NaN  \n",
       "4  cdc6bb92-0ccb-4490-9866-ef142f09139d          NaN  "
      ]
     },
     "metadata": {},
     "output_type": "display_data"
    },
    {
     "name": "stdout",
     "output_type": "stream",
     "text": [
      "<class 'pandas.core.frame.DataFrame'>\n",
      "Int64Index: 135639 entries, 0 to 135639\n",
      "Data columns (total 5 columns):\n",
      " #   Column          Non-Null Count   Dtype         \n",
      "---  ------          --------------   -----         \n",
      " 0   event_datetime  135639 non-null  datetime64[ns]\n",
      " 1   event           135639 non-null  object        \n",
      " 2   building_type   127956 non-null  object        \n",
      " 3   user_id         135639 non-null  object        \n",
      " 4   project_type    1866 non-null    object        \n",
      "dtypes: datetime64[ns](1), object(4)\n",
      "memory usage: 6.2+ MB\n"
     ]
    }
   ],
   "source": [
    "#изменим тип данных для удобства\n",
    "game_actions['event_datetime'] = pd.to_datetime(game_actions['event_datetime'], format = '%Y-%m-%d')\n",
    "display(game_actions.head())\n",
    "game_actions.info()"
   ]
  },
  {
   "cell_type": "code",
   "execution_count": 97,
   "metadata": {},
   "outputs": [],
   "source": [
    "#изменим тип данных для удобства\n",
    "ad_costs['day'] = pd.to_datetime(ad_costs['day'], format = '%Y-%m-%d')"
   ]
  },
  {
   "cell_type": "markdown",
   "metadata": {},
   "source": [
    "### Проверка на ошибки в данных"
   ]
  },
  {
   "cell_type": "code",
   "execution_count": 98,
   "metadata": {},
   "outputs": [
    {
     "data": {
      "text/html": [
       "<div>\n",
       "<style scoped>\n",
       "    .dataframe tbody tr th:only-of-type {\n",
       "        vertical-align: middle;\n",
       "    }\n",
       "\n",
       "    .dataframe tbody tr th {\n",
       "        vertical-align: top;\n",
       "    }\n",
       "\n",
       "    .dataframe thead th {\n",
       "        text-align: right;\n",
       "    }\n",
       "</style>\n",
       "<table border=\"1\" class=\"dataframe\">\n",
       "  <thead>\n",
       "    <tr style=\"text-align: right;\">\n",
       "      <th></th>\n",
       "      <th></th>\n",
       "      <th>count</th>\n",
       "    </tr>\n",
       "    <tr>\n",
       "      <th>user_id</th>\n",
       "      <th>event</th>\n",
       "      <th></th>\n",
       "    </tr>\n",
       "  </thead>\n",
       "  <tbody>\n",
       "    <tr>\n",
       "      <th>001d39dc-366c-4021-9604-6a3b9ff01e25</th>\n",
       "      <th>finished_stage_1</th>\n",
       "      <td>1</td>\n",
       "    </tr>\n",
       "    <tr>\n",
       "      <th>a9ff93bd-0b96-4e89-bef7-c29326643faf</th>\n",
       "      <th>finished_stage_1</th>\n",
       "      <td>1</td>\n",
       "    </tr>\n",
       "    <tr>\n",
       "      <th>a9fdac24-7f99-4c08-a4cd-32aaa4f45891</th>\n",
       "      <th>finished_stage_1</th>\n",
       "      <td>1</td>\n",
       "    </tr>\n",
       "    <tr>\n",
       "      <th>a9f014cc-fa01-475c-9002-a9dad7d2a1f9</th>\n",
       "      <th>finished_stage_1</th>\n",
       "      <td>1</td>\n",
       "    </tr>\n",
       "    <tr>\n",
       "      <th>a9c72aaf-a840-4871-8dd5-bf6f0dc42dee</th>\n",
       "      <th>project</th>\n",
       "      <td>1</td>\n",
       "    </tr>\n",
       "    <tr>\n",
       "      <th>...</th>\n",
       "      <th>...</th>\n",
       "      <td>...</td>\n",
       "    </tr>\n",
       "    <tr>\n",
       "      <th>52f1231a-50bc-49ad-aa1c-43355c6e9872</th>\n",
       "      <th>finished_stage_1</th>\n",
       "      <td>1</td>\n",
       "    </tr>\n",
       "    <tr>\n",
       "      <th>52c8f5fe-6d2b-495a-8985-d58941089fb9</th>\n",
       "      <th>finished_stage_1</th>\n",
       "      <td>1</td>\n",
       "    </tr>\n",
       "    <tr>\n",
       "      <th>52c654b7-2af1-41c9-98c4-1d657c263aa9</th>\n",
       "      <th>finished_stage_1</th>\n",
       "      <td>1</td>\n",
       "    </tr>\n",
       "    <tr>\n",
       "      <th>3d609251-7d4b-49d0-975c-8d5bcabb682a</th>\n",
       "      <th>finished_stage_1</th>\n",
       "      <td>1</td>\n",
       "    </tr>\n",
       "    <tr>\n",
       "      <th>ffff69cc-fec1-4fd3-9f98-93be1112a6b8</th>\n",
       "      <th>project</th>\n",
       "      <td>1</td>\n",
       "    </tr>\n",
       "  </tbody>\n",
       "</table>\n",
       "<p>7683 rows × 1 columns</p>\n",
       "</div>"
      ],
      "text/plain": [
       "                                                       count\n",
       "user_id                              event                  \n",
       "001d39dc-366c-4021-9604-6a3b9ff01e25 finished_stage_1      1\n",
       "a9ff93bd-0b96-4e89-bef7-c29326643faf finished_stage_1      1\n",
       "a9fdac24-7f99-4c08-a4cd-32aaa4f45891 finished_stage_1      1\n",
       "a9f014cc-fa01-475c-9002-a9dad7d2a1f9 finished_stage_1      1\n",
       "a9c72aaf-a840-4871-8dd5-bf6f0dc42dee project               1\n",
       "...                                                      ...\n",
       "52f1231a-50bc-49ad-aa1c-43355c6e9872 finished_stage_1      1\n",
       "52c8f5fe-6d2b-495a-8985-d58941089fb9 finished_stage_1      1\n",
       "52c654b7-2af1-41c9-98c4-1d657c263aa9 finished_stage_1      1\n",
       "3d609251-7d4b-49d0-975c-8d5bcabb682a finished_stage_1      1\n",
       "ffff69cc-fec1-4fd3-9f98-93be1112a6b8 project               1\n",
       "\n",
       "[7683 rows x 1 columns]"
      ]
     },
     "execution_count": 98,
     "metadata": {},
     "output_type": "execute_result"
    }
   ],
   "source": [
    "# проверяем на то что игрок мог сыграть два и более раз\n",
    "(game_actions[game_actions['event'] != 'building']\n",
    " .groupby(['user_id', 'event'])\n",
    " .agg({'event':'count'})\n",
    " .rename(columns={'event':'count'}).sort_values(by='count'))"
   ]
  },
  {
   "cell_type": "markdown",
   "metadata": {},
   "source": [
    "**Вывод:**\n",
    "1. В датасете `games_actions`:\n",
    "- был удален **1** явный дубликат\n",
    "- переведен столбец `event_datetime` в формат datetime, а также был добавлен отдельный столбец дней\n",
    "2. В датасете `ad_costs`:\n",
    "- отсутствуют дубликаты\n",
    "- переведен столбец `day` в в формат datetime\n",
    "3. В датасете `user_source`:\n",
    "- пропущенные значения отсутствуют\n",
    "- отсутствуют дубликат\n",
    "4. Обнаруженные пропуски не связаны с какими-либо ошибками при выгрузке, а вполне логичны и обоснованы (тип проекта пропущен в событиях, не связанных с проектами, а пропуски в типе объекта - в событиях, не связанных с построением объектов). Поэтому принято решение их не удалять и не заменять.\n",
    "5. Ошибок в данных нет"
   ]
  },
  {
   "cell_type": "markdown",
   "metadata": {},
   "source": [
    "## Исследовательский анализ данных"
   ]
  },
  {
   "cell_type": "markdown",
   "metadata": {},
   "source": [
    "Изменим датасеты для наглядности и удобства."
   ]
  },
  {
   "cell_type": "markdown",
   "metadata": {},
   "source": [
    "Добавим источник пользователя.  \n",
    "Выведем в отдельный столбец день, чтобы в дальнейшем было удобно группировать по дням."
   ]
  },
  {
   "cell_type": "code",
   "execution_count": 99,
   "metadata": {},
   "outputs": [],
   "source": [
    "game_actions = game_actions.merge(user_source, how='left', on='user_id')\n",
    "game_actions['activity_day'] = game_actions['event_datetime'].dt.date"
   ]
  },
  {
   "cell_type": "markdown",
   "metadata": {},
   "source": [
    "Добавляем время первого действия.  \n",
    "Добавляем время последнего действия."
   ]
  },
  {
   "cell_type": "code",
   "execution_count": 100,
   "metadata": {},
   "outputs": [],
   "source": [
    "first_event = game_actions.groupby(['user_id']).agg(first_event_datetime = ('event_datetime', 'min')).reset_index()\n",
    "game_actions = game_actions.merge(first_event, how='left', on='user_id')\n",
    "game_actions['first_event_datetime'] = game_actions['first_event_datetime'].dt.date\n",
    "last_event = game_actions.groupby(['user_id']).agg(last_event_datetime = ('event_datetime', 'max')).reset_index()\n",
    "game_actions = game_actions.merge(last_event, how='left', on='user_id')\n",
    "game_actions['last_event_datetime'] = game_actions['last_event_datetime'].dt.date"
   ]
  },
  {
   "cell_type": "code",
   "execution_count": 101,
   "metadata": {},
   "outputs": [],
   "source": [
    "# добавляем lifetime в нашу таблицу\n",
    "game_actions['cohort_lifetime'] = game_actions['activity_day'] - game_actions['first_event_datetime']\n",
    "game_actions['cohort_lifetime'] = game_actions['cohort_lifetime'] / np.timedelta64(1,'D')\n",
    "game_actions['cohort_lifetime'] = game_actions['cohort_lifetime'].round().astype('int')"
   ]
  },
  {
   "cell_type": "markdown",
   "metadata": {},
   "source": [
    "Добавим количество дней пользователь провел в игре"
   ]
  },
  {
   "cell_type": "code",
   "execution_count": 102,
   "metadata": {
    "scrolled": true
   },
   "outputs": [
    {
     "data": {
      "text/html": [
       "<div>\n",
       "<style scoped>\n",
       "    .dataframe tbody tr th:only-of-type {\n",
       "        vertical-align: middle;\n",
       "    }\n",
       "\n",
       "    .dataframe tbody tr th {\n",
       "        vertical-align: top;\n",
       "    }\n",
       "\n",
       "    .dataframe thead th {\n",
       "        text-align: right;\n",
       "    }\n",
       "</style>\n",
       "<table border=\"1\" class=\"dataframe\">\n",
       "  <thead>\n",
       "    <tr style=\"text-align: right;\">\n",
       "      <th></th>\n",
       "      <th>event_datetime</th>\n",
       "      <th>event</th>\n",
       "      <th>building_type</th>\n",
       "      <th>user_id</th>\n",
       "      <th>project_type</th>\n",
       "      <th>source</th>\n",
       "      <th>activity_day</th>\n",
       "      <th>first_event_datetime</th>\n",
       "      <th>last_event_datetime</th>\n",
       "      <th>cohort_lifetime</th>\n",
       "      <th>time_in_game</th>\n",
       "    </tr>\n",
       "  </thead>\n",
       "  <tbody>\n",
       "    <tr>\n",
       "      <th>0</th>\n",
       "      <td>2020-05-04 00:00:01</td>\n",
       "      <td>building</td>\n",
       "      <td>assembly_shop</td>\n",
       "      <td>55e92310-cb8e-4754-b622-597e124b03de</td>\n",
       "      <td>NaN</td>\n",
       "      <td>youtube_channel_reklama</td>\n",
       "      <td>2020-05-04</td>\n",
       "      <td>2020-05-04</td>\n",
       "      <td>2020-05-10</td>\n",
       "      <td>0</td>\n",
       "      <td>6</td>\n",
       "    </tr>\n",
       "    <tr>\n",
       "      <th>1</th>\n",
       "      <td>2020-05-05 05:20:15</td>\n",
       "      <td>building</td>\n",
       "      <td>assembly_shop</td>\n",
       "      <td>55e92310-cb8e-4754-b622-597e124b03de</td>\n",
       "      <td>NaN</td>\n",
       "      <td>youtube_channel_reklama</td>\n",
       "      <td>2020-05-05</td>\n",
       "      <td>2020-05-04</td>\n",
       "      <td>2020-05-10</td>\n",
       "      <td>1</td>\n",
       "      <td>6</td>\n",
       "    </tr>\n",
       "    <tr>\n",
       "      <th>2</th>\n",
       "      <td>2020-05-05 19:24:02</td>\n",
       "      <td>building</td>\n",
       "      <td>assembly_shop</td>\n",
       "      <td>55e92310-cb8e-4754-b622-597e124b03de</td>\n",
       "      <td>NaN</td>\n",
       "      <td>youtube_channel_reklama</td>\n",
       "      <td>2020-05-05</td>\n",
       "      <td>2020-05-04</td>\n",
       "      <td>2020-05-10</td>\n",
       "      <td>1</td>\n",
       "      <td>6</td>\n",
       "    </tr>\n",
       "    <tr>\n",
       "      <th>3</th>\n",
       "      <td>2020-05-05 20:59:19</td>\n",
       "      <td>building</td>\n",
       "      <td>assembly_shop</td>\n",
       "      <td>55e92310-cb8e-4754-b622-597e124b03de</td>\n",
       "      <td>NaN</td>\n",
       "      <td>youtube_channel_reklama</td>\n",
       "      <td>2020-05-05</td>\n",
       "      <td>2020-05-04</td>\n",
       "      <td>2020-05-10</td>\n",
       "      <td>1</td>\n",
       "      <td>6</td>\n",
       "    </tr>\n",
       "    <tr>\n",
       "      <th>4</th>\n",
       "      <td>2020-05-06 00:52:56</td>\n",
       "      <td>building</td>\n",
       "      <td>assembly_shop</td>\n",
       "      <td>55e92310-cb8e-4754-b622-597e124b03de</td>\n",
       "      <td>NaN</td>\n",
       "      <td>youtube_channel_reklama</td>\n",
       "      <td>2020-05-06</td>\n",
       "      <td>2020-05-04</td>\n",
       "      <td>2020-05-10</td>\n",
       "      <td>2</td>\n",
       "      <td>6</td>\n",
       "    </tr>\n",
       "  </tbody>\n",
       "</table>\n",
       "</div>"
      ],
      "text/plain": [
       "       event_datetime     event  building_type  \\\n",
       "0 2020-05-04 00:00:01  building  assembly_shop   \n",
       "1 2020-05-05 05:20:15  building  assembly_shop   \n",
       "2 2020-05-05 19:24:02  building  assembly_shop   \n",
       "3 2020-05-05 20:59:19  building  assembly_shop   \n",
       "4 2020-05-06 00:52:56  building  assembly_shop   \n",
       "\n",
       "                                user_id project_type                   source  \\\n",
       "0  55e92310-cb8e-4754-b622-597e124b03de          NaN  youtube_channel_reklama   \n",
       "1  55e92310-cb8e-4754-b622-597e124b03de          NaN  youtube_channel_reklama   \n",
       "2  55e92310-cb8e-4754-b622-597e124b03de          NaN  youtube_channel_reklama   \n",
       "3  55e92310-cb8e-4754-b622-597e124b03de          NaN  youtube_channel_reklama   \n",
       "4  55e92310-cb8e-4754-b622-597e124b03de          NaN  youtube_channel_reklama   \n",
       "\n",
       "  activity_day first_event_datetime last_event_datetime  cohort_lifetime  \\\n",
       "0   2020-05-04           2020-05-04          2020-05-10                0   \n",
       "1   2020-05-05           2020-05-04          2020-05-10                1   \n",
       "2   2020-05-05           2020-05-04          2020-05-10                1   \n",
       "3   2020-05-05           2020-05-04          2020-05-10                1   \n",
       "4   2020-05-06           2020-05-04          2020-05-10                2   \n",
       "\n",
       "   time_in_game  \n",
       "0             6  \n",
       "1             6  \n",
       "2             6  \n",
       "3             6  \n",
       "4             6  "
      ]
     },
     "execution_count": 102,
     "metadata": {},
     "output_type": "execute_result"
    }
   ],
   "source": [
    "\n",
    "time_in_game = game_actions.groupby('user_id')['cohort_lifetime'].max().reset_index()\n",
    "time_in_game.columns = ['user_id', 'time_in_game']\n",
    "game_actions = game_actions.merge(time_in_game, on='user_id')\n",
    "game_actions.head()"
   ]
  },
  {
   "cell_type": "markdown",
   "metadata": {},
   "source": [
    "Выведем отдельно пользователей, которые окончили уровень."
   ]
  },
  {
   "cell_type": "code",
   "execution_count": 103,
   "metadata": {},
   "outputs": [],
   "source": [
    "users_with_finish = game_actions[game_actions['event'] == 'finished_stage_1'].reset_index(drop=True)\n",
    "users_with_finish = users_with_finish['user_id']"
   ]
  },
  {
   "cell_type": "code",
   "execution_count": 104,
   "metadata": {},
   "outputs": [],
   "source": [
    "# пользователи со статусом \"первый уровень получен\"\n",
    "finished = game_actions.query('user_id in @users_with_finish').reset_index(drop=True)\n",
    "# пользователи со статусом \"первый уровень не получен\"\n",
    "not_finished = game_actions.query('user_id not in @users_with_finish').reset_index(drop=True)\n"
   ]
  },
  {
   "cell_type": "markdown",
   "metadata": {},
   "source": [
    "Выведем пользователей, которые окончили уровень через проект"
   ]
  },
  {
   "cell_type": "code",
   "execution_count": 105,
   "metadata": {},
   "outputs": [],
   "source": [
    "users_with_project = finished[finished['event'] == 'project'].reset_index(drop=True)\n",
    "users_with_project = users_with_project['user_id']"
   ]
  },
  {
   "cell_type": "code",
   "execution_count": 106,
   "metadata": {},
   "outputs": [],
   "source": [
    "# пользователи, получившие первый уровень через проект\n",
    "finished_with_project = finished.query('user_id in @users_with_project').reset_index(drop=True)\n",
    "# пользователи, получившие первый уровень через победу над врагами\n",
    "finished_without_project = finished.query('user_id not in @users_with_project').reset_index(drop=True)"
   ]
  },
  {
   "cell_type": "markdown",
   "metadata": {},
   "source": [
    "Обрежем начальный датафрейм на 4 маленьких, чтобы разделить пользователей по источникам."
   ]
  },
  {
   "cell_type": "code",
   "execution_count": 107,
   "metadata": {},
   "outputs": [],
   "source": [
    "youtube = game_actions[game_actions['source'] == 'youtube_channel_reklama'].reset_index(drop=True)\n",
    "yandex = game_actions[game_actions['source'] == 'yandex_direct'].reset_index(drop=True)\n",
    "facebook = game_actions[game_actions['source'] == 'facebook_ads'].reset_index(drop=True)\n",
    "instagram = game_actions[game_actions['source'] == 'instagram_new_adverts'].reset_index(drop=True)"
   ]
  },
  {
   "cell_type": "markdown",
   "metadata": {},
   "source": [
    "### Количество пользователей завершивших игру"
   ]
  },
  {
   "cell_type": "code",
   "execution_count": 108,
   "metadata": {},
   "outputs": [],
   "source": [
    "def precent_users(df, df2):\n",
    "    users = df['user_id'].nunique()\n",
    "    users_2 = df2['user_id'].nunique()\n",
    "    precent = users_2 / users\n",
    "    print('{:.1%}'.format(precent))"
   ]
  },
  {
   "cell_type": "code",
   "execution_count": 109,
   "metadata": {
    "scrolled": true
   },
   "outputs": [
    {
     "name": "stdout",
     "output_type": "stream",
     "text": [
      "Закончили первый уровень:\n",
      "42.8%\n",
      "Не закончили первый уровень:\n",
      "57.2%\n"
     ]
    }
   ],
   "source": [
    "print('Закончили первый уровень:')\n",
    "precent_users(game_actions, finished)\n",
    "print('Не закончили первый уровень:')\n",
    "precent_users(game_actions, not_finished)"
   ]
  },
  {
   "cell_type": "code",
   "execution_count": 110,
   "metadata": {},
   "outputs": [
    {
     "name": "stdout",
     "output_type": "stream",
     "text": [
      "Закончили первый уровень:с yandex\n",
      "42.4%\n",
      "Не закончили первый уровень:с yandex\n",
      "57.6%\n"
     ]
    }
   ],
   "source": [
    "print('Закончили первый уровень:с yandex')\n",
    "precent_users(yandex, finished[finished['source'] == 'yandex_direct'])\n",
    "print('Не закончили первый уровень:с yandex')\n",
    "precent_users(yandex, not_finished[not_finished['source'] == 'yandex_direct'])"
   ]
  },
  {
   "cell_type": "code",
   "execution_count": 111,
   "metadata": {},
   "outputs": [
    {
     "name": "stdout",
     "output_type": "stream",
     "text": [
      "Закончили первый уровень: c youtube\n",
      "43.1%\n",
      "Не закончили первый уровень: c youtube\n",
      "56.9%\n"
     ]
    }
   ],
   "source": [
    "print('Закончили первый уровень: c youtube')\n",
    "precent_users(youtube, finished[finished['source'] == 'youtube_channel_reklama'])\n",
    "print('Не закончили первый уровень: c youtube')\n",
    "precent_users(youtube, not_finished[not_finished['source'] == 'youtube_channel_reklama'])"
   ]
  },
  {
   "cell_type": "code",
   "execution_count": 112,
   "metadata": {},
   "outputs": [
    {
     "name": "stdout",
     "output_type": "stream",
     "text": [
      "Закончили первый уровень: c facebook\n",
      "42.2%\n",
      "Не закончили первый уровень: c facebook\n",
      "57.8%\n"
     ]
    }
   ],
   "source": [
    "print('Закончили первый уровень: c facebook')\n",
    "precent_users(facebook, finished[finished['source'] == 'facebook_ads'])\n",
    "print('Не закончили первый уровень: c facebook')\n",
    "precent_users(facebook, not_finished[not_finished['source'] == 'facebook_ads'])"
   ]
  },
  {
   "cell_type": "code",
   "execution_count": 113,
   "metadata": {},
   "outputs": [
    {
     "name": "stdout",
     "output_type": "stream",
     "text": [
      "Закончили первый уровень: c instagram\n",
      "43.8%\n",
      "Не закончили первый уровень: c instagram\n",
      "56.2%\n"
     ]
    }
   ],
   "source": [
    "print('Закончили первый уровень: c instagram')\n",
    "precent_users(instagram, finished[finished['source'] == 'instagram_new_adverts'])\n",
    "print('Не закончили первый уровень: c instagram')\n",
    "precent_users(instagram, not_finished[not_finished['source'] == 'instagram_new_adverts'])"
   ]
  },
  {
   "cell_type": "markdown",
   "metadata": {},
   "source": [
    "**Большинство пользователей не закончили первый уровень.**"
   ]
  },
  {
   "cell_type": "code",
   "execution_count": 114,
   "metadata": {
    "scrolled": true
   },
   "outputs": [
    {
     "name": "stdout",
     "output_type": "stream",
     "text": [
      "Закончили первый уровень победой:\n",
      "67.9%\n",
      "Закончили первый уровень проектом:\n",
      "32.1%\n"
     ]
    }
   ],
   "source": [
    "print('Закончили первый уровень победой:')\n",
    "precent_users(finished, finished_without_project)\n",
    "print('Закончили первый уровень проектом:')\n",
    "precent_users(finished, finished_with_project)"
   ]
  },
  {
   "cell_type": "markdown",
   "metadata": {},
   "source": [
    "### Врем прохождения с разбивкой по каналам"
   ]
  },
  {
   "cell_type": "code",
   "execution_count": 115,
   "metadata": {
    "scrolled": true
   },
   "outputs": [
    {
     "data": {
      "text/plain": [
       "12.0"
      ]
     },
     "execution_count": 115,
     "metadata": {},
     "output_type": "execute_result"
    }
   ],
   "source": [
    "#cреднее время в игре пользователей, которые завершили первый уровень\n",
    "finished['time_in_game'].median()"
   ]
  },
  {
   "cell_type": "code",
   "execution_count": 116,
   "metadata": {},
   "outputs": [
    {
     "data": {
      "text/plain": [
       "11.0"
      ]
     },
     "execution_count": 116,
     "metadata": {},
     "output_type": "execute_result"
    }
   ],
   "source": [
    "#cреднее время в игре пользователей, которые не завершили первый уровень\n",
    "not_finished['time_in_game'].median()"
   ]
  },
  {
   "cell_type": "code",
   "execution_count": 117,
   "metadata": {},
   "outputs": [
    {
     "data": {
      "text/plain": [
       "13.0"
      ]
     },
     "execution_count": 117,
     "metadata": {},
     "output_type": "execute_result"
    }
   ],
   "source": [
    "#cреднее время в игре пользователей, которые завершили первый уровень через проект\n",
    "finished_with_project['time_in_game'].median()\n"
   ]
  },
  {
   "cell_type": "code",
   "execution_count": 118,
   "metadata": {},
   "outputs": [
    {
     "data": {
      "text/plain": [
       "11.0"
      ]
     },
     "execution_count": 118,
     "metadata": {},
     "output_type": "execute_result"
    }
   ],
   "source": [
    "#cреднее время в игре пользователей, которые завершили первый уровень через победу над врагом\n",
    "finished_without_project['time_in_game'].median()"
   ]
  },
  {
   "cell_type": "markdown",
   "metadata": {},
   "source": [
    "**Прохождение уровня через проект занимает на 2 дня больше**"
   ]
  },
  {
   "cell_type": "code",
   "execution_count": 119,
   "metadata": {},
   "outputs": [],
   "source": [
    "def time_in_game_plot(df, name):\n",
    "    tig = df.groupby('time_in_game')['user_id'].nunique().reset_index()\n",
    "    plt.figure(figsize=(12,5))\n",
    "    plt.plot(tig['time_in_game'], tig['user_id'], marker = 'o');\n",
    "    plt.title(f'Количество дней в игре на одного пользователя: {name}', fontsize=17);\n",
    "    plt.xlabel('Дни в игре', fontsize = 15) \n",
    "    plt.ylabel('Пользователи', fontsize = 15) "
   ]
  },
  {
   "cell_type": "code",
   "execution_count": 120,
   "metadata": {},
   "outputs": [
    {
     "data": {
      "image/png": "[encoded data removed]",
      "text/plain": [
       "<Figure size 864x360 with 1 Axes>"
      ]
     },
     "metadata": {
      "needs_background": "light"
     },
     "output_type": "display_data"
    },
    {
     "data": {
      "image/png": "[encoded data removed]",
      "text/plain": [
       "<Figure size 864x360 with 1 Axes>"
      ]
     },
     "metadata": {
      "needs_background": "light"
     },
     "output_type": "display_data"
    }
   ],
   "source": [
    "time_in_game_plot(finished, 'Получившие первый уровень')\n",
    "time_in_game_plot(not_finished, 'Не получившие первый уровень')"
   ]
  },
  {
   "cell_type": "code",
   "execution_count": 121,
   "metadata": {},
   "outputs": [
    {
     "data": {
      "image/png": "[encoded data removed]",
      "text/plain": [
       "<Figure size 864x360 with 1 Axes>"
      ]
     },
     "metadata": {
      "needs_background": "light"
     },
     "output_type": "display_data"
    },
    {
     "data": {
      "image/png": "[encoded data removed]",
      "text/plain": [
       "<Figure size 864x360 with 1 Axes>"
      ]
     },
     "metadata": {
      "needs_background": "light"
     },
     "output_type": "display_data"
    }
   ],
   "source": [
    "time_in_game_plot(finished_with_project, 'Получившие победу через проект')\n",
    "time_in_game_plot(finished_without_project, 'Получившие победу через победу над врагом')"
   ]
  },
  {
   "cell_type": "markdown",
   "metadata": {},
   "source": [
    "**Оба графики имеют примерно одинаковое смещение в левую сторону. Данные представлены тех, кто получил первый уровень. А это значит, что какие-то пользователи получили первый уровень в течение 2-4х дней (активные игроки, видимо). А кто-то получает уровень по 30 дней.**"
   ]
  },
  {
   "cell_type": "markdown",
   "metadata": {},
   "source": [
    "Функция для расчета и построения графика со временем, проведенным в игре, в зависимости от источника и типа стратегии."
   ]
  },
  {
   "cell_type": "code",
   "execution_count": 122,
   "metadata": {},
   "outputs": [],
   "source": [
    "def tig_source_plot(df, name):\n",
    "    tig = df.pivot_table(index = 'time_in_game',\n",
    "                           columns = 'source',\n",
    "                           values = 'user_id',\n",
    "                           aggfunc = 'nunique')\n",
    "    ax = tig.plot(figsize=(12,5), marker='o');\n",
    "    ax.set_title(f'Время в игре: {name}', fontsize=17);\n",
    "    ax.set_xlabel('Дни', fontsize=15);\n",
    "    ax.set_ylabel('Пльзователи', fontsize=15);"
   ]
  },
  {
   "cell_type": "code",
   "execution_count": 123,
   "metadata": {
    "scrolled": false
   },
   "outputs": [
    {
     "data": {
      "image/png": "[encoded data removed]",
      "text/plain": [
       "<Figure size 864x360 with 1 Axes>"
      ]
     },
     "metadata": {
      "needs_background": "light"
     },
     "output_type": "display_data"
    },
    {
     "data": {
      "image/png": "[encoded data removed]",
      "text/plain": [
       "<Figure size 864x360 with 1 Axes>"
      ]
     },
     "metadata": {
      "needs_background": "light"
     },
     "output_type": "display_data"
    },
    {
     "data": {
      "image/png": "[encoded data removed]",
      "text/plain": [
       "<Figure size 864x360 with 1 Axes>"
      ]
     },
     "metadata": {
      "needs_background": "light"
     },
     "output_type": "display_data"
    },
    {
     "data": {
      "image/png": "[encoded data removed]",
      "text/plain": [
       "<Figure size 864x360 with 1 Axes>"
      ]
     },
     "metadata": {
      "needs_background": "light"
     },
     "output_type": "display_data"
    }
   ],
   "source": [
    "tig_source_plot(finished, 'Получившие первый уровень')\n",
    "tig_source_plot(not_finished, 'Не получившие первый уровень')\n",
    "tig_source_plot(finished_with_project, 'Получившие победу через проект')\n",
    "tig_source_plot(finished_without_project, 'Получившие победу через победу над врагом')"
   ]
  },
  {
   "cell_type": "markdown",
   "metadata": {},
   "source": [
    "1. график - время в игре по источникам пользователей, которые достигли первый уровень\n",
    "2. график - время в игре по источникам пользователей, которые не достигли первый уровень\n",
    "3. график - время в игре по источникам пользователей, которые достигли первый уровень с помощью победы\n",
    "4. график - время в игре по источникам пользователей, которые достигли первый уровень с помощью проекта"
   ]
  },
  {
   "cell_type": "markdown",
   "metadata": {},
   "source": [
    "Выведем среднее время в игре с разбивкой по каналам"
   ]
  },
  {
   "cell_type": "code",
   "execution_count": 124,
   "metadata": {},
   "outputs": [
    {
     "name": "stdout",
     "output_type": "stream",
     "text": [
      "Среднее время в игре пользователей, пришедших из yandex: 11.0\n",
      "Среднее время в игре пользователей, пришедших c facebook: 11.0\n",
      "Среднее время в игре пользователей, пришедших из instagram: 11.0\n",
      "Среднее время в игре пользователей, пришедших с youtube: 11.0\n"
     ]
    }
   ],
   "source": [
    "print('Среднее время в игре пользователей, пришедших из yandex:', yandex['time_in_game'].median())\n",
    "print('Среднее время в игре пользователей, пришедших c facebook:', facebook['time_in_game'].median())\n",
    "print('Среднее время в игре пользователей, пришедших из instagram:', instagram['time_in_game'].median())\n",
    "print('Среднее время в игре пользователей, пришедших с youtube:', youtube['time_in_game'].median())"
   ]
  },
  {
   "cell_type": "markdown",
   "metadata": {},
   "source": [
    "**Независимо от источника среднее время прохождения составляет 11 дней**"
   ]
  },
  {
   "cell_type": "markdown",
   "metadata": {},
   "source": [
    "### Количество пользователей пришедших с каждого источника трафика"
   ]
  },
  {
   "cell_type": "code",
   "execution_count": 125,
   "metadata": {},
   "outputs": [
    {
     "data": {
      "text/html": [
       "<div>\n",
       "<style scoped>\n",
       "    .dataframe tbody tr th:only-of-type {\n",
       "        vertical-align: middle;\n",
       "    }\n",
       "\n",
       "    .dataframe tbody tr th {\n",
       "        vertical-align: top;\n",
       "    }\n",
       "\n",
       "    .dataframe thead th {\n",
       "        text-align: right;\n",
       "    }\n",
       "</style>\n",
       "<table border=\"1\" class=\"dataframe\">\n",
       "  <thead>\n",
       "    <tr style=\"text-align: right;\">\n",
       "      <th></th>\n",
       "      <th>users</th>\n",
       "    </tr>\n",
       "    <tr>\n",
       "      <th>source</th>\n",
       "      <th></th>\n",
       "    </tr>\n",
       "  </thead>\n",
       "  <tbody>\n",
       "    <tr>\n",
       "      <th>facebook_ads</th>\n",
       "      <td>2726</td>\n",
       "    </tr>\n",
       "    <tr>\n",
       "      <th>instagram_new_adverts</th>\n",
       "      <td>3347</td>\n",
       "    </tr>\n",
       "    <tr>\n",
       "      <th>yandex_direct</th>\n",
       "      <td>4817</td>\n",
       "    </tr>\n",
       "    <tr>\n",
       "      <th>youtube_channel_reklama</th>\n",
       "      <td>2686</td>\n",
       "    </tr>\n",
       "  </tbody>\n",
       "</table>\n",
       "</div>"
      ],
      "text/plain": [
       "                         users\n",
       "source                        \n",
       "facebook_ads              2726\n",
       "instagram_new_adverts     3347\n",
       "yandex_direct             4817\n",
       "youtube_channel_reklama   2686"
      ]
     },
     "execution_count": 125,
     "metadata": {},
     "output_type": "execute_result"
    }
   ],
   "source": [
    "user_total = (user_source\n",
    "              .groupby('source')\n",
    "              .agg({'user_id':'nunique'})\n",
    "              .rename(columns={'user_id':'users'})\n",
    "              .round({'users': 2}))\n",
    "user_total"
   ]
  },
  {
   "cell_type": "code",
   "execution_count": 126,
   "metadata": {
    "scrolled": true
   },
   "outputs": [
    {
     "name": "stdout",
     "output_type": "stream",
     "text": [
      "\u001b[1mНаибольшая количество пользователей у источника: \u001b[0myandex_direct - 4817\n",
      "\u001b[1mНаименьшее количество пользователей у источника: \u001b[0myoutube_channel_reklama - 2686\n"
     ]
    }
   ],
   "source": [
    "print('\\033[1m' + 'Наибольшая количество пользователей у источника: ' + '\\033[0m' + '{} - {}'\n",
    "      .format(user_total['users'].idxmax(),\n",
    "              user_total['users'].max()))\n",
    "\n",
    "print('\\033[1m' + 'Наименьшее количество пользователей у источника: ' + '\\033[0m' + '{} - {}'\n",
    "      .format(user_total['users'].idxmin(),\n",
    "              user_total['users'].min()))"
   ]
  },
  {
   "cell_type": "code",
   "execution_count": 127,
   "metadata": {
    "scrolled": false
   },
   "outputs": [
    {
     "name": "stdout",
     "output_type": "stream",
     "text": [
      "Количество пользователей по источникам\n"
     ]
    },
    {
     "data": {
      "text/html": [
       "<div>\n",
       "<style scoped>\n",
       "    .dataframe tbody tr th:only-of-type {\n",
       "        vertical-align: middle;\n",
       "    }\n",
       "\n",
       "    .dataframe tbody tr th {\n",
       "        vertical-align: top;\n",
       "    }\n",
       "\n",
       "    .dataframe thead th {\n",
       "        text-align: right;\n",
       "    }\n",
       "</style>\n",
       "<table border=\"1\" class=\"dataframe\">\n",
       "  <thead>\n",
       "    <tr style=\"text-align: right;\">\n",
       "      <th></th>\n",
       "      <th>source</th>\n",
       "      <th>user_id</th>\n",
       "    </tr>\n",
       "  </thead>\n",
       "  <tbody>\n",
       "    <tr>\n",
       "      <th>0</th>\n",
       "      <td>yandex_direct</td>\n",
       "      <td>4817</td>\n",
       "    </tr>\n",
       "    <tr>\n",
       "      <th>1</th>\n",
       "      <td>instagram_new_adverts</td>\n",
       "      <td>3347</td>\n",
       "    </tr>\n",
       "    <tr>\n",
       "      <th>2</th>\n",
       "      <td>facebook_ads</td>\n",
       "      <td>2726</td>\n",
       "    </tr>\n",
       "    <tr>\n",
       "      <th>3</th>\n",
       "      <td>youtube_channel_reklama</td>\n",
       "      <td>2686</td>\n",
       "    </tr>\n",
       "  </tbody>\n",
       "</table>\n",
       "</div>"
      ],
      "text/plain": [
       "                    source  user_id\n",
       "0            yandex_direct     4817\n",
       "1    instagram_new_adverts     3347\n",
       "2             facebook_ads     2726\n",
       "3  youtube_channel_reklama     2686"
      ]
     },
     "metadata": {},
     "output_type": "display_data"
    },
    {
     "name": "stdout",
     "output_type": "stream",
     "text": [
      " \n",
      "Суммарные рекламные затраты по источникам\n"
     ]
    },
    {
     "data": {
      "text/html": [
       "<div>\n",
       "<style scoped>\n",
       "    .dataframe tbody tr th:only-of-type {\n",
       "        vertical-align: middle;\n",
       "    }\n",
       "\n",
       "    .dataframe tbody tr th {\n",
       "        vertical-align: top;\n",
       "    }\n",
       "\n",
       "    .dataframe thead th {\n",
       "        text-align: right;\n",
       "    }\n",
       "</style>\n",
       "<table border=\"1\" class=\"dataframe\">\n",
       "  <thead>\n",
       "    <tr style=\"text-align: right;\">\n",
       "      <th></th>\n",
       "      <th>source</th>\n",
       "      <th>cost</th>\n",
       "    </tr>\n",
       "  </thead>\n",
       "  <tbody>\n",
       "    <tr>\n",
       "      <th>0</th>\n",
       "      <td>yandex_direct</td>\n",
       "      <td>2233.11</td>\n",
       "    </tr>\n",
       "    <tr>\n",
       "      <th>1</th>\n",
       "      <td>instagram_new_adverts</td>\n",
       "      <td>2161.44</td>\n",
       "    </tr>\n",
       "    <tr>\n",
       "      <th>2</th>\n",
       "      <td>facebook_ads</td>\n",
       "      <td>2140.90</td>\n",
       "    </tr>\n",
       "    <tr>\n",
       "      <th>3</th>\n",
       "      <td>youtube_channel_reklama</td>\n",
       "      <td>1068.12</td>\n",
       "    </tr>\n",
       "  </tbody>\n",
       "</table>\n",
       "</div>"
      ],
      "text/plain": [
       "                    source    cost\n",
       "0            yandex_direct 2233.11\n",
       "1    instagram_new_adverts 2161.44\n",
       "2             facebook_ads 2140.90\n",
       "3  youtube_channel_reklama 1068.12"
      ]
     },
     "metadata": {},
     "output_type": "display_data"
    },
    {
     "name": "stdout",
     "output_type": "stream",
     "text": [
      " \n",
      "Средняя стоимость одного пользователя по источникам\n"
     ]
    },
    {
     "data": {
      "text/html": [
       "<div>\n",
       "<style scoped>\n",
       "    .dataframe tbody tr th:only-of-type {\n",
       "        vertical-align: middle;\n",
       "    }\n",
       "\n",
       "    .dataframe tbody tr th {\n",
       "        vertical-align: top;\n",
       "    }\n",
       "\n",
       "    .dataframe thead th {\n",
       "        text-align: right;\n",
       "    }\n",
       "</style>\n",
       "<table border=\"1\" class=\"dataframe\">\n",
       "  <thead>\n",
       "    <tr style=\"text-align: right;\">\n",
       "      <th></th>\n",
       "      <th>source</th>\n",
       "      <th>cost</th>\n",
       "      <th>mean_cost</th>\n",
       "    </tr>\n",
       "  </thead>\n",
       "  <tbody>\n",
       "    <tr>\n",
       "      <th>0</th>\n",
       "      <td>yandex_direct</td>\n",
       "      <td>2233.11</td>\n",
       "      <td>0.46</td>\n",
       "    </tr>\n",
       "    <tr>\n",
       "      <th>1</th>\n",
       "      <td>instagram_new_adverts</td>\n",
       "      <td>2161.44</td>\n",
       "      <td>0.65</td>\n",
       "    </tr>\n",
       "    <tr>\n",
       "      <th>2</th>\n",
       "      <td>facebook_ads</td>\n",
       "      <td>2140.90</td>\n",
       "      <td>0.79</td>\n",
       "    </tr>\n",
       "    <tr>\n",
       "      <th>3</th>\n",
       "      <td>youtube_channel_reklama</td>\n",
       "      <td>1068.12</td>\n",
       "      <td>0.40</td>\n",
       "    </tr>\n",
       "  </tbody>\n",
       "</table>\n",
       "</div>"
      ],
      "text/plain": [
       "                    source    cost  mean_cost\n",
       "0            yandex_direct 2233.11       0.46\n",
       "1    instagram_new_adverts 2161.44       0.65\n",
       "2             facebook_ads 2140.90       0.79\n",
       "3  youtube_channel_reklama 1068.12       0.40"
      ]
     },
     "metadata": {},
     "output_type": "display_data"
    }
   ],
   "source": [
    "count_users = user_source.groupby('source')['user_id'].count().sort_values(ascending=False).reset_index()\n",
    "print('Количество пользователей по источникам')\n",
    "display(count_users)\n",
    "print(' ')\n",
    "print('Суммарные рекламные затраты по источникам')\n",
    "sum_add = ad_costs.groupby('source')['cost'].sum().sort_values(ascending=False).reset_index()\n",
    "display(sum_add)\n",
    "print(' ')\n",
    "sum_add['mean_cost'] = (sum_add['cost'] / count_users['user_id'])\n",
    "print('Средняя стоимость одного пользователя по источникам')\n",
    "display(sum_add)"
   ]
  },
  {
   "cell_type": "code",
   "execution_count": 128,
   "metadata": {
    "scrolled": false
   },
   "outputs": [
    {
     "data": {
      "image/png": "[encoded data removed]",
      "text/plain": [
       "<Figure size 936x504 with 1 Axes>"
      ]
     },
     "metadata": {
      "needs_background": "light"
     },
     "output_type": "display_data"
    }
   ],
   "source": [
    "plt.figure(figsize=(13, 7))\n",
    "plt.title('Количество пользователей по источникам', fontsize=15)\n",
    "sns.barplot(x = 'source', y = 'user_id', palette = 'hls', data = count_users);"
   ]
  },
  {
   "cell_type": "code",
   "execution_count": 129,
   "metadata": {
    "scrolled": true
   },
   "outputs": [
    {
     "data": {
      "image/png": "[encoded data removed]",
      "text/plain": [
       "<Figure size 936x504 with 1 Axes>"
      ]
     },
     "metadata": {
      "needs_background": "light"
     },
     "output_type": "display_data"
    }
   ],
   "source": [
    "plt.figure(figsize=(13, 7))\n",
    "plt.title('Средняя стоимость одного пользователя по источникам', fontsize=15)\n",
    "sns.barplot(x = 'source', y = 'cost', palette = 'hls', data = sum_add);"
   ]
  },
  {
   "cell_type": "code",
   "execution_count": 130,
   "metadata": {},
   "outputs": [
    {
     "data": {
      "image/png": "[encoded data removed]",
      "text/plain": [
       "<Figure size 936x504 with 1 Axes>"
      ]
     },
     "metadata": {
      "needs_background": "light"
     },
     "output_type": "display_data"
    }
   ],
   "source": [
    "plt.figure(figsize=(13, 7))\n",
    "plt.title('CAC пользователей', fontsize=15)\n",
    "sns.barplot(x = 'source', y = 'mean_cost', palette = 'hls', data = sum_add);"
   ]
  },
  {
   "cell_type": "markdown",
   "metadata": {},
   "source": [
    "1.  `yandex_direct` - 4817 пользователей, также это самая затратная за все дни площадка - 2233,11. Но за счет большого количества пользователей стоимость одного не так велика - 0,46. \n",
    "2.  `instagram_new_adverts` второй по дороговизне источник - 2161,44. Пришло пользователей на 1500 человек меньше - 3347, чем с `yandex_direct`, а затраты почти одинаковы - 2161,44.\n",
    "3. `facebook_ads` - третий по дороговизне источник - 2140,90. По количеству пользователей за все время пришло чуть больше, чем с `youtube_channel_reklama` - 2726.\n",
    "4. Меньше всего приходит с `youtube_channel_reklama` - 2686 , но и затраты тоже малы - 1068,12 , следовательно средняя стоимость одного пользователя также мала - 0,40."
   ]
  },
  {
   "cell_type": "markdown",
   "metadata": {},
   "source": [
    "### Распределение количества построек по видам"
   ]
  },
  {
   "cell_type": "code",
   "execution_count": 131,
   "metadata": {
    "scrolled": true
   },
   "outputs": [
    {
     "data": {
      "text/plain": [
       "building_type\n",
       "spaceport          59325\n",
       "assembly_shop      54494\n",
       "research_center    14137\n",
       "Name: user_id, dtype: int64"
      ]
     },
     "execution_count": 131,
     "metadata": {},
     "output_type": "execute_result"
    }
   ],
   "source": [
    "builds = game_actions.groupby('building_type')['user_id'].count()\n",
    "builds.sort_values(ascending=False)"
   ]
  },
  {
   "cell_type": "markdown",
   "metadata": {},
   "source": [
    "**Видно, что по данным самые популярные постройки `spaceport` и `assembly_shop`, видимо они самая дешевая и самые первые из возможных**"
   ]
  },
  {
   "cell_type": "code",
   "execution_count": 132,
   "metadata": {},
   "outputs": [],
   "source": [
    "builds = game_actions.pivot_table(index = 'activity_day',\n",
    "                            columns = 'building_type',\n",
    "                            values = 'user_id',\n",
    "                            aggfunc = 'count')"
   ]
  },
  {
   "cell_type": "code",
   "execution_count": 133,
   "metadata": {
    "scrolled": false
   },
   "outputs": [
    {
     "data": {
      "image/png": "[encoded data removed]",
      "text/plain": [
       "<Figure size 1008x576 with 1 Axes>"
      ]
     },
     "metadata": {
      "needs_background": "light"
     },
     "output_type": "display_data"
    }
   ],
   "source": [
    "ax = builds.plot(figsize=(14,8), marker='o');\n",
    "ax.set_title('Тип построек в день', fontsize=17);\n",
    "ax.set_xlabel('Дни', fontsize=15);\n",
    "ax.set_ylabel('Количество построек', fontsize=15);"
   ]
  },
  {
   "cell_type": "markdown",
   "metadata": {},
   "source": [
    "**Видим, что `assembly_shop` можно назвать \"стартовой\" постройкой. И все 9 дней, по которым у нас привлекались новые пользователи, эти постройки строятся в большом количестве. Вторая по популяности постройка - это `spaceport`. Пиковое значение в количестве построек в день набюдается `11/05`, когда уже все пользватели привлечены и строят по максимуму. Редкая постройка - это `research_center`. Первые постройки произошли спустя 2 дня япосле привлечения первых пользователей. Пиковые значения наблюдаются `12-13/05`, спустя 2-3 дня после привлечения последних новых пользователей. После 17/05 все постройки пошли на спад, а с 23/05 количество `spaceport` и `research_center` сравнялось.**"
   ]
  },
  {
   "cell_type": "markdown",
   "metadata": {},
   "source": [
    "### Среднее количество построек на одного пользователя с разбивкой по кналам привлечения"
   ]
  },
  {
   "cell_type": "code",
   "execution_count": 134,
   "metadata": {},
   "outputs": [],
   "source": [
    "def building(df, name):\n",
    "    user_build = df.groupby('user_id')['building_type'].count().reset_index()\n",
    "    user_build.hist(bins=20, figsize=(12,5));\n",
    "    plt.title(f'Количество построек на пользователя: {name}', fontsize=17);\n",
    "    plt.xlabel('Количество построек', fontsize = 15) \n",
    "    plt.ylabel('Количество пользователей', fontsize = 15);\n",
    "    print('Среднее количество построек: {:.1f}'.format(user_build['building_type'].sum() / user_build['user_id'].count()))"
   ]
  },
  {
   "cell_type": "code",
   "execution_count": 135,
   "metadata": {},
   "outputs": [
    {
     "name": "stdout",
     "output_type": "stream",
     "text": [
      "Среднее количество построек: 9.4\n"
     ]
    },
    {
     "data": {
      "image/png": "[encoded data removed]",
      "text/plain": [
       "<Figure size 864x360 with 1 Axes>"
      ]
     },
     "metadata": {
      "needs_background": "light"
     },
     "output_type": "display_data"
    }
   ],
   "source": [
    "building(game_actions, 'Все пользователи')"
   ]
  },
  {
   "cell_type": "markdown",
   "metadata": {},
   "source": [
    "**На графике есть отклонение в районе 7-8 построек. Скорее всего пользователи либо строят до этого количества и побеждают врага, либо продолжают строить дальше. Либо кто-то еще не достиг первого уровня и пока что остановился на 7-8 поостройках. Среднее количество построек - 9**"
   ]
  },
  {
   "cell_type": "code",
   "execution_count": 136,
   "metadata": {
    "scrolled": false
   },
   "outputs": [
    {
     "name": "stdout",
     "output_type": "stream",
     "text": [
      "Среднее количество построек: 9.3\n",
      "Среднее количество построек: 9.5\n",
      "Среднее количество построек: 9.6\n",
      "Среднее количество построек: 9.3\n"
     ]
    },
    {
     "data": {
      "image/png": "[encoded data removed]",
      "text/plain": [
       "<Figure size 864x360 with 1 Axes>"
      ]
     },
     "metadata": {
      "needs_background": "light"
     },
     "output_type": "display_data"
    },
    {
     "data": {
      "image/png": "[encoded data removed]",
      "text/plain": [
       "<Figure size 864x360 with 1 Axes>"
      ]
     },
     "metadata": {
      "needs_background": "light"
     },
     "output_type": "display_data"
    },
    {
     "data": {
      "image/png": "[encoded data removed]",
      "text/plain": [
       "<Figure size 864x360 with 1 Axes>"
      ]
     },
     "metadata": {
      "needs_background": "light"
     },
     "output_type": "display_data"
    },
    {
     "data": {
      "image/png": "[encoded data removed]",
      "text/plain": [
       "<Figure size 864x360 with 1 Axes>"
      ]
     },
     "metadata": {
      "needs_background": "light"
     },
     "output_type": "display_data"
    }
   ],
   "source": [
    "building(yandex, 'yandex')\n",
    "building(instagram, 'instagram')\n",
    "building(facebook, 'facebook')\n",
    "building(youtube, 'youtube')"
   ]
  },
  {
   "cell_type": "markdown",
   "metadata": {},
   "source": [
    "**Независимо от источника привлечения количество построек имеет лишь небольшую разницу.**"
   ]
  },
  {
   "cell_type": "markdown",
   "metadata": {},
   "source": [
    "**Вывод:**  \n",
    "1. Закончили первый уровень - `42.8%` от всех пользователей\n",
    "2. Независимо от источника среднее время прохождения составляет `11 дней`\n",
    "3. Среднее количество событий на пользователя - `10.0`\n",
    "4. \n",
    "- yandex_direct - 4817 пользователей, также это самая затратная за все дни площадка - 2233,11. Но за счет большого количества пользователей стоимость одного не так велика - 0,46.\n",
    "- instagram_new_adverts второй по дороговизне источник - 2161,44. Пришло пользователей на 1500 человек меньше - 3347, чем с yandex_direct, а затраты почти одинаковы - 2161,44.\n",
    "- facebook_ads - третий по дороговизне источник - 2140,90. По количеству пользователей за все время пришло чуть больше, чем с youtube_channel_reklama - 2726.\n",
    "- Меньше всего приходит с youtube_channel_reklama - 2686 , но и затраты тоже малы - 1068,12 , следовательно средняя стоимость одного пользователя также мала - 0,40\n",
    "5. Среднее количество построек - 9."
   ]
  },
  {
   "cell_type": "markdown",
   "metadata": {},
   "source": [
    "## Проверка гипотез"
   ]
  },
  {
   "cell_type": "markdown",
   "metadata": {},
   "source": [
    "### Время завершения уровня не различается от способа прохождения"
   ]
  },
  {
   "cell_type": "code",
   "execution_count": 137,
   "metadata": {},
   "outputs": [],
   "source": [
    "finished_with_project['first_event_datetime'] = pd.to_datetime(finished_with_project['first_event_datetime'])\n",
    "finished_with_project['last_event_datetime'] = pd.to_datetime(finished_with_project['last_event_datetime'])\n",
    "finished_with_project['time_in_game_hour'] = finished_with_project['last_event_datetime'] - finished_with_project['first_event_datetime']\n",
    "finished_with_project['time_in_game_hour'] = finished_with_project['time_in_game_hour'] / np.timedelta64(1, 'h')"
   ]
  },
  {
   "cell_type": "code",
   "execution_count": 138,
   "metadata": {},
   "outputs": [],
   "source": [
    "finished_without_project['first_event_datetime'] = pd.to_datetime(finished_without_project['first_event_datetime'])\n",
    "finished_without_project['last_event_datetime'] = pd.to_datetime(finished_without_project['last_event_datetime'])\n",
    "finished_without_project['time_in_game_hour'] = finished_without_project['last_event_datetime'] - finished_without_project['first_event_datetime']\n",
    "finished_without_project['time_in_game_hour'] = finished_without_project['time_in_game_hour'] / np.timedelta64(1, 'h')"
   ]
  },
  {
   "cell_type": "code",
   "execution_count": 139,
   "metadata": {},
   "outputs": [],
   "source": [
    "fight = finished_without_project.groupby('time_in_game_hour')['user_id'].nunique()\n",
    "project = finished_with_project.groupby('time_in_game_hour')['user_id'].nunique()"
   ]
  },
  {
   "cell_type": "code",
   "execution_count": 140,
   "metadata": {},
   "outputs": [],
   "source": [
    "fight = finished_without_project.groupby('user_id')['time_in_game_hour'].unique()\n",
    "project = finished_with_project.groupby('user_id')['time_in_game_hour'].unique()"
   ]
  },
  {
   "cell_type": "code",
   "execution_count": 141,
   "metadata": {
    "scrolled": true
   },
   "outputs": [
    {
     "data": {
      "text/plain": [
       "user_id\n",
       "001d39dc-366c-4021-9604-6a3b9ff01e25    168\n",
       "003ee7e8-6356-4286-a715-62f22a18d2a1    288\n",
       "004074f8-251a-4776-922c-8348dca1a2f6    288\n",
       "00464e5e-28ed-4be6-bf44-517ef7b3937b    264\n",
       "0056c007-c082-43cc-bdef-afc49bca4cb9    144\n",
       "                                       ... \n",
       "ffc6f4fa-3476-47af-85cb-e2ee0551110a    264\n",
       "ffd002f3-3545-423e-8dba-0c6a2d48a3aa    312\n",
       "ffe810f4-1a1f-464b-924d-6f120b0cb8df    336\n",
       "ffef4fed-164c-40e1-bde1-3980f76d0fb5    168\n",
       "fffb626c-5ab6-47c9-8113-2062a2f18494    192\n",
       "Name: time_in_game_hour, Length: 3951, dtype: int64"
      ]
     },
     "execution_count": 141,
     "metadata": {},
     "output_type": "execute_result"
    }
   ],
   "source": [
    "fight=fight.astype(int)\n",
    "fight"
   ]
  },
  {
   "cell_type": "code",
   "execution_count": 142,
   "metadata": {},
   "outputs": [
    {
     "data": {
      "text/plain": [
       "user_id\n",
       "006380d6-67a6-45de-ab1e-6eb54ad8dbe8    288\n",
       "00be7371-fa79-4fbd-b8e7-8ba32e3f8f82    384\n",
       "00c2b9f2-2615-439c-aed0-6974e4c6c1c1    480\n",
       "00de2809-403e-4476-a2f7-ca1b11700190    336\n",
       "00e83261-5fd4-4939-9616-802b5a0202c6    360\n",
       "                                       ... \n",
       "ff50f63a-c4b3-494e-8bf9-3f19dbfc513e    456\n",
       "ff60fcd1-4329-494e-b82d-461fbdf5b5eb    192\n",
       "ff83bdd8-f49a-49fd-8aad-9fa1fb30d516    336\n",
       "ff841992-d93b-462e-bc6e-18c24a514f36    264\n",
       "ffff69cc-fec1-4fd3-9f98-93be1112a6b8    408\n",
       "Name: time_in_game_hour, Length: 1866, dtype: int64"
      ]
     },
     "execution_count": 142,
     "metadata": {},
     "output_type": "execute_result"
    }
   ],
   "source": [
    "project = project.astype(int)\n",
    "project"
   ]
  },
  {
   "cell_type": "markdown",
   "metadata": {},
   "source": [
    "**H0 - время завершения уровня не различается от способа прохождения (то есть равно)  \n",
    "H1 - время завершения уровня различается от способа прохождения**"
   ]
  },
  {
   "cell_type": "code",
   "execution_count": 143,
   "metadata": {},
   "outputs": [
    {
     "name": "stdout",
     "output_type": "stream",
     "text": [
      "p-значение: 6.5704667556447595e-105\n",
      "\u001b[1mОтвергаем нулевую гипотезу\u001b[0m, следовательно средние значения времени прохождения в зависимости от способа завершения различаются\n"
     ]
    }
   ],
   "source": [
    "alpha = 0.05\n",
    "results = st.ttest_ind(fight, project, equal_var = False)\n",
    "print('p-значение:', results.pvalue)\n",
    "if results.pvalue < alpha:\n",
    "    print(\"\\033[1mОтвергаем нулевую гипотезу\\033[0m, следовательно средние \\\n",
    "значения времени прохождения в зависимости от способа завершения различаются\")\n",
    "else:\n",
    "    print(\"\\033[1mНе получилось отвергнуть нулевую гипотезу\\033[0m, следовательно средние \\\n",
    "значения времени прохождения вне зависимости от способа завершения равны\")"
   ]
  },
  {
   "cell_type": "markdown",
   "metadata": {},
   "source": [
    "### Количество построек не отличается от стратегии прохождения уровня"
   ]
  },
  {
   "cell_type": "code",
   "execution_count": 144,
   "metadata": {},
   "outputs": [],
   "source": [
    "fight = finished_without_project.groupby('user_id')['building_type'].count()\n",
    "project = finished_with_project.groupby('user_id')['building_type'].count()"
   ]
  },
  {
   "cell_type": "markdown",
   "metadata": {},
   "source": [
    "**H0 - количество построек не отличается от стратегии прохождения уровня (равны)  \n",
    "H1 - количество построек различается от стратегии прохождения уровня**"
   ]
  },
  {
   "cell_type": "code",
   "execution_count": 145,
   "metadata": {},
   "outputs": [
    {
     "name": "stdout",
     "output_type": "stream",
     "text": [
      "p-value: 5.211926275022306e-305\n",
      "Нулевая гипотеза отвергается: \u001b[1mсреднее количество построенных объектов различается по способам прохождения уровня.\u001b[0m\n"
     ]
    }
   ],
   "source": [
    "alpha = .05\n",
    "pvalue = st.mannwhitneyu(fight, project)[1]\n",
    "\n",
    "print('p-value: {}'.format(pvalue))\n",
    "if pvalue >= alpha: \n",
    "    print('Нулевая гипотеза не отвергается: \\033[1mсреднее количество построенных объектов одинаково для обоих способов прохождения уровня.\\033[0m')\n",
    "else:\n",
    "    print('Нулевая гипотеза отвергается: \\033[1mсреднее количество построенных объектов различается по способам прохождения уровня.\\033[0m')"
   ]
  },
  {
   "cell_type": "markdown",
   "metadata": {},
   "source": [
    "**Вывод:**  \n",
    "Способ прохождения уровня не зависит от источника трафика."
   ]
  },
  {
   "cell_type": "markdown",
   "metadata": {},
   "source": [
    "## Итоговый вывод:  \n",
    "1. Закончили первый уровень: 42.8%. Среднее время в игре пользователей, которые завершили первый уровень: 12.0  \n",
    "Не закончили первый уровень: 57.2%. Среднее время в игре пользователей, которые не завершили первый уровень: 11.0  \n",
    "Что озночает, что больше половины пользователей не стало проходить игру до конца. Стоит задуматься, почему.  \n",
    "Разницы в том, сколько проводит человек, который получил первый уровень, а который не получил первый уровень, нет, всего один день в сторону тех, кто получил.\n",
    "\n",
    "2. Закончили первый уровень победой: 67.9%. Среднее время в игре пользователей, которые завершили первый уровень через победу над врагом: 11.0  \n",
    "Закончили первый уровень проектом: 32.1%. Среднее время в игре пользователей, которые завершили первый уровень через проект: 13.0  \n",
    "Победа над врагом предпочитается большей части игроков, которые получили первый уровень. Видимо из-за того, что данный тип получения уровня быстрее, чем проектная деятельность.\n",
    "\n",
    "3. Среднее количество построек: 9\n",
    "Были видны просадки в 7-8 построек на игрока, похоже на механику. \n",
    "\n",
    "4. От `Yandex` пришла наибольшая доля игроков — 35% или 4,8 тыс. \n",
    "- На втором месте `Instagram` с 3,3 тыс. \n",
    "- На третьем месте `Facebook` и `Youtube` по 2,7 тыс.\n",
    "- Наименьшие удельные затраты на привлечение игроков у Youtube — 0,4. Это вдвое меньше наиболее дорогого показателя у Facebook — 0,79.\n",
    "\n",
    "5. Cреднее время пользователей в игре `11 дней` во всех источниках, значит источник привлечения не влияет на заинтересованность игрока во временных рамках.\n",
    "\n",
    "6. Гипотеза о том, что время завершения уровня не отличается от стратегии, не подтвердилась при проведении t-test. Также не подтвердилась гипотеза о том, что среднее количество построек одинаково для обоих стратегиях прохождения уровня, используя критерий Манна-Уитни."
   ]
  },
  {
   "cell_type": "markdown",
   "metadata": {},
   "source": [
    "## Ответы на вопросы заказчика  \n",
    "При анализе показателей по источникам выявлено, что существенной разницы в поведении от источника нет. Также среднее время пользователей в игре 11 дней во всех источниках, значит источник прихода не влияет даже на заинтересованность игрока во временных рамках. Также не было разницы в Retention Rate по источникам. Что тоже свидетельствует о том, что независимо от источника игрок проводит примерно одинаковое время, так что рейтинг эффективности будет выглядеть так:\n",
    "1. `youtube_channel_reklama`, так как у этого канала наименьшая стоимость привлечения одного пользователя **0,40** , но и пользователей пришло оттуда меньше всего - 2686.\n",
    "2. Второй по дешевизне `yandex_direct` - **0,46** и пришло наибольшее количество пользователей - **4817**.\n",
    "2. `instagram_new_adverts` второй по дороговизне источник - **0,65**. Пришло пользователей на 1500 человек меньше - **3347**, чем с `yandex_direct`.\n",
    "4. Самый неэффективный источник привлечения - `facebook_ads` - стоимость привлечения одного пользвателя самая дорогая - **0,79**. По количеству пользователей за все время пришло чуть больше, чем с `youtube_channel_reklama` - **2726**.\n"
   ]
  }
 ],
 "metadata": {
  "ExecuteTimeLog": [
   {
    "duration": 1475,
    "start_time": "2023-08-20T14:24:03.409Z"
   },
   {
    "duration": 3,
    "start_time": "2023-08-20T14:24:10.329Z"
   },
   {
    "duration": 632,
    "start_time": "2023-08-20T14:24:17.170Z"
   },
   {
    "duration": 19,
    "start_time": "2023-08-20T14:24:24.275Z"
   },
   {
    "duration": 8,
    "start_time": "2023-08-20T14:24:30.049Z"
   },
   {
    "duration": 7,
    "start_time": "2023-08-20T14:24:38.016Z"
   },
   {
    "duration": 37,
    "start_time": "2023-08-20T14:24:44.594Z"
   },
   {
    "duration": 10,
    "start_time": "2023-08-20T14:24:49.856Z"
   },
   {
    "duration": 11,
    "start_time": "2023-08-20T14:24:54.881Z"
   },
   {
    "duration": 33,
    "start_time": "2023-08-20T14:27:28.993Z"
   },
   {
    "duration": 6,
    "start_time": "2023-08-20T14:27:34.355Z"
   },
   {
    "duration": 11,
    "start_time": "2023-08-20T14:27:39.830Z"
   },
   {
    "duration": 77,
    "start_time": "2023-08-20T14:27:44.431Z"
   },
   {
    "duration": 6,
    "start_time": "2023-08-20T14:27:49.601Z"
   },
   {
    "duration": 10,
    "start_time": "2023-08-20T14:27:53.641Z"
   },
   {
    "duration": 85,
    "start_time": "2023-08-20T14:28:02.189Z"
   },
   {
    "duration": 31,
    "start_time": "2023-08-20T14:28:10.001Z"
   },
   {
    "duration": 34,
    "start_time": "2023-08-20T14:28:27.382Z"
   },
   {
    "duration": 4,
    "start_time": "2023-08-20T14:28:32.678Z"
   },
   {
    "duration": 126,
    "start_time": "2023-08-20T14:37:13.274Z"
   },
   {
    "duration": 101,
    "start_time": "2023-08-20T14:37:34.440Z"
   },
   {
    "duration": 35,
    "start_time": "2023-08-20T14:54:28.410Z"
   },
   {
    "duration": 39,
    "start_time": "2023-08-20T14:56:06.613Z"
   },
   {
    "duration": 27,
    "start_time": "2023-08-20T14:56:13.069Z"
   },
   {
    "duration": 28,
    "start_time": "2023-08-20T14:56:29.151Z"
   },
   {
    "duration": 19,
    "start_time": "2023-08-20T15:00:00.025Z"
   },
   {
    "duration": 11,
    "start_time": "2023-08-20T15:00:11.866Z"
   },
   {
    "duration": 11,
    "start_time": "2023-08-20T15:00:34.074Z"
   },
   {
    "duration": 37,
    "start_time": "2023-08-20T15:43:34.142Z"
   },
   {
    "duration": 62,
    "start_time": "2023-08-20T15:43:50.295Z"
   },
   {
    "duration": 10,
    "start_time": "2023-08-20T15:48:15.332Z"
   },
   {
    "duration": 46,
    "start_time": "2023-08-20T15:48:32.798Z"
   },
   {
    "duration": 115,
    "start_time": "2023-08-20T15:50:48.133Z"
   },
   {
    "duration": 118,
    "start_time": "2023-08-20T15:50:55.593Z"
   },
   {
    "duration": 237,
    "start_time": "2023-08-20T15:52:04.040Z"
   },
   {
    "duration": 2360,
    "start_time": "2023-08-20T15:52:11.680Z"
   },
   {
    "duration": 323,
    "start_time": "2023-08-20T15:52:45.136Z"
   },
   {
    "duration": 1851,
    "start_time": "2023-08-20T15:53:10.864Z"
   },
   {
    "duration": 57,
    "start_time": "2023-08-20T15:54:53.243Z"
   },
   {
    "duration": 2388,
    "start_time": "2023-08-20T15:56:14.221Z"
   },
   {
    "duration": 2020,
    "start_time": "2023-08-20T15:59:06.116Z"
   },
   {
    "duration": 2347,
    "start_time": "2023-08-20T15:59:51.236Z"
   },
   {
    "duration": 492,
    "start_time": "2023-08-20T16:00:39.300Z"
   },
   {
    "duration": 2346,
    "start_time": "2023-08-20T16:02:08.444Z"
   },
   {
    "duration": 559,
    "start_time": "2023-08-20T16:03:02.883Z"
   },
   {
    "duration": 41,
    "start_time": "2023-08-20T16:03:23.649Z"
   },
   {
    "duration": 2607,
    "start_time": "2023-08-20T16:04:19.748Z"
   },
   {
    "duration": 40,
    "start_time": "2023-08-20T16:04:32.360Z"
   },
   {
    "duration": 30,
    "start_time": "2023-08-20T16:04:45.752Z"
   },
   {
    "duration": 26,
    "start_time": "2023-08-20T16:05:39.282Z"
   },
   {
    "duration": 190,
    "start_time": "2023-08-20T16:06:47.441Z"
   },
   {
    "duration": 4,
    "start_time": "2023-08-20T16:07:19.922Z"
   },
   {
    "duration": 7,
    "start_time": "2023-08-20T16:07:19.932Z"
   },
   {
    "duration": 267,
    "start_time": "2023-08-20T16:07:19.941Z"
   },
   {
    "duration": 10,
    "start_time": "2023-08-20T16:07:20.210Z"
   },
   {
    "duration": 25,
    "start_time": "2023-08-20T16:07:20.223Z"
   },
   {
    "duration": 18,
    "start_time": "2023-08-20T16:07:20.250Z"
   },
   {
    "duration": 87,
    "start_time": "2023-08-20T16:07:20.270Z"
   },
   {
    "duration": 33,
    "start_time": "2023-08-20T16:07:20.358Z"
   },
   {
    "duration": 49,
    "start_time": "2023-08-20T16:07:20.393Z"
   },
   {
    "duration": 56,
    "start_time": "2023-08-20T16:07:20.444Z"
   },
   {
    "duration": 40,
    "start_time": "2023-08-20T16:07:20.502Z"
   },
   {
    "duration": 26,
    "start_time": "2023-08-20T16:07:20.545Z"
   },
   {
    "duration": 107,
    "start_time": "2023-08-20T16:07:20.573Z"
   },
   {
    "duration": 5,
    "start_time": "2023-08-20T16:07:20.683Z"
   },
   {
    "duration": 47,
    "start_time": "2023-08-20T16:07:20.689Z"
   },
   {
    "duration": 143,
    "start_time": "2023-08-20T16:07:20.740Z"
   },
   {
    "duration": 55,
    "start_time": "2023-08-20T16:07:20.885Z"
   },
   {
    "duration": 154,
    "start_time": "2023-08-20T16:07:20.945Z"
   },
   {
    "duration": 4,
    "start_time": "2023-08-20T16:07:21.101Z"
   },
   {
    "duration": 100,
    "start_time": "2023-08-20T16:07:21.107Z"
   },
   {
    "duration": 381,
    "start_time": "2023-08-20T16:07:21.209Z"
   },
   {
    "duration": 239,
    "start_time": "2023-08-20T16:07:21.591Z"
   },
   {
    "duration": 110,
    "start_time": "2023-08-20T16:08:33.439Z"
   },
   {
    "duration": 16,
    "start_time": "2023-08-20T16:08:48.891Z"
   },
   {
    "duration": 9,
    "start_time": "2023-08-20T16:10:05.185Z"
   },
   {
    "duration": 43,
    "start_time": "2023-08-20T16:10:21.619Z"
   },
   {
    "duration": 10,
    "start_time": "2023-08-20T16:11:05.107Z"
   },
   {
    "duration": 59,
    "start_time": "2023-08-20T16:11:17.475Z"
   },
   {
    "duration": 11,
    "start_time": "2023-08-20T16:11:58.781Z"
   },
   {
    "duration": 47,
    "start_time": "2023-08-20T16:13:08.898Z"
   },
   {
    "duration": 5,
    "start_time": "2023-08-20T16:15:39.452Z"
   },
   {
    "duration": 7,
    "start_time": "2023-08-20T16:16:35.999Z"
   },
   {
    "duration": 324,
    "start_time": "2023-08-20T16:20:36.442Z"
   },
   {
    "duration": 269,
    "start_time": "2023-08-20T16:21:27.413Z"
   },
   {
    "duration": 233,
    "start_time": "2023-08-20T16:22:27.039Z"
   },
   {
    "duration": 250,
    "start_time": "2023-08-20T16:22:37.543Z"
   },
   {
    "duration": 220,
    "start_time": "2023-08-20T16:22:56.140Z"
   },
   {
    "duration": 269,
    "start_time": "2023-08-20T16:23:04.136Z"
   },
   {
    "duration": 292,
    "start_time": "2023-08-20T16:24:15.865Z"
   },
   {
    "duration": 53,
    "start_time": "2023-08-20T16:26:57.552Z"
   },
   {
    "duration": 287,
    "start_time": "2023-08-20T16:36:50.107Z"
   },
   {
    "duration": 55,
    "start_time": "2023-08-20T16:51:31.219Z"
   },
   {
    "duration": 105,
    "start_time": "2023-08-20T17:04:22.787Z"
   },
   {
    "duration": 151,
    "start_time": "2023-08-20T17:04:45.948Z"
   },
   {
    "duration": 40,
    "start_time": "2023-08-20T17:06:25.248Z"
   },
   {
    "duration": 46,
    "start_time": "2023-08-20T17:06:32.564Z"
   },
   {
    "duration": 14,
    "start_time": "2023-08-20T17:06:38.550Z"
   },
   {
    "duration": 3,
    "start_time": "2023-08-20T17:06:46.740Z"
   },
   {
    "duration": 5,
    "start_time": "2023-08-20T17:06:46.746Z"
   },
   {
    "duration": 276,
    "start_time": "2023-08-20T17:06:46.753Z"
   },
   {
    "duration": 10,
    "start_time": "2023-08-20T17:06:47.030Z"
   },
   {
    "duration": 9,
    "start_time": "2023-08-20T17:06:47.044Z"
   },
   {
    "duration": 9,
    "start_time": "2023-08-20T17:06:47.055Z"
   },
   {
    "duration": 65,
    "start_time": "2023-08-20T17:06:47.067Z"
   },
   {
    "duration": 16,
    "start_time": "2023-08-20T17:06:47.134Z"
   },
   {
    "duration": 12,
    "start_time": "2023-08-20T17:06:47.152Z"
   },
   {
    "duration": 78,
    "start_time": "2023-08-20T17:06:47.166Z"
   },
   {
    "duration": 49,
    "start_time": "2023-08-20T17:06:47.247Z"
   },
   {
    "duration": 28,
    "start_time": "2023-08-20T17:06:47.298Z"
   },
   {
    "duration": 8,
    "start_time": "2023-08-20T17:06:47.328Z"
   },
   {
    "duration": 95,
    "start_time": "2023-08-20T17:06:47.340Z"
   },
   {
    "duration": 7,
    "start_time": "2023-08-20T17:06:47.437Z"
   },
   {
    "duration": 14,
    "start_time": "2023-08-20T17:06:47.446Z"
   },
   {
    "duration": 107,
    "start_time": "2023-08-20T17:06:47.462Z"
   },
   {
    "duration": 34,
    "start_time": "2023-08-20T17:06:47.572Z"
   },
   {
    "duration": 177,
    "start_time": "2023-08-20T17:06:47.608Z"
   },
   {
    "duration": 4,
    "start_time": "2023-08-20T17:06:47.787Z"
   },
   {
    "duration": 45,
    "start_time": "2023-08-20T17:06:47.792Z"
   },
   {
    "duration": 31,
    "start_time": "2023-08-20T17:06:47.839Z"
   },
   {
    "duration": 12,
    "start_time": "2023-08-20T17:06:47.873Z"
   },
   {
    "duration": 32,
    "start_time": "2023-08-20T17:07:10.402Z"
   },
   {
    "duration": 4,
    "start_time": "2023-08-20T17:07:24.077Z"
   },
   {
    "duration": 17,
    "start_time": "2023-08-20T17:07:37.355Z"
   },
   {
    "duration": 113,
    "start_time": "2023-08-20T17:08:27.784Z"
   },
   {
    "duration": 8,
    "start_time": "2023-08-20T17:08:32.428Z"
   },
   {
    "duration": 579,
    "start_time": "2023-08-20T17:08:34.628Z"
   },
   {
    "duration": 37,
    "start_time": "2023-08-20T17:11:49.829Z"
   },
   {
    "duration": 66,
    "start_time": "2023-08-20T17:11:57.228Z"
   },
   {
    "duration": 35,
    "start_time": "2023-08-20T17:12:30.261Z"
   },
   {
    "duration": 122,
    "start_time": "2023-08-20T17:13:07.796Z"
   },
   {
    "duration": 4,
    "start_time": "2023-08-20T17:13:22.232Z"
   },
   {
    "duration": 7,
    "start_time": "2023-08-20T17:13:22.238Z"
   },
   {
    "duration": 357,
    "start_time": "2023-08-20T17:13:22.247Z"
   },
   {
    "duration": 13,
    "start_time": "2023-08-20T17:13:22.607Z"
   },
   {
    "duration": 15,
    "start_time": "2023-08-20T17:13:22.622Z"
   },
   {
    "duration": 11,
    "start_time": "2023-08-20T17:13:22.639Z"
   },
   {
    "duration": 72,
    "start_time": "2023-08-20T17:13:22.653Z"
   },
   {
    "duration": 14,
    "start_time": "2023-08-20T17:13:22.728Z"
   },
   {
    "duration": 21,
    "start_time": "2023-08-20T17:13:22.745Z"
   },
   {
    "duration": 95,
    "start_time": "2023-08-20T17:13:22.770Z"
   },
   {
    "duration": 62,
    "start_time": "2023-08-20T17:13:22.867Z"
   },
   {
    "duration": 18,
    "start_time": "2023-08-20T17:13:22.931Z"
   },
   {
    "duration": 19,
    "start_time": "2023-08-20T17:13:22.951Z"
   },
   {
    "duration": 125,
    "start_time": "2023-08-20T17:13:22.973Z"
   },
   {
    "duration": 22,
    "start_time": "2023-08-20T17:13:23.101Z"
   },
   {
    "duration": 25,
    "start_time": "2023-08-20T17:13:23.126Z"
   },
   {
    "duration": 147,
    "start_time": "2023-08-20T17:13:23.153Z"
   },
   {
    "duration": 59,
    "start_time": "2023-08-20T17:13:23.303Z"
   },
   {
    "duration": 161,
    "start_time": "2023-08-20T17:13:23.365Z"
   },
   {
    "duration": 4,
    "start_time": "2023-08-20T17:13:23.528Z"
   },
   {
    "duration": 36,
    "start_time": "2023-08-20T17:13:23.534Z"
   },
   {
    "duration": 63,
    "start_time": "2023-08-20T17:13:23.572Z"
   },
   {
    "duration": 12,
    "start_time": "2023-08-20T17:13:23.637Z"
   },
   {
    "duration": 25,
    "start_time": "2023-08-20T17:13:23.651Z"
   },
   {
    "duration": 202,
    "start_time": "2023-08-20T17:13:23.678Z"
   },
   {
    "duration": 37,
    "start_time": "2023-08-20T17:13:58.167Z"
   },
   {
    "duration": 16,
    "start_time": "2023-08-20T17:16:10.214Z"
   },
   {
    "duration": 18,
    "start_time": "2023-08-20T17:16:27.861Z"
   },
   {
    "duration": 15,
    "start_time": "2023-08-20T17:17:21.224Z"
   },
   {
    "duration": 16,
    "start_time": "2023-08-20T17:17:41.717Z"
   },
   {
    "duration": 25,
    "start_time": "2023-08-20T17:17:52.191Z"
   },
   {
    "duration": 29,
    "start_time": "2023-08-20T17:19:01.964Z"
   },
   {
    "duration": 14,
    "start_time": "2023-08-20T17:20:22.256Z"
   },
   {
    "duration": 57,
    "start_time": "2023-08-20T17:20:44.486Z"
   },
   {
    "duration": 4,
    "start_time": "2023-08-20T17:22:29.129Z"
   },
   {
    "duration": 8,
    "start_time": "2023-08-20T17:22:29.135Z"
   },
   {
    "duration": 367,
    "start_time": "2023-08-20T17:22:29.146Z"
   },
   {
    "duration": 14,
    "start_time": "2023-08-20T17:22:29.515Z"
   },
   {
    "duration": 12,
    "start_time": "2023-08-20T17:22:29.533Z"
   },
   {
    "duration": 15,
    "start_time": "2023-08-20T17:22:29.548Z"
   },
   {
    "duration": 83,
    "start_time": "2023-08-20T17:22:29.565Z"
   },
   {
    "duration": 15,
    "start_time": "2023-08-20T17:22:29.651Z"
   },
   {
    "duration": 21,
    "start_time": "2023-08-20T17:22:29.668Z"
   },
   {
    "duration": 135,
    "start_time": "2023-08-20T17:22:29.691Z"
   },
   {
    "duration": 7,
    "start_time": "2023-08-20T17:22:29.828Z"
   },
   {
    "duration": 16,
    "start_time": "2023-08-20T17:22:29.837Z"
   },
   {
    "duration": 138,
    "start_time": "2023-08-20T17:22:29.855Z"
   },
   {
    "duration": 67,
    "start_time": "2023-08-20T17:22:29.997Z"
   },
   {
    "duration": 25,
    "start_time": "2023-08-20T17:22:30.066Z"
   },
   {
    "duration": 36,
    "start_time": "2023-08-20T17:22:30.093Z"
   },
   {
    "duration": 21,
    "start_time": "2023-08-20T17:22:30.131Z"
   },
   {
    "duration": 34,
    "start_time": "2023-08-20T17:22:30.154Z"
   },
   {
    "duration": 46,
    "start_time": "2023-08-20T17:22:30.190Z"
   },
   {
    "duration": 48,
    "start_time": "2023-08-20T17:22:30.238Z"
   },
   {
    "duration": 149,
    "start_time": "2023-08-20T17:22:30.288Z"
   },
   {
    "duration": 155,
    "start_time": "2023-08-20T17:22:30.439Z"
   },
   {
    "duration": 288,
    "start_time": "2023-08-20T17:22:30.596Z"
   },
   {
    "duration": 6,
    "start_time": "2023-08-20T17:22:30.886Z"
   },
   {
    "duration": 91,
    "start_time": "2023-08-20T17:22:30.894Z"
   },
   {
    "duration": 93,
    "start_time": "2023-08-20T17:22:30.988Z"
   },
   {
    "duration": 18,
    "start_time": "2023-08-20T17:22:31.083Z"
   },
   {
    "duration": 96,
    "start_time": "2023-08-20T17:22:31.103Z"
   },
   {
    "duration": 224,
    "start_time": "2023-08-20T17:22:31.202Z"
   },
   {
    "duration": 80,
    "start_time": "2023-08-20T17:22:41.267Z"
   },
   {
    "duration": 85,
    "start_time": "2023-08-20T17:24:18.459Z"
   },
   {
    "duration": 178,
    "start_time": "2023-08-20T17:24:26.369Z"
   },
   {
    "duration": 140,
    "start_time": "2023-08-20T17:54:16.781Z"
   },
   {
    "duration": 54,
    "start_time": "2023-08-20T17:57:48.393Z"
   },
   {
    "duration": 97,
    "start_time": "2023-08-20T17:57:59.517Z"
   },
   {
    "duration": 193,
    "start_time": "2023-08-20T17:58:08.047Z"
   },
   {
    "duration": 87,
    "start_time": "2023-08-20T17:58:15.265Z"
   },
   {
    "duration": 9,
    "start_time": "2023-08-20T18:01:28.621Z"
   },
   {
    "duration": 6,
    "start_time": "2023-08-20T18:01:48.839Z"
   },
   {
    "duration": 9,
    "start_time": "2023-08-20T18:03:22.878Z"
   },
   {
    "duration": 132,
    "start_time": "2023-08-20T18:04:10.580Z"
   },
   {
    "duration": 55,
    "start_time": "2023-08-22T13:46:33.179Z"
   },
   {
    "duration": 1564,
    "start_time": "2023-08-22T13:46:49.526Z"
   },
   {
    "duration": 3,
    "start_time": "2023-08-22T13:46:51.092Z"
   },
   {
    "duration": 722,
    "start_time": "2023-08-22T13:46:51.097Z"
   },
   {
    "duration": 13,
    "start_time": "2023-08-22T13:46:51.822Z"
   },
   {
    "duration": 9,
    "start_time": "2023-08-22T13:46:51.837Z"
   },
   {
    "duration": 11,
    "start_time": "2023-08-22T13:46:51.847Z"
   },
   {
    "duration": 49,
    "start_time": "2023-08-22T13:46:51.859Z"
   },
   {
    "duration": 17,
    "start_time": "2023-08-22T13:46:51.910Z"
   },
   {
    "duration": 12,
    "start_time": "2023-08-22T13:46:51.929Z"
   },
   {
    "duration": 103,
    "start_time": "2023-08-22T13:46:51.943Z"
   },
   {
    "duration": 5,
    "start_time": "2023-08-22T13:46:52.047Z"
   },
   {
    "duration": 18,
    "start_time": "2023-08-22T13:46:52.054Z"
   },
   {
    "duration": 110,
    "start_time": "2023-08-22T13:46:52.074Z"
   },
   {
    "duration": 45,
    "start_time": "2023-08-22T13:46:52.188Z"
   },
   {
    "duration": 16,
    "start_time": "2023-08-22T13:46:52.235Z"
   },
   {
    "duration": 10,
    "start_time": "2023-08-22T13:46:52.252Z"
   },
   {
    "duration": 9,
    "start_time": "2023-08-22T13:46:52.264Z"
   },
   {
    "duration": 40,
    "start_time": "2023-08-22T13:46:52.275Z"
   },
   {
    "duration": 21,
    "start_time": "2023-08-22T13:46:52.317Z"
   },
   {
    "duration": 16,
    "start_time": "2023-08-22T13:46:52.340Z"
   },
   {
    "duration": 11,
    "start_time": "2023-08-22T13:46:52.357Z"
   },
   {
    "duration": 52,
    "start_time": "2023-08-22T13:46:52.370Z"
   },
   {
    "duration": 166,
    "start_time": "2023-08-22T13:46:52.424Z"
   },
   {
    "duration": 4,
    "start_time": "2023-08-22T13:46:52.592Z"
   },
   {
    "duration": 76,
    "start_time": "2023-08-22T13:46:52.598Z"
   },
   {
    "duration": 59,
    "start_time": "2023-08-22T13:46:52.676Z"
   },
   {
    "duration": 16,
    "start_time": "2023-08-22T13:46:52.737Z"
   },
   {
    "duration": 27,
    "start_time": "2023-08-22T13:46:52.755Z"
   },
   {
    "duration": 141,
    "start_time": "2023-08-22T13:46:52.784Z"
   },
   {
    "duration": 50,
    "start_time": "2023-08-22T13:46:52.927Z"
   },
   {
    "duration": 102,
    "start_time": "2023-08-22T13:46:52.979Z"
   },
   {
    "duration": 6,
    "start_time": "2023-08-22T13:46:53.083Z"
   },
   {
    "duration": 155,
    "start_time": "2023-08-22T13:46:53.091Z"
   },
   {
    "duration": 16,
    "start_time": "2023-08-22T13:46:53.248Z"
   },
   {
    "duration": 11,
    "start_time": "2023-08-22T13:49:29.128Z"
   },
   {
    "duration": 5,
    "start_time": "2023-08-22T13:50:32.436Z"
   },
   {
    "duration": 9,
    "start_time": "2023-08-22T13:51:32.803Z"
   },
   {
    "duration": 12,
    "start_time": "2023-08-22T13:52:46.591Z"
   },
   {
    "duration": 7,
    "start_time": "2023-08-22T13:53:21.000Z"
   },
   {
    "duration": 134,
    "start_time": "2023-08-22T13:54:17.162Z"
   },
   {
    "duration": 74,
    "start_time": "2023-08-22T13:58:28.728Z"
   },
   {
    "duration": 166,
    "start_time": "2023-08-22T13:58:36.002Z"
   },
   {
    "duration": 8,
    "start_time": "2023-08-22T13:59:06.196Z"
   },
   {
    "duration": 19,
    "start_time": "2023-08-22T14:00:18.295Z"
   },
   {
    "duration": 22,
    "start_time": "2023-08-22T14:00:48.804Z"
   },
   {
    "duration": 53,
    "start_time": "2023-08-22T14:15:55.194Z"
   },
   {
    "duration": 100,
    "start_time": "2023-08-22T14:18:42.122Z"
   },
   {
    "duration": 101,
    "start_time": "2023-08-22T14:19:13.955Z"
   },
   {
    "duration": 12,
    "start_time": "2023-08-22T14:19:44.479Z"
   },
   {
    "duration": 109,
    "start_time": "2023-08-22T14:21:52.658Z"
   },
   {
    "duration": 12,
    "start_time": "2023-08-22T14:23:49.368Z"
   },
   {
    "duration": 7,
    "start_time": "2023-08-22T14:27:51.306Z"
   },
   {
    "duration": 9,
    "start_time": "2023-08-22T14:27:51.319Z"
   },
   {
    "duration": 293,
    "start_time": "2023-08-22T14:27:51.329Z"
   },
   {
    "duration": 10,
    "start_time": "2023-08-22T14:27:51.625Z"
   },
   {
    "duration": 23,
    "start_time": "2023-08-22T14:27:51.637Z"
   },
   {
    "duration": 12,
    "start_time": "2023-08-22T14:27:51.662Z"
   },
   {
    "duration": 66,
    "start_time": "2023-08-22T14:27:51.676Z"
   },
   {
    "duration": 9,
    "start_time": "2023-08-22T14:27:51.744Z"
   },
   {
    "duration": 22,
    "start_time": "2023-08-22T14:27:51.755Z"
   },
   {
    "duration": 82,
    "start_time": "2023-08-22T14:27:51.780Z"
   },
   {
    "duration": 5,
    "start_time": "2023-08-22T14:27:51.864Z"
   },
   {
    "duration": 32,
    "start_time": "2023-08-22T14:27:51.871Z"
   },
   {
    "duration": 81,
    "start_time": "2023-08-22T14:27:51.905Z"
   },
   {
    "duration": 55,
    "start_time": "2023-08-22T14:27:51.988Z"
   },
   {
    "duration": 15,
    "start_time": "2023-08-22T14:27:52.045Z"
   },
   {
    "duration": 27,
    "start_time": "2023-08-22T14:27:52.062Z"
   },
   {
    "duration": 14,
    "start_time": "2023-08-22T14:27:52.090Z"
   },
   {
    "duration": 41,
    "start_time": "2023-08-22T14:27:52.106Z"
   },
   {
    "duration": 20,
    "start_time": "2023-08-22T14:27:52.149Z"
   },
   {
    "duration": 47,
    "start_time": "2023-08-22T14:27:52.170Z"
   },
   {
    "duration": 28,
    "start_time": "2023-08-22T14:27:52.220Z"
   },
   {
    "duration": 50,
    "start_time": "2023-08-22T14:27:52.250Z"
   },
   {
    "duration": 152,
    "start_time": "2023-08-22T14:27:52.301Z"
   },
   {
    "duration": 6,
    "start_time": "2023-08-22T14:27:52.455Z"
   },
   {
    "duration": 63,
    "start_time": "2023-08-22T14:27:52.463Z"
   },
   {
    "duration": 48,
    "start_time": "2023-08-22T14:27:52.529Z"
   },
   {
    "duration": 36,
    "start_time": "2023-08-22T14:27:52.579Z"
   },
   {
    "duration": 37,
    "start_time": "2023-08-22T14:27:52.623Z"
   },
   {
    "duration": 140,
    "start_time": "2023-08-22T14:27:52.662Z"
   },
   {
    "duration": 118,
    "start_time": "2023-08-22T14:27:52.804Z"
   },
   {
    "duration": 12,
    "start_time": "2023-08-22T14:27:52.924Z"
   },
   {
    "duration": 55,
    "start_time": "2023-08-22T14:27:52.938Z"
   },
   {
    "duration": 87,
    "start_time": "2023-08-22T14:27:52.995Z"
   },
   {
    "duration": 7,
    "start_time": "2023-08-22T14:27:53.084Z"
   },
   {
    "duration": 151,
    "start_time": "2023-08-22T14:27:53.093Z"
   },
   {
    "duration": 17,
    "start_time": "2023-08-22T14:27:53.245Z"
   },
   {
    "duration": 11,
    "start_time": "2023-08-22T14:27:53.264Z"
   },
   {
    "duration": 17,
    "start_time": "2023-08-22T14:27:53.276Z"
   },
   {
    "duration": 227,
    "start_time": "2023-08-22T14:27:53.294Z"
   },
   {
    "duration": 133,
    "start_time": "2023-08-22T14:27:53.525Z"
   },
   {
    "duration": 7,
    "start_time": "2023-08-22T14:27:53.660Z"
   },
   {
    "duration": 131,
    "start_time": "2023-08-22T14:29:02.364Z"
   },
   {
    "duration": 55,
    "start_time": "2023-08-22T14:29:06.947Z"
   },
   {
    "duration": 62,
    "start_time": "2023-08-22T14:29:54.580Z"
   },
   {
    "duration": 21,
    "start_time": "2023-08-22T14:40:14.138Z"
   },
   {
    "duration": 12,
    "start_time": "2023-08-22T14:40:35.358Z"
   },
   {
    "duration": 41,
    "start_time": "2023-08-22T14:41:00.178Z"
   },
   {
    "duration": 10,
    "start_time": "2023-08-22T14:41:41.913Z"
   },
   {
    "duration": 20,
    "start_time": "2023-08-22T14:43:46.303Z"
   },
   {
    "duration": 9,
    "start_time": "2023-08-22T14:45:24.029Z"
   },
   {
    "duration": 9,
    "start_time": "2023-08-22T14:45:39.614Z"
   },
   {
    "duration": 3,
    "start_time": "2023-08-22T14:46:25.430Z"
   },
   {
    "duration": 4,
    "start_time": "2023-08-22T14:47:32.090Z"
   },
   {
    "duration": 11,
    "start_time": "2023-08-22T14:48:37.042Z"
   },
   {
    "duration": 3,
    "start_time": "2023-08-22T14:49:03.761Z"
   },
   {
    "duration": 13,
    "start_time": "2023-08-22T14:49:11.167Z"
   },
   {
    "duration": 4,
    "start_time": "2023-08-22T14:56:49.738Z"
   },
   {
    "duration": 17,
    "start_time": "2023-08-22T14:56:49.749Z"
   },
   {
    "duration": 279,
    "start_time": "2023-08-22T14:56:49.768Z"
   },
   {
    "duration": 11,
    "start_time": "2023-08-22T14:56:50.048Z"
   },
   {
    "duration": 50,
    "start_time": "2023-08-22T14:56:50.060Z"
   },
   {
    "duration": 11,
    "start_time": "2023-08-22T14:56:50.113Z"
   },
   {
    "duration": 38,
    "start_time": "2023-08-22T14:56:50.126Z"
   },
   {
    "duration": 20,
    "start_time": "2023-08-22T14:56:50.166Z"
   },
   {
    "duration": 27,
    "start_time": "2023-08-22T14:56:50.187Z"
   },
   {
    "duration": 79,
    "start_time": "2023-08-22T14:56:50.216Z"
   },
   {
    "duration": 17,
    "start_time": "2023-08-22T14:56:50.297Z"
   },
   {
    "duration": 16,
    "start_time": "2023-08-22T14:56:50.316Z"
   },
   {
    "duration": 96,
    "start_time": "2023-08-22T14:56:50.334Z"
   },
   {
    "duration": 36,
    "start_time": "2023-08-22T14:56:50.432Z"
   },
   {
    "duration": 16,
    "start_time": "2023-08-22T14:56:50.471Z"
   },
   {
    "duration": 28,
    "start_time": "2023-08-22T14:56:50.489Z"
   },
   {
    "duration": 22,
    "start_time": "2023-08-22T14:56:50.518Z"
   },
   {
    "duration": 20,
    "start_time": "2023-08-22T14:56:50.542Z"
   },
   {
    "duration": 21,
    "start_time": "2023-08-22T14:56:50.564Z"
   },
   {
    "duration": 47,
    "start_time": "2023-08-22T14:56:50.587Z"
   },
   {
    "duration": 20,
    "start_time": "2023-08-22T14:56:50.636Z"
   },
   {
    "duration": 64,
    "start_time": "2023-08-22T14:56:50.658Z"
   },
   {
    "duration": 135,
    "start_time": "2023-08-22T14:56:50.724Z"
   },
   {
    "duration": 4,
    "start_time": "2023-08-22T14:56:50.862Z"
   },
   {
    "duration": 54,
    "start_time": "2023-08-22T14:56:50.868Z"
   },
   {
    "duration": 41,
    "start_time": "2023-08-22T14:56:50.924Z"
   },
   {
    "duration": 12,
    "start_time": "2023-08-22T14:56:50.966Z"
   },
   {
    "duration": 49,
    "start_time": "2023-08-22T14:56:50.980Z"
   },
   {
    "duration": 119,
    "start_time": "2023-08-22T14:56:51.031Z"
   },
   {
    "duration": 81,
    "start_time": "2023-08-22T14:56:51.152Z"
   },
   {
    "duration": 37,
    "start_time": "2023-08-22T14:56:51.235Z"
   },
   {
    "duration": 106,
    "start_time": "2023-08-22T14:56:51.274Z"
   },
   {
    "duration": 7,
    "start_time": "2023-08-22T14:56:51.382Z"
   },
   {
    "duration": 160,
    "start_time": "2023-08-22T14:56:51.391Z"
   },
   {
    "duration": 17,
    "start_time": "2023-08-22T14:56:51.552Z"
   },
   {
    "duration": 13,
    "start_time": "2023-08-22T14:56:51.570Z"
   },
   {
    "duration": 27,
    "start_time": "2023-08-22T14:56:51.584Z"
   },
   {
    "duration": 137,
    "start_time": "2023-08-22T14:56:51.612Z"
   },
   {
    "duration": 137,
    "start_time": "2023-08-22T14:56:51.750Z"
   },
   {
    "duration": 8,
    "start_time": "2023-08-22T14:56:51.889Z"
   },
   {
    "duration": 25,
    "start_time": "2023-08-22T14:56:51.908Z"
   },
   {
    "duration": 13,
    "start_time": "2023-08-22T14:56:51.937Z"
   },
   {
    "duration": 35,
    "start_time": "2023-08-22T14:56:51.952Z"
   },
   {
    "duration": 40,
    "start_time": "2023-08-22T14:56:51.989Z"
   },
   {
    "duration": 4,
    "start_time": "2023-08-22T14:56:52.030Z"
   },
   {
    "duration": 15,
    "start_time": "2023-08-22T14:56:52.035Z"
   },
   {
    "duration": 6,
    "start_time": "2023-08-22T14:58:11.544Z"
   },
   {
    "duration": 14,
    "start_time": "2023-08-22T14:59:59.218Z"
   },
   {
    "duration": 4,
    "start_time": "2023-08-22T15:00:55.885Z"
   },
   {
    "duration": 14,
    "start_time": "2023-08-22T15:02:28.569Z"
   },
   {
    "duration": 62,
    "start_time": "2023-08-22T15:03:02.602Z"
   },
   {
    "duration": 5,
    "start_time": "2023-08-22T15:03:19.611Z"
   },
   {
    "duration": 4,
    "start_time": "2023-08-22T15:03:31.283Z"
   },
   {
    "duration": 130,
    "start_time": "2023-08-22T15:03:31.290Z"
   },
   {
    "duration": 294,
    "start_time": "2023-08-22T15:03:31.422Z"
   },
   {
    "duration": 11,
    "start_time": "2023-08-22T15:03:31.718Z"
   },
   {
    "duration": 26,
    "start_time": "2023-08-22T15:03:31.732Z"
   },
   {
    "duration": 51,
    "start_time": "2023-08-22T15:03:31.760Z"
   },
   {
    "duration": 78,
    "start_time": "2023-08-22T15:03:31.812Z"
   },
   {
    "duration": 21,
    "start_time": "2023-08-22T15:03:31.892Z"
   },
   {
    "duration": 38,
    "start_time": "2023-08-22T15:03:31.914Z"
   },
   {
    "duration": 93,
    "start_time": "2023-08-22T15:03:31.954Z"
   },
   {
    "duration": 6,
    "start_time": "2023-08-22T15:03:32.049Z"
   },
   {
    "duration": 42,
    "start_time": "2023-08-22T15:03:32.057Z"
   },
   {
    "duration": 104,
    "start_time": "2023-08-22T15:03:32.101Z"
   },
   {
    "duration": 39,
    "start_time": "2023-08-22T15:03:32.209Z"
   },
   {
    "duration": 23,
    "start_time": "2023-08-22T15:03:32.250Z"
   },
   {
    "duration": 36,
    "start_time": "2023-08-22T15:03:32.275Z"
   },
   {
    "duration": 24,
    "start_time": "2023-08-22T15:03:32.313Z"
   },
   {
    "duration": 13,
    "start_time": "2023-08-22T15:03:32.339Z"
   },
   {
    "duration": 17,
    "start_time": "2023-08-22T15:03:32.359Z"
   },
   {
    "duration": 16,
    "start_time": "2023-08-22T15:03:32.378Z"
   },
   {
    "duration": 28,
    "start_time": "2023-08-22T15:03:32.396Z"
   },
   {
    "duration": 39,
    "start_time": "2023-08-22T15:03:32.426Z"
   },
   {
    "duration": 142,
    "start_time": "2023-08-22T15:03:32.467Z"
   },
   {
    "duration": 4,
    "start_time": "2023-08-22T15:03:32.612Z"
   },
   {
    "duration": 49,
    "start_time": "2023-08-22T15:03:32.618Z"
   },
   {
    "duration": 64,
    "start_time": "2023-08-22T15:03:32.669Z"
   },
   {
    "duration": 15,
    "start_time": "2023-08-22T15:03:32.736Z"
   },
   {
    "duration": 40,
    "start_time": "2023-08-22T15:03:32.753Z"
   },
   {
    "duration": 131,
    "start_time": "2023-08-22T15:03:32.811Z"
   },
   {
    "duration": 91,
    "start_time": "2023-08-22T15:03:32.944Z"
   },
   {
    "duration": 37,
    "start_time": "2023-08-22T15:03:33.036Z"
   },
   {
    "duration": 107,
    "start_time": "2023-08-22T15:03:33.075Z"
   },
   {
    "duration": 7,
    "start_time": "2023-08-22T15:03:33.184Z"
   },
   {
    "duration": 149,
    "start_time": "2023-08-22T15:03:33.193Z"
   },
   {
    "duration": 17,
    "start_time": "2023-08-22T15:03:33.344Z"
   },
   {
    "duration": 13,
    "start_time": "2023-08-22T15:03:33.362Z"
   },
   {
    "duration": 35,
    "start_time": "2023-08-22T15:03:33.376Z"
   },
   {
    "duration": 127,
    "start_time": "2023-08-22T15:03:33.413Z"
   },
   {
    "duration": 226,
    "start_time": "2023-08-22T15:03:33.542Z"
   },
   {
    "duration": 8,
    "start_time": "2023-08-22T15:03:33.770Z"
   },
   {
    "duration": 64,
    "start_time": "2023-08-22T15:03:33.782Z"
   },
   {
    "duration": 5,
    "start_time": "2023-08-22T15:03:33.848Z"
   },
   {
    "duration": 4,
    "start_time": "2023-08-22T15:04:25.190Z"
   },
   {
    "duration": 5,
    "start_time": "2023-08-22T15:06:18.412Z"
   },
   {
    "duration": 3,
    "start_time": "2023-08-22T15:06:38.787Z"
   },
   {
    "duration": 8,
    "start_time": "2023-08-22T15:06:38.792Z"
   },
   {
    "duration": 290,
    "start_time": "2023-08-22T15:06:38.801Z"
   },
   {
    "duration": 10,
    "start_time": "2023-08-22T15:06:39.094Z"
   },
   {
    "duration": 11,
    "start_time": "2023-08-22T15:06:39.106Z"
   },
   {
    "duration": 17,
    "start_time": "2023-08-22T15:06:39.119Z"
   },
   {
    "duration": 48,
    "start_time": "2023-08-22T15:06:39.138Z"
   },
   {
    "duration": 11,
    "start_time": "2023-08-22T15:06:39.188Z"
   },
   {
    "duration": 12,
    "start_time": "2023-08-22T15:06:39.209Z"
   },
   {
    "duration": 78,
    "start_time": "2023-08-22T15:06:39.222Z"
   },
   {
    "duration": 14,
    "start_time": "2023-08-22T15:06:39.301Z"
   },
   {
    "duration": 18,
    "start_time": "2023-08-22T15:06:39.317Z"
   },
   {
    "duration": 88,
    "start_time": "2023-08-22T15:06:39.337Z"
   },
   {
    "duration": 33,
    "start_time": "2023-08-22T15:06:39.427Z"
   },
   {
    "duration": 15,
    "start_time": "2023-08-22T15:06:39.462Z"
   },
   {
    "duration": 13,
    "start_time": "2023-08-22T15:06:39.479Z"
   },
   {
    "duration": 10,
    "start_time": "2023-08-22T15:06:39.510Z"
   },
   {
    "duration": 9,
    "start_time": "2023-08-22T15:06:39.522Z"
   },
   {
    "duration": 16,
    "start_time": "2023-08-22T15:06:39.533Z"
   },
   {
    "duration": 13,
    "start_time": "2023-08-22T15:06:39.551Z"
   },
   {
    "duration": 10,
    "start_time": "2023-08-22T15:06:39.565Z"
   },
   {
    "duration": 58,
    "start_time": "2023-08-22T15:06:39.577Z"
   },
   {
    "duration": 128,
    "start_time": "2023-08-22T15:06:39.637Z"
   },
   {
    "duration": 4,
    "start_time": "2023-08-22T15:06:39.769Z"
   },
   {
    "duration": 47,
    "start_time": "2023-08-22T15:06:39.775Z"
   },
   {
    "duration": 37,
    "start_time": "2023-08-22T15:06:39.824Z"
   },
   {
    "duration": 10,
    "start_time": "2023-08-22T15:06:39.863Z"
   },
   {
    "duration": 42,
    "start_time": "2023-08-22T15:06:39.874Z"
   },
   {
    "duration": 94,
    "start_time": "2023-08-22T15:06:39.918Z"
   },
   {
    "duration": 69,
    "start_time": "2023-08-22T15:06:40.013Z"
   },
   {
    "duration": 51,
    "start_time": "2023-08-22T15:06:40.084Z"
   },
   {
    "duration": 90,
    "start_time": "2023-08-22T15:06:40.137Z"
   },
   {
    "duration": 6,
    "start_time": "2023-08-22T15:06:40.229Z"
   },
   {
    "duration": 138,
    "start_time": "2023-08-22T15:06:40.237Z"
   },
   {
    "duration": 16,
    "start_time": "2023-08-22T15:06:40.376Z"
   },
   {
    "duration": 24,
    "start_time": "2023-08-22T15:06:40.393Z"
   },
   {
    "duration": 72,
    "start_time": "2023-08-22T15:06:40.418Z"
   },
   {
    "duration": 143,
    "start_time": "2023-08-22T15:06:40.492Z"
   },
   {
    "duration": 135,
    "start_time": "2023-08-22T15:06:40.636Z"
   },
   {
    "duration": 12,
    "start_time": "2023-08-22T15:06:40.772Z"
   },
   {
    "duration": 55,
    "start_time": "2023-08-22T15:06:40.787Z"
   },
   {
    "duration": 5,
    "start_time": "2023-08-22T15:06:40.843Z"
   },
   {
    "duration": 4,
    "start_time": "2023-08-22T15:08:24.100Z"
   },
   {
    "duration": 3,
    "start_time": "2023-08-22T15:08:26.973Z"
   },
   {
    "duration": 22,
    "start_time": "2023-08-22T15:08:26.979Z"
   },
   {
    "duration": 316,
    "start_time": "2023-08-22T15:08:27.003Z"
   },
   {
    "duration": 12,
    "start_time": "2023-08-22T15:08:27.322Z"
   },
   {
    "duration": 14,
    "start_time": "2023-08-22T15:08:27.335Z"
   },
   {
    "duration": 11,
    "start_time": "2023-08-22T15:08:27.351Z"
   },
   {
    "duration": 50,
    "start_time": "2023-08-22T15:08:27.364Z"
   },
   {
    "duration": 11,
    "start_time": "2023-08-22T15:08:27.416Z"
   },
   {
    "duration": 13,
    "start_time": "2023-08-22T15:08:27.429Z"
   },
   {
    "duration": 105,
    "start_time": "2023-08-22T15:08:27.443Z"
   },
   {
    "duration": 7,
    "start_time": "2023-08-22T15:08:27.550Z"
   },
   {
    "duration": 17,
    "start_time": "2023-08-22T15:08:27.559Z"
   },
   {
    "duration": 92,
    "start_time": "2023-08-22T15:08:27.578Z"
   },
   {
    "duration": 47,
    "start_time": "2023-08-22T15:08:27.672Z"
   },
   {
    "duration": 16,
    "start_time": "2023-08-22T15:08:27.721Z"
   },
   {
    "duration": 15,
    "start_time": "2023-08-22T15:08:27.740Z"
   },
   {
    "duration": 17,
    "start_time": "2023-08-22T15:08:27.757Z"
   },
   {
    "duration": 42,
    "start_time": "2023-08-22T15:08:27.776Z"
   },
   {
    "duration": 40,
    "start_time": "2023-08-22T15:08:27.819Z"
   },
   {
    "duration": 22,
    "start_time": "2023-08-22T15:08:27.862Z"
   },
   {
    "duration": 16,
    "start_time": "2023-08-22T15:08:27.886Z"
   },
   {
    "duration": 42,
    "start_time": "2023-08-22T15:08:27.903Z"
   },
   {
    "duration": 141,
    "start_time": "2023-08-22T15:08:27.947Z"
   },
   {
    "duration": 4,
    "start_time": "2023-08-22T15:08:28.091Z"
   },
   {
    "duration": 45,
    "start_time": "2023-08-22T15:08:28.096Z"
   },
   {
    "duration": 38,
    "start_time": "2023-08-22T15:08:28.143Z"
   },
   {
    "duration": 35,
    "start_time": "2023-08-22T15:08:28.183Z"
   },
   {
    "duration": 38,
    "start_time": "2023-08-22T15:08:28.219Z"
   },
   {
    "duration": 127,
    "start_time": "2023-08-22T15:08:28.259Z"
   },
   {
    "duration": 77,
    "start_time": "2023-08-22T15:08:28.388Z"
   },
   {
    "duration": 49,
    "start_time": "2023-08-22T15:08:28.467Z"
   },
   {
    "duration": 127,
    "start_time": "2023-08-22T15:08:28.519Z"
   },
   {
    "duration": 10,
    "start_time": "2023-08-22T15:08:28.648Z"
   },
   {
    "duration": 285,
    "start_time": "2023-08-22T15:08:28.660Z"
   },
   {
    "duration": 16,
    "start_time": "2023-08-22T15:08:28.947Z"
   },
   {
    "duration": 14,
    "start_time": "2023-08-22T15:08:28.965Z"
   },
   {
    "duration": 33,
    "start_time": "2023-08-22T15:08:28.980Z"
   },
   {
    "duration": 144,
    "start_time": "2023-08-22T15:08:29.016Z"
   },
   {
    "duration": 137,
    "start_time": "2023-08-22T15:08:29.163Z"
   },
   {
    "duration": 13,
    "start_time": "2023-08-22T15:08:29.302Z"
   },
   {
    "duration": 46,
    "start_time": "2023-08-22T15:08:29.316Z"
   },
   {
    "duration": 5,
    "start_time": "2023-08-22T15:08:29.364Z"
   },
   {
    "duration": 4,
    "start_time": "2023-08-22T15:10:28.105Z"
   },
   {
    "duration": 13,
    "start_time": "2023-08-22T15:10:45.705Z"
   },
   {
    "duration": 15,
    "start_time": "2023-08-22T15:10:49.941Z"
   },
   {
    "duration": 444,
    "start_time": "2023-08-22T15:10:57.690Z"
   },
   {
    "duration": 11,
    "start_time": "2023-08-22T15:11:20.948Z"
   },
   {
    "duration": 8,
    "start_time": "2023-08-22T15:11:43.107Z"
   },
   {
    "duration": 601,
    "start_time": "2023-08-22T15:11:54.614Z"
   },
   {
    "duration": 505,
    "start_time": "2023-08-22T15:12:01.620Z"
   },
   {
    "duration": 44,
    "start_time": "2023-08-22T15:12:26.343Z"
   },
   {
    "duration": 6,
    "start_time": "2023-08-22T15:12:35.137Z"
   },
   {
    "duration": 396,
    "start_time": "2023-08-22T15:13:55.091Z"
   },
   {
    "duration": 372,
    "start_time": "2023-08-22T15:14:12.783Z"
   },
   {
    "duration": 412,
    "start_time": "2023-08-22T15:14:35.190Z"
   },
   {
    "duration": 10,
    "start_time": "2023-08-22T15:14:41.185Z"
   },
   {
    "duration": 121,
    "start_time": "2023-08-22T15:15:55.213Z"
   },
   {
    "duration": 4,
    "start_time": "2023-08-22T15:16:07.764Z"
   },
   {
    "duration": 48,
    "start_time": "2023-08-22T15:16:07.770Z"
   },
   {
    "duration": 275,
    "start_time": "2023-08-22T15:16:07.820Z"
   },
   {
    "duration": 11,
    "start_time": "2023-08-22T15:16:08.097Z"
   },
   {
    "duration": 39,
    "start_time": "2023-08-22T15:16:08.110Z"
   },
   {
    "duration": 23,
    "start_time": "2023-08-22T15:16:08.151Z"
   },
   {
    "duration": 55,
    "start_time": "2023-08-22T15:16:08.175Z"
   },
   {
    "duration": 39,
    "start_time": "2023-08-22T15:16:08.233Z"
   },
   {
    "duration": 47,
    "start_time": "2023-08-22T15:16:08.274Z"
   },
   {
    "duration": 128,
    "start_time": "2023-08-22T15:16:08.324Z"
   },
   {
    "duration": 6,
    "start_time": "2023-08-22T15:16:08.454Z"
   },
   {
    "duration": 27,
    "start_time": "2023-08-22T15:16:08.462Z"
   },
   {
    "duration": 99,
    "start_time": "2023-08-22T15:16:08.491Z"
   },
   {
    "duration": 49,
    "start_time": "2023-08-22T15:16:08.592Z"
   },
   {
    "duration": 15,
    "start_time": "2023-08-22T15:16:08.643Z"
   },
   {
    "duration": 27,
    "start_time": "2023-08-22T15:16:08.660Z"
   },
   {
    "duration": 40,
    "start_time": "2023-08-22T15:16:08.688Z"
   },
   {
    "duration": 30,
    "start_time": "2023-08-22T15:16:08.730Z"
   },
   {
    "duration": 39,
    "start_time": "2023-08-22T15:16:08.762Z"
   },
   {
    "duration": 30,
    "start_time": "2023-08-22T15:16:08.803Z"
   },
   {
    "duration": 46,
    "start_time": "2023-08-22T15:16:08.835Z"
   },
   {
    "duration": 65,
    "start_time": "2023-08-22T15:16:08.883Z"
   },
   {
    "duration": 159,
    "start_time": "2023-08-22T15:16:08.950Z"
   },
   {
    "duration": 4,
    "start_time": "2023-08-22T15:16:09.112Z"
   },
   {
    "duration": 74,
    "start_time": "2023-08-22T15:16:09.118Z"
   },
   {
    "duration": 43,
    "start_time": "2023-08-22T15:16:09.194Z"
   },
   {
    "duration": 12,
    "start_time": "2023-08-22T15:16:09.239Z"
   },
   {
    "duration": 45,
    "start_time": "2023-08-22T15:16:09.255Z"
   },
   {
    "duration": 132,
    "start_time": "2023-08-22T15:16:09.302Z"
   },
   {
    "duration": 86,
    "start_time": "2023-08-22T15:16:09.436Z"
   },
   {
    "duration": 35,
    "start_time": "2023-08-22T15:16:09.524Z"
   },
   {
    "duration": 116,
    "start_time": "2023-08-22T15:16:09.560Z"
   },
   {
    "duration": 7,
    "start_time": "2023-08-22T15:16:09.678Z"
   },
   {
    "duration": 157,
    "start_time": "2023-08-22T15:16:09.687Z"
   },
   {
    "duration": 16,
    "start_time": "2023-08-22T15:16:09.846Z"
   },
   {
    "duration": 19,
    "start_time": "2023-08-22T15:16:09.864Z"
   },
   {
    "duration": 33,
    "start_time": "2023-08-22T15:16:09.885Z"
   },
   {
    "duration": 239,
    "start_time": "2023-08-22T15:16:09.919Z"
   },
   {
    "duration": 141,
    "start_time": "2023-08-22T15:16:10.160Z"
   },
   {
    "duration": 9,
    "start_time": "2023-08-22T15:16:10.308Z"
   },
   {
    "duration": 11,
    "start_time": "2023-08-22T15:16:10.319Z"
   },
   {
    "duration": 432,
    "start_time": "2023-08-22T15:16:10.332Z"
   },
   {
    "duration": 11,
    "start_time": "2023-08-22T15:16:10.765Z"
   },
   {
    "duration": 118,
    "start_time": "2023-08-22T15:16:10.777Z"
   },
   {
    "duration": 14,
    "start_time": "2023-08-22T15:16:10.896Z"
   },
   {
    "duration": 18,
    "start_time": "2023-08-22T15:16:10.911Z"
   },
   {
    "duration": 493,
    "start_time": "2023-08-22T15:16:10.931Z"
   },
   {
    "duration": 45,
    "start_time": "2023-08-22T15:16:11.426Z"
   },
   {
    "duration": 6,
    "start_time": "2023-08-22T15:16:11.473Z"
   },
   {
    "duration": 461,
    "start_time": "2023-08-22T15:17:36.316Z"
   },
   {
    "duration": 101,
    "start_time": "2023-08-22T15:17:44.751Z"
   },
   {
    "duration": 364,
    "start_time": "2023-08-22T15:17:49.488Z"
   },
   {
    "duration": 4,
    "start_time": "2023-08-22T15:18:14.595Z"
   },
   {
    "duration": 4,
    "start_time": "2023-08-22T15:18:14.602Z"
   },
   {
    "duration": 283,
    "start_time": "2023-08-22T15:18:14.608Z"
   },
   {
    "duration": 10,
    "start_time": "2023-08-22T15:18:14.893Z"
   },
   {
    "duration": 23,
    "start_time": "2023-08-22T15:18:14.904Z"
   },
   {
    "duration": 17,
    "start_time": "2023-08-22T15:18:14.930Z"
   },
   {
    "duration": 41,
    "start_time": "2023-08-22T15:18:14.949Z"
   },
   {
    "duration": 32,
    "start_time": "2023-08-22T15:18:14.992Z"
   },
   {
    "duration": 21,
    "start_time": "2023-08-22T15:18:15.026Z"
   },
   {
    "duration": 85,
    "start_time": "2023-08-22T15:18:15.049Z"
   },
   {
    "duration": 5,
    "start_time": "2023-08-22T15:18:15.135Z"
   },
   {
    "duration": 119,
    "start_time": "2023-08-22T15:18:15.143Z"
   },
   {
    "duration": 106,
    "start_time": "2023-08-22T15:18:15.264Z"
   },
   {
    "duration": 48,
    "start_time": "2023-08-22T15:18:15.372Z"
   },
   {
    "duration": 18,
    "start_time": "2023-08-22T15:18:15.422Z"
   },
   {
    "duration": 15,
    "start_time": "2023-08-22T15:18:15.442Z"
   },
   {
    "duration": 14,
    "start_time": "2023-08-22T15:18:15.458Z"
   },
   {
    "duration": 10,
    "start_time": "2023-08-22T15:18:15.474Z"
   },
   {
    "duration": 34,
    "start_time": "2023-08-22T15:18:15.485Z"
   },
   {
    "duration": 14,
    "start_time": "2023-08-22T15:18:15.521Z"
   },
   {
    "duration": 13,
    "start_time": "2023-08-22T15:18:15.536Z"
   },
   {
    "duration": 35,
    "start_time": "2023-08-22T15:18:15.551Z"
   },
   {
    "duration": 129,
    "start_time": "2023-08-22T15:18:15.610Z"
   },
   {
    "duration": 3,
    "start_time": "2023-08-22T15:18:15.741Z"
   },
   {
    "duration": 34,
    "start_time": "2023-08-22T15:18:15.746Z"
   },
   {
    "duration": 55,
    "start_time": "2023-08-22T15:18:15.782Z"
   },
   {
    "duration": 10,
    "start_time": "2023-08-22T15:18:15.839Z"
   },
   {
    "duration": 26,
    "start_time": "2023-08-22T15:18:15.850Z"
   },
   {
    "duration": 116,
    "start_time": "2023-08-22T15:18:15.877Z"
   },
   {
    "duration": 80,
    "start_time": "2023-08-22T15:18:15.997Z"
   },
   {
    "duration": 55,
    "start_time": "2023-08-22T15:18:16.079Z"
   },
   {
    "duration": 93,
    "start_time": "2023-08-22T15:18:16.136Z"
   },
   {
    "duration": 9,
    "start_time": "2023-08-22T15:18:16.231Z"
   },
   {
    "duration": 181,
    "start_time": "2023-08-22T15:18:16.242Z"
   },
   {
    "duration": 20,
    "start_time": "2023-08-22T15:18:16.425Z"
   },
   {
    "duration": 14,
    "start_time": "2023-08-22T15:18:16.447Z"
   },
   {
    "duration": 16,
    "start_time": "2023-08-22T15:18:16.463Z"
   },
   {
    "duration": 156,
    "start_time": "2023-08-22T15:18:16.480Z"
   },
   {
    "duration": 131,
    "start_time": "2023-08-22T15:18:16.638Z"
   },
   {
    "duration": 8,
    "start_time": "2023-08-22T15:18:16.771Z"
   },
   {
    "duration": 16,
    "start_time": "2023-08-22T15:18:16.781Z"
   },
   {
    "duration": 412,
    "start_time": "2023-08-22T15:18:16.808Z"
   },
   {
    "duration": 11,
    "start_time": "2023-08-22T15:18:17.222Z"
   },
   {
    "duration": 119,
    "start_time": "2023-08-22T15:18:17.235Z"
   },
   {
    "duration": 9,
    "start_time": "2023-08-22T15:18:17.355Z"
   },
   {
    "duration": 26,
    "start_time": "2023-08-22T15:18:17.365Z"
   },
   {
    "duration": 106,
    "start_time": "2023-08-22T15:18:17.393Z"
   },
   {
    "duration": 364,
    "start_time": "2023-08-22T15:18:17.500Z"
   },
   {
    "duration": 52,
    "start_time": "2023-08-22T15:18:17.866Z"
   },
   {
    "duration": 5,
    "start_time": "2023-08-22T15:18:17.920Z"
   },
   {
    "duration": 93,
    "start_time": "2023-08-22T15:19:40.365Z"
   },
   {
    "duration": 44,
    "start_time": "2023-08-22T15:19:46.334Z"
   },
   {
    "duration": 86,
    "start_time": "2023-08-22T15:19:48.870Z"
   },
   {
    "duration": 4,
    "start_time": "2023-08-22T15:19:55.810Z"
   },
   {
    "duration": 43,
    "start_time": "2023-08-22T15:20:12.053Z"
   },
   {
    "duration": 46,
    "start_time": "2023-08-22T15:20:15.192Z"
   },
   {
    "duration": 3,
    "start_time": "2023-08-22T15:20:17.813Z"
   },
   {
    "duration": 6,
    "start_time": "2023-08-22T15:20:17.819Z"
   },
   {
    "duration": 283,
    "start_time": "2023-08-22T15:20:17.827Z"
   },
   {
    "duration": 11,
    "start_time": "2023-08-22T15:20:18.113Z"
   },
   {
    "duration": 20,
    "start_time": "2023-08-22T15:20:18.126Z"
   },
   {
    "duration": 35,
    "start_time": "2023-08-22T15:20:18.147Z"
   },
   {
    "duration": 40,
    "start_time": "2023-08-22T15:20:18.184Z"
   },
   {
    "duration": 10,
    "start_time": "2023-08-22T15:20:18.225Z"
   },
   {
    "duration": 14,
    "start_time": "2023-08-22T15:20:18.237Z"
   },
   {
    "duration": 82,
    "start_time": "2023-08-22T15:20:18.253Z"
   },
   {
    "duration": 6,
    "start_time": "2023-08-22T15:20:18.337Z"
   },
   {
    "duration": 16,
    "start_time": "2023-08-22T15:20:18.344Z"
   },
   {
    "duration": 90,
    "start_time": "2023-08-22T15:20:18.361Z"
   },
   {
    "duration": 31,
    "start_time": "2023-08-22T15:20:18.453Z"
   },
   {
    "duration": 24,
    "start_time": "2023-08-22T15:20:18.486Z"
   },
   {
    "duration": 15,
    "start_time": "2023-08-22T15:20:18.512Z"
   },
   {
    "duration": 11,
    "start_time": "2023-08-22T15:20:18.529Z"
   },
   {
    "duration": 17,
    "start_time": "2023-08-22T15:20:18.542Z"
   },
   {
    "duration": 28,
    "start_time": "2023-08-22T15:20:18.561Z"
   },
   {
    "duration": 26,
    "start_time": "2023-08-22T15:20:18.591Z"
   },
   {
    "duration": 11,
    "start_time": "2023-08-22T15:20:18.619Z"
   },
   {
    "duration": 34,
    "start_time": "2023-08-22T15:20:18.632Z"
   },
   {
    "duration": 144,
    "start_time": "2023-08-22T15:20:18.667Z"
   },
   {
    "duration": 4,
    "start_time": "2023-08-22T15:20:18.812Z"
   },
   {
    "duration": 43,
    "start_time": "2023-08-22T15:20:18.818Z"
   },
   {
    "duration": 37,
    "start_time": "2023-08-22T15:20:18.863Z"
   },
   {
    "duration": 10,
    "start_time": "2023-08-22T15:20:18.910Z"
   },
   {
    "duration": 25,
    "start_time": "2023-08-22T15:20:18.923Z"
   },
   {
    "duration": 113,
    "start_time": "2023-08-22T15:20:18.949Z"
   },
   {
    "duration": 83,
    "start_time": "2023-08-22T15:20:19.064Z"
   },
   {
    "duration": 37,
    "start_time": "2023-08-22T15:20:19.149Z"
   },
   {
    "duration": 190,
    "start_time": "2023-08-22T15:20:19.187Z"
   },
   {
    "duration": 7,
    "start_time": "2023-08-22T15:20:19.378Z"
   },
   {
    "duration": 144,
    "start_time": "2023-08-22T15:20:19.387Z"
   },
   {
    "duration": 15,
    "start_time": "2023-08-22T15:20:19.533Z"
   },
   {
    "duration": 11,
    "start_time": "2023-08-22T15:20:19.550Z"
   },
   {
    "duration": 14,
    "start_time": "2023-08-22T15:20:19.563Z"
   },
   {
    "duration": 139,
    "start_time": "2023-08-22T15:20:19.578Z"
   },
   {
    "duration": 136,
    "start_time": "2023-08-22T15:20:19.719Z"
   },
   {
    "duration": 8,
    "start_time": "2023-08-22T15:20:19.856Z"
   },
   {
    "duration": 65,
    "start_time": "2023-08-22T15:20:19.865Z"
   },
   {
    "duration": 380,
    "start_time": "2023-08-22T15:20:19.932Z"
   },
   {
    "duration": 10,
    "start_time": "2023-08-22T15:20:20.315Z"
   },
   {
    "duration": 135,
    "start_time": "2023-08-22T15:20:20.328Z"
   },
   {
    "duration": 10,
    "start_time": "2023-08-22T15:20:20.465Z"
   },
   {
    "duration": 14,
    "start_time": "2023-08-22T15:20:20.477Z"
   },
   {
    "duration": 117,
    "start_time": "2023-08-22T15:20:20.493Z"
   },
   {
    "duration": 352,
    "start_time": "2023-08-22T15:20:20.611Z"
   },
   {
    "duration": 61,
    "start_time": "2023-08-22T15:20:20.965Z"
   },
   {
    "duration": 4,
    "start_time": "2023-08-22T15:20:21.028Z"
   },
   {
    "duration": 43,
    "start_time": "2023-08-22T15:20:47.437Z"
   },
   {
    "duration": 42,
    "start_time": "2023-08-22T15:21:29.327Z"
   },
   {
    "duration": 5,
    "start_time": "2023-08-22T15:21:40.283Z"
   },
   {
    "duration": 3,
    "start_time": "2023-08-22T15:21:43.837Z"
   },
   {
    "duration": 30,
    "start_time": "2023-08-22T15:21:43.842Z"
   },
   {
    "duration": 275,
    "start_time": "2023-08-22T15:21:43.874Z"
   },
   {
    "duration": 9,
    "start_time": "2023-08-22T15:21:44.151Z"
   },
   {
    "duration": 21,
    "start_time": "2023-08-22T15:21:44.162Z"
   },
   {
    "duration": 27,
    "start_time": "2023-08-22T15:21:44.184Z"
   },
   {
    "duration": 47,
    "start_time": "2023-08-22T15:21:44.212Z"
   },
   {
    "duration": 22,
    "start_time": "2023-08-22T15:21:44.260Z"
   },
   {
    "duration": 21,
    "start_time": "2023-08-22T15:21:44.283Z"
   },
   {
    "duration": 76,
    "start_time": "2023-08-22T15:21:44.306Z"
   },
   {
    "duration": 5,
    "start_time": "2023-08-22T15:21:44.385Z"
   },
   {
    "duration": 19,
    "start_time": "2023-08-22T15:21:44.392Z"
   },
   {
    "duration": 73,
    "start_time": "2023-08-22T15:21:44.413Z"
   },
   {
    "duration": 43,
    "start_time": "2023-08-22T15:21:44.488Z"
   },
   {
    "duration": 14,
    "start_time": "2023-08-22T15:21:44.533Z"
   },
   {
    "duration": 23,
    "start_time": "2023-08-22T15:21:44.549Z"
   },
   {
    "duration": 13,
    "start_time": "2023-08-22T15:21:44.574Z"
   },
   {
    "duration": 27,
    "start_time": "2023-08-22T15:21:44.590Z"
   },
   {
    "duration": 18,
    "start_time": "2023-08-22T15:21:44.619Z"
   },
   {
    "duration": 13,
    "start_time": "2023-08-22T15:21:44.639Z"
   },
   {
    "duration": 10,
    "start_time": "2023-08-22T15:21:44.654Z"
   },
   {
    "duration": 54,
    "start_time": "2023-08-22T15:21:44.666Z"
   },
   {
    "duration": 127,
    "start_time": "2023-08-22T15:21:44.722Z"
   },
   {
    "duration": 4,
    "start_time": "2023-08-22T15:21:44.851Z"
   },
   {
    "duration": 52,
    "start_time": "2023-08-22T15:21:44.856Z"
   },
   {
    "duration": 39,
    "start_time": "2023-08-22T15:21:44.910Z"
   },
   {
    "duration": 11,
    "start_time": "2023-08-22T15:21:44.951Z"
   },
   {
    "duration": 49,
    "start_time": "2023-08-22T15:21:44.964Z"
   },
   {
    "duration": 129,
    "start_time": "2023-08-22T15:21:45.017Z"
   },
   {
    "duration": 80,
    "start_time": "2023-08-22T15:21:45.148Z"
   },
   {
    "duration": 47,
    "start_time": "2023-08-22T15:21:45.230Z"
   },
   {
    "duration": 113,
    "start_time": "2023-08-22T15:21:45.280Z"
   },
   {
    "duration": 7,
    "start_time": "2023-08-22T15:21:45.395Z"
   },
   {
    "duration": 239,
    "start_time": "2023-08-22T15:21:45.403Z"
   },
   {
    "duration": 17,
    "start_time": "2023-08-22T15:21:45.644Z"
   },
   {
    "duration": 23,
    "start_time": "2023-08-22T15:21:45.663Z"
   },
   {
    "duration": 23,
    "start_time": "2023-08-22T15:21:45.688Z"
   },
   {
    "duration": 134,
    "start_time": "2023-08-22T15:21:45.713Z"
   },
   {
    "duration": 132,
    "start_time": "2023-08-22T15:21:45.849Z"
   },
   {
    "duration": 8,
    "start_time": "2023-08-22T15:21:45.983Z"
   },
   {
    "duration": 19,
    "start_time": "2023-08-22T15:21:45.993Z"
   },
   {
    "duration": 385,
    "start_time": "2023-08-22T15:21:46.013Z"
   },
   {
    "duration": 18,
    "start_time": "2023-08-22T15:21:46.400Z"
   },
   {
    "duration": 113,
    "start_time": "2023-08-22T15:21:46.420Z"
   },
   {
    "duration": 8,
    "start_time": "2023-08-22T15:21:46.535Z"
   },
   {
    "duration": 6,
    "start_time": "2023-08-22T15:21:46.545Z"
   },
   {
    "duration": 130,
    "start_time": "2023-08-22T15:21:46.553Z"
   },
   {
    "duration": 372,
    "start_time": "2023-08-22T15:21:46.685Z"
   },
   {
    "duration": 56,
    "start_time": "2023-08-22T15:21:47.059Z"
   },
   {
    "duration": 5,
    "start_time": "2023-08-22T15:21:47.116Z"
   },
   {
    "duration": 46,
    "start_time": "2023-08-22T15:22:49.197Z"
   },
   {
    "duration": 7,
    "start_time": "2023-08-22T15:22:51.446Z"
   },
   {
    "duration": 658,
    "start_time": "2023-08-22T15:32:29.979Z"
   },
   {
    "duration": 4,
    "start_time": "2023-08-22T15:32:47.103Z"
   },
   {
    "duration": 16,
    "start_time": "2023-08-22T15:32:55.008Z"
   },
   {
    "duration": 1328,
    "start_time": "2023-08-22T15:33:02.686Z"
   },
   {
    "duration": 28,
    "start_time": "2023-08-22T15:33:57.978Z"
   },
   {
    "duration": 81,
    "start_time": "2023-08-22T15:34:53.549Z"
   },
   {
    "duration": 89,
    "start_time": "2023-08-22T15:35:19.253Z"
   },
   {
    "duration": 2,
    "start_time": "2023-08-22T15:35:55.522Z"
   },
   {
    "duration": 4,
    "start_time": "2023-08-22T15:36:06.766Z"
   },
   {
    "duration": 4,
    "start_time": "2023-08-22T15:37:32.291Z"
   },
   {
    "duration": 21,
    "start_time": "2023-08-22T15:37:50.449Z"
   },
   {
    "duration": 9,
    "start_time": "2023-08-22T15:38:15.707Z"
   },
   {
    "duration": 11,
    "start_time": "2023-08-22T15:59:04.114Z"
   },
   {
    "duration": 13,
    "start_time": "2023-08-22T15:59:07.421Z"
   },
   {
    "duration": 13,
    "start_time": "2023-08-22T15:59:16.803Z"
   },
   {
    "duration": 9,
    "start_time": "2023-08-22T16:00:35.621Z"
   },
   {
    "duration": 134,
    "start_time": "2023-08-22T16:01:00.491Z"
   },
   {
    "duration": 834,
    "start_time": "2023-08-22T16:01:05.887Z"
   },
   {
    "duration": 248,
    "start_time": "2023-08-22T16:01:15.061Z"
   },
   {
    "duration": 123,
    "start_time": "2023-08-22T17:26:57.524Z"
   },
   {
    "duration": 93,
    "start_time": "2023-08-22T17:27:50.431Z"
   },
   {
    "duration": 79,
    "start_time": "2023-08-22T17:29:58.421Z"
   },
   {
    "duration": 83,
    "start_time": "2023-08-22T17:30:26.750Z"
   },
   {
    "duration": 86,
    "start_time": "2023-08-22T17:30:30.615Z"
   },
   {
    "duration": 94,
    "start_time": "2023-08-22T17:30:47.293Z"
   },
   {
    "duration": 1538,
    "start_time": "2023-08-23T18:59:39.052Z"
   },
   {
    "duration": 12,
    "start_time": "2023-08-23T18:59:40.592Z"
   },
   {
    "duration": 749,
    "start_time": "2023-08-23T18:59:40.606Z"
   },
   {
    "duration": 16,
    "start_time": "2023-08-23T18:59:41.358Z"
   },
   {
    "duration": 81,
    "start_time": "2023-08-23T18:59:41.376Z"
   },
   {
    "duration": 13,
    "start_time": "2023-08-23T18:59:41.459Z"
   },
   {
    "duration": 39,
    "start_time": "2023-08-23T18:59:41.473Z"
   },
   {
    "duration": 53,
    "start_time": "2023-08-23T18:59:41.514Z"
   },
   {
    "duration": 20,
    "start_time": "2023-08-23T18:59:41.569Z"
   },
   {
    "duration": 79,
    "start_time": "2023-08-23T18:59:41.592Z"
   },
   {
    "duration": 7,
    "start_time": "2023-08-23T18:59:41.673Z"
   },
   {
    "duration": 12,
    "start_time": "2023-08-23T18:59:41.682Z"
   },
   {
    "duration": 118,
    "start_time": "2023-08-23T18:59:41.695Z"
   },
   {
    "duration": 40,
    "start_time": "2023-08-23T18:59:41.815Z"
   },
   {
    "duration": 14,
    "start_time": "2023-08-23T18:59:41.857Z"
   },
   {
    "duration": 9,
    "start_time": "2023-08-23T18:59:41.873Z"
   },
   {
    "duration": 36,
    "start_time": "2023-08-23T18:59:41.884Z"
   },
   {
    "duration": 15,
    "start_time": "2023-08-23T18:59:41.922Z"
   },
   {
    "duration": 15,
    "start_time": "2023-08-23T18:59:41.939Z"
   },
   {
    "duration": 13,
    "start_time": "2023-08-23T18:59:41.956Z"
   },
   {
    "duration": 46,
    "start_time": "2023-08-23T18:59:41.972Z"
   },
   {
    "duration": 31,
    "start_time": "2023-08-23T18:59:42.020Z"
   },
   {
    "duration": 165,
    "start_time": "2023-08-23T18:59:42.053Z"
   },
   {
    "duration": 4,
    "start_time": "2023-08-23T18:59:42.220Z"
   },
   {
    "duration": 37,
    "start_time": "2023-08-23T18:59:42.226Z"
   },
   {
    "duration": 58,
    "start_time": "2023-08-23T18:59:42.264Z"
   },
   {
    "duration": 12,
    "start_time": "2023-08-23T18:59:42.324Z"
   },
   {
    "duration": 32,
    "start_time": "2023-08-23T18:59:42.341Z"
   },
   {
    "duration": 170,
    "start_time": "2023-08-23T18:59:42.375Z"
   },
   {
    "duration": 100,
    "start_time": "2023-08-23T18:59:42.547Z"
   },
   {
    "duration": 48,
    "start_time": "2023-08-23T18:59:42.649Z"
   },
   {
    "duration": 112,
    "start_time": "2023-08-23T18:59:42.708Z"
   },
   {
    "duration": 8,
    "start_time": "2023-08-23T18:59:42.822Z"
   },
   {
    "duration": 164,
    "start_time": "2023-08-23T18:59:42.832Z"
   },
   {
    "duration": 25,
    "start_time": "2023-08-23T18:59:42.998Z"
   },
   {
    "duration": 12,
    "start_time": "2023-08-23T18:59:43.024Z"
   },
   {
    "duration": 10,
    "start_time": "2023-08-23T18:59:43.038Z"
   },
   {
    "duration": 143,
    "start_time": "2023-08-23T18:59:43.050Z"
   },
   {
    "duration": 135,
    "start_time": "2023-08-23T18:59:43.195Z"
   },
   {
    "duration": 0,
    "start_time": "2023-08-23T18:59:43.332Z"
   },
   {
    "duration": 1,
    "start_time": "2023-08-23T18:59:43.333Z"
   },
   {
    "duration": 0,
    "start_time": "2023-08-23T18:59:43.335Z"
   },
   {
    "duration": 0,
    "start_time": "2023-08-23T18:59:43.336Z"
   },
   {
    "duration": 0,
    "start_time": "2023-08-23T18:59:43.338Z"
   },
   {
    "duration": 0,
    "start_time": "2023-08-23T18:59:43.339Z"
   },
   {
    "duration": 0,
    "start_time": "2023-08-23T18:59:43.341Z"
   },
   {
    "duration": 0,
    "start_time": "2023-08-23T18:59:43.342Z"
   },
   {
    "duration": 0,
    "start_time": "2023-08-23T18:59:43.344Z"
   },
   {
    "duration": 0,
    "start_time": "2023-08-23T18:59:43.345Z"
   },
   {
    "duration": 0,
    "start_time": "2023-08-23T18:59:43.347Z"
   },
   {
    "duration": 0,
    "start_time": "2023-08-23T18:59:43.348Z"
   },
   {
    "duration": 0,
    "start_time": "2023-08-23T18:59:43.350Z"
   },
   {
    "duration": 0,
    "start_time": "2023-08-23T18:59:43.351Z"
   },
   {
    "duration": 0,
    "start_time": "2023-08-23T18:59:43.352Z"
   },
   {
    "duration": 0,
    "start_time": "2023-08-23T18:59:43.354Z"
   },
   {
    "duration": 0,
    "start_time": "2023-08-23T18:59:43.355Z"
   },
   {
    "duration": 0,
    "start_time": "2023-08-23T18:59:43.356Z"
   },
   {
    "duration": 0,
    "start_time": "2023-08-23T18:59:43.358Z"
   },
   {
    "duration": 0,
    "start_time": "2023-08-23T18:59:43.359Z"
   },
   {
    "duration": 128,
    "start_time": "2023-08-23T19:36:57.436Z"
   },
   {
    "duration": 16,
    "start_time": "2023-08-23T19:37:18.140Z"
   },
   {
    "duration": 8,
    "start_time": "2023-08-23T19:37:19.831Z"
   },
   {
    "duration": 560,
    "start_time": "2023-08-23T19:37:20.035Z"
   },
   {
    "duration": 32,
    "start_time": "2023-08-23T19:37:20.598Z"
   },
   {
    "duration": 142,
    "start_time": "2023-08-23T19:37:20.637Z"
   },
   {
    "duration": 16,
    "start_time": "2023-08-23T19:37:21.143Z"
   },
   {
    "duration": 14,
    "start_time": "2023-08-23T19:37:21.338Z"
   },
   {
    "duration": 170,
    "start_time": "2023-08-23T19:37:21.569Z"
   },
   {
    "duration": 516,
    "start_time": "2023-08-23T19:37:21.805Z"
   },
   {
    "duration": 78,
    "start_time": "2023-08-23T19:37:23.292Z"
   },
   {
    "duration": 7,
    "start_time": "2023-08-23T19:37:23.493Z"
   },
   {
    "duration": 141,
    "start_time": "2023-08-23T19:37:24.022Z"
   },
   {
    "duration": 7,
    "start_time": "2023-08-23T19:37:30.502Z"
   },
   {
    "duration": 8,
    "start_time": "2023-08-23T19:37:33.764Z"
   },
   {
    "duration": 122,
    "start_time": "2023-08-23T19:38:15.458Z"
   },
   {
    "duration": 120,
    "start_time": "2023-08-23T19:38:28.938Z"
   },
   {
    "duration": 4,
    "start_time": "2023-08-23T19:38:29.180Z"
   },
   {
    "duration": 10,
    "start_time": "2023-08-23T19:38:29.419Z"
   },
   {
    "duration": 38,
    "start_time": "2023-08-23T19:38:29.650Z"
   },
   {
    "duration": 9,
    "start_time": "2023-08-23T19:38:30.692Z"
   },
   {
    "duration": 186,
    "start_time": "2023-08-23T19:38:34.963Z"
   },
   {
    "duration": 22,
    "start_time": "2023-08-23T19:38:35.171Z"
   },
   {
    "duration": 101,
    "start_time": "2023-08-23T19:38:35.372Z"
   },
   {
    "duration": 1522,
    "start_time": "2023-09-11T09:58:50.607Z"
   },
   {
    "duration": 4,
    "start_time": "2023-09-11T09:58:52.131Z"
   },
   {
    "duration": 690,
    "start_time": "2023-09-11T09:58:52.136Z"
   },
   {
    "duration": 14,
    "start_time": "2023-09-11T09:58:52.829Z"
   },
   {
    "duration": 8,
    "start_time": "2023-09-11T09:58:52.845Z"
   },
   {
    "duration": 15,
    "start_time": "2023-09-11T09:58:52.855Z"
   },
   {
    "duration": 55,
    "start_time": "2023-09-11T09:58:52.871Z"
   },
   {
    "duration": 11,
    "start_time": "2023-09-11T09:58:52.927Z"
   },
   {
    "duration": 19,
    "start_time": "2023-09-11T09:58:52.940Z"
   },
   {
    "duration": 99,
    "start_time": "2023-09-11T09:58:52.962Z"
   },
   {
    "duration": 7,
    "start_time": "2023-09-11T09:58:53.063Z"
   },
   {
    "duration": 32,
    "start_time": "2023-09-11T09:58:53.080Z"
   },
   {
    "duration": 97,
    "start_time": "2023-09-11T09:58:53.114Z"
   },
   {
    "duration": 39,
    "start_time": "2023-09-11T09:58:53.213Z"
   },
   {
    "duration": 30,
    "start_time": "2023-09-11T09:58:53.254Z"
   },
   {
    "duration": 13,
    "start_time": "2023-09-11T09:58:53.286Z"
   },
   {
    "duration": 16,
    "start_time": "2023-09-11T09:58:53.300Z"
   },
   {
    "duration": 20,
    "start_time": "2023-09-11T09:58:53.317Z"
   },
   {
    "duration": 18,
    "start_time": "2023-09-11T09:58:53.339Z"
   },
   {
    "duration": 30,
    "start_time": "2023-09-11T09:58:53.359Z"
   },
   {
    "duration": 32,
    "start_time": "2023-09-11T09:58:53.391Z"
   },
   {
    "duration": 68,
    "start_time": "2023-09-11T09:58:53.425Z"
   },
   {
    "duration": 150,
    "start_time": "2023-09-11T09:58:53.495Z"
   },
   {
    "duration": 3,
    "start_time": "2023-09-11T09:58:53.647Z"
   },
   {
    "duration": 59,
    "start_time": "2023-09-11T09:58:53.652Z"
   },
   {
    "duration": 42,
    "start_time": "2023-09-11T09:58:53.713Z"
   },
   {
    "duration": 29,
    "start_time": "2023-09-11T09:58:53.756Z"
   },
   {
    "duration": 30,
    "start_time": "2023-09-11T09:58:53.789Z"
   },
   {
    "duration": 123,
    "start_time": "2023-09-11T09:58:53.821Z"
   },
   {
    "duration": 90,
    "start_time": "2023-09-11T09:58:53.946Z"
   },
   {
    "duration": 48,
    "start_time": "2023-09-11T09:58:54.037Z"
   },
   {
    "duration": 96,
    "start_time": "2023-09-11T09:58:54.087Z"
   },
   {
    "duration": 7,
    "start_time": "2023-09-11T09:58:54.185Z"
   },
   {
    "duration": 155,
    "start_time": "2023-09-11T09:58:54.193Z"
   },
   {
    "duration": 19,
    "start_time": "2023-09-11T09:58:54.349Z"
   },
   {
    "duration": 82,
    "start_time": "2023-09-11T09:58:54.381Z"
   },
   {
    "duration": 24,
    "start_time": "2023-09-11T09:58:54.464Z"
   },
   {
    "duration": 136,
    "start_time": "2023-09-11T09:58:54.490Z"
   },
   {
    "duration": 119,
    "start_time": "2023-09-11T09:58:54.628Z"
   },
   {
    "duration": 0,
    "start_time": "2023-09-11T09:58:54.749Z"
   },
   {
    "duration": 0,
    "start_time": "2023-09-11T09:58:54.751Z"
   },
   {
    "duration": 0,
    "start_time": "2023-09-11T09:58:54.753Z"
   },
   {
    "duration": 0,
    "start_time": "2023-09-11T09:58:54.754Z"
   },
   {
    "duration": 0,
    "start_time": "2023-09-11T09:58:54.756Z"
   },
   {
    "duration": 0,
    "start_time": "2023-09-11T09:58:54.757Z"
   },
   {
    "duration": 1,
    "start_time": "2023-09-11T09:58:54.758Z"
   },
   {
    "duration": 0,
    "start_time": "2023-09-11T09:58:54.760Z"
   },
   {
    "duration": 0,
    "start_time": "2023-09-11T09:58:54.781Z"
   },
   {
    "duration": 0,
    "start_time": "2023-09-11T09:58:54.783Z"
   },
   {
    "duration": 0,
    "start_time": "2023-09-11T09:58:54.784Z"
   },
   {
    "duration": 0,
    "start_time": "2023-09-11T09:58:54.785Z"
   },
   {
    "duration": 0,
    "start_time": "2023-09-11T09:58:54.787Z"
   },
   {
    "duration": 0,
    "start_time": "2023-09-11T09:58:54.788Z"
   },
   {
    "duration": 0,
    "start_time": "2023-09-11T09:58:54.790Z"
   },
   {
    "duration": 0,
    "start_time": "2023-09-11T09:58:54.790Z"
   },
   {
    "duration": 0,
    "start_time": "2023-09-11T09:58:54.791Z"
   },
   {
    "duration": 0,
    "start_time": "2023-09-11T09:58:54.792Z"
   },
   {
    "duration": 0,
    "start_time": "2023-09-11T09:58:54.793Z"
   },
   {
    "duration": 129,
    "start_time": "2023-09-11T10:00:38.747Z"
   },
   {
    "duration": 3,
    "start_time": "2023-09-11T10:00:43.219Z"
   },
   {
    "duration": 18,
    "start_time": "2023-09-11T10:00:43.224Z"
   },
   {
    "duration": 338,
    "start_time": "2023-09-11T10:00:43.245Z"
   },
   {
    "duration": 11,
    "start_time": "2023-09-11T10:00:43.587Z"
   },
   {
    "duration": 12,
    "start_time": "2023-09-11T10:00:43.601Z"
   },
   {
    "duration": 14,
    "start_time": "2023-09-11T10:00:43.616Z"
   },
   {
    "duration": 70,
    "start_time": "2023-09-11T10:00:43.633Z"
   },
   {
    "duration": 22,
    "start_time": "2023-09-11T10:00:43.705Z"
   },
   {
    "duration": 26,
    "start_time": "2023-09-11T10:00:43.729Z"
   },
   {
    "duration": 94,
    "start_time": "2023-09-11T10:00:43.757Z"
   },
   {
    "duration": 5,
    "start_time": "2023-09-11T10:00:43.854Z"
   },
   {
    "duration": 29,
    "start_time": "2023-09-11T10:00:43.861Z"
   },
   {
    "duration": 93,
    "start_time": "2023-09-11T10:00:43.893Z"
   },
   {
    "duration": 40,
    "start_time": "2023-09-11T10:00:43.988Z"
   },
   {
    "duration": 17,
    "start_time": "2023-09-11T10:00:44.030Z"
   },
   {
    "duration": 32,
    "start_time": "2023-09-11T10:00:44.049Z"
   },
   {
    "duration": 13,
    "start_time": "2023-09-11T10:00:44.083Z"
   },
   {
    "duration": 23,
    "start_time": "2023-09-11T10:00:44.097Z"
   },
   {
    "duration": 21,
    "start_time": "2023-09-11T10:00:44.122Z"
   },
   {
    "duration": 37,
    "start_time": "2023-09-11T10:00:44.145Z"
   },
   {
    "duration": 25,
    "start_time": "2023-09-11T10:00:44.184Z"
   },
   {
    "duration": 49,
    "start_time": "2023-09-11T10:00:44.211Z"
   },
   {
    "duration": 158,
    "start_time": "2023-09-11T10:00:44.263Z"
   },
   {
    "duration": 3,
    "start_time": "2023-09-11T10:00:44.423Z"
   },
   {
    "duration": 38,
    "start_time": "2023-09-11T10:00:44.428Z"
   },
   {
    "duration": 41,
    "start_time": "2023-09-11T10:00:44.481Z"
   },
   {
    "duration": 11,
    "start_time": "2023-09-11T10:00:44.523Z"
   },
   {
    "duration": 25,
    "start_time": "2023-09-11T10:00:44.535Z"
   },
   {
    "duration": 105,
    "start_time": "2023-09-11T10:00:44.581Z"
   },
   {
    "duration": 77,
    "start_time": "2023-09-11T10:00:44.688Z"
   },
   {
    "duration": 53,
    "start_time": "2023-09-11T10:00:44.767Z"
   },
   {
    "duration": 107,
    "start_time": "2023-09-11T10:00:44.822Z"
   },
   {
    "duration": 7,
    "start_time": "2023-09-11T10:00:44.931Z"
   },
   {
    "duration": 146,
    "start_time": "2023-09-11T10:00:44.940Z"
   },
   {
    "duration": 16,
    "start_time": "2023-09-11T10:00:45.088Z"
   },
   {
    "duration": 25,
    "start_time": "2023-09-11T10:00:45.106Z"
   },
   {
    "duration": 16,
    "start_time": "2023-09-11T10:00:45.135Z"
   },
   {
    "duration": 230,
    "start_time": "2023-09-11T10:00:45.153Z"
   },
   {
    "duration": 137,
    "start_time": "2023-09-11T10:00:45.385Z"
   },
   {
    "duration": 9,
    "start_time": "2023-09-11T10:00:45.524Z"
   },
   {
    "duration": 6,
    "start_time": "2023-09-11T10:00:45.535Z"
   },
   {
    "duration": 445,
    "start_time": "2023-09-11T10:00:45.543Z"
   },
   {
    "duration": 10,
    "start_time": "2023-09-11T10:00:45.990Z"
   },
   {
    "duration": 143,
    "start_time": "2023-09-11T10:00:46.001Z"
   },
   {
    "duration": 8,
    "start_time": "2023-09-11T10:00:46.145Z"
   },
   {
    "duration": 7,
    "start_time": "2023-09-11T10:00:46.154Z"
   },
   {
    "duration": 127,
    "start_time": "2023-09-11T10:00:46.162Z"
   },
   {
    "duration": 379,
    "start_time": "2023-09-11T10:00:46.291Z"
   },
   {
    "duration": 51,
    "start_time": "2023-09-11T10:00:46.672Z"
   },
   {
    "duration": 6,
    "start_time": "2023-09-11T10:00:46.725Z"
   },
   {
    "duration": 135,
    "start_time": "2023-09-11T10:00:46.733Z"
   },
   {
    "duration": 143,
    "start_time": "2023-09-11T10:00:46.870Z"
   },
   {
    "duration": 2,
    "start_time": "2023-09-11T10:00:47.016Z"
   },
   {
    "duration": 20,
    "start_time": "2023-09-11T10:00:47.020Z"
   },
   {
    "duration": 41,
    "start_time": "2023-09-11T10:00:47.042Z"
   },
   {
    "duration": 11,
    "start_time": "2023-09-11T10:00:47.086Z"
   },
   {
    "duration": 194,
    "start_time": "2023-09-11T10:00:47.099Z"
   },
   {
    "duration": 15,
    "start_time": "2023-09-11T10:00:47.295Z"
   },
   {
    "duration": 4,
    "start_time": "2023-09-11T10:27:48.742Z"
   },
   {
    "duration": 14,
    "start_time": "2023-09-11T10:27:48.748Z"
   },
   {
    "duration": 345,
    "start_time": "2023-09-11T10:27:48.764Z"
   },
   {
    "duration": 9,
    "start_time": "2023-09-11T10:27:49.111Z"
   },
   {
    "duration": 9,
    "start_time": "2023-09-11T10:27:49.122Z"
   },
   {
    "duration": 14,
    "start_time": "2023-09-11T10:27:49.132Z"
   },
   {
    "duration": 71,
    "start_time": "2023-09-11T10:27:49.148Z"
   },
   {
    "duration": 12,
    "start_time": "2023-09-11T10:27:49.220Z"
   },
   {
    "duration": 13,
    "start_time": "2023-09-11T10:27:49.234Z"
   },
   {
    "duration": 97,
    "start_time": "2023-09-11T10:27:49.249Z"
   },
   {
    "duration": 6,
    "start_time": "2023-09-11T10:27:49.348Z"
   },
   {
    "duration": 17,
    "start_time": "2023-09-11T10:27:49.355Z"
   },
   {
    "duration": 89,
    "start_time": "2023-09-11T10:27:49.391Z"
   },
   {
    "duration": 40,
    "start_time": "2023-09-11T10:27:49.497Z"
   },
   {
    "duration": 102,
    "start_time": "2023-09-11T10:27:49.539Z"
   },
   {
    "duration": 0,
    "start_time": "2023-09-11T10:27:49.643Z"
   },
   {
    "duration": 0,
    "start_time": "2023-09-11T10:27:49.645Z"
   },
   {
    "duration": 0,
    "start_time": "2023-09-11T10:27:49.647Z"
   },
   {
    "duration": 0,
    "start_time": "2023-09-11T10:27:49.649Z"
   },
   {
    "duration": 0,
    "start_time": "2023-09-11T10:27:49.650Z"
   },
   {
    "duration": 0,
    "start_time": "2023-09-11T10:27:49.652Z"
   },
   {
    "duration": 0,
    "start_time": "2023-09-11T10:27:49.653Z"
   },
   {
    "duration": 0,
    "start_time": "2023-09-11T10:27:49.655Z"
   },
   {
    "duration": 0,
    "start_time": "2023-09-11T10:27:49.657Z"
   },
   {
    "duration": 0,
    "start_time": "2023-09-11T10:27:49.659Z"
   },
   {
    "duration": 0,
    "start_time": "2023-09-11T10:27:49.660Z"
   },
   {
    "duration": 0,
    "start_time": "2023-09-11T10:27:49.662Z"
   },
   {
    "duration": 0,
    "start_time": "2023-09-11T10:27:49.663Z"
   },
   {
    "duration": 0,
    "start_time": "2023-09-11T10:27:49.665Z"
   },
   {
    "duration": 0,
    "start_time": "2023-09-11T10:27:49.666Z"
   },
   {
    "duration": 0,
    "start_time": "2023-09-11T10:27:49.668Z"
   },
   {
    "duration": 0,
    "start_time": "2023-09-11T10:27:49.670Z"
   },
   {
    "duration": 0,
    "start_time": "2023-09-11T10:27:49.672Z"
   },
   {
    "duration": 0,
    "start_time": "2023-09-11T10:27:49.673Z"
   },
   {
    "duration": 0,
    "start_time": "2023-09-11T10:27:49.674Z"
   },
   {
    "duration": 0,
    "start_time": "2023-09-11T10:27:49.676Z"
   },
   {
    "duration": 0,
    "start_time": "2023-09-11T10:27:49.677Z"
   },
   {
    "duration": 0,
    "start_time": "2023-09-11T10:27:49.678Z"
   },
   {
    "duration": 0,
    "start_time": "2023-09-11T10:27:49.679Z"
   },
   {
    "duration": 0,
    "start_time": "2023-09-11T10:27:49.688Z"
   },
   {
    "duration": 0,
    "start_time": "2023-09-11T10:27:49.689Z"
   },
   {
    "duration": 0,
    "start_time": "2023-09-11T10:27:49.689Z"
   },
   {
    "duration": 0,
    "start_time": "2023-09-11T10:27:49.690Z"
   },
   {
    "duration": 0,
    "start_time": "2023-09-11T10:27:49.691Z"
   },
   {
    "duration": 0,
    "start_time": "2023-09-11T10:27:49.696Z"
   },
   {
    "duration": 0,
    "start_time": "2023-09-11T10:27:49.697Z"
   },
   {
    "duration": 1,
    "start_time": "2023-09-11T10:27:49.697Z"
   },
   {
    "duration": 0,
    "start_time": "2023-09-11T10:27:49.698Z"
   },
   {
    "duration": 0,
    "start_time": "2023-09-11T10:27:49.699Z"
   },
   {
    "duration": 0,
    "start_time": "2023-09-11T10:27:49.700Z"
   },
   {
    "duration": 0,
    "start_time": "2023-09-11T10:27:49.701Z"
   },
   {
    "duration": 1,
    "start_time": "2023-09-11T10:27:49.701Z"
   },
   {
    "duration": 0,
    "start_time": "2023-09-11T10:27:49.702Z"
   },
   {
    "duration": 0,
    "start_time": "2023-09-11T10:27:49.703Z"
   },
   {
    "duration": 0,
    "start_time": "2023-09-11T10:27:49.704Z"
   },
   {
    "duration": 0,
    "start_time": "2023-09-11T10:27:49.704Z"
   },
   {
    "duration": 0,
    "start_time": "2023-09-11T10:27:49.705Z"
   },
   {
    "duration": 0,
    "start_time": "2023-09-11T10:27:49.706Z"
   },
   {
    "duration": 0,
    "start_time": "2023-09-11T10:27:49.706Z"
   },
   {
    "duration": 4,
    "start_time": "2023-09-11T10:28:09.811Z"
   },
   {
    "duration": 23,
    "start_time": "2023-09-11T10:28:09.817Z"
   },
   {
    "duration": 374,
    "start_time": "2023-09-11T10:28:09.842Z"
   },
   {
    "duration": 11,
    "start_time": "2023-09-11T10:28:10.218Z"
   },
   {
    "duration": 13,
    "start_time": "2023-09-11T10:28:10.231Z"
   },
   {
    "duration": 18,
    "start_time": "2023-09-11T10:28:10.245Z"
   },
   {
    "duration": 64,
    "start_time": "2023-09-11T10:28:10.265Z"
   },
   {
    "duration": 21,
    "start_time": "2023-09-11T10:28:10.331Z"
   },
   {
    "duration": 35,
    "start_time": "2023-09-11T10:28:10.353Z"
   },
   {
    "duration": 95,
    "start_time": "2023-09-11T10:28:10.395Z"
   },
   {
    "duration": 12,
    "start_time": "2023-09-11T10:28:10.500Z"
   },
   {
    "duration": 30,
    "start_time": "2023-09-11T10:28:10.514Z"
   },
   {
    "duration": 111,
    "start_time": "2023-09-11T10:28:10.546Z"
   },
   {
    "duration": 57,
    "start_time": "2023-09-11T10:28:10.661Z"
   },
   {
    "duration": 2,
    "start_time": "2023-09-11T10:28:10.720Z"
   },
   {
    "duration": 16,
    "start_time": "2023-09-11T10:28:10.724Z"
   },
   {
    "duration": 7,
    "start_time": "2023-09-11T10:28:10.741Z"
   },
   {
    "duration": 18,
    "start_time": "2023-09-11T10:28:10.750Z"
   },
   {
    "duration": 33,
    "start_time": "2023-09-11T10:28:10.770Z"
   },
   {
    "duration": 7,
    "start_time": "2023-09-11T10:28:10.809Z"
   },
   {
    "duration": 4,
    "start_time": "2023-09-11T10:28:10.817Z"
   },
   {
    "duration": 11,
    "start_time": "2023-09-11T10:28:10.822Z"
   },
   {
    "duration": 15,
    "start_time": "2023-09-11T10:28:10.834Z"
   },
   {
    "duration": 191,
    "start_time": "2023-09-11T10:28:10.851Z"
   },
   {
    "duration": 5,
    "start_time": "2023-09-11T10:28:11.044Z"
   },
   {
    "duration": 76,
    "start_time": "2023-09-11T10:28:11.051Z"
   },
   {
    "duration": 40,
    "start_time": "2023-09-11T10:28:11.129Z"
   },
   {
    "duration": 27,
    "start_time": "2023-09-11T10:28:11.185Z"
   },
   {
    "duration": 51,
    "start_time": "2023-09-11T10:28:11.215Z"
   },
   {
    "duration": 99,
    "start_time": "2023-09-11T10:28:11.268Z"
   },
   {
    "duration": 141,
    "start_time": "2023-09-11T10:28:11.370Z"
   },
   {
    "duration": 41,
    "start_time": "2023-09-11T10:28:11.513Z"
   },
   {
    "duration": 111,
    "start_time": "2023-09-11T10:28:11.556Z"
   },
   {
    "duration": 36,
    "start_time": "2023-09-11T10:28:11.669Z"
   },
   {
    "duration": 147,
    "start_time": "2023-09-11T10:28:11.706Z"
   },
   {
    "duration": 17,
    "start_time": "2023-09-11T10:28:11.856Z"
   },
   {
    "duration": 30,
    "start_time": "2023-09-11T10:28:11.874Z"
   },
   {
    "duration": 17,
    "start_time": "2023-09-11T10:28:11.905Z"
   },
   {
    "duration": 226,
    "start_time": "2023-09-11T10:28:11.924Z"
   },
   {
    "duration": 167,
    "start_time": "2023-09-11T10:28:12.152Z"
   },
   {
    "duration": 8,
    "start_time": "2023-09-11T10:28:12.323Z"
   },
   {
    "duration": 18,
    "start_time": "2023-09-11T10:28:12.333Z"
   },
   {
    "duration": 462,
    "start_time": "2023-09-11T10:28:12.352Z"
   },
   {
    "duration": 11,
    "start_time": "2023-09-11T10:28:12.816Z"
   },
   {
    "duration": 142,
    "start_time": "2023-09-11T10:28:12.829Z"
   },
   {
    "duration": 23,
    "start_time": "2023-09-11T10:28:12.973Z"
   },
   {
    "duration": 20,
    "start_time": "2023-09-11T10:28:12.999Z"
   },
   {
    "duration": 119,
    "start_time": "2023-09-11T10:28:13.021Z"
   },
   {
    "duration": 461,
    "start_time": "2023-09-11T10:28:13.142Z"
   },
   {
    "duration": 102,
    "start_time": "2023-09-11T10:28:13.609Z"
   },
   {
    "duration": 5,
    "start_time": "2023-09-11T10:28:13.717Z"
   },
   {
    "duration": 138,
    "start_time": "2023-09-11T10:28:13.724Z"
   },
   {
    "duration": 872,
    "start_time": "2023-09-11T10:28:13.864Z"
   },
   {
    "duration": 2,
    "start_time": "2023-09-11T10:28:14.738Z"
   },
   {
    "duration": 83,
    "start_time": "2023-09-11T10:28:14.742Z"
   },
   {
    "duration": 70,
    "start_time": "2023-09-11T10:28:14.827Z"
   },
   {
    "duration": 35,
    "start_time": "2023-09-11T10:28:14.901Z"
   },
   {
    "duration": 187,
    "start_time": "2023-09-11T10:28:14.938Z"
   },
   {
    "duration": 12,
    "start_time": "2023-09-11T10:28:15.127Z"
   },
   {
    "duration": 11,
    "start_time": "2023-09-11T10:28:42.708Z"
   },
   {
    "duration": 28,
    "start_time": "2023-09-11T10:29:11.196Z"
   },
   {
    "duration": 1480,
    "start_time": "2023-09-11T10:54:42.467Z"
   },
   {
    "duration": 12,
    "start_time": "2023-09-11T10:55:06.763Z"
   },
   {
    "duration": 18,
    "start_time": "2023-09-11T10:59:32.619Z"
   },
   {
    "duration": 10,
    "start_time": "2023-09-11T11:00:33.954Z"
   },
   {
    "duration": 11,
    "start_time": "2023-09-11T11:01:25.454Z"
   },
   {
    "duration": 11,
    "start_time": "2023-09-11T11:03:00.629Z"
   },
   {
    "duration": 24,
    "start_time": "2023-09-11T11:03:20.268Z"
   },
   {
    "duration": 12,
    "start_time": "2023-09-11T11:03:40.424Z"
   },
   {
    "duration": 25,
    "start_time": "2023-09-11T11:03:55.700Z"
   },
   {
    "duration": 23,
    "start_time": "2023-09-11T11:04:28.010Z"
   },
   {
    "duration": 11,
    "start_time": "2023-09-11T11:05:03.854Z"
   },
   {
    "duration": 4,
    "start_time": "2023-09-11T11:06:16.493Z"
   },
   {
    "duration": 47,
    "start_time": "2023-09-11T11:06:16.500Z"
   },
   {
    "duration": 340,
    "start_time": "2023-09-11T11:06:16.548Z"
   },
   {
    "duration": 17,
    "start_time": "2023-09-11T11:06:16.897Z"
   },
   {
    "duration": 16,
    "start_time": "2023-09-11T11:06:16.916Z"
   },
   {
    "duration": 10,
    "start_time": "2023-09-11T11:06:16.934Z"
   },
   {
    "duration": 54,
    "start_time": "2023-09-11T11:06:16.947Z"
   },
   {
    "duration": 15,
    "start_time": "2023-09-11T11:06:17.004Z"
   },
   {
    "duration": 20,
    "start_time": "2023-09-11T11:06:17.021Z"
   },
   {
    "duration": 114,
    "start_time": "2023-09-11T11:06:17.045Z"
   },
   {
    "duration": 9,
    "start_time": "2023-09-11T11:06:17.162Z"
   },
   {
    "duration": 38,
    "start_time": "2023-09-11T11:06:17.190Z"
   },
   {
    "duration": 135,
    "start_time": "2023-09-11T11:06:17.230Z"
   },
   {
    "duration": 69,
    "start_time": "2023-09-11T11:06:17.368Z"
   },
   {
    "duration": 29,
    "start_time": "2023-09-11T11:06:17.439Z"
   },
   {
    "duration": 34,
    "start_time": "2023-09-11T11:06:17.470Z"
   },
   {
    "duration": 16,
    "start_time": "2023-09-11T11:06:17.506Z"
   },
   {
    "duration": 18,
    "start_time": "2023-09-11T11:06:17.524Z"
   },
   {
    "duration": 12,
    "start_time": "2023-09-11T11:06:17.544Z"
   },
   {
    "duration": 42,
    "start_time": "2023-09-11T11:06:17.558Z"
   },
   {
    "duration": 21,
    "start_time": "2023-09-11T11:06:17.602Z"
   },
   {
    "duration": 15,
    "start_time": "2023-09-11T11:06:17.624Z"
   },
   {
    "duration": 161,
    "start_time": "2023-09-11T11:06:17.642Z"
   },
   {
    "duration": 5,
    "start_time": "2023-09-11T11:06:17.805Z"
   },
   {
    "duration": 47,
    "start_time": "2023-09-11T11:06:17.811Z"
   },
   {
    "duration": 56,
    "start_time": "2023-09-11T11:06:17.860Z"
   },
   {
    "duration": 12,
    "start_time": "2023-09-11T11:06:17.918Z"
   },
   {
    "duration": 52,
    "start_time": "2023-09-11T11:06:17.934Z"
   },
   {
    "duration": 117,
    "start_time": "2023-09-11T11:06:17.988Z"
   },
   {
    "duration": 125,
    "start_time": "2023-09-11T11:06:18.108Z"
   },
   {
    "duration": 70,
    "start_time": "2023-09-11T11:06:18.235Z"
   },
   {
    "duration": 112,
    "start_time": "2023-09-11T11:06:18.307Z"
   },
   {
    "duration": 7,
    "start_time": "2023-09-11T11:06:18.421Z"
   },
   {
    "duration": 163,
    "start_time": "2023-09-11T11:06:18.430Z"
   },
   {
    "duration": 17,
    "start_time": "2023-09-11T11:06:18.599Z"
   },
   {
    "duration": 13,
    "start_time": "2023-09-11T11:06:18.618Z"
   },
   {
    "duration": 14,
    "start_time": "2023-09-11T11:06:18.633Z"
   },
   {
    "duration": 162,
    "start_time": "2023-09-11T11:06:18.648Z"
   },
   {
    "duration": 144,
    "start_time": "2023-09-11T11:06:18.812Z"
   },
   {
    "duration": 7,
    "start_time": "2023-09-11T11:06:18.958Z"
   },
   {
    "duration": 16,
    "start_time": "2023-09-11T11:06:18.980Z"
   },
   {
    "duration": 413,
    "start_time": "2023-09-11T11:06:18.998Z"
   },
   {
    "duration": 10,
    "start_time": "2023-09-11T11:06:19.413Z"
   },
   {
    "duration": 136,
    "start_time": "2023-09-11T11:06:19.425Z"
   },
   {
    "duration": 9,
    "start_time": "2023-09-11T11:06:19.563Z"
   },
   {
    "duration": 21,
    "start_time": "2023-09-11T11:06:19.574Z"
   },
   {
    "duration": 113,
    "start_time": "2023-09-11T11:06:19.599Z"
   },
   {
    "duration": 401,
    "start_time": "2023-09-11T11:06:19.714Z"
   },
   {
    "duration": 148,
    "start_time": "2023-09-11T11:06:20.116Z"
   },
   {
    "duration": 6,
    "start_time": "2023-09-11T11:06:20.266Z"
   },
   {
    "duration": 84,
    "start_time": "2023-09-11T11:06:20.292Z"
   },
   {
    "duration": 888,
    "start_time": "2023-09-11T11:06:20.378Z"
   },
   {
    "duration": 2,
    "start_time": "2023-09-11T11:06:21.268Z"
   },
   {
    "duration": 25,
    "start_time": "2023-09-11T11:06:21.272Z"
   },
   {
    "duration": 209,
    "start_time": "2023-09-11T11:06:21.299Z"
   },
   {
    "duration": 9,
    "start_time": "2023-09-11T11:06:21.510Z"
   },
   {
    "duration": 212,
    "start_time": "2023-09-11T11:06:21.520Z"
   },
   {
    "duration": 13,
    "start_time": "2023-09-11T11:06:21.734Z"
   },
   {
    "duration": 53,
    "start_time": "2023-09-11T11:07:39.874Z"
   },
   {
    "duration": 30,
    "start_time": "2023-09-11T11:09:10.505Z"
   },
   {
    "duration": 58,
    "start_time": "2023-09-11T11:09:39.174Z"
   },
   {
    "duration": 9,
    "start_time": "2023-09-11T11:09:54.609Z"
   },
   {
    "duration": 174,
    "start_time": "2023-09-11T11:10:21.481Z"
   },
   {
    "duration": 5,
    "start_time": "2023-09-11T11:16:30.655Z"
   },
   {
    "duration": 59,
    "start_time": "2023-09-11T11:16:30.662Z"
   },
   {
    "duration": 427,
    "start_time": "2023-09-11T11:16:30.722Z"
   },
   {
    "duration": 11,
    "start_time": "2023-09-11T11:16:31.150Z"
   },
   {
    "duration": 101,
    "start_time": "2023-09-11T11:16:31.163Z"
   },
   {
    "duration": 54,
    "start_time": "2023-09-11T11:16:31.266Z"
   },
   {
    "duration": 98,
    "start_time": "2023-09-11T11:16:31.321Z"
   },
   {
    "duration": 19,
    "start_time": "2023-09-11T11:16:31.425Z"
   },
   {
    "duration": 73,
    "start_time": "2023-09-11T11:16:31.446Z"
   },
   {
    "duration": 134,
    "start_time": "2023-09-11T11:16:31.521Z"
   },
   {
    "duration": 5,
    "start_time": "2023-09-11T11:16:31.657Z"
   },
   {
    "duration": 66,
    "start_time": "2023-09-11T11:16:31.664Z"
   },
   {
    "duration": 201,
    "start_time": "2023-09-11T11:16:31.732Z"
   },
   {
    "duration": 50,
    "start_time": "2023-09-11T11:16:31.936Z"
   },
   {
    "duration": 38,
    "start_time": "2023-09-11T11:16:31.990Z"
   },
   {
    "duration": 26,
    "start_time": "2023-09-11T11:16:32.033Z"
   },
   {
    "duration": 81,
    "start_time": "2023-09-11T11:16:32.062Z"
   },
   {
    "duration": 98,
    "start_time": "2023-09-11T11:16:32.145Z"
   },
   {
    "duration": 45,
    "start_time": "2023-09-11T11:16:32.246Z"
   },
   {
    "duration": 57,
    "start_time": "2023-09-11T11:16:32.296Z"
   },
   {
    "duration": 72,
    "start_time": "2023-09-11T11:16:32.355Z"
   },
   {
    "duration": 27,
    "start_time": "2023-09-11T11:16:32.430Z"
   },
   {
    "duration": 234,
    "start_time": "2023-09-11T11:16:32.459Z"
   },
   {
    "duration": 5,
    "start_time": "2023-09-11T11:16:32.705Z"
   },
   {
    "duration": 86,
    "start_time": "2023-09-11T11:16:32.713Z"
   },
   {
    "duration": 59,
    "start_time": "2023-09-11T11:16:32.802Z"
   },
   {
    "duration": 92,
    "start_time": "2023-09-11T11:16:32.863Z"
   },
   {
    "duration": 43,
    "start_time": "2023-09-11T11:16:32.958Z"
   },
   {
    "duration": 247,
    "start_time": "2023-09-11T11:16:33.008Z"
   },
   {
    "duration": 120,
    "start_time": "2023-09-11T11:16:33.257Z"
   },
   {
    "duration": 61,
    "start_time": "2023-09-11T11:16:33.379Z"
   },
   {
    "duration": 130,
    "start_time": "2023-09-11T11:16:33.442Z"
   },
   {
    "duration": 39,
    "start_time": "2023-09-11T11:16:33.574Z"
   },
   {
    "duration": 156,
    "start_time": "2023-09-11T11:16:33.616Z"
   },
   {
    "duration": 29,
    "start_time": "2023-09-11T11:16:33.774Z"
   },
   {
    "duration": 22,
    "start_time": "2023-09-11T11:16:33.805Z"
   },
   {
    "duration": 16,
    "start_time": "2023-09-11T11:16:33.829Z"
   },
   {
    "duration": 204,
    "start_time": "2023-09-11T11:16:33.847Z"
   },
   {
    "duration": 158,
    "start_time": "2023-09-11T11:16:34.053Z"
   },
   {
    "duration": 9,
    "start_time": "2023-09-11T11:16:34.219Z"
   },
   {
    "duration": 17,
    "start_time": "2023-09-11T11:16:34.233Z"
   },
   {
    "duration": 461,
    "start_time": "2023-09-11T11:16:34.252Z"
   },
   {
    "duration": 15,
    "start_time": "2023-09-11T11:16:34.719Z"
   },
   {
    "duration": 185,
    "start_time": "2023-09-11T11:16:34.736Z"
   },
   {
    "duration": 11,
    "start_time": "2023-09-11T11:16:34.924Z"
   },
   {
    "duration": 13,
    "start_time": "2023-09-11T11:16:34.937Z"
   },
   {
    "duration": 180,
    "start_time": "2023-09-11T11:16:34.953Z"
   },
   {
    "duration": 464,
    "start_time": "2023-09-11T11:16:35.135Z"
   },
   {
    "duration": 190,
    "start_time": "2023-09-11T11:16:35.613Z"
   },
   {
    "duration": 9,
    "start_time": "2023-09-11T11:16:35.814Z"
   },
   {
    "duration": 138,
    "start_time": "2023-09-11T11:16:35.826Z"
   },
   {
    "duration": 1084,
    "start_time": "2023-09-11T11:16:35.966Z"
   },
   {
    "duration": 4,
    "start_time": "2023-09-11T11:16:37.052Z"
   },
   {
    "duration": 73,
    "start_time": "2023-09-11T11:16:37.058Z"
   },
   {
    "duration": 323,
    "start_time": "2023-09-11T11:16:37.133Z"
   },
   {
    "duration": 27,
    "start_time": "2023-09-11T11:16:37.461Z"
   },
   {
    "duration": 254,
    "start_time": "2023-09-11T11:16:37.491Z"
   },
   {
    "duration": 13,
    "start_time": "2023-09-11T11:16:37.747Z"
   },
   {
    "duration": 202,
    "start_time": "2023-09-11T11:18:30.755Z"
   },
   {
    "duration": 400,
    "start_time": "2023-09-11T11:19:30.335Z"
   },
   {
    "duration": 283,
    "start_time": "2023-09-11T11:19:41.047Z"
   },
   {
    "duration": 260,
    "start_time": "2023-09-11T11:19:54.442Z"
   },
   {
    "duration": 212,
    "start_time": "2023-09-11T11:20:00.353Z"
   },
   {
    "duration": 210,
    "start_time": "2023-09-11T11:20:04.024Z"
   },
   {
    "duration": 223,
    "start_time": "2023-09-11T11:20:18.136Z"
   },
   {
    "duration": 5,
    "start_time": "2023-09-11T11:22:01.824Z"
   },
   {
    "duration": 99,
    "start_time": "2023-09-11T11:22:01.832Z"
   },
   {
    "duration": 430,
    "start_time": "2023-09-11T11:22:01.935Z"
   },
   {
    "duration": 11,
    "start_time": "2023-09-11T11:22:02.367Z"
   },
   {
    "duration": 71,
    "start_time": "2023-09-11T11:22:02.381Z"
   },
   {
    "duration": 68,
    "start_time": "2023-09-11T11:22:02.454Z"
   },
   {
    "duration": 98,
    "start_time": "2023-09-11T11:22:02.529Z"
   },
   {
    "duration": 66,
    "start_time": "2023-09-11T11:22:02.630Z"
   },
   {
    "duration": 67,
    "start_time": "2023-09-11T11:22:02.699Z"
   },
   {
    "duration": 150,
    "start_time": "2023-09-11T11:22:02.768Z"
   },
   {
    "duration": 9,
    "start_time": "2023-09-11T11:22:02.924Z"
   },
   {
    "duration": 30,
    "start_time": "2023-09-11T11:22:02.937Z"
   },
   {
    "duration": 146,
    "start_time": "2023-09-11T11:22:02.969Z"
   },
   {
    "duration": 42,
    "start_time": "2023-09-11T11:22:03.127Z"
   },
   {
    "duration": 56,
    "start_time": "2023-09-11T11:22:03.171Z"
   },
   {
    "duration": 20,
    "start_time": "2023-09-11T11:22:03.229Z"
   },
   {
    "duration": 12,
    "start_time": "2023-09-11T11:22:03.251Z"
   },
   {
    "duration": 55,
    "start_time": "2023-09-11T11:22:03.265Z"
   },
   {
    "duration": 25,
    "start_time": "2023-09-11T11:22:03.325Z"
   },
   {
    "duration": 65,
    "start_time": "2023-09-11T11:22:03.352Z"
   },
   {
    "duration": 25,
    "start_time": "2023-09-11T11:22:03.423Z"
   },
   {
    "duration": 71,
    "start_time": "2023-09-11T11:22:03.449Z"
   },
   {
    "duration": 193,
    "start_time": "2023-09-11T11:22:03.522Z"
   },
   {
    "duration": 5,
    "start_time": "2023-09-11T11:22:03.717Z"
   },
   {
    "duration": 67,
    "start_time": "2023-09-11T11:22:03.724Z"
   },
   {
    "duration": 66,
    "start_time": "2023-09-11T11:22:03.793Z"
   },
   {
    "duration": 83,
    "start_time": "2023-09-11T11:22:03.861Z"
   },
   {
    "duration": 7,
    "start_time": "2023-09-11T11:22:03.945Z"
   },
   {
    "duration": 200,
    "start_time": "2023-09-11T11:22:03.956Z"
   },
   {
    "duration": 160,
    "start_time": "2023-09-11T11:22:04.157Z"
   },
   {
    "duration": 40,
    "start_time": "2023-09-11T11:22:04.328Z"
   },
   {
    "duration": 201,
    "start_time": "2023-09-11T11:22:04.370Z"
   },
   {
    "duration": 11,
    "start_time": "2023-09-11T11:22:04.573Z"
   },
   {
    "duration": 187,
    "start_time": "2023-09-11T11:22:04.586Z"
   },
   {
    "duration": 55,
    "start_time": "2023-09-11T11:22:04.775Z"
   },
   {
    "duration": 14,
    "start_time": "2023-09-11T11:22:04.836Z"
   },
   {
    "duration": 14,
    "start_time": "2023-09-11T11:22:04.852Z"
   },
   {
    "duration": 291,
    "start_time": "2023-09-11T11:22:04.868Z"
   },
   {
    "duration": 187,
    "start_time": "2023-09-11T11:22:05.161Z"
   },
   {
    "duration": 8,
    "start_time": "2023-09-11T11:22:05.350Z"
   },
   {
    "duration": 55,
    "start_time": "2023-09-11T11:22:05.360Z"
   },
   {
    "duration": 514,
    "start_time": "2023-09-11T11:22:05.420Z"
   },
   {
    "duration": 13,
    "start_time": "2023-09-11T11:22:05.935Z"
   },
   {
    "duration": 155,
    "start_time": "2023-09-11T11:22:05.950Z"
   },
   {
    "duration": 19,
    "start_time": "2023-09-11T11:22:06.117Z"
   },
   {
    "duration": 8,
    "start_time": "2023-09-11T11:22:06.138Z"
   },
   {
    "duration": 168,
    "start_time": "2023-09-11T11:22:06.148Z"
   },
   {
    "duration": 454,
    "start_time": "2023-09-11T11:22:06.323Z"
   },
   {
    "duration": 179,
    "start_time": "2023-09-11T11:22:06.791Z"
   },
   {
    "duration": 17,
    "start_time": "2023-09-11T11:22:06.972Z"
   },
   {
    "duration": 134,
    "start_time": "2023-09-11T11:22:06.996Z"
   },
   {
    "duration": 1098,
    "start_time": "2023-09-11T11:22:07.135Z"
   },
   {
    "duration": 2,
    "start_time": "2023-09-11T11:22:08.235Z"
   },
   {
    "duration": 24,
    "start_time": "2023-09-11T11:22:08.239Z"
   },
   {
    "duration": 297,
    "start_time": "2023-09-11T11:22:08.265Z"
   },
   {
    "duration": 11,
    "start_time": "2023-09-11T11:22:08.564Z"
   },
   {
    "duration": 196,
    "start_time": "2023-09-11T11:22:08.581Z"
   },
   {
    "duration": 21,
    "start_time": "2023-09-11T11:22:08.781Z"
   },
   {
    "duration": 130,
    "start_time": "2023-09-11T11:22:49.109Z"
   },
   {
    "duration": 14,
    "start_time": "2023-09-11T11:59:20.773Z"
   },
   {
    "duration": 47,
    "start_time": "2023-09-11T11:59:23.842Z"
   },
   {
    "duration": 128,
    "start_time": "2023-09-11T12:01:26.298Z"
   },
   {
    "duration": 132,
    "start_time": "2023-09-11T12:01:32.687Z"
   },
   {
    "duration": 107,
    "start_time": "2023-09-11T12:01:52.205Z"
   },
   {
    "duration": 28,
    "start_time": "2023-09-11T12:18:05.564Z"
   },
   {
    "duration": 16,
    "start_time": "2023-09-11T12:18:12.857Z"
   },
   {
    "duration": 6,
    "start_time": "2023-09-11T12:18:33.745Z"
   },
   {
    "duration": 1683,
    "start_time": "2023-09-11T12:19:44.013Z"
   },
   {
    "duration": 1920,
    "start_time": "2023-09-11T12:20:05.742Z"
   },
   {
    "duration": 5,
    "start_time": "2023-09-11T12:20:13.616Z"
   },
   {
    "duration": 89,
    "start_time": "2023-09-11T12:20:13.624Z"
   },
   {
    "duration": 377,
    "start_time": "2023-09-11T12:20:13.716Z"
   },
   {
    "duration": 11,
    "start_time": "2023-09-11T12:20:14.096Z"
   },
   {
    "duration": 24,
    "start_time": "2023-09-11T12:20:14.108Z"
   },
   {
    "duration": 12,
    "start_time": "2023-09-11T12:20:14.134Z"
   },
   {
    "duration": 82,
    "start_time": "2023-09-11T12:20:14.148Z"
   },
   {
    "duration": 10,
    "start_time": "2023-09-11T12:20:14.232Z"
   },
   {
    "duration": 20,
    "start_time": "2023-09-11T12:20:14.244Z"
   },
   {
    "duration": 91,
    "start_time": "2023-09-11T12:20:14.267Z"
   },
   {
    "duration": 6,
    "start_time": "2023-09-11T12:20:14.361Z"
   },
   {
    "duration": 14,
    "start_time": "2023-09-11T12:20:14.384Z"
   },
   {
    "duration": 139,
    "start_time": "2023-09-11T12:20:14.400Z"
   },
   {
    "duration": 41,
    "start_time": "2023-09-11T12:20:14.541Z"
   },
   {
    "duration": 23,
    "start_time": "2023-09-11T12:20:14.586Z"
   },
   {
    "duration": 22,
    "start_time": "2023-09-11T12:20:14.611Z"
   },
   {
    "duration": 46,
    "start_time": "2023-09-11T12:20:14.634Z"
   },
   {
    "duration": 87,
    "start_time": "2023-09-11T12:20:14.681Z"
   },
   {
    "duration": 129,
    "start_time": "2023-09-11T12:20:14.769Z"
   },
   {
    "duration": 100,
    "start_time": "2023-09-11T12:20:14.900Z"
   },
   {
    "duration": 43,
    "start_time": "2023-09-11T12:20:15.002Z"
   },
   {
    "duration": 174,
    "start_time": "2023-09-11T12:20:15.048Z"
   },
   {
    "duration": 314,
    "start_time": "2023-09-11T12:20:15.224Z"
   },
   {
    "duration": 4,
    "start_time": "2023-09-11T12:20:15.540Z"
   },
   {
    "duration": 317,
    "start_time": "2023-09-11T12:20:15.546Z"
   },
   {
    "duration": 52,
    "start_time": "2023-09-11T12:20:15.865Z"
   },
   {
    "duration": 97,
    "start_time": "2023-09-11T12:20:15.919Z"
   },
   {
    "duration": 7,
    "start_time": "2023-09-11T12:20:16.020Z"
   },
   {
    "duration": 196,
    "start_time": "2023-09-11T12:20:16.029Z"
   },
   {
    "duration": 115,
    "start_time": "2023-09-11T12:20:16.227Z"
   },
   {
    "duration": 116,
    "start_time": "2023-09-11T12:20:16.344Z"
   },
   {
    "duration": 52,
    "start_time": "2023-09-11T12:20:16.461Z"
   },
   {
    "duration": 137,
    "start_time": "2023-09-11T12:20:16.515Z"
   },
   {
    "duration": 30,
    "start_time": "2023-09-11T12:20:16.655Z"
   },
   {
    "duration": 12,
    "start_time": "2023-09-11T12:20:16.688Z"
   },
   {
    "duration": 1800,
    "start_time": "2023-09-11T12:20:16.704Z"
   },
   {
    "duration": 0,
    "start_time": "2023-09-11T12:20:18.506Z"
   },
   {
    "duration": 0,
    "start_time": "2023-09-11T12:20:18.507Z"
   },
   {
    "duration": 0,
    "start_time": "2023-09-11T12:20:18.509Z"
   },
   {
    "duration": 0,
    "start_time": "2023-09-11T12:20:18.510Z"
   },
   {
    "duration": 0,
    "start_time": "2023-09-11T12:20:18.511Z"
   },
   {
    "duration": 0,
    "start_time": "2023-09-11T12:20:18.512Z"
   },
   {
    "duration": 0,
    "start_time": "2023-09-11T12:20:18.513Z"
   },
   {
    "duration": 0,
    "start_time": "2023-09-11T12:20:18.515Z"
   },
   {
    "duration": 0,
    "start_time": "2023-09-11T12:20:18.516Z"
   },
   {
    "duration": 0,
    "start_time": "2023-09-11T12:20:18.517Z"
   },
   {
    "duration": 0,
    "start_time": "2023-09-11T12:20:18.518Z"
   },
   {
    "duration": 0,
    "start_time": "2023-09-11T12:20:18.519Z"
   },
   {
    "duration": 0,
    "start_time": "2023-09-11T12:20:18.520Z"
   },
   {
    "duration": 0,
    "start_time": "2023-09-11T12:20:18.522Z"
   },
   {
    "duration": 0,
    "start_time": "2023-09-11T12:20:18.523Z"
   },
   {
    "duration": 0,
    "start_time": "2023-09-11T12:20:18.524Z"
   },
   {
    "duration": 0,
    "start_time": "2023-09-11T12:20:18.525Z"
   },
   {
    "duration": 0,
    "start_time": "2023-09-11T12:20:18.526Z"
   },
   {
    "duration": 0,
    "start_time": "2023-09-11T12:20:18.527Z"
   },
   {
    "duration": 0,
    "start_time": "2023-09-11T12:20:18.528Z"
   },
   {
    "duration": 1,
    "start_time": "2023-09-11T12:20:18.529Z"
   },
   {
    "duration": 0,
    "start_time": "2023-09-11T12:20:18.531Z"
   },
   {
    "duration": 0,
    "start_time": "2023-09-11T12:20:18.532Z"
   },
   {
    "duration": 0,
    "start_time": "2023-09-11T12:20:18.533Z"
   },
   {
    "duration": 162,
    "start_time": "2023-09-11T12:20:47.341Z"
   },
   {
    "duration": 4,
    "start_time": "2023-09-11T12:21:34.596Z"
   },
   {
    "duration": 7,
    "start_time": "2023-09-11T12:21:34.608Z"
   },
   {
    "duration": 344,
    "start_time": "2023-09-11T12:21:34.617Z"
   },
   {
    "duration": 9,
    "start_time": "2023-09-11T12:21:34.963Z"
   },
   {
    "duration": 32,
    "start_time": "2023-09-11T12:21:34.973Z"
   },
   {
    "duration": 33,
    "start_time": "2023-09-11T12:21:35.008Z"
   },
   {
    "duration": 61,
    "start_time": "2023-09-11T12:21:35.043Z"
   },
   {
    "duration": 17,
    "start_time": "2023-09-11T12:21:35.111Z"
   },
   {
    "duration": 32,
    "start_time": "2023-09-11T12:21:35.130Z"
   },
   {
    "duration": 90,
    "start_time": "2023-09-11T12:21:35.164Z"
   },
   {
    "duration": 5,
    "start_time": "2023-09-11T12:21:35.256Z"
   },
   {
    "duration": 42,
    "start_time": "2023-09-11T12:21:35.263Z"
   },
   {
    "duration": 89,
    "start_time": "2023-09-11T12:21:35.311Z"
   },
   {
    "duration": 43,
    "start_time": "2023-09-11T12:21:35.404Z"
   },
   {
    "duration": 61,
    "start_time": "2023-09-11T12:21:35.451Z"
   },
   {
    "duration": 26,
    "start_time": "2023-09-11T12:21:35.513Z"
   },
   {
    "duration": 23,
    "start_time": "2023-09-11T12:21:35.541Z"
   },
   {
    "duration": 57,
    "start_time": "2023-09-11T12:21:35.566Z"
   },
   {
    "duration": 27,
    "start_time": "2023-09-11T12:21:35.625Z"
   },
   {
    "duration": 47,
    "start_time": "2023-09-11T12:21:35.655Z"
   },
   {
    "duration": 19,
    "start_time": "2023-09-11T12:21:35.705Z"
   },
   {
    "duration": 20,
    "start_time": "2023-09-11T12:21:35.726Z"
   },
   {
    "duration": 184,
    "start_time": "2023-09-11T12:21:35.748Z"
   },
   {
    "duration": 4,
    "start_time": "2023-09-11T12:21:35.933Z"
   },
   {
    "duration": 104,
    "start_time": "2023-09-11T12:21:35.939Z"
   },
   {
    "duration": 53,
    "start_time": "2023-09-11T12:21:36.045Z"
   },
   {
    "duration": 53,
    "start_time": "2023-09-11T12:21:36.102Z"
   },
   {
    "duration": 40,
    "start_time": "2023-09-11T12:21:36.157Z"
   },
   {
    "duration": 197,
    "start_time": "2023-09-11T12:21:36.199Z"
   },
   {
    "duration": 98,
    "start_time": "2023-09-11T12:21:36.399Z"
   },
   {
    "duration": 92,
    "start_time": "2023-09-11T12:21:36.505Z"
   },
   {
    "duration": 43,
    "start_time": "2023-09-11T12:21:36.600Z"
   },
   {
    "duration": 142,
    "start_time": "2023-09-11T12:21:36.645Z"
   },
   {
    "duration": 21,
    "start_time": "2023-09-11T12:21:36.801Z"
   },
   {
    "duration": 6,
    "start_time": "2023-09-11T12:21:36.824Z"
   },
   {
    "duration": 31,
    "start_time": "2023-09-11T12:21:36.832Z"
   },
   {
    "duration": 28,
    "start_time": "2023-09-11T12:21:36.865Z"
   },
   {
    "duration": 17,
    "start_time": "2023-09-11T12:21:36.895Z"
   },
   {
    "duration": 164,
    "start_time": "2023-09-11T12:21:36.915Z"
   },
   {
    "duration": 179,
    "start_time": "2023-09-11T12:21:37.080Z"
   },
   {
    "duration": 11,
    "start_time": "2023-09-11T12:21:37.261Z"
   },
   {
    "duration": 56,
    "start_time": "2023-09-11T12:21:37.299Z"
   },
   {
    "duration": 457,
    "start_time": "2023-09-11T12:21:37.357Z"
   },
   {
    "duration": 11,
    "start_time": "2023-09-11T12:21:37.815Z"
   },
   {
    "duration": 130,
    "start_time": "2023-09-11T12:21:37.828Z"
   },
   {
    "duration": 9,
    "start_time": "2023-09-11T12:21:37.959Z"
   },
   {
    "duration": 15,
    "start_time": "2023-09-11T12:21:37.985Z"
   },
   {
    "duration": 127,
    "start_time": "2023-09-11T12:21:38.002Z"
   },
   {
    "duration": 457,
    "start_time": "2023-09-11T12:21:38.130Z"
   },
   {
    "duration": 150,
    "start_time": "2023-09-11T12:21:38.589Z"
   },
   {
    "duration": 45,
    "start_time": "2023-09-11T12:21:38.741Z"
   },
   {
    "duration": 81,
    "start_time": "2023-09-11T12:21:38.795Z"
   },
   {
    "duration": 927,
    "start_time": "2023-09-11T12:21:38.878Z"
   },
   {
    "duration": 3,
    "start_time": "2023-09-11T12:21:39.808Z"
   },
   {
    "duration": 11,
    "start_time": "2023-09-11T12:21:39.813Z"
   },
   {
    "duration": 214,
    "start_time": "2023-09-11T12:21:39.826Z"
   },
   {
    "duration": 9,
    "start_time": "2023-09-11T12:21:40.041Z"
   },
   {
    "duration": 180,
    "start_time": "2023-09-11T12:21:40.051Z"
   },
   {
    "duration": 13,
    "start_time": "2023-09-11T12:21:40.233Z"
   },
   {
    "duration": 5,
    "start_time": "2023-09-11T12:34:37.053Z"
   },
   {
    "duration": 4,
    "start_time": "2023-09-11T12:34:42.896Z"
   },
   {
    "duration": 93,
    "start_time": "2023-09-11T12:34:42.901Z"
   },
   {
    "duration": 426,
    "start_time": "2023-09-11T12:34:42.996Z"
   },
   {
    "duration": 9,
    "start_time": "2023-09-11T12:34:43.424Z"
   },
   {
    "duration": 23,
    "start_time": "2023-09-11T12:34:43.435Z"
   },
   {
    "duration": 11,
    "start_time": "2023-09-11T12:34:43.459Z"
   },
   {
    "duration": 59,
    "start_time": "2023-09-11T12:34:43.471Z"
   },
   {
    "duration": 17,
    "start_time": "2023-09-11T12:34:43.532Z"
   },
   {
    "duration": 24,
    "start_time": "2023-09-11T12:34:43.551Z"
   },
   {
    "duration": 99,
    "start_time": "2023-09-11T12:34:43.576Z"
   },
   {
    "duration": 6,
    "start_time": "2023-09-11T12:34:43.677Z"
   },
   {
    "duration": 16,
    "start_time": "2023-09-11T12:34:43.684Z"
   },
   {
    "duration": 89,
    "start_time": "2023-09-11T12:34:43.702Z"
   },
   {
    "duration": 40,
    "start_time": "2023-09-11T12:34:43.797Z"
   },
   {
    "duration": 17,
    "start_time": "2023-09-11T12:34:43.839Z"
   },
   {
    "duration": 37,
    "start_time": "2023-09-11T12:34:43.858Z"
   },
   {
    "duration": 12,
    "start_time": "2023-09-11T12:34:43.898Z"
   },
   {
    "duration": 23,
    "start_time": "2023-09-11T12:34:43.912Z"
   },
   {
    "duration": 16,
    "start_time": "2023-09-11T12:34:43.937Z"
   },
   {
    "duration": 47,
    "start_time": "2023-09-11T12:34:43.955Z"
   },
   {
    "duration": 14,
    "start_time": "2023-09-11T12:34:44.003Z"
   },
   {
    "duration": 14,
    "start_time": "2023-09-11T12:34:44.018Z"
   },
   {
    "duration": 161,
    "start_time": "2023-09-11T12:34:44.033Z"
   },
   {
    "duration": 4,
    "start_time": "2023-09-11T12:34:44.196Z"
   },
   {
    "duration": 53,
    "start_time": "2023-09-11T12:34:44.202Z"
   },
   {
    "duration": 60,
    "start_time": "2023-09-11T12:34:44.257Z"
   },
   {
    "duration": 50,
    "start_time": "2023-09-11T12:34:44.319Z"
   },
   {
    "duration": 8,
    "start_time": "2023-09-11T12:34:44.387Z"
   },
   {
    "duration": 148,
    "start_time": "2023-09-11T12:34:44.396Z"
   },
   {
    "duration": 103,
    "start_time": "2023-09-11T12:34:44.546Z"
   },
   {
    "duration": 101,
    "start_time": "2023-09-11T12:34:44.650Z"
   },
   {
    "duration": 41,
    "start_time": "2023-09-11T12:34:44.753Z"
   },
   {
    "duration": 115,
    "start_time": "2023-09-11T12:34:44.796Z"
   },
   {
    "duration": 5,
    "start_time": "2023-09-11T12:34:44.912Z"
   },
   {
    "duration": 25,
    "start_time": "2023-09-11T12:34:44.918Z"
   },
   {
    "duration": 4,
    "start_time": "2023-09-11T12:34:44.945Z"
   },
   {
    "duration": 36,
    "start_time": "2023-09-11T12:34:44.951Z"
   },
   {
    "duration": 13,
    "start_time": "2023-09-11T12:34:44.993Z"
   },
   {
    "duration": 10,
    "start_time": "2023-09-11T12:34:45.007Z"
   },
   {
    "duration": 190,
    "start_time": "2023-09-11T12:34:45.019Z"
   },
   {
    "duration": 143,
    "start_time": "2023-09-11T12:34:45.213Z"
   },
   {
    "duration": 8,
    "start_time": "2023-09-11T12:34:45.358Z"
   },
   {
    "duration": 27,
    "start_time": "2023-09-11T12:34:45.367Z"
   },
   {
    "duration": 389,
    "start_time": "2023-09-11T12:34:45.396Z"
   },
   {
    "duration": 12,
    "start_time": "2023-09-11T12:34:45.787Z"
   },
   {
    "duration": 119,
    "start_time": "2023-09-11T12:34:45.801Z"
   },
   {
    "duration": 9,
    "start_time": "2023-09-11T12:34:45.921Z"
   },
   {
    "duration": 17,
    "start_time": "2023-09-11T12:34:45.932Z"
   },
   {
    "duration": 120,
    "start_time": "2023-09-11T12:34:45.950Z"
   },
   {
    "duration": 488,
    "start_time": "2023-09-11T12:34:46.072Z"
   },
   {
    "duration": 136,
    "start_time": "2023-09-11T12:34:46.562Z"
   },
   {
    "duration": 6,
    "start_time": "2023-09-11T12:34:46.700Z"
   },
   {
    "duration": 93,
    "start_time": "2023-09-11T12:34:46.708Z"
   },
   {
    "duration": 889,
    "start_time": "2023-09-11T12:34:46.803Z"
   },
   {
    "duration": 3,
    "start_time": "2023-09-11T12:34:47.694Z"
   },
   {
    "duration": 7,
    "start_time": "2023-09-11T12:34:47.699Z"
   },
   {
    "duration": 202,
    "start_time": "2023-09-11T12:34:47.707Z"
   },
   {
    "duration": 10,
    "start_time": "2023-09-11T12:34:47.911Z"
   },
   {
    "duration": 184,
    "start_time": "2023-09-11T12:34:47.922Z"
   },
   {
    "duration": 12,
    "start_time": "2023-09-11T12:34:48.108Z"
   },
   {
    "duration": 11,
    "start_time": "2023-09-11T12:35:28.544Z"
   },
   {
    "duration": 3,
    "start_time": "2023-09-11T12:35:49.224Z"
   },
   {
    "duration": 13,
    "start_time": "2023-09-11T12:35:49.229Z"
   },
   {
    "duration": 316,
    "start_time": "2023-09-11T12:35:49.244Z"
   },
   {
    "duration": 10,
    "start_time": "2023-09-11T12:35:49.561Z"
   },
   {
    "duration": 12,
    "start_time": "2023-09-11T12:35:49.573Z"
   },
   {
    "duration": 26,
    "start_time": "2023-09-11T12:35:49.587Z"
   },
   {
    "duration": 49,
    "start_time": "2023-09-11T12:35:49.615Z"
   },
   {
    "duration": 19,
    "start_time": "2023-09-11T12:35:49.665Z"
   },
   {
    "duration": 25,
    "start_time": "2023-09-11T12:35:49.686Z"
   },
   {
    "duration": 96,
    "start_time": "2023-09-11T12:35:49.714Z"
   },
   {
    "duration": 5,
    "start_time": "2023-09-11T12:35:49.814Z"
   },
   {
    "duration": 18,
    "start_time": "2023-09-11T12:35:49.821Z"
   },
   {
    "duration": 106,
    "start_time": "2023-09-11T12:35:49.841Z"
   },
   {
    "duration": 46,
    "start_time": "2023-09-11T12:35:49.949Z"
   },
   {
    "duration": 22,
    "start_time": "2023-09-11T12:35:49.996Z"
   },
   {
    "duration": 30,
    "start_time": "2023-09-11T12:35:50.020Z"
   },
   {
    "duration": 46,
    "start_time": "2023-09-11T12:35:50.052Z"
   },
   {
    "duration": 28,
    "start_time": "2023-09-11T12:35:50.099Z"
   },
   {
    "duration": 14,
    "start_time": "2023-09-11T12:35:50.128Z"
   },
   {
    "duration": 32,
    "start_time": "2023-09-11T12:35:50.144Z"
   },
   {
    "duration": 32,
    "start_time": "2023-09-11T12:35:50.178Z"
   },
   {
    "duration": 22,
    "start_time": "2023-09-11T12:35:50.212Z"
   },
   {
    "duration": 155,
    "start_time": "2023-09-11T12:35:50.236Z"
   },
   {
    "duration": 4,
    "start_time": "2023-09-11T12:35:50.397Z"
   },
   {
    "duration": 68,
    "start_time": "2023-09-11T12:35:50.402Z"
   },
   {
    "duration": 50,
    "start_time": "2023-09-11T12:35:50.472Z"
   },
   {
    "duration": 63,
    "start_time": "2023-09-11T12:35:50.524Z"
   },
   {
    "duration": 7,
    "start_time": "2023-09-11T12:35:50.594Z"
   },
   {
    "duration": 174,
    "start_time": "2023-09-11T12:35:50.605Z"
   },
   {
    "duration": 119,
    "start_time": "2023-09-11T12:35:50.780Z"
   },
   {
    "duration": 104,
    "start_time": "2023-09-11T12:35:50.901Z"
   },
   {
    "duration": 35,
    "start_time": "2023-09-11T12:35:51.007Z"
   },
   {
    "duration": 105,
    "start_time": "2023-09-11T12:35:51.044Z"
   },
   {
    "duration": 10,
    "start_time": "2023-09-11T12:35:51.151Z"
   },
   {
    "duration": 0,
    "start_time": "2023-09-11T12:35:51.163Z"
   },
   {
    "duration": 0,
    "start_time": "2023-09-11T12:35:51.164Z"
   },
   {
    "duration": 0,
    "start_time": "2023-09-11T12:35:51.165Z"
   },
   {
    "duration": 0,
    "start_time": "2023-09-11T12:35:51.183Z"
   },
   {
    "duration": 0,
    "start_time": "2023-09-11T12:35:51.184Z"
   },
   {
    "duration": 0,
    "start_time": "2023-09-11T12:35:51.185Z"
   },
   {
    "duration": 0,
    "start_time": "2023-09-11T12:35:51.186Z"
   },
   {
    "duration": 0,
    "start_time": "2023-09-11T12:35:51.187Z"
   },
   {
    "duration": 0,
    "start_time": "2023-09-11T12:35:51.190Z"
   },
   {
    "duration": 0,
    "start_time": "2023-09-11T12:35:51.191Z"
   },
   {
    "duration": 0,
    "start_time": "2023-09-11T12:35:51.192Z"
   },
   {
    "duration": 0,
    "start_time": "2023-09-11T12:35:51.193Z"
   },
   {
    "duration": 0,
    "start_time": "2023-09-11T12:35:51.194Z"
   },
   {
    "duration": 0,
    "start_time": "2023-09-11T12:35:51.195Z"
   },
   {
    "duration": 0,
    "start_time": "2023-09-11T12:35:51.196Z"
   },
   {
    "duration": 0,
    "start_time": "2023-09-11T12:35:51.197Z"
   },
   {
    "duration": 0,
    "start_time": "2023-09-11T12:35:51.198Z"
   },
   {
    "duration": 0,
    "start_time": "2023-09-11T12:35:51.199Z"
   },
   {
    "duration": 0,
    "start_time": "2023-09-11T12:35:51.200Z"
   },
   {
    "duration": 0,
    "start_time": "2023-09-11T12:35:51.202Z"
   },
   {
    "duration": 0,
    "start_time": "2023-09-11T12:35:51.204Z"
   },
   {
    "duration": 0,
    "start_time": "2023-09-11T12:35:51.205Z"
   },
   {
    "duration": 0,
    "start_time": "2023-09-11T12:35:51.206Z"
   },
   {
    "duration": 0,
    "start_time": "2023-09-11T12:35:51.207Z"
   },
   {
    "duration": 0,
    "start_time": "2023-09-11T12:35:51.208Z"
   },
   {
    "duration": 0,
    "start_time": "2023-09-11T12:35:51.210Z"
   },
   {
    "duration": 9,
    "start_time": "2023-09-11T12:36:25.569Z"
   },
   {
    "duration": 5,
    "start_time": "2023-09-11T12:38:56.751Z"
   },
   {
    "duration": 9,
    "start_time": "2023-09-11T12:39:18.550Z"
   },
   {
    "duration": 9,
    "start_time": "2023-09-11T12:39:21.994Z"
   },
   {
    "duration": 10,
    "start_time": "2023-09-11T12:39:53.107Z"
   },
   {
    "duration": 23,
    "start_time": "2023-09-11T12:40:13.631Z"
   },
   {
    "duration": 9,
    "start_time": "2023-09-11T12:40:31.736Z"
   },
   {
    "duration": 31,
    "start_time": "2023-09-11T12:40:36.958Z"
   },
   {
    "duration": 91,
    "start_time": "2023-09-11T12:41:46.454Z"
   },
   {
    "duration": 38,
    "start_time": "2023-09-11T12:42:01.003Z"
   },
   {
    "duration": 8,
    "start_time": "2023-09-11T12:42:24.207Z"
   },
   {
    "duration": 5,
    "start_time": "2023-09-11T12:43:17.143Z"
   },
   {
    "duration": 9,
    "start_time": "2023-09-11T12:43:17.151Z"
   },
   {
    "duration": 378,
    "start_time": "2023-09-11T12:43:17.163Z"
   },
   {
    "duration": 11,
    "start_time": "2023-09-11T12:43:17.544Z"
   },
   {
    "duration": 11,
    "start_time": "2023-09-11T12:43:17.557Z"
   },
   {
    "duration": 11,
    "start_time": "2023-09-11T12:43:17.569Z"
   },
   {
    "duration": 59,
    "start_time": "2023-09-11T12:43:17.584Z"
   },
   {
    "duration": 12,
    "start_time": "2023-09-11T12:43:17.645Z"
   },
   {
    "duration": 28,
    "start_time": "2023-09-11T12:43:17.663Z"
   },
   {
    "duration": 104,
    "start_time": "2023-09-11T12:43:17.693Z"
   },
   {
    "duration": 6,
    "start_time": "2023-09-11T12:43:17.799Z"
   },
   {
    "duration": 27,
    "start_time": "2023-09-11T12:43:17.806Z"
   },
   {
    "duration": 84,
    "start_time": "2023-09-11T12:43:17.835Z"
   },
   {
    "duration": 35,
    "start_time": "2023-09-11T12:43:17.921Z"
   },
   {
    "duration": 35,
    "start_time": "2023-09-11T12:43:17.958Z"
   },
   {
    "duration": 20,
    "start_time": "2023-09-11T12:43:17.995Z"
   },
   {
    "duration": 27,
    "start_time": "2023-09-11T12:43:18.017Z"
   },
   {
    "duration": 49,
    "start_time": "2023-09-11T12:43:18.046Z"
   },
   {
    "duration": 26,
    "start_time": "2023-09-11T12:43:18.097Z"
   },
   {
    "duration": 25,
    "start_time": "2023-09-11T12:43:18.125Z"
   },
   {
    "duration": 13,
    "start_time": "2023-09-11T12:43:18.152Z"
   },
   {
    "duration": 25,
    "start_time": "2023-09-11T12:43:18.166Z"
   },
   {
    "duration": 137,
    "start_time": "2023-09-11T12:43:18.193Z"
   },
   {
    "duration": 4,
    "start_time": "2023-09-11T12:43:18.336Z"
   },
   {
    "duration": 59,
    "start_time": "2023-09-11T12:43:18.341Z"
   },
   {
    "duration": 44,
    "start_time": "2023-09-11T12:43:18.402Z"
   },
   {
    "duration": 71,
    "start_time": "2023-09-11T12:43:18.448Z"
   },
   {
    "duration": 6,
    "start_time": "2023-09-11T12:43:18.521Z"
   },
   {
    "duration": 170,
    "start_time": "2023-09-11T12:43:18.528Z"
   },
   {
    "duration": 115,
    "start_time": "2023-09-11T12:43:18.700Z"
   },
   {
    "duration": 94,
    "start_time": "2023-09-11T12:43:18.817Z"
   },
   {
    "duration": 37,
    "start_time": "2023-09-11T12:43:18.913Z"
   },
   {
    "duration": 132,
    "start_time": "2023-09-11T12:43:18.953Z"
   },
   {
    "duration": 6,
    "start_time": "2023-09-11T12:43:19.094Z"
   },
   {
    "duration": 223,
    "start_time": "2023-09-11T12:43:19.101Z"
   },
   {
    "duration": 16,
    "start_time": "2023-09-11T12:43:19.325Z"
   },
   {
    "duration": 4,
    "start_time": "2023-09-11T12:43:19.342Z"
   },
   {
    "duration": 43,
    "start_time": "2023-09-11T12:43:19.348Z"
   },
   {
    "duration": 14,
    "start_time": "2023-09-11T12:43:19.393Z"
   },
   {
    "duration": 19,
    "start_time": "2023-09-11T12:43:19.409Z"
   },
   {
    "duration": 222,
    "start_time": "2023-09-11T12:43:19.429Z"
   },
   {
    "duration": 146,
    "start_time": "2023-09-11T12:43:19.653Z"
   },
   {
    "duration": 8,
    "start_time": "2023-09-11T12:43:19.800Z"
   },
   {
    "duration": 8,
    "start_time": "2023-09-11T12:43:19.809Z"
   },
   {
    "duration": 477,
    "start_time": "2023-09-11T12:43:19.818Z"
   },
   {
    "duration": 12,
    "start_time": "2023-09-11T12:43:20.297Z"
   },
   {
    "duration": 118,
    "start_time": "2023-09-11T12:43:20.311Z"
   },
   {
    "duration": 9,
    "start_time": "2023-09-11T12:43:20.430Z"
   },
   {
    "duration": 19,
    "start_time": "2023-09-11T12:43:20.440Z"
   },
   {
    "duration": 107,
    "start_time": "2023-09-11T12:43:20.461Z"
   },
   {
    "duration": 426,
    "start_time": "2023-09-11T12:43:20.569Z"
   },
   {
    "duration": 132,
    "start_time": "2023-09-11T12:43:20.998Z"
   },
   {
    "duration": 5,
    "start_time": "2023-09-11T12:43:21.132Z"
   },
   {
    "duration": 116,
    "start_time": "2023-09-11T12:43:21.139Z"
   },
   {
    "duration": 872,
    "start_time": "2023-09-11T12:43:21.257Z"
   },
   {
    "duration": 2,
    "start_time": "2023-09-11T12:43:22.131Z"
   },
   {
    "duration": 14,
    "start_time": "2023-09-11T12:43:22.135Z"
   },
   {
    "duration": 227,
    "start_time": "2023-09-11T12:43:22.151Z"
   },
   {
    "duration": 19,
    "start_time": "2023-09-11T12:43:22.381Z"
   },
   {
    "duration": 191,
    "start_time": "2023-09-11T12:43:22.402Z"
   },
   {
    "duration": 14,
    "start_time": "2023-09-11T12:43:22.595Z"
   },
   {
    "duration": 18,
    "start_time": "2023-09-11T12:44:28.259Z"
   },
   {
    "duration": 10,
    "start_time": "2023-09-11T12:45:38.920Z"
   },
   {
    "duration": 12,
    "start_time": "2023-09-11T12:48:13.775Z"
   },
   {
    "duration": 38,
    "start_time": "2023-09-11T12:48:32.094Z"
   },
   {
    "duration": 22,
    "start_time": "2023-09-11T12:50:16.974Z"
   },
   {
    "duration": 4,
    "start_time": "2023-09-11T12:53:29.309Z"
   },
   {
    "duration": 13,
    "start_time": "2023-09-11T12:53:29.315Z"
   },
   {
    "duration": 326,
    "start_time": "2023-09-11T12:53:29.330Z"
   },
   {
    "duration": 14,
    "start_time": "2023-09-11T12:53:29.659Z"
   },
   {
    "duration": 23,
    "start_time": "2023-09-11T12:53:29.675Z"
   },
   {
    "duration": 40,
    "start_time": "2023-09-11T12:53:29.700Z"
   },
   {
    "duration": 71,
    "start_time": "2023-09-11T12:53:29.743Z"
   },
   {
    "duration": 35,
    "start_time": "2023-09-11T12:53:29.816Z"
   },
   {
    "duration": 27,
    "start_time": "2023-09-11T12:53:29.853Z"
   },
   {
    "duration": 85,
    "start_time": "2023-09-11T12:53:29.884Z"
   },
   {
    "duration": 11,
    "start_time": "2023-09-11T12:53:29.971Z"
   },
   {
    "duration": 20,
    "start_time": "2023-09-11T12:53:29.983Z"
   },
   {
    "duration": 109,
    "start_time": "2023-09-11T12:53:30.005Z"
   },
   {
    "duration": 64,
    "start_time": "2023-09-11T12:53:30.116Z"
   },
   {
    "duration": 28,
    "start_time": "2023-09-11T12:53:30.183Z"
   },
   {
    "duration": 47,
    "start_time": "2023-09-11T12:53:30.214Z"
   },
   {
    "duration": 70,
    "start_time": "2023-09-11T12:53:30.263Z"
   },
   {
    "duration": 122,
    "start_time": "2023-09-11T12:53:30.335Z"
   },
   {
    "duration": 39,
    "start_time": "2023-09-11T12:53:30.459Z"
   },
   {
    "duration": 61,
    "start_time": "2023-09-11T12:53:30.500Z"
   },
   {
    "duration": 29,
    "start_time": "2023-09-11T12:53:30.563Z"
   },
   {
    "duration": 41,
    "start_time": "2023-09-11T12:53:30.594Z"
   },
   {
    "duration": 158,
    "start_time": "2023-09-11T12:53:30.637Z"
   },
   {
    "duration": 4,
    "start_time": "2023-09-11T12:53:30.797Z"
   },
   {
    "duration": 88,
    "start_time": "2023-09-11T12:53:30.803Z"
   },
   {
    "duration": 80,
    "start_time": "2023-09-11T12:53:30.893Z"
   },
   {
    "duration": 60,
    "start_time": "2023-09-11T12:53:30.976Z"
   },
   {
    "duration": 8,
    "start_time": "2023-09-11T12:53:31.041Z"
   },
   {
    "duration": 214,
    "start_time": "2023-09-11T12:53:31.051Z"
   },
   {
    "duration": 114,
    "start_time": "2023-09-11T12:53:31.268Z"
   },
   {
    "duration": 84,
    "start_time": "2023-09-11T12:53:31.385Z"
   },
   {
    "duration": 48,
    "start_time": "2023-09-11T12:53:31.470Z"
   },
   {
    "duration": 131,
    "start_time": "2023-09-11T12:53:31.520Z"
   },
   {
    "duration": 17,
    "start_time": "2023-09-11T12:53:31.653Z"
   },
   {
    "duration": 29,
    "start_time": "2023-09-11T12:53:31.680Z"
   },
   {
    "duration": 78,
    "start_time": "2023-09-11T12:53:31.712Z"
   },
   {
    "duration": 24,
    "start_time": "2023-09-11T12:53:31.792Z"
   },
   {
    "duration": 41,
    "start_time": "2023-09-11T12:53:31.818Z"
   },
   {
    "duration": 168,
    "start_time": "2023-09-11T12:53:31.861Z"
   },
   {
    "duration": 140,
    "start_time": "2023-09-11T12:53:32.031Z"
   },
   {
    "duration": 14,
    "start_time": "2023-09-11T12:53:32.173Z"
   },
   {
    "duration": 31,
    "start_time": "2023-09-11T12:53:32.189Z"
   },
   {
    "duration": 530,
    "start_time": "2023-09-11T12:53:32.222Z"
   },
   {
    "duration": 12,
    "start_time": "2023-09-11T12:53:32.754Z"
   },
   {
    "duration": 124,
    "start_time": "2023-09-11T12:53:32.780Z"
   },
   {
    "duration": 11,
    "start_time": "2023-09-11T12:53:32.906Z"
   },
   {
    "duration": 31,
    "start_time": "2023-09-11T12:53:32.920Z"
   },
   {
    "duration": 124,
    "start_time": "2023-09-11T12:53:32.953Z"
   },
   {
    "duration": 398,
    "start_time": "2023-09-11T12:53:33.079Z"
   },
   {
    "duration": 145,
    "start_time": "2023-09-11T12:53:33.481Z"
   },
   {
    "duration": 7,
    "start_time": "2023-09-11T12:53:33.628Z"
   },
   {
    "duration": 101,
    "start_time": "2023-09-11T12:53:33.638Z"
   },
   {
    "duration": 859,
    "start_time": "2023-09-11T12:53:33.741Z"
   },
   {
    "duration": 3,
    "start_time": "2023-09-11T12:53:34.602Z"
   },
   {
    "duration": 47,
    "start_time": "2023-09-11T12:53:34.608Z"
   },
   {
    "duration": 202,
    "start_time": "2023-09-11T12:53:34.657Z"
   },
   {
    "duration": 20,
    "start_time": "2023-09-11T12:53:34.861Z"
   },
   {
    "duration": 163,
    "start_time": "2023-09-11T12:53:34.883Z"
   },
   {
    "duration": 16,
    "start_time": "2023-09-11T12:53:35.048Z"
   },
   {
    "duration": 27,
    "start_time": "2023-09-11T12:55:15.609Z"
   },
   {
    "duration": 4,
    "start_time": "2023-09-11T12:55:29.156Z"
   },
   {
    "duration": 4,
    "start_time": "2023-09-11T12:55:36.151Z"
   },
   {
    "duration": 4,
    "start_time": "2023-09-11T12:55:42.542Z"
   },
   {
    "duration": 11,
    "start_time": "2023-09-11T12:55:55.722Z"
   },
   {
    "duration": 13,
    "start_time": "2023-09-11T12:57:14.621Z"
   },
   {
    "duration": 29,
    "start_time": "2023-09-11T12:58:06.336Z"
   },
   {
    "duration": 27,
    "start_time": "2023-09-11T12:59:28.366Z"
   },
   {
    "duration": 162,
    "start_time": "2023-09-11T13:00:33.838Z"
   },
   {
    "duration": 155,
    "start_time": "2023-09-11T13:00:45.125Z"
   },
   {
    "duration": 175,
    "start_time": "2023-09-11T13:00:54.285Z"
   },
   {
    "duration": 4,
    "start_time": "2023-09-11T13:05:33.314Z"
   },
   {
    "duration": 44,
    "start_time": "2023-09-11T13:05:33.320Z"
   },
   {
    "duration": 326,
    "start_time": "2023-09-11T13:05:33.366Z"
   },
   {
    "duration": 10,
    "start_time": "2023-09-11T13:05:33.694Z"
   },
   {
    "duration": 15,
    "start_time": "2023-09-11T13:05:33.706Z"
   },
   {
    "duration": 9,
    "start_time": "2023-09-11T13:05:33.723Z"
   },
   {
    "duration": 49,
    "start_time": "2023-09-11T13:05:33.733Z"
   },
   {
    "duration": 16,
    "start_time": "2023-09-11T13:05:33.784Z"
   },
   {
    "duration": 14,
    "start_time": "2023-09-11T13:05:33.803Z"
   },
   {
    "duration": 92,
    "start_time": "2023-09-11T13:05:33.818Z"
   },
   {
    "duration": 5,
    "start_time": "2023-09-11T13:05:33.912Z"
   },
   {
    "duration": 21,
    "start_time": "2023-09-11T13:05:33.919Z"
   },
   {
    "duration": 120,
    "start_time": "2023-09-11T13:05:33.942Z"
   },
   {
    "duration": 44,
    "start_time": "2023-09-11T13:05:34.064Z"
   },
   {
    "duration": 17,
    "start_time": "2023-09-11T13:05:34.110Z"
   },
   {
    "duration": 24,
    "start_time": "2023-09-11T13:05:34.128Z"
   },
   {
    "duration": 16,
    "start_time": "2023-09-11T13:05:34.154Z"
   },
   {
    "duration": 36,
    "start_time": "2023-09-11T13:05:34.172Z"
   },
   {
    "duration": 28,
    "start_time": "2023-09-11T13:05:34.209Z"
   },
   {
    "duration": 24,
    "start_time": "2023-09-11T13:05:34.238Z"
   },
   {
    "duration": 18,
    "start_time": "2023-09-11T13:05:34.264Z"
   },
   {
    "duration": 23,
    "start_time": "2023-09-11T13:05:34.284Z"
   },
   {
    "duration": 129,
    "start_time": "2023-09-11T13:05:34.309Z"
   },
   {
    "duration": 4,
    "start_time": "2023-09-11T13:05:34.442Z"
   },
   {
    "duration": 66,
    "start_time": "2023-09-11T13:05:34.449Z"
   },
   {
    "duration": 45,
    "start_time": "2023-09-11T13:05:34.517Z"
   },
   {
    "duration": 57,
    "start_time": "2023-09-11T13:05:34.563Z"
   },
   {
    "duration": 7,
    "start_time": "2023-09-11T13:05:34.622Z"
   },
   {
    "duration": 159,
    "start_time": "2023-09-11T13:05:34.630Z"
   },
   {
    "duration": 101,
    "start_time": "2023-09-11T13:05:34.791Z"
   },
   {
    "duration": 89,
    "start_time": "2023-09-11T13:05:34.894Z"
   },
   {
    "duration": 50,
    "start_time": "2023-09-11T13:05:34.986Z"
   },
   {
    "duration": 121,
    "start_time": "2023-09-11T13:05:35.038Z"
   },
   {
    "duration": 30,
    "start_time": "2023-09-11T13:05:35.161Z"
   },
   {
    "duration": 7,
    "start_time": "2023-09-11T13:05:35.194Z"
   },
   {
    "duration": 51,
    "start_time": "2023-09-11T13:05:35.203Z"
   },
   {
    "duration": 16,
    "start_time": "2023-09-11T13:05:35.257Z"
   },
   {
    "duration": 26,
    "start_time": "2023-09-11T13:05:35.275Z"
   },
   {
    "duration": 152,
    "start_time": "2023-09-11T13:05:35.303Z"
   },
   {
    "duration": 135,
    "start_time": "2023-09-11T13:05:35.457Z"
   },
   {
    "duration": 7,
    "start_time": "2023-09-11T13:05:35.594Z"
   },
   {
    "duration": 42,
    "start_time": "2023-09-11T13:05:35.603Z"
   },
   {
    "duration": 170,
    "start_time": "2023-09-11T13:05:35.646Z"
   },
   {
    "duration": 154,
    "start_time": "2023-09-11T13:05:35.818Z"
   },
   {
    "duration": 167,
    "start_time": "2023-09-11T13:05:35.974Z"
   },
   {
    "duration": 147,
    "start_time": "2023-09-11T13:05:36.142Z"
   },
   {
    "duration": 6,
    "start_time": "2023-09-11T13:05:36.290Z"
   },
   {
    "duration": 98,
    "start_time": "2023-09-11T13:05:36.298Z"
   },
   {
    "duration": 900,
    "start_time": "2023-09-11T13:05:36.398Z"
   },
   {
    "duration": 3,
    "start_time": "2023-09-11T13:05:37.300Z"
   },
   {
    "duration": 10,
    "start_time": "2023-09-11T13:05:37.305Z"
   },
   {
    "duration": 190,
    "start_time": "2023-09-11T13:05:37.317Z"
   },
   {
    "duration": 9,
    "start_time": "2023-09-11T13:05:37.509Z"
   },
   {
    "duration": 187,
    "start_time": "2023-09-11T13:05:37.520Z"
   },
   {
    "duration": 15,
    "start_time": "2023-09-11T13:05:37.709Z"
   },
   {
    "duration": 51,
    "start_time": "2023-09-11T13:09:45.417Z"
   },
   {
    "duration": 5,
    "start_time": "2023-09-11T13:10:04.428Z"
   },
   {
    "duration": 7,
    "start_time": "2023-09-11T13:10:12.497Z"
   },
   {
    "duration": 12,
    "start_time": "2023-09-11T13:10:21.258Z"
   },
   {
    "duration": 2,
    "start_time": "2023-09-11T13:15:05.894Z"
   },
   {
    "duration": 4,
    "start_time": "2023-09-11T13:15:13.452Z"
   },
   {
    "duration": 29,
    "start_time": "2023-09-11T13:15:22.974Z"
   },
   {
    "duration": 11,
    "start_time": "2023-09-11T13:15:43.217Z"
   },
   {
    "duration": 1419,
    "start_time": "2023-09-11T17:08:49.411Z"
   },
   {
    "duration": 3,
    "start_time": "2023-09-11T17:08:50.832Z"
   },
   {
    "duration": 652,
    "start_time": "2023-09-11T17:08:50.837Z"
   },
   {
    "duration": 12,
    "start_time": "2023-09-11T17:08:51.491Z"
   },
   {
    "duration": 17,
    "start_time": "2023-09-11T17:08:51.506Z"
   },
   {
    "duration": 22,
    "start_time": "2023-09-11T17:08:51.525Z"
   },
   {
    "duration": 47,
    "start_time": "2023-09-11T17:08:51.548Z"
   },
   {
    "duration": 10,
    "start_time": "2023-09-11T17:08:51.597Z"
   },
   {
    "duration": 11,
    "start_time": "2023-09-11T17:08:51.609Z"
   },
   {
    "duration": 77,
    "start_time": "2023-09-11T17:08:51.622Z"
   },
   {
    "duration": 5,
    "start_time": "2023-09-11T17:08:51.701Z"
   },
   {
    "duration": 22,
    "start_time": "2023-09-11T17:08:51.707Z"
   },
   {
    "duration": 95,
    "start_time": "2023-09-11T17:08:51.731Z"
   },
   {
    "duration": 37,
    "start_time": "2023-09-11T17:08:51.830Z"
   },
   {
    "duration": 17,
    "start_time": "2023-09-11T17:08:51.868Z"
   },
   {
    "duration": 31,
    "start_time": "2023-09-11T17:08:51.887Z"
   },
   {
    "duration": 38,
    "start_time": "2023-09-11T17:08:51.919Z"
   },
   {
    "duration": 21,
    "start_time": "2023-09-11T17:08:51.959Z"
   },
   {
    "duration": 16,
    "start_time": "2023-09-11T17:08:51.981Z"
   },
   {
    "duration": 43,
    "start_time": "2023-09-11T17:08:51.999Z"
   },
   {
    "duration": 15,
    "start_time": "2023-09-11T17:08:52.044Z"
   },
   {
    "duration": 11,
    "start_time": "2023-09-11T17:08:52.061Z"
   },
   {
    "duration": 137,
    "start_time": "2023-09-11T17:08:52.074Z"
   },
   {
    "duration": 4,
    "start_time": "2023-09-11T17:08:52.213Z"
   },
   {
    "duration": 81,
    "start_time": "2023-09-11T17:08:52.219Z"
   },
   {
    "duration": 42,
    "start_time": "2023-09-11T17:08:52.302Z"
   },
   {
    "duration": 45,
    "start_time": "2023-09-11T17:08:52.345Z"
   },
   {
    "duration": 6,
    "start_time": "2023-09-11T17:08:52.392Z"
   },
   {
    "duration": 159,
    "start_time": "2023-09-11T17:08:52.399Z"
   },
   {
    "duration": 100,
    "start_time": "2023-09-11T17:08:52.559Z"
   },
   {
    "duration": 71,
    "start_time": "2023-09-11T17:08:52.661Z"
   },
   {
    "duration": 33,
    "start_time": "2023-09-11T17:08:52.744Z"
   },
   {
    "duration": 106,
    "start_time": "2023-09-11T17:08:52.778Z"
   },
   {
    "duration": 14,
    "start_time": "2023-09-11T17:08:52.886Z"
   },
   {
    "duration": 53,
    "start_time": "2023-09-11T17:08:52.902Z"
   },
   {
    "duration": 23,
    "start_time": "2023-09-11T17:08:52.957Z"
   },
   {
    "duration": 31,
    "start_time": "2023-09-11T17:08:52.982Z"
   },
   {
    "duration": 25,
    "start_time": "2023-09-11T17:08:53.015Z"
   },
   {
    "duration": 121,
    "start_time": "2023-09-11T17:08:53.042Z"
   },
   {
    "duration": 134,
    "start_time": "2023-09-11T17:08:53.164Z"
   },
   {
    "duration": 7,
    "start_time": "2023-09-11T17:08:53.302Z"
   },
   {
    "duration": 44,
    "start_time": "2023-09-11T17:08:53.310Z"
   },
   {
    "duration": 183,
    "start_time": "2023-09-11T17:08:53.355Z"
   },
   {
    "duration": 138,
    "start_time": "2023-09-11T17:08:53.539Z"
   },
   {
    "duration": 173,
    "start_time": "2023-09-11T17:08:53.679Z"
   },
   {
    "duration": 161,
    "start_time": "2023-09-11T17:08:53.853Z"
   },
   {
    "duration": 0,
    "start_time": "2023-09-11T17:08:54.016Z"
   },
   {
    "duration": 0,
    "start_time": "2023-09-11T17:08:54.017Z"
   },
   {
    "duration": 0,
    "start_time": "2023-09-11T17:08:54.018Z"
   },
   {
    "duration": 0,
    "start_time": "2023-09-11T17:08:54.019Z"
   },
   {
    "duration": 0,
    "start_time": "2023-09-11T17:08:54.020Z"
   },
   {
    "duration": 0,
    "start_time": "2023-09-11T17:08:54.021Z"
   },
   {
    "duration": 0,
    "start_time": "2023-09-11T17:08:54.022Z"
   },
   {
    "duration": 0,
    "start_time": "2023-09-11T17:08:54.023Z"
   },
   {
    "duration": 0,
    "start_time": "2023-09-11T17:08:54.024Z"
   },
   {
    "duration": 0,
    "start_time": "2023-09-11T17:08:54.025Z"
   },
   {
    "duration": 0,
    "start_time": "2023-09-11T17:08:54.026Z"
   },
   {
    "duration": 8,
    "start_time": "2023-09-11T17:27:27.817Z"
   },
   {
    "duration": 46,
    "start_time": "2023-09-11T17:27:39.367Z"
   },
   {
    "duration": 4,
    "start_time": "2023-09-11T17:27:39.586Z"
   },
   {
    "duration": 5,
    "start_time": "2023-09-11T17:27:39.804Z"
   },
   {
    "duration": 1419,
    "start_time": "2023-09-11T17:27:40.034Z"
   },
   {
    "duration": 0,
    "start_time": "2023-09-11T17:27:41.455Z"
   },
   {
    "duration": 0,
    "start_time": "2023-09-11T17:27:41.456Z"
   },
   {
    "duration": 0,
    "start_time": "2023-09-11T17:27:41.456Z"
   },
   {
    "duration": 0,
    "start_time": "2023-09-11T17:27:41.458Z"
   },
   {
    "duration": 2,
    "start_time": "2023-09-11T17:30:02.896Z"
   },
   {
    "duration": 3,
    "start_time": "2023-09-11T17:30:03.227Z"
   },
   {
    "duration": 9,
    "start_time": "2023-09-11T17:30:03.883Z"
   },
   {
    "duration": 11,
    "start_time": "2023-09-11T17:30:05.199Z"
   },
   {
    "duration": 1555,
    "start_time": "2023-09-12T06:20:26.515Z"
   },
   {
    "duration": 4,
    "start_time": "2023-09-12T06:20:28.072Z"
   },
   {
    "duration": 868,
    "start_time": "2023-09-12T06:20:28.078Z"
   },
   {
    "duration": 15,
    "start_time": "2023-09-12T06:20:28.952Z"
   },
   {
    "duration": 14,
    "start_time": "2023-09-12T06:20:28.969Z"
   },
   {
    "duration": 11,
    "start_time": "2023-09-12T06:20:28.985Z"
   },
   {
    "duration": 61,
    "start_time": "2023-09-12T06:20:28.998Z"
   },
   {
    "duration": 12,
    "start_time": "2023-09-12T06:20:29.061Z"
   },
   {
    "duration": 21,
    "start_time": "2023-09-12T06:20:29.075Z"
   },
   {
    "duration": 104,
    "start_time": "2023-09-12T06:20:29.099Z"
   },
   {
    "duration": 5,
    "start_time": "2023-09-12T06:20:29.204Z"
   },
   {
    "duration": 18,
    "start_time": "2023-09-12T06:20:29.211Z"
   },
   {
    "duration": 103,
    "start_time": "2023-09-12T06:20:29.231Z"
   },
   {
    "duration": 44,
    "start_time": "2023-09-12T06:20:29.336Z"
   },
   {
    "duration": 20,
    "start_time": "2023-09-12T06:20:29.382Z"
   },
   {
    "duration": 24,
    "start_time": "2023-09-12T06:20:29.403Z"
   },
   {
    "duration": 33,
    "start_time": "2023-09-12T06:20:29.429Z"
   },
   {
    "duration": 12,
    "start_time": "2023-09-12T06:20:29.463Z"
   },
   {
    "duration": 10,
    "start_time": "2023-09-12T06:20:29.476Z"
   },
   {
    "duration": 6,
    "start_time": "2023-09-12T06:20:29.487Z"
   },
   {
    "duration": 5,
    "start_time": "2023-09-12T06:20:29.495Z"
   },
   {
    "duration": 13,
    "start_time": "2023-09-12T06:20:29.501Z"
   },
   {
    "duration": 14,
    "start_time": "2023-09-12T06:20:29.516Z"
   },
   {
    "duration": 173,
    "start_time": "2023-09-12T06:20:29.531Z"
   },
   {
    "duration": 4,
    "start_time": "2023-09-12T06:20:29.706Z"
   },
   {
    "duration": 78,
    "start_time": "2023-09-12T06:20:29.712Z"
   },
   {
    "duration": 57,
    "start_time": "2023-09-12T06:20:29.792Z"
   },
   {
    "duration": 55,
    "start_time": "2023-09-12T06:20:29.854Z"
   },
   {
    "duration": 7,
    "start_time": "2023-09-12T06:20:29.911Z"
   },
   {
    "duration": 199,
    "start_time": "2023-09-12T06:20:29.920Z"
   },
   {
    "duration": 106,
    "start_time": "2023-09-12T06:20:30.121Z"
   },
   {
    "duration": 105,
    "start_time": "2023-09-12T06:20:30.228Z"
   },
   {
    "duration": 51,
    "start_time": "2023-09-12T06:20:30.335Z"
   },
   {
    "duration": 135,
    "start_time": "2023-09-12T06:20:30.388Z"
   },
   {
    "duration": 27,
    "start_time": "2023-09-12T06:20:30.525Z"
   },
   {
    "duration": 42,
    "start_time": "2023-09-12T06:20:30.554Z"
   },
   {
    "duration": 91,
    "start_time": "2023-09-12T06:20:30.597Z"
   },
   {
    "duration": 47,
    "start_time": "2023-09-12T06:20:30.690Z"
   },
   {
    "duration": 40,
    "start_time": "2023-09-12T06:20:30.738Z"
   },
   {
    "duration": 183,
    "start_time": "2023-09-12T06:20:30.780Z"
   },
   {
    "duration": 145,
    "start_time": "2023-09-12T06:20:30.965Z"
   },
   {
    "duration": 7,
    "start_time": "2023-09-12T06:20:31.112Z"
   },
   {
    "duration": 193,
    "start_time": "2023-09-12T06:20:31.121Z"
   },
   {
    "duration": 276,
    "start_time": "2023-09-12T06:20:31.316Z"
   },
   {
    "duration": 168,
    "start_time": "2023-09-12T06:20:31.593Z"
   },
   {
    "duration": 168,
    "start_time": "2023-09-12T06:20:31.762Z"
   },
   {
    "duration": 193,
    "start_time": "2023-09-12T06:20:31.931Z"
   },
   {
    "duration": 0,
    "start_time": "2023-09-12T06:20:32.126Z"
   },
   {
    "duration": 0,
    "start_time": "2023-09-12T06:20:32.127Z"
   },
   {
    "duration": 0,
    "start_time": "2023-09-12T06:20:32.128Z"
   },
   {
    "duration": 0,
    "start_time": "2023-09-12T06:20:32.130Z"
   },
   {
    "duration": 0,
    "start_time": "2023-09-12T06:20:32.131Z"
   },
   {
    "duration": 0,
    "start_time": "2023-09-12T06:20:32.133Z"
   },
   {
    "duration": 0,
    "start_time": "2023-09-12T06:20:32.147Z"
   },
   {
    "duration": 0,
    "start_time": "2023-09-12T06:20:32.147Z"
   },
   {
    "duration": 0,
    "start_time": "2023-09-12T06:20:32.148Z"
   },
   {
    "duration": 0,
    "start_time": "2023-09-12T06:20:32.149Z"
   },
   {
    "duration": 0,
    "start_time": "2023-09-12T06:20:32.150Z"
   },
   {
    "duration": 22,
    "start_time": "2023-09-12T06:21:20.904Z"
   },
   {
    "duration": 27,
    "start_time": "2023-09-12T06:22:32.044Z"
   },
   {
    "duration": 4,
    "start_time": "2023-09-12T06:23:31.759Z"
   },
   {
    "duration": 17,
    "start_time": "2023-09-12T06:23:31.764Z"
   },
   {
    "duration": 323,
    "start_time": "2023-09-12T06:23:31.783Z"
   },
   {
    "duration": 15,
    "start_time": "2023-09-12T06:23:32.108Z"
   },
   {
    "duration": 42,
    "start_time": "2023-09-12T06:23:32.125Z"
   },
   {
    "duration": 29,
    "start_time": "2023-09-12T06:23:32.171Z"
   },
   {
    "duration": 69,
    "start_time": "2023-09-12T06:23:32.202Z"
   },
   {
    "duration": 40,
    "start_time": "2023-09-12T06:23:32.273Z"
   },
   {
    "duration": 33,
    "start_time": "2023-09-12T06:23:32.316Z"
   },
   {
    "duration": 109,
    "start_time": "2023-09-12T06:23:32.350Z"
   },
   {
    "duration": 8,
    "start_time": "2023-09-12T06:23:32.461Z"
   },
   {
    "duration": 20,
    "start_time": "2023-09-12T06:23:32.471Z"
   },
   {
    "duration": 102,
    "start_time": "2023-09-12T06:23:32.493Z"
   },
   {
    "duration": 51,
    "start_time": "2023-09-12T06:23:32.597Z"
   },
   {
    "duration": 26,
    "start_time": "2023-09-12T06:23:32.653Z"
   },
   {
    "duration": 26,
    "start_time": "2023-09-12T06:23:32.681Z"
   },
   {
    "duration": 59,
    "start_time": "2023-09-12T06:23:32.709Z"
   },
   {
    "duration": 162,
    "start_time": "2023-09-12T06:23:32.770Z"
   },
   {
    "duration": 5,
    "start_time": "2023-09-12T06:23:32.933Z"
   },
   {
    "duration": 53,
    "start_time": "2023-09-12T06:23:32.949Z"
   },
   {
    "duration": 61,
    "start_time": "2023-09-12T06:23:33.004Z"
   },
   {
    "duration": 51,
    "start_time": "2023-09-12T06:23:33.067Z"
   },
   {
    "duration": 7,
    "start_time": "2023-09-12T06:23:33.120Z"
   },
   {
    "duration": 167,
    "start_time": "2023-09-12T06:23:33.148Z"
   },
   {
    "duration": 102,
    "start_time": "2023-09-12T06:23:33.317Z"
   },
   {
    "duration": 94,
    "start_time": "2023-09-12T06:23:33.420Z"
   },
   {
    "duration": 50,
    "start_time": "2023-09-12T06:23:33.516Z"
   },
   {
    "duration": 195,
    "start_time": "2023-09-12T06:23:33.570Z"
   },
   {
    "duration": 15,
    "start_time": "2023-09-12T06:23:33.767Z"
   },
   {
    "duration": 5,
    "start_time": "2023-09-12T06:23:33.783Z"
   },
   {
    "duration": 20,
    "start_time": "2023-09-12T06:23:33.790Z"
   },
   {
    "duration": 11,
    "start_time": "2023-09-12T06:23:33.812Z"
   },
   {
    "duration": 10,
    "start_time": "2023-09-12T06:23:33.851Z"
   },
   {
    "duration": 149,
    "start_time": "2023-09-12T06:23:33.863Z"
   },
   {
    "duration": 157,
    "start_time": "2023-09-12T06:23:34.015Z"
   },
   {
    "duration": 8,
    "start_time": "2023-09-12T06:23:34.174Z"
   },
   {
    "duration": 36,
    "start_time": "2023-09-12T06:23:34.184Z"
   },
   {
    "duration": 182,
    "start_time": "2023-09-12T06:23:34.221Z"
   },
   {
    "duration": 166,
    "start_time": "2023-09-12T06:23:34.405Z"
   },
   {
    "duration": 192,
    "start_time": "2023-09-12T06:23:34.573Z"
   },
   {
    "duration": 73,
    "start_time": "2023-09-12T06:23:34.767Z"
   },
   {
    "duration": 0,
    "start_time": "2023-09-12T06:23:34.842Z"
   },
   {
    "duration": 0,
    "start_time": "2023-09-12T06:23:34.848Z"
   },
   {
    "duration": 0,
    "start_time": "2023-09-12T06:23:34.850Z"
   },
   {
    "duration": 0,
    "start_time": "2023-09-12T06:23:34.852Z"
   },
   {
    "duration": 0,
    "start_time": "2023-09-12T06:23:34.854Z"
   },
   {
    "duration": 0,
    "start_time": "2023-09-12T06:23:34.855Z"
   },
   {
    "duration": 0,
    "start_time": "2023-09-12T06:23:34.856Z"
   },
   {
    "duration": 0,
    "start_time": "2023-09-12T06:23:34.858Z"
   },
   {
    "duration": 0,
    "start_time": "2023-09-12T06:23:34.859Z"
   },
   {
    "duration": 0,
    "start_time": "2023-09-12T06:23:34.860Z"
   },
   {
    "duration": 0,
    "start_time": "2023-09-12T06:23:34.862Z"
   },
   {
    "duration": 147,
    "start_time": "2023-09-12T06:29:34.956Z"
   },
   {
    "duration": 4,
    "start_time": "2023-09-12T06:35:08.879Z"
   },
   {
    "duration": 373,
    "start_time": "2023-09-12T06:35:08.890Z"
   },
   {
    "duration": 352,
    "start_time": "2023-09-12T06:35:09.266Z"
   },
   {
    "duration": 14,
    "start_time": "2023-09-12T06:35:09.619Z"
   },
   {
    "duration": 37,
    "start_time": "2023-09-12T06:35:09.635Z"
   },
   {
    "duration": 29,
    "start_time": "2023-09-12T06:35:09.674Z"
   },
   {
    "duration": 61,
    "start_time": "2023-09-12T06:35:09.705Z"
   },
   {
    "duration": 12,
    "start_time": "2023-09-12T06:35:09.768Z"
   },
   {
    "duration": 20,
    "start_time": "2023-09-12T06:35:09.781Z"
   },
   {
    "duration": 116,
    "start_time": "2023-09-12T06:35:09.802Z"
   },
   {
    "duration": 5,
    "start_time": "2023-09-12T06:35:09.922Z"
   },
   {
    "duration": 131,
    "start_time": "2023-09-12T06:35:09.929Z"
   },
   {
    "duration": 119,
    "start_time": "2023-09-12T06:35:10.062Z"
   },
   {
    "duration": 35,
    "start_time": "2023-09-12T06:35:10.183Z"
   },
   {
    "duration": 31,
    "start_time": "2023-09-12T06:35:10.220Z"
   },
   {
    "duration": 41,
    "start_time": "2023-09-12T06:35:10.260Z"
   },
   {
    "duration": 38,
    "start_time": "2023-09-12T06:35:10.303Z"
   },
   {
    "duration": 187,
    "start_time": "2023-09-12T06:35:10.343Z"
   },
   {
    "duration": 3,
    "start_time": "2023-09-12T06:35:10.532Z"
   },
   {
    "duration": 954,
    "start_time": "2023-09-12T06:35:10.537Z"
   },
   {
    "duration": 646,
    "start_time": "2023-09-12T06:35:11.493Z"
   },
   {
    "duration": 643,
    "start_time": "2023-09-12T06:35:12.141Z"
   },
   {
    "duration": 896,
    "start_time": "2023-09-12T06:35:12.786Z"
   },
   {
    "duration": 877,
    "start_time": "2023-09-12T06:35:13.684Z"
   },
   {
    "duration": 371,
    "start_time": "2023-09-12T06:35:14.563Z"
   },
   {
    "duration": 861,
    "start_time": "2023-09-12T06:35:14.936Z"
   },
   {
    "duration": 647,
    "start_time": "2023-09-12T06:35:15.799Z"
   },
   {
    "duration": 498,
    "start_time": "2023-09-12T06:35:16.447Z"
   },
   {
    "duration": 734,
    "start_time": "2023-09-12T06:35:16.960Z"
   },
   {
    "duration": 646,
    "start_time": "2023-09-12T06:35:17.696Z"
   },
   {
    "duration": 659,
    "start_time": "2023-09-12T06:35:18.343Z"
   },
   {
    "duration": 440,
    "start_time": "2023-09-12T06:35:19.004Z"
   },
   {
    "duration": 159,
    "start_time": "2023-09-12T06:35:19.451Z"
   },
   {
    "duration": 192,
    "start_time": "2023-09-12T06:35:19.612Z"
   },
   {
    "duration": 104,
    "start_time": "2023-09-12T06:35:19.806Z"
   },
   {
    "duration": 0,
    "start_time": "2023-09-12T06:35:19.911Z"
   },
   {
    "duration": 0,
    "start_time": "2023-09-12T06:35:19.913Z"
   },
   {
    "duration": 0,
    "start_time": "2023-09-12T06:35:19.915Z"
   },
   {
    "duration": 0,
    "start_time": "2023-09-12T06:35:19.917Z"
   },
   {
    "duration": 0,
    "start_time": "2023-09-12T06:35:19.918Z"
   },
   {
    "duration": 0,
    "start_time": "2023-09-12T06:35:19.920Z"
   },
   {
    "duration": 0,
    "start_time": "2023-09-12T06:35:19.922Z"
   },
   {
    "duration": 0,
    "start_time": "2023-09-12T06:35:19.923Z"
   },
   {
    "duration": 0,
    "start_time": "2023-09-12T06:35:19.949Z"
   },
   {
    "duration": 0,
    "start_time": "2023-09-12T06:35:19.951Z"
   },
   {
    "duration": 0,
    "start_time": "2023-09-12T06:35:19.953Z"
   },
   {
    "duration": 248,
    "start_time": "2023-09-12T06:39:48.508Z"
   },
   {
    "duration": 174,
    "start_time": "2023-09-12T06:40:36.204Z"
   },
   {
    "duration": 151,
    "start_time": "2023-09-12T06:40:38.859Z"
   },
   {
    "duration": 189,
    "start_time": "2023-09-12T06:42:05.238Z"
   },
   {
    "duration": 30,
    "start_time": "2023-09-12T06:43:16.072Z"
   },
   {
    "duration": 9,
    "start_time": "2023-09-12T06:53:14.222Z"
   },
   {
    "duration": 9,
    "start_time": "2023-09-12T06:56:34.138Z"
   },
   {
    "duration": 10,
    "start_time": "2023-09-12T07:06:31.480Z"
   },
   {
    "duration": 161,
    "start_time": "2023-09-12T07:08:14.369Z"
   },
   {
    "duration": 3,
    "start_time": "2023-09-12T07:08:43.725Z"
   },
   {
    "duration": 13,
    "start_time": "2023-09-12T07:08:43.730Z"
   },
   {
    "duration": 299,
    "start_time": "2023-09-12T07:08:43.745Z"
   },
   {
    "duration": 10,
    "start_time": "2023-09-12T07:08:44.046Z"
   },
   {
    "duration": 22,
    "start_time": "2023-09-12T07:08:44.058Z"
   },
   {
    "duration": 20,
    "start_time": "2023-09-12T07:08:44.082Z"
   },
   {
    "duration": 54,
    "start_time": "2023-09-12T07:08:44.104Z"
   },
   {
    "duration": 15,
    "start_time": "2023-09-12T07:08:44.160Z"
   },
   {
    "duration": 14,
    "start_time": "2023-09-12T07:08:44.177Z"
   },
   {
    "duration": 90,
    "start_time": "2023-09-12T07:08:44.192Z"
   },
   {
    "duration": 5,
    "start_time": "2023-09-12T07:08:44.284Z"
   },
   {
    "duration": 48,
    "start_time": "2023-09-12T07:08:44.291Z"
   },
   {
    "duration": 95,
    "start_time": "2023-09-12T07:08:44.341Z"
   },
   {
    "duration": 38,
    "start_time": "2023-09-12T07:08:44.437Z"
   },
   {
    "duration": 36,
    "start_time": "2023-09-12T07:08:44.477Z"
   },
   {
    "duration": 38,
    "start_time": "2023-09-12T07:08:44.515Z"
   },
   {
    "duration": 53,
    "start_time": "2023-09-12T07:08:44.554Z"
   },
   {
    "duration": 147,
    "start_time": "2023-09-12T07:08:44.608Z"
   },
   {
    "duration": 5,
    "start_time": "2023-09-12T07:08:44.758Z"
   },
   {
    "duration": 79,
    "start_time": "2023-09-12T07:08:44.766Z"
   },
   {
    "duration": 52,
    "start_time": "2023-09-12T07:08:44.847Z"
   },
   {
    "duration": 79,
    "start_time": "2023-09-12T07:08:44.901Z"
   },
   {
    "duration": 8,
    "start_time": "2023-09-12T07:08:44.982Z"
   },
   {
    "duration": 205,
    "start_time": "2023-09-12T07:08:44.994Z"
   },
   {
    "duration": 167,
    "start_time": "2023-09-12T07:08:45.201Z"
   },
   {
    "duration": 0,
    "start_time": "2023-09-12T07:08:45.370Z"
   },
   {
    "duration": 0,
    "start_time": "2023-09-12T07:08:45.371Z"
   },
   {
    "duration": 0,
    "start_time": "2023-09-12T07:08:45.372Z"
   },
   {
    "duration": 0,
    "start_time": "2023-09-12T07:08:45.373Z"
   },
   {
    "duration": 0,
    "start_time": "2023-09-12T07:08:45.374Z"
   },
   {
    "duration": 0,
    "start_time": "2023-09-12T07:08:45.376Z"
   },
   {
    "duration": 0,
    "start_time": "2023-09-12T07:08:45.377Z"
   },
   {
    "duration": 0,
    "start_time": "2023-09-12T07:08:45.378Z"
   },
   {
    "duration": 0,
    "start_time": "2023-09-12T07:08:45.380Z"
   },
   {
    "duration": 0,
    "start_time": "2023-09-12T07:08:45.381Z"
   },
   {
    "duration": 0,
    "start_time": "2023-09-12T07:08:45.382Z"
   },
   {
    "duration": 0,
    "start_time": "2023-09-12T07:08:45.383Z"
   },
   {
    "duration": 0,
    "start_time": "2023-09-12T07:08:45.385Z"
   },
   {
    "duration": 0,
    "start_time": "2023-09-12T07:08:45.386Z"
   },
   {
    "duration": 0,
    "start_time": "2023-09-12T07:08:45.386Z"
   },
   {
    "duration": 0,
    "start_time": "2023-09-12T07:08:45.388Z"
   },
   {
    "duration": 0,
    "start_time": "2023-09-12T07:08:45.389Z"
   },
   {
    "duration": 0,
    "start_time": "2023-09-12T07:08:45.390Z"
   },
   {
    "duration": 4,
    "start_time": "2023-09-12T07:10:03.782Z"
   },
   {
    "duration": 156,
    "start_time": "2023-09-12T07:10:16.218Z"
   },
   {
    "duration": 160,
    "start_time": "2023-09-12T07:10:29.818Z"
   },
   {
    "duration": 69,
    "start_time": "2023-09-12T07:11:07.073Z"
   },
   {
    "duration": 85,
    "start_time": "2023-09-12T07:11:22.868Z"
   },
   {
    "duration": 140,
    "start_time": "2023-09-12T07:11:33.756Z"
   },
   {
    "duration": 295,
    "start_time": "2023-09-12T07:11:44.566Z"
   },
   {
    "duration": 397,
    "start_time": "2023-09-12T07:12:11.694Z"
   },
   {
    "duration": 70,
    "start_time": "2023-09-12T07:14:17.546Z"
   },
   {
    "duration": 11,
    "start_time": "2023-09-12T07:19:05.397Z"
   },
   {
    "duration": 9,
    "start_time": "2023-09-12T07:19:16.927Z"
   },
   {
    "duration": 11,
    "start_time": "2023-09-12T07:19:29.001Z"
   },
   {
    "duration": 91,
    "start_time": "2023-09-12T07:19:37.961Z"
   },
   {
    "duration": 12,
    "start_time": "2023-09-12T07:20:09.264Z"
   },
   {
    "duration": 318,
    "start_time": "2023-09-12T07:20:37.159Z"
   },
   {
    "duration": 252,
    "start_time": "2023-09-12T07:21:10.607Z"
   },
   {
    "duration": 109,
    "start_time": "2023-09-12T07:21:45.808Z"
   },
   {
    "duration": 104,
    "start_time": "2023-09-12T07:21:59.385Z"
   },
   {
    "duration": 71,
    "start_time": "2023-09-12T07:22:47.118Z"
   },
   {
    "duration": 144,
    "start_time": "2023-09-12T07:24:49.289Z"
   },
   {
    "duration": 1462,
    "start_time": "2023-09-12T07:25:22.960Z"
   },
   {
    "duration": 4,
    "start_time": "2023-09-12T07:26:13.437Z"
   },
   {
    "duration": 47,
    "start_time": "2023-09-12T07:26:13.443Z"
   },
   {
    "duration": 343,
    "start_time": "2023-09-12T07:26:13.492Z"
   },
   {
    "duration": 10,
    "start_time": "2023-09-12T07:26:13.837Z"
   },
   {
    "duration": 31,
    "start_time": "2023-09-12T07:26:13.848Z"
   },
   {
    "duration": 28,
    "start_time": "2023-09-12T07:26:13.880Z"
   },
   {
    "duration": 53,
    "start_time": "2023-09-12T07:26:13.909Z"
   },
   {
    "duration": 26,
    "start_time": "2023-09-12T07:26:13.964Z"
   },
   {
    "duration": 37,
    "start_time": "2023-09-12T07:26:13.992Z"
   },
   {
    "duration": 95,
    "start_time": "2023-09-12T07:26:14.033Z"
   },
   {
    "duration": 5,
    "start_time": "2023-09-12T07:26:14.130Z"
   },
   {
    "duration": 26,
    "start_time": "2023-09-12T07:26:14.136Z"
   },
   {
    "duration": 94,
    "start_time": "2023-09-12T07:26:14.164Z"
   },
   {
    "duration": 42,
    "start_time": "2023-09-12T07:26:14.260Z"
   },
   {
    "duration": 21,
    "start_time": "2023-09-12T07:26:14.304Z"
   },
   {
    "duration": 45,
    "start_time": "2023-09-12T07:26:14.327Z"
   },
   {
    "duration": 31,
    "start_time": "2023-09-12T07:26:14.374Z"
   },
   {
    "duration": 145,
    "start_time": "2023-09-12T07:26:14.407Z"
   },
   {
    "duration": 3,
    "start_time": "2023-09-12T07:26:14.555Z"
   },
   {
    "duration": 55,
    "start_time": "2023-09-12T07:26:14.561Z"
   },
   {
    "duration": 107,
    "start_time": "2023-09-12T07:26:14.619Z"
   },
   {
    "duration": 322,
    "start_time": "2023-09-12T07:26:14.728Z"
   },
   {
    "duration": 254,
    "start_time": "2023-09-12T07:26:15.051Z"
   },
   {
    "duration": 136,
    "start_time": "2023-09-12T07:26:15.307Z"
   },
   {
    "duration": 70,
    "start_time": "2023-09-12T07:26:15.446Z"
   },
   {
    "duration": 54,
    "start_time": "2023-09-12T07:26:15.518Z"
   },
   {
    "duration": 62,
    "start_time": "2023-09-12T07:26:15.575Z"
   },
   {
    "duration": 12,
    "start_time": "2023-09-12T07:26:15.643Z"
   },
   {
    "duration": 184,
    "start_time": "2023-09-12T07:26:15.657Z"
   },
   {
    "duration": 238,
    "start_time": "2023-09-12T07:26:15.846Z"
   },
   {
    "duration": 61,
    "start_time": "2023-09-12T07:26:16.087Z"
   },
   {
    "duration": 75,
    "start_time": "2023-09-12T07:26:16.150Z"
   },
   {
    "duration": 323,
    "start_time": "2023-09-12T07:26:16.227Z"
   },
   {
    "duration": 331,
    "start_time": "2023-09-12T07:26:16.551Z"
   },
   {
    "duration": 15,
    "start_time": "2023-09-12T07:26:16.884Z"
   },
   {
    "duration": 5,
    "start_time": "2023-09-12T07:26:16.901Z"
   },
   {
    "duration": 51,
    "start_time": "2023-09-12T07:26:16.908Z"
   },
   {
    "duration": 166,
    "start_time": "2023-09-12T07:26:16.961Z"
   },
   {
    "duration": 156,
    "start_time": "2023-09-12T07:26:17.129Z"
   },
   {
    "duration": 181,
    "start_time": "2023-09-12T07:26:17.287Z"
   },
   {
    "duration": 101,
    "start_time": "2023-09-12T07:26:17.470Z"
   },
   {
    "duration": 0,
    "start_time": "2023-09-12T07:26:17.573Z"
   },
   {
    "duration": 0,
    "start_time": "2023-09-12T07:26:17.574Z"
   },
   {
    "duration": 0,
    "start_time": "2023-09-12T07:26:17.576Z"
   },
   {
    "duration": 0,
    "start_time": "2023-09-12T07:26:17.577Z"
   },
   {
    "duration": 0,
    "start_time": "2023-09-12T07:26:17.579Z"
   },
   {
    "duration": 0,
    "start_time": "2023-09-12T07:26:17.580Z"
   },
   {
    "duration": 0,
    "start_time": "2023-09-12T07:26:17.582Z"
   },
   {
    "duration": 0,
    "start_time": "2023-09-12T07:26:17.584Z"
   },
   {
    "duration": 0,
    "start_time": "2023-09-12T07:26:17.585Z"
   },
   {
    "duration": 0,
    "start_time": "2023-09-12T07:26:17.587Z"
   },
   {
    "duration": 0,
    "start_time": "2023-09-12T07:26:17.588Z"
   },
   {
    "duration": 10,
    "start_time": "2023-09-12T07:29:32.982Z"
   },
   {
    "duration": 67,
    "start_time": "2023-09-12T07:29:45.691Z"
   },
   {
    "duration": 11,
    "start_time": "2023-09-12T07:30:07.461Z"
   },
   {
    "duration": 36,
    "start_time": "2023-09-12T07:31:09.239Z"
   },
   {
    "duration": 89,
    "start_time": "2023-09-12T07:32:06.801Z"
   },
   {
    "duration": 8,
    "start_time": "2023-09-12T07:36:10.749Z"
   },
   {
    "duration": 8,
    "start_time": "2023-09-12T07:36:17.259Z"
   },
   {
    "duration": 8,
    "start_time": "2023-09-12T07:36:22.442Z"
   },
   {
    "duration": 6,
    "start_time": "2023-09-12T07:37:24.770Z"
   },
   {
    "duration": 5,
    "start_time": "2023-09-12T07:37:41.539Z"
   },
   {
    "duration": 5,
    "start_time": "2023-09-12T07:38:16.032Z"
   },
   {
    "duration": 338,
    "start_time": "2023-09-12T07:38:23.545Z"
   },
   {
    "duration": 344,
    "start_time": "2023-09-12T07:41:05.969Z"
   },
   {
    "duration": 5,
    "start_time": "2023-09-12T07:41:09.430Z"
   },
   {
    "duration": 352,
    "start_time": "2023-09-12T07:41:11.561Z"
   },
   {
    "duration": 10,
    "start_time": "2023-09-12T07:45:16.251Z"
   },
   {
    "duration": 5,
    "start_time": "2023-09-12T07:46:18.767Z"
   },
   {
    "duration": 13,
    "start_time": "2023-09-12T07:46:18.775Z"
   },
   {
    "duration": 343,
    "start_time": "2023-09-12T07:46:18.790Z"
   },
   {
    "duration": 11,
    "start_time": "2023-09-12T07:46:19.135Z"
   },
   {
    "duration": 19,
    "start_time": "2023-09-12T07:46:19.148Z"
   },
   {
    "duration": 22,
    "start_time": "2023-09-12T07:46:19.174Z"
   },
   {
    "duration": 45,
    "start_time": "2023-09-12T07:46:19.198Z"
   },
   {
    "duration": 17,
    "start_time": "2023-09-12T07:46:19.245Z"
   },
   {
    "duration": 17,
    "start_time": "2023-09-12T07:46:19.264Z"
   },
   {
    "duration": 115,
    "start_time": "2023-09-12T07:46:19.284Z"
   },
   {
    "duration": 7,
    "start_time": "2023-09-12T07:46:19.402Z"
   },
   {
    "duration": 60,
    "start_time": "2023-09-12T07:46:19.411Z"
   },
   {
    "duration": 84,
    "start_time": "2023-09-12T07:46:19.475Z"
   },
   {
    "duration": 51,
    "start_time": "2023-09-12T07:46:19.561Z"
   },
   {
    "duration": 35,
    "start_time": "2023-09-12T07:46:19.614Z"
   },
   {
    "duration": 23,
    "start_time": "2023-09-12T07:46:19.651Z"
   },
   {
    "duration": 32,
    "start_time": "2023-09-12T07:46:19.676Z"
   },
   {
    "duration": 160,
    "start_time": "2023-09-12T07:46:19.710Z"
   },
   {
    "duration": 4,
    "start_time": "2023-09-12T07:46:19.872Z"
   },
   {
    "duration": 88,
    "start_time": "2023-09-12T07:46:19.879Z"
   },
   {
    "duration": 109,
    "start_time": "2023-09-12T07:46:19.969Z"
   },
   {
    "duration": 441,
    "start_time": "2023-09-12T07:46:20.080Z"
   },
   {
    "duration": 277,
    "start_time": "2023-09-12T07:46:20.523Z"
   },
   {
    "duration": 134,
    "start_time": "2023-09-12T07:46:20.802Z"
   },
   {
    "duration": 57,
    "start_time": "2023-09-12T07:46:20.938Z"
   },
   {
    "duration": 129,
    "start_time": "2023-09-12T07:46:20.998Z"
   },
   {
    "duration": 22,
    "start_time": "2023-09-12T07:46:21.129Z"
   },
   {
    "duration": 90,
    "start_time": "2023-09-12T07:46:21.153Z"
   },
   {
    "duration": 107,
    "start_time": "2023-09-12T07:46:21.248Z"
   },
   {
    "duration": 36,
    "start_time": "2023-09-12T07:46:21.357Z"
   },
   {
    "duration": 84,
    "start_time": "2023-09-12T07:46:21.395Z"
   },
   {
    "duration": 8,
    "start_time": "2023-09-12T07:46:21.481Z"
   },
   {
    "duration": 222,
    "start_time": "2023-09-12T07:46:21.491Z"
   },
   {
    "duration": 7,
    "start_time": "2023-09-12T07:46:21.715Z"
   },
   {
    "duration": 24,
    "start_time": "2023-09-12T07:46:21.724Z"
   },
   {
    "duration": 23,
    "start_time": "2023-09-12T07:46:21.751Z"
   },
   {
    "duration": 14,
    "start_time": "2023-09-12T07:46:21.780Z"
   },
   {
    "duration": 6,
    "start_time": "2023-09-12T07:46:21.797Z"
   },
   {
    "duration": 454,
    "start_time": "2023-09-12T07:46:21.805Z"
   },
   {
    "duration": 10,
    "start_time": "2023-09-12T07:46:22.261Z"
   },
   {
    "duration": 0,
    "start_time": "2023-09-12T07:46:22.274Z"
   },
   {
    "duration": 0,
    "start_time": "2023-09-12T07:46:22.275Z"
   },
   {
    "duration": 0,
    "start_time": "2023-09-12T07:46:22.276Z"
   },
   {
    "duration": 0,
    "start_time": "2023-09-12T07:46:22.279Z"
   },
   {
    "duration": 0,
    "start_time": "2023-09-12T07:46:22.280Z"
   },
   {
    "duration": 0,
    "start_time": "2023-09-12T07:46:22.283Z"
   },
   {
    "duration": 0,
    "start_time": "2023-09-12T07:46:22.284Z"
   },
   {
    "duration": 0,
    "start_time": "2023-09-12T07:46:22.286Z"
   },
   {
    "duration": 0,
    "start_time": "2023-09-12T07:46:22.287Z"
   },
   {
    "duration": 0,
    "start_time": "2023-09-12T07:46:22.288Z"
   },
   {
    "duration": 0,
    "start_time": "2023-09-12T07:46:22.289Z"
   },
   {
    "duration": 0,
    "start_time": "2023-09-12T07:46:22.291Z"
   },
   {
    "duration": 0,
    "start_time": "2023-09-12T07:46:22.292Z"
   },
   {
    "duration": 0,
    "start_time": "2023-09-12T07:46:22.293Z"
   },
   {
    "duration": 0,
    "start_time": "2023-09-12T07:46:22.294Z"
   },
   {
    "duration": 0,
    "start_time": "2023-09-12T07:46:22.296Z"
   },
   {
    "duration": 0,
    "start_time": "2023-09-12T07:46:22.297Z"
   },
   {
    "duration": 1,
    "start_time": "2023-09-12T07:46:22.299Z"
   },
   {
    "duration": 372,
    "start_time": "2023-09-12T07:48:28.185Z"
   },
   {
    "duration": 125,
    "start_time": "2023-09-12T08:04:36.658Z"
   },
   {
    "duration": 3,
    "start_time": "2023-09-12T08:04:41.610Z"
   },
   {
    "duration": 17,
    "start_time": "2023-09-12T08:04:41.615Z"
   },
   {
    "duration": 365,
    "start_time": "2023-09-12T08:04:41.635Z"
   },
   {
    "duration": 11,
    "start_time": "2023-09-12T08:04:42.002Z"
   },
   {
    "duration": 27,
    "start_time": "2023-09-12T08:04:42.015Z"
   },
   {
    "duration": 22,
    "start_time": "2023-09-12T08:04:42.043Z"
   },
   {
    "duration": 48,
    "start_time": "2023-09-12T08:04:42.066Z"
   },
   {
    "duration": 14,
    "start_time": "2023-09-12T08:04:42.116Z"
   },
   {
    "duration": 38,
    "start_time": "2023-09-12T08:04:42.132Z"
   },
   {
    "duration": 91,
    "start_time": "2023-09-12T08:04:42.172Z"
   },
   {
    "duration": 7,
    "start_time": "2023-09-12T08:04:42.267Z"
   },
   {
    "duration": 29,
    "start_time": "2023-09-12T08:04:42.276Z"
   },
   {
    "duration": 94,
    "start_time": "2023-09-12T08:04:42.307Z"
   },
   {
    "duration": 48,
    "start_time": "2023-09-12T08:04:42.403Z"
   },
   {
    "duration": 26,
    "start_time": "2023-09-12T08:04:42.455Z"
   },
   {
    "duration": 42,
    "start_time": "2023-09-12T08:04:42.483Z"
   },
   {
    "duration": 28,
    "start_time": "2023-09-12T08:04:42.527Z"
   },
   {
    "duration": 95,
    "start_time": "2023-09-12T08:04:42.559Z"
   },
   {
    "duration": 10,
    "start_time": "2023-09-12T08:04:42.655Z"
   },
   {
    "duration": 53,
    "start_time": "2023-09-12T08:04:42.667Z"
   },
   {
    "duration": 90,
    "start_time": "2023-09-12T08:04:42.722Z"
   },
   {
    "duration": 346,
    "start_time": "2023-09-12T08:04:42.815Z"
   },
   {
    "duration": 263,
    "start_time": "2023-09-12T08:04:43.163Z"
   },
   {
    "duration": 136,
    "start_time": "2023-09-12T08:04:43.428Z"
   },
   {
    "duration": 58,
    "start_time": "2023-09-12T08:04:43.566Z"
   },
   {
    "duration": 87,
    "start_time": "2023-09-12T08:04:43.626Z"
   },
   {
    "duration": 11,
    "start_time": "2023-09-12T08:04:43.715Z"
   },
   {
    "duration": 65,
    "start_time": "2023-09-12T08:04:43.728Z"
   },
   {
    "duration": 99,
    "start_time": "2023-09-12T08:04:43.799Z"
   },
   {
    "duration": 31,
    "start_time": "2023-09-12T08:04:43.900Z"
   },
   {
    "duration": 78,
    "start_time": "2023-09-12T08:04:43.933Z"
   },
   {
    "duration": 9,
    "start_time": "2023-09-12T08:04:44.013Z"
   },
   {
    "duration": 213,
    "start_time": "2023-09-12T08:04:44.024Z"
   },
   {
    "duration": 5,
    "start_time": "2023-09-12T08:04:44.239Z"
   },
   {
    "duration": 42,
    "start_time": "2023-09-12T08:04:44.247Z"
   },
   {
    "duration": 10,
    "start_time": "2023-09-12T08:04:44.291Z"
   },
   {
    "duration": 15,
    "start_time": "2023-09-12T08:04:44.303Z"
   },
   {
    "duration": 9,
    "start_time": "2023-09-12T08:04:44.319Z"
   },
   {
    "duration": 435,
    "start_time": "2023-09-12T08:04:44.330Z"
   },
   {
    "duration": 430,
    "start_time": "2023-09-12T08:04:44.767Z"
   },
   {
    "duration": 32,
    "start_time": "2023-09-12T08:04:45.200Z"
   },
   {
    "duration": 22,
    "start_time": "2023-09-12T08:04:45.234Z"
   },
   {
    "duration": 33,
    "start_time": "2023-09-12T08:04:45.267Z"
   },
   {
    "duration": 213,
    "start_time": "2023-09-12T08:04:45.302Z"
   },
   {
    "duration": 223,
    "start_time": "2023-09-12T08:04:45.518Z"
   },
   {
    "duration": 183,
    "start_time": "2023-09-12T08:04:45.743Z"
   },
   {
    "duration": 135,
    "start_time": "2023-09-12T08:04:45.929Z"
   },
   {
    "duration": 0,
    "start_time": "2023-09-12T08:04:46.066Z"
   },
   {
    "duration": 0,
    "start_time": "2023-09-12T08:04:46.067Z"
   },
   {
    "duration": 0,
    "start_time": "2023-09-12T08:04:46.069Z"
   },
   {
    "duration": 0,
    "start_time": "2023-09-12T08:04:46.070Z"
   },
   {
    "duration": 0,
    "start_time": "2023-09-12T08:04:46.071Z"
   },
   {
    "duration": 0,
    "start_time": "2023-09-12T08:04:46.073Z"
   },
   {
    "duration": 0,
    "start_time": "2023-09-12T08:04:46.074Z"
   },
   {
    "duration": 0,
    "start_time": "2023-09-12T08:04:46.075Z"
   },
   {
    "duration": 0,
    "start_time": "2023-09-12T08:04:46.076Z"
   },
   {
    "duration": 0,
    "start_time": "2023-09-12T08:04:46.078Z"
   },
   {
    "duration": 0,
    "start_time": "2023-09-12T08:04:46.079Z"
   },
   {
    "duration": 4,
    "start_time": "2023-09-12T08:07:36.607Z"
   },
   {
    "duration": 262,
    "start_time": "2023-09-12T08:07:44.635Z"
   },
   {
    "duration": 262,
    "start_time": "2023-09-12T08:08:38.468Z"
   },
   {
    "duration": 5,
    "start_time": "2023-09-12T08:10:04.989Z"
   },
   {
    "duration": 271,
    "start_time": "2023-09-12T08:10:12.320Z"
   },
   {
    "duration": 4,
    "start_time": "2023-09-12T08:10:48.067Z"
   },
   {
    "duration": 1009,
    "start_time": "2023-09-12T08:10:51.094Z"
   },
   {
    "duration": 12,
    "start_time": "2023-09-12T08:11:48.780Z"
   },
   {
    "duration": 3,
    "start_time": "2023-09-12T08:19:25.487Z"
   },
   {
    "duration": 11,
    "start_time": "2023-09-12T08:19:33.723Z"
   },
   {
    "duration": 86,
    "start_time": "2023-09-12T08:19:45.645Z"
   },
   {
    "duration": 51,
    "start_time": "2023-09-12T08:20:09.775Z"
   },
   {
    "duration": 10,
    "start_time": "2023-09-12T08:21:19.958Z"
   },
   {
    "duration": 23,
    "start_time": "2023-09-12T08:21:27.099Z"
   },
   {
    "duration": 11,
    "start_time": "2023-09-12T08:22:15.959Z"
   },
   {
    "duration": 67,
    "start_time": "2023-09-12T08:22:22.918Z"
   },
   {
    "duration": 461,
    "start_time": "2023-09-12T08:22:38.895Z"
   },
   {
    "duration": 291,
    "start_time": "2023-09-12T08:23:45.547Z"
   },
   {
    "duration": 4,
    "start_time": "2023-09-12T08:33:01.689Z"
   },
   {
    "duration": 4,
    "start_time": "2023-09-12T08:33:06.511Z"
   },
   {
    "duration": 9,
    "start_time": "2023-09-12T08:33:13.959Z"
   },
   {
    "duration": 223,
    "start_time": "2023-09-12T08:33:21.127Z"
   },
   {
    "duration": 4,
    "start_time": "2023-09-12T08:34:14.019Z"
   },
   {
    "duration": 246,
    "start_time": "2023-09-12T08:34:26.550Z"
   },
   {
    "duration": 862,
    "start_time": "2023-09-12T08:35:51.170Z"
   },
   {
    "duration": 38,
    "start_time": "2023-09-12T08:45:30.124Z"
   },
   {
    "duration": 51,
    "start_time": "2023-09-12T08:45:43.730Z"
   },
   {
    "duration": 16,
    "start_time": "2023-09-12T08:45:50.803Z"
   },
   {
    "duration": 478,
    "start_time": "2023-09-12T08:45:57.508Z"
   },
   {
    "duration": 8,
    "start_time": "2023-09-12T08:46:05.536Z"
   },
   {
    "duration": 38,
    "start_time": "2023-09-12T08:46:51.629Z"
   },
   {
    "duration": 3,
    "start_time": "2023-09-12T08:47:11.660Z"
   },
   {
    "duration": 15,
    "start_time": "2023-09-12T08:47:11.666Z"
   },
   {
    "duration": 337,
    "start_time": "2023-09-12T08:47:11.682Z"
   },
   {
    "duration": 10,
    "start_time": "2023-09-12T08:47:12.020Z"
   },
   {
    "duration": 42,
    "start_time": "2023-09-12T08:47:12.032Z"
   },
   {
    "duration": 44,
    "start_time": "2023-09-12T08:47:12.076Z"
   },
   {
    "duration": 73,
    "start_time": "2023-09-12T08:47:12.122Z"
   },
   {
    "duration": 37,
    "start_time": "2023-09-12T08:47:12.197Z"
   },
   {
    "duration": 34,
    "start_time": "2023-09-12T08:47:12.236Z"
   },
   {
    "duration": 78,
    "start_time": "2023-09-12T08:47:12.272Z"
   },
   {
    "duration": 9,
    "start_time": "2023-09-12T08:47:12.353Z"
   },
   {
    "duration": 44,
    "start_time": "2023-09-12T08:47:12.363Z"
   },
   {
    "duration": 104,
    "start_time": "2023-09-12T08:47:12.410Z"
   },
   {
    "duration": 46,
    "start_time": "2023-09-12T08:47:12.516Z"
   },
   {
    "duration": 20,
    "start_time": "2023-09-12T08:47:12.563Z"
   },
   {
    "duration": 44,
    "start_time": "2023-09-12T08:47:12.585Z"
   },
   {
    "duration": 40,
    "start_time": "2023-09-12T08:47:12.630Z"
   },
   {
    "duration": 106,
    "start_time": "2023-09-12T08:47:12.672Z"
   },
   {
    "duration": 4,
    "start_time": "2023-09-12T08:47:12.780Z"
   },
   {
    "duration": 56,
    "start_time": "2023-09-12T08:47:12.785Z"
   },
   {
    "duration": 87,
    "start_time": "2023-09-12T08:47:12.842Z"
   },
   {
    "duration": 340,
    "start_time": "2023-09-12T08:47:12.931Z"
   },
   {
    "duration": 268,
    "start_time": "2023-09-12T08:47:13.272Z"
   },
   {
    "duration": 127,
    "start_time": "2023-09-12T08:47:13.541Z"
   },
   {
    "duration": 36,
    "start_time": "2023-09-12T08:47:13.670Z"
   },
   {
    "duration": 89,
    "start_time": "2023-09-12T08:47:13.708Z"
   },
   {
    "duration": 11,
    "start_time": "2023-09-12T08:47:13.799Z"
   },
   {
    "duration": 52,
    "start_time": "2023-09-12T08:47:13.812Z"
   },
   {
    "duration": 99,
    "start_time": "2023-09-12T08:47:13.866Z"
   },
   {
    "duration": 3,
    "start_time": "2023-09-12T08:47:13.967Z"
   },
   {
    "duration": 87,
    "start_time": "2023-09-12T08:47:13.972Z"
   },
   {
    "duration": 41,
    "start_time": "2023-09-12T08:47:14.062Z"
   },
   {
    "duration": 12,
    "start_time": "2023-09-12T08:47:14.105Z"
   },
   {
    "duration": 14,
    "start_time": "2023-09-12T08:47:14.119Z"
   },
   {
    "duration": 23,
    "start_time": "2023-09-12T08:47:14.136Z"
   },
   {
    "duration": 16,
    "start_time": "2023-09-12T08:47:14.162Z"
   },
   {
    "duration": 12,
    "start_time": "2023-09-12T08:47:14.182Z"
   },
   {
    "duration": 493,
    "start_time": "2023-09-12T08:47:14.196Z"
   },
   {
    "duration": 349,
    "start_time": "2023-09-12T08:47:14.690Z"
   },
   {
    "duration": 6,
    "start_time": "2023-09-12T08:47:15.047Z"
   },
   {
    "duration": 1126,
    "start_time": "2023-09-12T08:47:15.055Z"
   },
   {
    "duration": 8,
    "start_time": "2023-09-12T08:47:16.183Z"
   },
   {
    "duration": 42,
    "start_time": "2023-09-12T08:47:16.193Z"
   },
   {
    "duration": 5,
    "start_time": "2023-09-12T08:47:16.236Z"
   },
   {
    "duration": 38,
    "start_time": "2023-09-12T08:47:16.243Z"
   },
   {
    "duration": 177,
    "start_time": "2023-09-12T08:47:16.283Z"
   },
   {
    "duration": 173,
    "start_time": "2023-09-12T08:47:16.462Z"
   },
   {
    "duration": 179,
    "start_time": "2023-09-12T08:47:16.647Z"
   },
   {
    "duration": 36,
    "start_time": "2023-09-12T08:47:16.827Z"
   },
   {
    "duration": 55,
    "start_time": "2023-09-12T08:47:16.865Z"
   },
   {
    "duration": 314,
    "start_time": "2023-09-12T08:47:16.922Z"
   },
   {
    "duration": 10,
    "start_time": "2023-09-12T08:47:17.237Z"
   },
   {
    "duration": 261,
    "start_time": "2023-09-12T08:47:17.248Z"
   },
   {
    "duration": 989,
    "start_time": "2023-09-12T08:47:17.510Z"
   },
   {
    "duration": 31,
    "start_time": "2023-09-12T08:47:18.502Z"
   },
   {
    "duration": 59,
    "start_time": "2023-09-12T08:47:18.535Z"
   },
   {
    "duration": 16,
    "start_time": "2023-09-12T08:47:18.596Z"
   },
   {
    "duration": 394,
    "start_time": "2023-09-12T08:47:18.613Z"
   },
   {
    "duration": 8,
    "start_time": "2023-09-12T08:47:19.009Z"
   },
   {
    "duration": 42,
    "start_time": "2023-09-12T08:47:19.019Z"
   },
   {
    "duration": 0,
    "start_time": "2023-09-12T08:47:19.063Z"
   },
   {
    "duration": 0,
    "start_time": "2023-09-12T08:47:19.065Z"
   },
   {
    "duration": 24,
    "start_time": "2023-09-12T08:48:16.217Z"
   },
   {
    "duration": 35,
    "start_time": "2023-09-12T08:53:04.501Z"
   },
   {
    "duration": 4,
    "start_time": "2023-09-12T08:53:22.890Z"
   },
   {
    "duration": 41,
    "start_time": "2023-09-12T08:53:22.897Z"
   },
   {
    "duration": 394,
    "start_time": "2023-09-12T08:53:22.940Z"
   },
   {
    "duration": 10,
    "start_time": "2023-09-12T08:53:23.336Z"
   },
   {
    "duration": 29,
    "start_time": "2023-09-12T08:53:23.349Z"
   },
   {
    "duration": 18,
    "start_time": "2023-09-12T08:53:23.379Z"
   },
   {
    "duration": 63,
    "start_time": "2023-09-12T08:53:23.399Z"
   },
   {
    "duration": 14,
    "start_time": "2023-09-12T08:53:23.465Z"
   },
   {
    "duration": 21,
    "start_time": "2023-09-12T08:53:23.480Z"
   },
   {
    "duration": 105,
    "start_time": "2023-09-12T08:53:23.503Z"
   },
   {
    "duration": 6,
    "start_time": "2023-09-12T08:53:23.610Z"
   },
   {
    "duration": 28,
    "start_time": "2023-09-12T08:53:23.617Z"
   },
   {
    "duration": 103,
    "start_time": "2023-09-12T08:53:23.652Z"
   },
   {
    "duration": 39,
    "start_time": "2023-09-12T08:53:23.758Z"
   },
   {
    "duration": 29,
    "start_time": "2023-09-12T08:53:23.799Z"
   },
   {
    "duration": 46,
    "start_time": "2023-09-12T08:53:23.830Z"
   },
   {
    "duration": 30,
    "start_time": "2023-09-12T08:53:23.878Z"
   },
   {
    "duration": 100,
    "start_time": "2023-09-12T08:53:23.910Z"
   },
   {
    "duration": 4,
    "start_time": "2023-09-12T08:53:24.012Z"
   },
   {
    "duration": 73,
    "start_time": "2023-09-12T08:53:24.018Z"
   },
   {
    "duration": 115,
    "start_time": "2023-09-12T08:53:24.093Z"
   },
   {
    "duration": 316,
    "start_time": "2023-09-12T08:53:24.209Z"
   },
   {
    "duration": 277,
    "start_time": "2023-09-12T08:53:24.527Z"
   },
   {
    "duration": 122,
    "start_time": "2023-09-12T08:53:24.806Z"
   },
   {
    "duration": 61,
    "start_time": "2023-09-12T08:53:24.930Z"
   },
   {
    "duration": 82,
    "start_time": "2023-09-12T08:53:24.992Z"
   },
   {
    "duration": 11,
    "start_time": "2023-09-12T08:53:25.076Z"
   },
   {
    "duration": 46,
    "start_time": "2023-09-12T08:53:25.089Z"
   },
   {
    "duration": 118,
    "start_time": "2023-09-12T08:53:25.137Z"
   },
   {
    "duration": 4,
    "start_time": "2023-09-12T08:53:25.262Z"
   },
   {
    "duration": 125,
    "start_time": "2023-09-12T08:53:25.268Z"
   },
   {
    "duration": 64,
    "start_time": "2023-09-12T08:53:25.396Z"
   },
   {
    "duration": 7,
    "start_time": "2023-09-12T08:53:25.465Z"
   },
   {
    "duration": 84,
    "start_time": "2023-09-12T08:53:25.474Z"
   },
   {
    "duration": 74,
    "start_time": "2023-09-12T08:53:25.563Z"
   },
   {
    "duration": 37,
    "start_time": "2023-09-12T08:53:25.639Z"
   },
   {
    "duration": 35,
    "start_time": "2023-09-12T08:53:25.681Z"
   },
   {
    "duration": 452,
    "start_time": "2023-09-12T08:53:25.718Z"
   },
   {
    "duration": 395,
    "start_time": "2023-09-12T08:53:26.173Z"
   },
   {
    "duration": 4,
    "start_time": "2023-09-12T08:53:26.570Z"
   },
   {
    "duration": 1128,
    "start_time": "2023-09-12T08:53:26.576Z"
   },
   {
    "duration": 11,
    "start_time": "2023-09-12T08:53:27.705Z"
   },
   {
    "duration": 48,
    "start_time": "2023-09-12T08:53:27.718Z"
   },
   {
    "duration": 23,
    "start_time": "2023-09-12T08:53:27.767Z"
   },
   {
    "duration": 91,
    "start_time": "2023-09-12T08:53:27.792Z"
   },
   {
    "duration": 297,
    "start_time": "2023-09-12T08:53:27.885Z"
   },
   {
    "duration": 181,
    "start_time": "2023-09-12T08:53:28.185Z"
   },
   {
    "duration": 191,
    "start_time": "2023-09-12T08:53:28.368Z"
   },
   {
    "duration": 23,
    "start_time": "2023-09-12T08:53:28.562Z"
   },
   {
    "duration": 78,
    "start_time": "2023-09-12T08:53:28.587Z"
   },
   {
    "duration": 314,
    "start_time": "2023-09-12T08:53:28.667Z"
   },
   {
    "duration": 4,
    "start_time": "2023-09-12T08:53:28.983Z"
   },
   {
    "duration": 348,
    "start_time": "2023-09-12T08:53:28.989Z"
   },
   {
    "duration": 1012,
    "start_time": "2023-09-12T08:53:29.339Z"
   },
   {
    "duration": 43,
    "start_time": "2023-09-12T08:53:30.354Z"
   },
   {
    "duration": 102,
    "start_time": "2023-09-12T08:53:30.399Z"
   },
   {
    "duration": 67,
    "start_time": "2023-09-12T08:53:30.504Z"
   },
   {
    "duration": 524,
    "start_time": "2023-09-12T08:53:30.573Z"
   },
   {
    "duration": 7,
    "start_time": "2023-09-12T08:53:31.100Z"
   },
   {
    "duration": 80,
    "start_time": "2023-09-12T08:53:31.108Z"
   },
   {
    "duration": 0,
    "start_time": "2023-09-12T08:53:31.190Z"
   },
   {
    "duration": 0,
    "start_time": "2023-09-12T08:53:31.191Z"
   },
   {
    "duration": 8,
    "start_time": "2023-09-12T08:53:59.761Z"
   },
   {
    "duration": 36,
    "start_time": "2023-09-12T08:56:53.445Z"
   },
   {
    "duration": 29,
    "start_time": "2023-09-12T09:01:16.528Z"
   },
   {
    "duration": 4,
    "start_time": "2023-09-12T09:09:19.875Z"
   },
   {
    "duration": 6,
    "start_time": "2023-09-12T09:09:26.505Z"
   },
   {
    "duration": 8,
    "start_time": "2023-09-12T09:09:50.164Z"
   },
   {
    "duration": 6,
    "start_time": "2023-09-12T09:09:53.102Z"
   },
   {
    "duration": 6,
    "start_time": "2023-09-12T09:10:28.617Z"
   },
   {
    "duration": 22,
    "start_time": "2023-09-12T09:10:53.158Z"
   },
   {
    "duration": 7,
    "start_time": "2023-09-12T09:11:00.159Z"
   },
   {
    "duration": 118,
    "start_time": "2023-09-12T09:11:51.721Z"
   },
   {
    "duration": 10,
    "start_time": "2023-09-12T09:12:21.026Z"
   },
   {
    "duration": 10,
    "start_time": "2023-09-12T09:21:40.219Z"
   },
   {
    "duration": 1620,
    "start_time": "2023-09-12T18:02:14.686Z"
   },
   {
    "duration": 3,
    "start_time": "2023-09-12T18:02:16.309Z"
   },
   {
    "duration": 703,
    "start_time": "2023-09-12T18:02:16.316Z"
   },
   {
    "duration": 15,
    "start_time": "2023-09-12T18:02:17.022Z"
   },
   {
    "duration": 8,
    "start_time": "2023-09-12T18:02:17.040Z"
   },
   {
    "duration": 17,
    "start_time": "2023-09-12T18:02:17.050Z"
   },
   {
    "duration": 45,
    "start_time": "2023-09-12T18:02:17.069Z"
   },
   {
    "duration": 11,
    "start_time": "2023-09-12T18:02:17.117Z"
   },
   {
    "duration": 23,
    "start_time": "2023-09-12T18:02:17.130Z"
   },
   {
    "duration": 99,
    "start_time": "2023-09-12T18:02:17.157Z"
   },
   {
    "duration": 6,
    "start_time": "2023-09-12T18:02:17.258Z"
   },
   {
    "duration": 15,
    "start_time": "2023-09-12T18:02:17.266Z"
   },
   {
    "duration": 126,
    "start_time": "2023-09-12T18:02:17.283Z"
   },
   {
    "duration": 38,
    "start_time": "2023-09-12T18:02:17.411Z"
   },
   {
    "duration": 21,
    "start_time": "2023-09-12T18:02:17.451Z"
   },
   {
    "duration": 56,
    "start_time": "2023-09-12T18:02:17.475Z"
   },
   {
    "duration": 37,
    "start_time": "2023-09-12T18:02:17.534Z"
   },
   {
    "duration": 88,
    "start_time": "2023-09-12T18:02:17.573Z"
   },
   {
    "duration": 3,
    "start_time": "2023-09-12T18:02:17.663Z"
   },
   {
    "duration": 57,
    "start_time": "2023-09-12T18:02:17.668Z"
   },
   {
    "duration": 112,
    "start_time": "2023-09-12T18:02:17.728Z"
   },
   {
    "duration": 306,
    "start_time": "2023-09-12T18:02:17.842Z"
   },
   {
    "duration": 238,
    "start_time": "2023-09-12T18:02:18.150Z"
   },
   {
    "duration": 109,
    "start_time": "2023-09-12T18:02:18.390Z"
   },
   {
    "duration": 67,
    "start_time": "2023-09-12T18:02:18.501Z"
   },
   {
    "duration": 89,
    "start_time": "2023-09-12T18:02:18.570Z"
   },
   {
    "duration": 11,
    "start_time": "2023-09-12T18:02:18.661Z"
   },
   {
    "duration": 50,
    "start_time": "2023-09-12T18:02:18.676Z"
   },
   {
    "duration": 98,
    "start_time": "2023-09-12T18:02:18.728Z"
   },
   {
    "duration": 3,
    "start_time": "2023-09-12T18:02:18.827Z"
   },
   {
    "duration": 91,
    "start_time": "2023-09-12T18:02:18.832Z"
   },
   {
    "duration": 36,
    "start_time": "2023-09-12T18:02:18.925Z"
   },
   {
    "duration": 6,
    "start_time": "2023-09-12T18:02:18.963Z"
   },
   {
    "duration": 7,
    "start_time": "2023-09-12T18:02:18.970Z"
   },
   {
    "duration": 35,
    "start_time": "2023-09-12T18:02:18.978Z"
   },
   {
    "duration": 6,
    "start_time": "2023-09-12T18:02:19.014Z"
   },
   {
    "duration": 5,
    "start_time": "2023-09-12T18:02:19.021Z"
   },
   {
    "duration": 395,
    "start_time": "2023-09-12T18:02:19.028Z"
   },
   {
    "duration": 360,
    "start_time": "2023-09-12T18:02:19.425Z"
   },
   {
    "duration": 5,
    "start_time": "2023-09-12T18:02:19.787Z"
   },
   {
    "duration": 1180,
    "start_time": "2023-09-12T18:02:19.794Z"
   },
   {
    "duration": 13,
    "start_time": "2023-09-12T18:02:20.976Z"
   },
   {
    "duration": 56,
    "start_time": "2023-09-12T18:02:20.991Z"
   },
   {
    "duration": 19,
    "start_time": "2023-09-12T18:02:21.050Z"
   },
   {
    "duration": 48,
    "start_time": "2023-09-12T18:02:21.072Z"
   },
   {
    "duration": 177,
    "start_time": "2023-09-12T18:02:21.122Z"
   },
   {
    "duration": 177,
    "start_time": "2023-09-12T18:02:21.301Z"
   },
   {
    "duration": 198,
    "start_time": "2023-09-12T18:02:21.480Z"
   },
   {
    "duration": 31,
    "start_time": "2023-09-12T18:02:21.680Z"
   },
   {
    "duration": 102,
    "start_time": "2023-09-12T18:02:21.713Z"
   },
   {
    "duration": 424,
    "start_time": "2023-09-12T18:02:21.817Z"
   },
   {
    "duration": 6,
    "start_time": "2023-09-12T18:02:22.243Z"
   },
   {
    "duration": 358,
    "start_time": "2023-09-12T18:02:22.254Z"
   },
   {
    "duration": 1034,
    "start_time": "2023-09-12T18:02:22.614Z"
   },
   {
    "duration": 41,
    "start_time": "2023-09-12T18:02:23.650Z"
   },
   {
    "duration": 75,
    "start_time": "2023-09-12T18:02:23.694Z"
   },
   {
    "duration": 37,
    "start_time": "2023-09-12T18:02:23.771Z"
   },
   {
    "duration": 438,
    "start_time": "2023-09-12T18:02:23.810Z"
   },
   {
    "duration": 7,
    "start_time": "2023-09-12T18:02:24.250Z"
   },
   {
    "duration": 9,
    "start_time": "2023-09-12T18:02:24.259Z"
   },
   {
    "duration": 7,
    "start_time": "2023-09-12T18:02:24.270Z"
   },
   {
    "duration": 47,
    "start_time": "2023-09-12T18:02:24.279Z"
   },
   {
    "duration": 8,
    "start_time": "2023-09-12T18:02:24.328Z"
   },
   {
    "duration": 18,
    "start_time": "2023-09-12T18:02:24.338Z"
   },
   {
    "duration": 1487,
    "start_time": "2023-09-13T12:11:53.919Z"
   },
   {
    "duration": 4,
    "start_time": "2023-09-13T12:11:55.408Z"
   },
   {
    "duration": 836,
    "start_time": "2023-09-13T12:11:55.413Z"
   },
   {
    "duration": 14,
    "start_time": "2023-09-13T12:11:56.250Z"
   },
   {
    "duration": 25,
    "start_time": "2023-09-13T12:11:56.266Z"
   },
   {
    "duration": 22,
    "start_time": "2023-09-13T12:11:56.293Z"
   },
   {
    "duration": 53,
    "start_time": "2023-09-13T12:11:56.317Z"
   },
   {
    "duration": 51,
    "start_time": "2023-09-13T12:11:56.372Z"
   },
   {
    "duration": 28,
    "start_time": "2023-09-13T12:11:56.425Z"
   },
   {
    "duration": 108,
    "start_time": "2023-09-13T12:11:56.455Z"
   },
   {
    "duration": 6,
    "start_time": "2023-09-13T12:11:56.565Z"
   },
   {
    "duration": 34,
    "start_time": "2023-09-13T12:11:56.572Z"
   },
   {
    "duration": 100,
    "start_time": "2023-09-13T12:11:56.608Z"
   },
   {
    "duration": 37,
    "start_time": "2023-09-13T12:11:56.711Z"
   },
   {
    "duration": 19,
    "start_time": "2023-09-13T12:11:56.749Z"
   },
   {
    "duration": 38,
    "start_time": "2023-09-13T12:11:56.770Z"
   },
   {
    "duration": 25,
    "start_time": "2023-09-13T12:11:56.810Z"
   },
   {
    "duration": 100,
    "start_time": "2023-09-13T12:11:56.836Z"
   },
   {
    "duration": 5,
    "start_time": "2023-09-13T12:11:56.938Z"
   },
   {
    "duration": 68,
    "start_time": "2023-09-13T12:11:56.945Z"
   },
   {
    "duration": 81,
    "start_time": "2023-09-13T12:11:57.015Z"
   },
   {
    "duration": 294,
    "start_time": "2023-09-13T12:11:57.098Z"
   },
   {
    "duration": 216,
    "start_time": "2023-09-13T12:11:57.393Z"
   },
   {
    "duration": 107,
    "start_time": "2023-09-13T12:11:57.610Z"
   },
   {
    "duration": 59,
    "start_time": "2023-09-13T12:11:57.724Z"
   },
   {
    "duration": 81,
    "start_time": "2023-09-13T12:11:57.785Z"
   },
   {
    "duration": 10,
    "start_time": "2023-09-13T12:11:57.867Z"
   },
   {
    "duration": 57,
    "start_time": "2023-09-13T12:11:57.878Z"
   },
   {
    "duration": 94,
    "start_time": "2023-09-13T12:11:57.937Z"
   },
   {
    "duration": 3,
    "start_time": "2023-09-13T12:11:58.033Z"
   },
   {
    "duration": 103,
    "start_time": "2023-09-13T12:11:58.037Z"
   },
   {
    "duration": 33,
    "start_time": "2023-09-13T12:11:58.142Z"
   },
   {
    "duration": 5,
    "start_time": "2023-09-13T12:11:58.176Z"
   },
   {
    "duration": 16,
    "start_time": "2023-09-13T12:11:58.183Z"
   },
   {
    "duration": 27,
    "start_time": "2023-09-13T12:11:58.200Z"
   },
   {
    "duration": 27,
    "start_time": "2023-09-13T12:11:58.229Z"
   },
   {
    "duration": 8,
    "start_time": "2023-09-13T12:11:58.258Z"
   },
   {
    "duration": 365,
    "start_time": "2023-09-13T12:11:58.268Z"
   },
   {
    "duration": 310,
    "start_time": "2023-09-13T12:11:58.635Z"
   },
   {
    "duration": 4,
    "start_time": "2023-09-13T12:11:58.947Z"
   },
   {
    "duration": 1031,
    "start_time": "2023-09-13T12:11:58.955Z"
   },
   {
    "duration": 9,
    "start_time": "2023-09-13T12:11:59.987Z"
   },
   {
    "duration": 53,
    "start_time": "2023-09-13T12:11:59.999Z"
   },
   {
    "duration": 102,
    "start_time": "2023-09-13T12:12:00.054Z"
   },
   {
    "duration": 143,
    "start_time": "2023-09-13T12:12:00.158Z"
   },
   {
    "duration": 224,
    "start_time": "2023-09-13T12:12:00.303Z"
   },
   {
    "duration": 149,
    "start_time": "2023-09-13T12:12:00.529Z"
   },
   {
    "duration": 250,
    "start_time": "2023-09-13T12:12:00.680Z"
   },
   {
    "duration": 55,
    "start_time": "2023-09-13T12:12:00.933Z"
   },
   {
    "duration": 248,
    "start_time": "2023-09-13T12:12:00.990Z"
   },
   {
    "duration": 515,
    "start_time": "2023-09-13T12:12:01.240Z"
   },
   {
    "duration": 3,
    "start_time": "2023-09-13T12:12:01.757Z"
   },
   {
    "duration": 480,
    "start_time": "2023-09-13T12:12:01.762Z"
   },
   {
    "duration": 898,
    "start_time": "2023-09-13T12:12:02.244Z"
   },
   {
    "duration": 107,
    "start_time": "2023-09-13T12:12:03.143Z"
   },
   {
    "duration": 0,
    "start_time": "2023-09-13T12:12:03.251Z"
   },
   {
    "duration": 0,
    "start_time": "2023-09-13T12:12:03.252Z"
   },
   {
    "duration": 0,
    "start_time": "2023-09-13T12:12:03.254Z"
   },
   {
    "duration": 0,
    "start_time": "2023-09-13T12:12:03.255Z"
   },
   {
    "duration": 0,
    "start_time": "2023-09-13T12:12:03.257Z"
   },
   {
    "duration": 0,
    "start_time": "2023-09-13T12:12:03.258Z"
   },
   {
    "duration": 0,
    "start_time": "2023-09-13T12:12:03.259Z"
   },
   {
    "duration": 0,
    "start_time": "2023-09-13T12:12:03.260Z"
   },
   {
    "duration": 0,
    "start_time": "2023-09-13T12:12:03.261Z"
   },
   {
    "duration": 0,
    "start_time": "2023-09-13T12:12:03.262Z"
   },
   {
    "duration": 10,
    "start_time": "2023-09-13T12:13:47.543Z"
   },
   {
    "duration": 9,
    "start_time": "2023-09-13T12:14:21.031Z"
   },
   {
    "duration": 10,
    "start_time": "2023-09-13T12:16:00.793Z"
   },
   {
    "duration": 114,
    "start_time": "2023-09-13T12:17:48.642Z"
   },
   {
    "duration": 5,
    "start_time": "2023-09-13T12:19:05.727Z"
   },
   {
    "duration": 5846,
    "start_time": "2023-09-13T12:19:33.535Z"
   },
   {
    "duration": 5,
    "start_time": "2023-09-13T12:34:59.028Z"
   },
   {
    "duration": 5649,
    "start_time": "2023-09-13T12:35:01.861Z"
   },
   {
    "duration": 4,
    "start_time": "2023-09-13T13:16:40.368Z"
   },
   {
    "duration": 15,
    "start_time": "2023-09-13T13:16:40.375Z"
   },
   {
    "duration": 303,
    "start_time": "2023-09-13T13:16:40.393Z"
   },
   {
    "duration": 9,
    "start_time": "2023-09-13T13:16:40.698Z"
   },
   {
    "duration": 22,
    "start_time": "2023-09-13T13:16:40.710Z"
   },
   {
    "duration": 9,
    "start_time": "2023-09-13T13:16:40.734Z"
   },
   {
    "duration": 40,
    "start_time": "2023-09-13T13:16:40.745Z"
   },
   {
    "duration": 61,
    "start_time": "2023-09-13T13:16:40.786Z"
   },
   {
    "duration": 16,
    "start_time": "2023-09-13T13:16:40.850Z"
   },
   {
    "duration": 118,
    "start_time": "2023-09-13T13:16:40.868Z"
   },
   {
    "duration": 6,
    "start_time": "2023-09-13T13:16:40.990Z"
   },
   {
    "duration": 13,
    "start_time": "2023-09-13T13:16:40.998Z"
   },
   {
    "duration": 82,
    "start_time": "2023-09-13T13:16:41.025Z"
   },
   {
    "duration": 51,
    "start_time": "2023-09-13T13:16:41.110Z"
   },
   {
    "duration": 29,
    "start_time": "2023-09-13T13:16:41.163Z"
   },
   {
    "duration": 46,
    "start_time": "2023-09-13T13:16:41.194Z"
   },
   {
    "duration": 21,
    "start_time": "2023-09-13T13:16:41.242Z"
   },
   {
    "duration": 83,
    "start_time": "2023-09-13T13:16:41.265Z"
   },
   {
    "duration": 4,
    "start_time": "2023-09-13T13:16:41.349Z"
   },
   {
    "duration": 42,
    "start_time": "2023-09-13T13:16:41.354Z"
   },
   {
    "duration": 80,
    "start_time": "2023-09-13T13:16:41.397Z"
   },
   {
    "duration": 381,
    "start_time": "2023-09-13T13:16:41.479Z"
   },
   {
    "duration": 209,
    "start_time": "2023-09-13T13:16:41.861Z"
   },
   {
    "duration": 121,
    "start_time": "2023-09-13T13:16:42.072Z"
   },
   {
    "duration": 53,
    "start_time": "2023-09-13T13:16:42.195Z"
   },
   {
    "duration": 75,
    "start_time": "2023-09-13T13:16:42.250Z"
   },
   {
    "duration": 11,
    "start_time": "2023-09-13T13:16:42.326Z"
   },
   {
    "duration": 33,
    "start_time": "2023-09-13T13:16:42.338Z"
   },
   {
    "duration": 91,
    "start_time": "2023-09-13T13:16:42.375Z"
   },
   {
    "duration": 3,
    "start_time": "2023-09-13T13:16:42.467Z"
   },
   {
    "duration": 70,
    "start_time": "2023-09-13T13:16:42.472Z"
   },
   {
    "duration": 33,
    "start_time": "2023-09-13T13:16:42.544Z"
   },
   {
    "duration": 6,
    "start_time": "2023-09-13T13:16:42.579Z"
   },
   {
    "duration": 7,
    "start_time": "2023-09-13T13:16:42.586Z"
   },
   {
    "duration": 32,
    "start_time": "2023-09-13T13:16:42.594Z"
   },
   {
    "duration": 6,
    "start_time": "2023-09-13T13:16:42.627Z"
   },
   {
    "duration": 5,
    "start_time": "2023-09-13T13:16:42.634Z"
   },
   {
    "duration": 418,
    "start_time": "2023-09-13T13:16:42.640Z"
   },
   {
    "duration": 372,
    "start_time": "2023-09-13T13:16:43.060Z"
   },
   {
    "duration": 4,
    "start_time": "2023-09-13T13:16:43.434Z"
   },
   {
    "duration": 973,
    "start_time": "2023-09-13T13:16:43.441Z"
   },
   {
    "duration": 14,
    "start_time": "2023-09-13T13:16:44.416Z"
   },
   {
    "duration": 5763,
    "start_time": "2023-09-13T13:16:44.431Z"
   },
   {
    "duration": 15,
    "start_time": "2023-09-13T13:16:50.196Z"
   },
   {
    "duration": 5,
    "start_time": "2023-09-13T13:16:50.225Z"
   },
   {
    "duration": 45,
    "start_time": "2023-09-13T13:16:50.232Z"
   },
   {
    "duration": 191,
    "start_time": "2023-09-13T13:16:50.279Z"
   },
   {
    "duration": 161,
    "start_time": "2023-09-13T13:16:50.472Z"
   },
   {
    "duration": 187,
    "start_time": "2023-09-13T13:16:50.635Z"
   },
   {
    "duration": 21,
    "start_time": "2023-09-13T13:16:50.824Z"
   },
   {
    "duration": 89,
    "start_time": "2023-09-13T13:16:50.847Z"
   },
   {
    "duration": 365,
    "start_time": "2023-09-13T13:16:50.938Z"
   },
   {
    "duration": 6,
    "start_time": "2023-09-13T13:16:51.305Z"
   },
   {
    "duration": 336,
    "start_time": "2023-09-13T13:16:51.313Z"
   },
   {
    "duration": 1000,
    "start_time": "2023-09-13T13:16:51.651Z"
   },
   {
    "duration": 5,
    "start_time": "2023-09-13T13:16:52.653Z"
   },
   {
    "duration": 5985,
    "start_time": "2023-09-13T13:16:52.660Z"
   },
   {
    "duration": 28,
    "start_time": "2023-09-13T13:16:58.647Z"
   },
   {
    "duration": 56,
    "start_time": "2023-09-13T13:16:58.676Z"
   },
   {
    "duration": 14,
    "start_time": "2023-09-13T13:16:58.734Z"
   },
   {
    "duration": 358,
    "start_time": "2023-09-13T13:16:58.750Z"
   },
   {
    "duration": 8,
    "start_time": "2023-09-13T13:16:59.109Z"
   },
   {
    "duration": 6,
    "start_time": "2023-09-13T13:16:59.123Z"
   },
   {
    "duration": 8,
    "start_time": "2023-09-13T13:16:59.130Z"
   },
   {
    "duration": 25,
    "start_time": "2023-09-13T13:16:59.139Z"
   },
   {
    "duration": 15,
    "start_time": "2023-09-13T13:16:59.166Z"
   },
   {
    "duration": 20,
    "start_time": "2023-09-13T13:16:59.183Z"
   },
   {
    "duration": 55,
    "start_time": "2023-09-13T19:26:52.872Z"
   },
   {
    "duration": 1595,
    "start_time": "2023-09-13T19:26:56.320Z"
   },
   {
    "duration": 4,
    "start_time": "2023-09-13T19:26:57.917Z"
   },
   {
    "duration": 707,
    "start_time": "2023-09-13T19:26:57.922Z"
   },
   {
    "duration": 15,
    "start_time": "2023-09-13T19:26:58.631Z"
   },
   {
    "duration": 19,
    "start_time": "2023-09-13T19:26:58.648Z"
   },
   {
    "duration": 27,
    "start_time": "2023-09-13T19:26:58.669Z"
   },
   {
    "duration": 43,
    "start_time": "2023-09-13T19:26:58.698Z"
   },
   {
    "duration": 11,
    "start_time": "2023-09-13T19:26:58.743Z"
   },
   {
    "duration": 21,
    "start_time": "2023-09-13T19:26:58.756Z"
   },
   {
    "duration": 86,
    "start_time": "2023-09-13T19:26:58.783Z"
   },
   {
    "duration": 19,
    "start_time": "2023-09-13T19:26:58.870Z"
   },
   {
    "duration": 12,
    "start_time": "2023-09-13T19:26:58.890Z"
   },
   {
    "duration": 113,
    "start_time": "2023-09-13T19:26:58.903Z"
   },
   {
    "duration": 37,
    "start_time": "2023-09-13T19:26:59.018Z"
   },
   {
    "duration": 41,
    "start_time": "2023-09-13T19:26:59.057Z"
   },
   {
    "duration": 30,
    "start_time": "2023-09-13T19:26:59.101Z"
   },
   {
    "duration": 18,
    "start_time": "2023-09-13T19:26:59.133Z"
   },
   {
    "duration": 108,
    "start_time": "2023-09-13T19:26:59.152Z"
   },
   {
    "duration": 23,
    "start_time": "2023-09-13T19:26:59.261Z"
   },
   {
    "duration": 42,
    "start_time": "2023-09-13T19:26:59.288Z"
   },
   {
    "duration": 102,
    "start_time": "2023-09-13T19:26:59.331Z"
   },
   {
    "duration": 315,
    "start_time": "2023-09-13T19:26:59.434Z"
   },
   {
    "duration": 259,
    "start_time": "2023-09-13T19:26:59.751Z"
   },
   {
    "duration": 136,
    "start_time": "2023-09-13T19:27:00.012Z"
   },
   {
    "duration": 66,
    "start_time": "2023-09-13T19:27:00.149Z"
   },
   {
    "duration": 87,
    "start_time": "2023-09-13T19:27:00.217Z"
   },
   {
    "duration": 11,
    "start_time": "2023-09-13T19:27:00.306Z"
   },
   {
    "duration": 50,
    "start_time": "2023-09-13T19:27:00.322Z"
   },
   {
    "duration": 91,
    "start_time": "2023-09-13T19:27:00.374Z"
   },
   {
    "duration": 3,
    "start_time": "2023-09-13T19:27:00.467Z"
   },
   {
    "duration": 88,
    "start_time": "2023-09-13T19:27:00.472Z"
   },
   {
    "duration": 6,
    "start_time": "2023-09-13T19:27:00.562Z"
   },
   {
    "duration": 59,
    "start_time": "2023-09-13T19:27:00.570Z"
   },
   {
    "duration": 17,
    "start_time": "2023-09-13T19:27:00.631Z"
   },
   {
    "duration": 59,
    "start_time": "2023-09-13T19:27:00.650Z"
   },
   {
    "duration": 53,
    "start_time": "2023-09-13T19:27:00.710Z"
   },
   {
    "duration": 41,
    "start_time": "2023-09-13T19:27:00.765Z"
   },
   {
    "duration": 44,
    "start_time": "2023-09-13T19:27:00.808Z"
   },
   {
    "duration": 408,
    "start_time": "2023-09-13T19:27:00.854Z"
   },
   {
    "duration": 340,
    "start_time": "2023-09-13T19:27:01.263Z"
   },
   {
    "duration": 4,
    "start_time": "2023-09-13T19:27:01.605Z"
   },
   {
    "duration": 1175,
    "start_time": "2023-09-13T19:27:01.611Z"
   },
   {
    "duration": 12,
    "start_time": "2023-09-13T19:27:02.792Z"
   },
   {
    "duration": 58,
    "start_time": "2023-09-13T19:27:02.806Z"
   },
   {
    "duration": 30,
    "start_time": "2023-09-13T19:27:02.866Z"
   },
   {
    "duration": 74,
    "start_time": "2023-09-13T19:27:02.898Z"
   },
   {
    "duration": 163,
    "start_time": "2023-09-13T19:27:02.974Z"
   },
   {
    "duration": 164,
    "start_time": "2023-09-13T19:27:03.139Z"
   },
   {
    "duration": 167,
    "start_time": "2023-09-13T19:27:03.305Z"
   },
   {
    "duration": 32,
    "start_time": "2023-09-13T19:27:03.474Z"
   },
   {
    "duration": 59,
    "start_time": "2023-09-13T19:27:03.508Z"
   },
   {
    "duration": 360,
    "start_time": "2023-09-13T19:27:03.583Z"
   },
   {
    "duration": 4,
    "start_time": "2023-09-13T19:27:03.945Z"
   },
   {
    "duration": 260,
    "start_time": "2023-09-13T19:27:03.951Z"
   },
   {
    "duration": 878,
    "start_time": "2023-09-13T19:27:04.213Z"
   },
   {
    "duration": 6,
    "start_time": "2023-09-13T19:27:05.095Z"
   },
   {
    "duration": 6365,
    "start_time": "2023-09-13T19:27:05.102Z"
   },
   {
    "duration": 43,
    "start_time": "2023-09-13T19:27:11.468Z"
   },
   {
    "duration": 36,
    "start_time": "2023-09-13T19:27:11.512Z"
   },
   {
    "duration": 14,
    "start_time": "2023-09-13T19:27:11.550Z"
   },
   {
    "duration": 469,
    "start_time": "2023-09-13T19:27:11.565Z"
   },
   {
    "duration": 7,
    "start_time": "2023-09-13T19:27:12.036Z"
   },
   {
    "duration": 18,
    "start_time": "2023-09-13T19:27:12.045Z"
   },
   {
    "duration": 31,
    "start_time": "2023-09-13T19:27:12.064Z"
   },
   {
    "duration": 25,
    "start_time": "2023-09-13T19:27:12.097Z"
   },
   {
    "duration": 9,
    "start_time": "2023-09-13T19:27:12.124Z"
   },
   {
    "duration": 25,
    "start_time": "2023-09-13T19:27:12.134Z"
   },
   {
    "duration": 7,
    "start_time": "2023-09-13T19:28:17.778Z"
   },
   {
    "duration": 24,
    "start_time": "2023-09-13T19:35:22.765Z"
   },
   {
    "duration": 21,
    "start_time": "2023-09-13T19:37:48.522Z"
   },
   {
    "duration": 22,
    "start_time": "2023-09-13T19:38:09.446Z"
   },
   {
    "duration": 17,
    "start_time": "2023-09-13T19:38:36.144Z"
   },
   {
    "duration": 21,
    "start_time": "2023-09-13T19:39:01.994Z"
   },
   {
    "duration": 19,
    "start_time": "2023-09-13T19:39:31.451Z"
   },
   {
    "duration": 42,
    "start_time": "2023-09-14T04:46:03.351Z"
   },
   {
    "duration": 1383,
    "start_time": "2023-09-14T04:46:10.493Z"
   },
   {
    "duration": 3,
    "start_time": "2023-09-14T04:46:11.878Z"
   },
   {
    "duration": 664,
    "start_time": "2023-09-14T04:46:11.883Z"
   },
   {
    "duration": 11,
    "start_time": "2023-09-14T04:46:12.549Z"
   },
   {
    "duration": 8,
    "start_time": "2023-09-14T04:46:12.562Z"
   },
   {
    "duration": 7,
    "start_time": "2023-09-14T04:46:12.571Z"
   },
   {
    "duration": 34,
    "start_time": "2023-09-14T04:46:12.579Z"
   },
   {
    "duration": 9,
    "start_time": "2023-09-14T04:46:12.614Z"
   },
   {
    "duration": 30,
    "start_time": "2023-09-14T04:46:12.624Z"
   },
   {
    "duration": 72,
    "start_time": "2023-09-14T04:46:12.656Z"
   },
   {
    "duration": 19,
    "start_time": "2023-09-14T04:46:12.730Z"
   },
   {
    "duration": 8,
    "start_time": "2023-09-14T04:46:12.751Z"
   },
   {
    "duration": 86,
    "start_time": "2023-09-14T04:46:12.761Z"
   },
   {
    "duration": 31,
    "start_time": "2023-09-14T04:46:12.851Z"
   },
   {
    "duration": 16,
    "start_time": "2023-09-14T04:46:12.883Z"
   },
   {
    "duration": 21,
    "start_time": "2023-09-14T04:46:12.901Z"
   },
   {
    "duration": 37,
    "start_time": "2023-09-14T04:46:12.923Z"
   },
   {
    "duration": 67,
    "start_time": "2023-09-14T04:46:12.962Z"
   },
   {
    "duration": 19,
    "start_time": "2023-09-14T04:46:13.031Z"
   },
   {
    "duration": 37,
    "start_time": "2023-09-14T04:46:13.051Z"
   },
   {
    "duration": 84,
    "start_time": "2023-09-14T04:46:13.090Z"
   },
   {
    "duration": 252,
    "start_time": "2023-09-14T04:46:13.176Z"
   },
   {
    "duration": 206,
    "start_time": "2023-09-14T04:46:13.430Z"
   },
   {
    "duration": 90,
    "start_time": "2023-09-14T04:46:13.638Z"
   },
   {
    "duration": 61,
    "start_time": "2023-09-14T04:46:13.729Z"
   },
   {
    "duration": 61,
    "start_time": "2023-09-14T04:46:13.791Z"
   },
   {
    "duration": 9,
    "start_time": "2023-09-14T04:46:13.854Z"
   },
   {
    "duration": 50,
    "start_time": "2023-09-14T04:46:13.864Z"
   },
   {
    "duration": 72,
    "start_time": "2023-09-14T04:46:13.915Z"
   },
   {
    "duration": 2,
    "start_time": "2023-09-14T04:46:13.989Z"
   },
   {
    "duration": 93,
    "start_time": "2023-09-14T04:46:13.993Z"
   },
   {
    "duration": 18,
    "start_time": "2023-09-14T04:46:14.087Z"
   },
   {
    "duration": 28,
    "start_time": "2023-09-14T04:46:14.107Z"
   },
   {
    "duration": 27,
    "start_time": "2023-09-14T04:46:14.136Z"
   },
   {
    "duration": 16,
    "start_time": "2023-09-14T04:46:14.165Z"
   },
   {
    "duration": 15,
    "start_time": "2023-09-14T04:46:14.183Z"
   },
   {
    "duration": 43,
    "start_time": "2023-09-14T04:46:14.199Z"
   },
   {
    "duration": 5,
    "start_time": "2023-09-14T04:46:14.250Z"
   },
   {
    "duration": 45,
    "start_time": "2023-09-14T04:46:14.256Z"
   },
   {
    "duration": 28,
    "start_time": "2023-09-14T04:46:14.303Z"
   },
   {
    "duration": 40,
    "start_time": "2023-09-14T04:46:14.334Z"
   },
   {
    "duration": 45,
    "start_time": "2023-09-14T04:46:14.375Z"
   },
   {
    "duration": 356,
    "start_time": "2023-09-14T04:46:14.421Z"
   },
   {
    "duration": 302,
    "start_time": "2023-09-14T04:46:14.779Z"
   },
   {
    "duration": 4,
    "start_time": "2023-09-14T04:46:15.083Z"
   },
   {
    "duration": 955,
    "start_time": "2023-09-14T04:46:15.089Z"
   },
   {
    "duration": 10,
    "start_time": "2023-09-14T04:46:16.046Z"
   },
   {
    "duration": 57,
    "start_time": "2023-09-14T04:46:16.057Z"
   },
   {
    "duration": 31,
    "start_time": "2023-09-14T04:46:16.115Z"
   },
   {
    "duration": 51,
    "start_time": "2023-09-14T04:46:16.148Z"
   },
   {
    "duration": 153,
    "start_time": "2023-09-14T04:46:16.200Z"
   },
   {
    "duration": 135,
    "start_time": "2023-09-14T04:46:16.355Z"
   },
   {
    "duration": 143,
    "start_time": "2023-09-14T04:46:16.492Z"
   },
   {
    "duration": 23,
    "start_time": "2023-09-14T04:46:16.636Z"
   },
   {
    "duration": 54,
    "start_time": "2023-09-14T04:46:16.660Z"
   },
   {
    "duration": 311,
    "start_time": "2023-09-14T04:46:16.715Z"
   },
   {
    "duration": 5,
    "start_time": "2023-09-14T04:46:17.028Z"
   },
   {
    "duration": 206,
    "start_time": "2023-09-14T04:46:17.035Z"
   },
   {
    "duration": 660,
    "start_time": "2023-09-14T04:46:17.242Z"
   },
   {
    "duration": 26,
    "start_time": "2023-09-14T04:46:17.904Z"
   },
   {
    "duration": 61,
    "start_time": "2023-09-14T04:46:17.931Z"
   },
   {
    "duration": 23,
    "start_time": "2023-09-14T04:46:17.994Z"
   },
   {
    "duration": 353,
    "start_time": "2023-09-14T04:46:18.019Z"
   },
   {
    "duration": 7,
    "start_time": "2023-09-14T04:46:18.373Z"
   },
   {
    "duration": 14,
    "start_time": "2023-09-14T04:46:18.381Z"
   },
   {
    "duration": 36,
    "start_time": "2023-09-14T04:46:18.396Z"
   },
   {
    "duration": 34,
    "start_time": "2023-09-14T04:46:18.434Z"
   },
   {
    "duration": 8,
    "start_time": "2023-09-14T04:46:18.470Z"
   },
   {
    "duration": 106,
    "start_time": "2023-09-14T04:51:32.005Z"
   },
   {
    "duration": 39,
    "start_time": "2023-09-14T04:59:57.827Z"
   },
   {
    "duration": 45,
    "start_time": "2023-09-14T05:00:26.287Z"
   },
   {
    "duration": 33,
    "start_time": "2023-09-14T05:03:46.465Z"
   },
   {
    "duration": 31,
    "start_time": "2023-09-14T05:06:47.927Z"
   },
   {
    "duration": 42,
    "start_time": "2023-09-14T05:07:17.134Z"
   },
   {
    "duration": 29,
    "start_time": "2023-09-14T05:07:36.226Z"
   },
   {
    "duration": 29,
    "start_time": "2023-09-14T05:10:47.268Z"
   },
   {
    "duration": 32,
    "start_time": "2023-09-14T05:11:52.178Z"
   },
   {
    "duration": 3,
    "start_time": "2023-09-14T05:11:58.143Z"
   },
   {
    "duration": 10,
    "start_time": "2023-09-14T05:11:58.148Z"
   },
   {
    "duration": 276,
    "start_time": "2023-09-14T05:11:58.160Z"
   },
   {
    "duration": 9,
    "start_time": "2023-09-14T05:11:58.438Z"
   },
   {
    "duration": 8,
    "start_time": "2023-09-14T05:11:58.450Z"
   },
   {
    "duration": 8,
    "start_time": "2023-09-14T05:11:58.460Z"
   },
   {
    "duration": 38,
    "start_time": "2023-09-14T05:11:58.470Z"
   },
   {
    "duration": 21,
    "start_time": "2023-09-14T05:11:58.509Z"
   },
   {
    "duration": 22,
    "start_time": "2023-09-14T05:11:58.531Z"
   },
   {
    "duration": 76,
    "start_time": "2023-09-14T05:11:58.554Z"
   },
   {
    "duration": 4,
    "start_time": "2023-09-14T05:11:58.633Z"
   },
   {
    "duration": 27,
    "start_time": "2023-09-14T05:11:58.639Z"
   },
   {
    "duration": 71,
    "start_time": "2023-09-14T05:11:58.667Z"
   },
   {
    "duration": 33,
    "start_time": "2023-09-14T05:11:58.740Z"
   },
   {
    "duration": 18,
    "start_time": "2023-09-14T05:11:58.775Z"
   },
   {
    "duration": 20,
    "start_time": "2023-09-14T05:11:58.794Z"
   },
   {
    "duration": 39,
    "start_time": "2023-09-14T05:11:58.816Z"
   },
   {
    "duration": 62,
    "start_time": "2023-09-14T05:11:58.856Z"
   },
   {
    "duration": 4,
    "start_time": "2023-09-14T05:11:58.920Z"
   },
   {
    "duration": 31,
    "start_time": "2023-09-14T05:11:58.949Z"
   },
   {
    "duration": 78,
    "start_time": "2023-09-14T05:11:58.981Z"
   },
   {
    "duration": 341,
    "start_time": "2023-09-14T05:11:59.061Z"
   },
   {
    "duration": 206,
    "start_time": "2023-09-14T05:11:59.404Z"
   },
   {
    "duration": 101,
    "start_time": "2023-09-14T05:11:59.611Z"
   },
   {
    "duration": 56,
    "start_time": "2023-09-14T05:11:59.714Z"
   },
   {
    "duration": 69,
    "start_time": "2023-09-14T05:11:59.772Z"
   },
   {
    "duration": 9,
    "start_time": "2023-09-14T05:11:59.842Z"
   },
   {
    "duration": 27,
    "start_time": "2023-09-14T05:11:59.853Z"
   },
   {
    "duration": 77,
    "start_time": "2023-09-14T05:11:59.884Z"
   },
   {
    "duration": 3,
    "start_time": "2023-09-14T05:11:59.963Z"
   },
   {
    "duration": 61,
    "start_time": "2023-09-14T05:11:59.967Z"
   },
   {
    "duration": 48,
    "start_time": "2023-09-14T05:12:00.029Z"
   },
   {
    "duration": 31,
    "start_time": "2023-09-14T05:12:00.079Z"
   },
   {
    "duration": 47,
    "start_time": "2023-09-14T05:12:00.111Z"
   },
   {
    "duration": 47,
    "start_time": "2023-09-14T05:12:00.160Z"
   },
   {
    "duration": 40,
    "start_time": "2023-09-14T05:12:00.209Z"
   },
   {
    "duration": 5,
    "start_time": "2023-09-14T05:12:00.251Z"
   },
   {
    "duration": 50,
    "start_time": "2023-09-14T05:12:00.257Z"
   },
   {
    "duration": 43,
    "start_time": "2023-09-14T05:12:00.308Z"
   },
   {
    "duration": 25,
    "start_time": "2023-09-14T05:12:00.353Z"
   },
   {
    "duration": 34,
    "start_time": "2023-09-14T05:12:00.380Z"
   },
   {
    "duration": 329,
    "start_time": "2023-09-14T05:12:00.416Z"
   },
   {
    "duration": 271,
    "start_time": "2023-09-14T05:12:00.750Z"
   },
   {
    "duration": 3,
    "start_time": "2023-09-14T05:12:01.023Z"
   },
   {
    "duration": 811,
    "start_time": "2023-09-14T05:12:01.028Z"
   },
   {
    "duration": 14,
    "start_time": "2023-09-14T05:12:01.841Z"
   },
   {
    "duration": 69,
    "start_time": "2023-09-14T05:12:01.857Z"
   },
   {
    "duration": 32,
    "start_time": "2023-09-14T05:12:01.928Z"
   },
   {
    "duration": 77,
    "start_time": "2023-09-14T05:12:01.962Z"
   },
   {
    "duration": 171,
    "start_time": "2023-09-14T05:12:02.041Z"
   },
   {
    "duration": 129,
    "start_time": "2023-09-14T05:12:02.214Z"
   },
   {
    "duration": 157,
    "start_time": "2023-09-14T05:12:02.344Z"
   },
   {
    "duration": 20,
    "start_time": "2023-09-14T05:12:02.503Z"
   },
   {
    "duration": 68,
    "start_time": "2023-09-14T05:12:02.527Z"
   },
   {
    "duration": 310,
    "start_time": "2023-09-14T05:12:02.596Z"
   },
   {
    "duration": 3,
    "start_time": "2023-09-14T05:12:02.908Z"
   },
   {
    "duration": 223,
    "start_time": "2023-09-14T05:12:02.913Z"
   },
   {
    "duration": 674,
    "start_time": "2023-09-14T05:12:03.138Z"
   },
   {
    "duration": 34,
    "start_time": "2023-09-14T05:12:03.815Z"
   },
   {
    "duration": 40,
    "start_time": "2023-09-14T05:12:03.852Z"
   },
   {
    "duration": 14,
    "start_time": "2023-09-14T05:12:03.894Z"
   },
   {
    "duration": 316,
    "start_time": "2023-09-14T05:12:03.910Z"
   },
   {
    "duration": 8,
    "start_time": "2023-09-14T05:12:04.228Z"
   },
   {
    "duration": 15,
    "start_time": "2023-09-14T05:12:04.237Z"
   },
   {
    "duration": 23,
    "start_time": "2023-09-14T05:12:04.253Z"
   },
   {
    "duration": 20,
    "start_time": "2023-09-14T05:12:04.277Z"
   },
   {
    "duration": 7,
    "start_time": "2023-09-14T05:12:04.299Z"
   }
  ],
  "kernelspec": {
   "display_name": "Python 3 (ipykernel)",
   "language": "python",
   "name": "python3"
  },
  "language_info": {
   "codemirror_mode": {
    "name": "ipython",
    "version": 3
   },
   "file_extension": ".py",
   "mimetype": "text/x-python",
   "name": "python",
   "nbconvert_exporter": "python",
   "pygments_lexer": "ipython3",
   "version": "3.9.13"
  },
  "toc": {
   "base_numbering": 1,
   "nav_menu": {},
   "number_sections": true,
   "sideBar": true,
   "skip_h1_title": true,
   "title_cell": "Table of Contents",
   "title_sidebar": "Contents",
   "toc_cell": false,
   "toc_position": {},
   "toc_section_display": true,
   "toc_window_display": false
  }
 },
 "nbformat": 4,
 "nbformat_minor": 2
}
